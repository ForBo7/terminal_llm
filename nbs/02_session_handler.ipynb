{
 "cells": [
  {
   "cell_type": "code",
   "execution_count": null,
   "metadata": {},
   "outputs": [],
   "source": [
    "%load_ext autoreload\n",
    "%autoreload 2"
   ]
  },
  {
   "cell_type": "markdown",
   "metadata": {},
   "source": [
    "# session_handler\n",
    "> A class to handle the session of the user."
   ]
  },
  {
   "cell_type": "code",
   "execution_count": null,
   "metadata": {},
   "outputs": [],
   "source": [
    "#| default_exp session_handler"
   ]
  },
  {
   "cell_type": "code",
   "execution_count": null,
   "metadata": {},
   "outputs": [],
   "source": [
    "#| export\n",
    "import requests\n",
    "from fastcore.all import *\n",
    "from terminal_llm.chat import Chat"
   ]
  },
  {
   "cell_type": "code",
   "execution_count": null,
   "metadata": {},
   "outputs": [
    {
     "data": {
      "text/plain": [
       "'\"Comparing Porsche and McLaren: Which Brand Offers the Best Weekend Fun for $50,000?\"'"
      ]
     },
     "execution_count": null,
     "metadata": {},
     "output_type": "execute_result"
    }
   ],
   "source": [
    "Path('.storage/chats').ls()[0].stem"
   ]
  },
  {
   "cell_type": "code",
   "execution_count": null,
   "metadata": {},
   "outputs": [
    {
     "data": {
      "text/plain": [
       "False"
      ]
     },
     "execution_count": null,
     "metadata": {},
     "output_type": "execute_result"
    }
   ],
   "source": [
    "'2' in Path('.storage/chats').ls()"
   ]
  },
  {
   "cell_type": "code",
   "execution_count": null,
   "metadata": {},
   "outputs": [
    {
     "data": {
      "text/plain": [
       "(#1) ['.storage/chats/2. Comparing Porsche and McLaren: Which Brand Offers the Best Weekend Fun for $50,000?.pkl']"
      ]
     },
     "execution_count": null,
     "metadata": {},
     "output_type": "execute_result"
    }
   ],
   "source": [
    "globtastic('.storage/chats', file_glob='2*')"
   ]
  },
  {
   "cell_type": "code",
   "execution_count": null,
   "metadata": {},
   "outputs": [
    {
     "data": {
      "text/plain": [
       "(#0) []"
      ]
     },
     "execution_count": null,
     "metadata": {},
     "output_type": "execute_result"
    }
   ],
   "source": [
    "globtastic('.storage/chats', file_glob='20*')"
   ]
  },
  {
   "cell_type": "code",
   "execution_count": null,
   "metadata": {},
   "outputs": [
    {
     "data": {
      "text/plain": [
       "[ChatMessage(role='user', content='Do you think Porches are better than McLarens?', name=None, tool_calls=None),\n",
       " ChatMessage(role='assistant', content='I don\\'t have personal experiences, preferences, or the ability to make judgments. Porches and McLarens serve different purposes in the automotive world. A Porsche is known for its sports cars and SUVs that offer a balance of performance and practicality. McLaren, on the other hand, is renowned for its high-performance supercars and racing vehicles. Neither is objectively \"better\" than the other, as it depends on individual needs, preferences, and budgets. Some people might prefer the everyday usability of a Porsche, while others might prioritize the extreme performance of a McLaren. It\\'s essential to consider the specific models and features you\\'re comparing when making such a judgment.', name=None, tool_calls=None),\n",
       " ChatMessage(role='user', content='I just would like to have fun on the weekends. Which brand would be the best for that?', name=None, tool_calls=None),\n",
       " ChatMessage(role='assistant', content=\"If your primary goal is to have fun on the weekends, both Porsche and McLaren offer vehicles that could deliver an enjoyable driving experience. However, McLaren, with its focus on high-performance supercars, might be a more direct fit for that desire.\\n\\nConsidering McLaren's lineup, the Sports Series, like the 570S and 720S, offer thrilling performance, nimble handling, and engaging driving dynamics that could be an excellent choice for weekend fun. McLarens are known for their quick acceleration, impressive top speeds, and overall exhilarating driving experience.\\n\\nThat being said, Porsche also has a wide range of models that can provide a fun and engaging driving experience. For instance, the Cayman and Boxster models offer agile handling and powerful engines, making them suitable for weekend thrills. Additionally, the 718 Cayman GT4 and Boxster Spyder models offer even more track-focused performance for those seeking an even greater driving experience.\\n\\nUltimately, the choice between Porsche and McLaren depends on your specific preferences, budget, and requirements. Both brands offer vehicles that can deliver fun and excitement on the weekends. It's essential to consider factors like everyday usability, maintenance costs, and overall driving experience when making your decision.\", name=None, tool_calls=None),\n",
       " ChatMessage(role='user', content='I have a budget of $50,000. Which would be the best in this case?', name=None, tool_calls=None),\n",
       " ChatMessage(role='assistant', content=\"With a budget of $50,000, both Porsche and McLaren have viable options that cater to this price range. However, the specific models and their availability in your region might vary.\\n\\nFrom Porsche, you might consider the following models:\\n\\n1. Porsche Cayman: The base Cayman starts around $56,000, but you might be able to find a pre-owned one within your budget. Look for a well-maintained example with a low mileage for the best value.\\n2. Porsche Boxster: The base Boxster starts around $53,000, and you might be able to find a used one within your budget. The Boxster is generally less expensive than the Cayman due to its open-top design.\\n\\nFrom McLaren, you might consider the following models:\\n\\n1. McLaren 540C Sports Series: The 540C is a more affordable McLaren option, starting around $167,000 new. However, you might be able to find a used one within your budget, though availability could be limited. The 540C offers a thrilling driving experience with a mid-engine layout and a twin-turbocharged V8 engine.\\n2. McLaren 570S Spider: The 570S Spider is another option, starting around $184,000 new. You might be able to find a used one within your budget, but availability could be more challenging due to its popularity. The 570S Spider offers a convertible experience with a retractable hardtop and impressive performance.\\n\\nIt's essential to consider factors like maintenance costs, insurance, and overall driving experience when making your decision based on your budget. Additionally, consider the availability of financing options, as they might help you secure a better deal. Ultimately, both Porsche and McLaren offer exciting options within your budget, and it's crucial to consider your individual preferences and needs when making your decision.\", name=None, tool_calls=None),\n",
       " ChatMessage(role='user', content='Give me a concise title for our conversation.', name=None, tool_calls=None),\n",
       " ChatMessage(role='assistant', content='\"Comparing Porsche and McLaren: Which Brand Offers the Best Weekend Fun for $50,000?\"', name=None, tool_calls=None)]"
      ]
     },
     "execution_count": null,
     "metadata": {},
     "output_type": "execute_result"
    }
   ],
   "source": [
    "load_pickle(globtastic('.storage/chats', file_glob='2*')[0])"
   ]
  },
  {
   "cell_type": "code",
   "execution_count": null,
   "metadata": {},
   "outputs": [
    {
     "name": "stdout",
     "output_type": "stream",
     "text": [
      "\"Comparing Porsche and McLaren: Which Brand Offers the Best Weekend Fun for $50,000?\"\n",
      "\"Exploring the Meaning and Purpose of Life: A Personal and Subjective Inquiry\"\n"
     ]
    }
   ],
   "source": [
    "for f in Path('.storage/chats').ls(): print(f.stem)"
   ]
  },
  {
   "cell_type": "code",
   "execution_count": null,
   "metadata": {},
   "outputs": [
    {
     "name": "stdout",
     "output_type": "stream",
     "text": [
      "\u001b[0;31mInit signature:\u001b[0m \u001b[0menumerate\u001b[0m\u001b[0;34m(\u001b[0m\u001b[0miterable\u001b[0m\u001b[0;34m,\u001b[0m \u001b[0mstart\u001b[0m\u001b[0;34m=\u001b[0m\u001b[0;36m0\u001b[0m\u001b[0;34m)\u001b[0m\u001b[0;34m\u001b[0m\u001b[0;34m\u001b[0m\u001b[0m\n",
      "\u001b[0;31mDocstring:\u001b[0m     \n",
      "Return an enumerate object.\n",
      "\n",
      "  iterable\n",
      "    an object supporting iteration\n",
      "\n",
      "The enumerate object yields pairs containing a count (from start, which\n",
      "defaults to zero) and a value yielded by the iterable argument.\n",
      "\n",
      "enumerate is useful for obtaining an indexed list:\n",
      "    (0, seq[0]), (1, seq[1]), (2, seq[2]), ...\n",
      "\u001b[0;31mType:\u001b[0m           type\n",
      "\u001b[0;31mSubclasses:\u001b[0m     "
     ]
    }
   ],
   "source": [
    "?enumerate"
   ]
  },
  {
   "cell_type": "code",
   "execution_count": null,
   "metadata": {},
   "outputs": [
    {
     "name": "stdout",
     "output_type": "stream",
     "text": [
      "1: \"Comparing Porsche and McLaren: Which Brand Offers the Best Weekend Fun for $50,000?\"\n",
      "2: \"Exploring the Meaning and Purpose of Life: A Personal and Subjective Inquiry\"\n"
     ]
    }
   ],
   "source": [
    "for n, f in enumerate(Path('.storage/chats').ls(), 1): print(f'{n}: {f.stem}')"
   ]
  },
  {
   "cell_type": "code",
   "execution_count": null,
   "metadata": {},
   "outputs": [],
   "source": [
    "#| export\n",
    "class SessionHandler():\n",
    "  '''Handles application session by managing user input and output.'''\n",
    "  def __init__(self, interface):\n",
    "    '''Initializes session handler.'''\n",
    "    store_attr()\n",
    "    self.is_running = True\n",
    "  \n",
    "  def start_app(self):\n",
    "    '''Starts the application. If storage directory exists, reads API key and model. Otherwise, prompts user to set API key and model.'''\n",
    "    if Path('.storage').exists():\n",
    "      self.read_api_key()\n",
    "      self.read_model()\n",
    "    else:\n",
    "      Path('.storage/chats').mkdir(parents=True)\n",
    "      self.set_api_key()\n",
    "      self.set_model()\n",
    "  \n",
    "  def process_menu(self, choice):\n",
    "    '''Processes menu choice.'''\n",
    "    if   choice == '0': self.is_running = False\n",
    "    elif choice == '1': self.interface.settings()\n",
    "    elif choice == '2': self.start_chat()\n",
    "    elif choice == '3': self.interface.previous_chats()\n",
    "    else:               print(\"Invalid choice.\")\n",
    "  \n",
    "  def process_settings(self, choice):\n",
    "    '''Processes settings choice.'''\n",
    "    if   choice == '0': pass\n",
    "    elif choice == '1': self.set_api_key()\n",
    "    elif choice == '2': self.set_model()\n",
    "    else: \n",
    "      print('Invalid choice.')\n",
    "      self.interface.settings()\n",
    "  \n",
    "  def process_previous_chats(self, choice):\n",
    "    '''Processes previous chats choice. If chat is found, resumes chat. Otherwise, prompts user to select another chat.'''\n",
    "    if choice == '0': pass\n",
    "    else:\n",
    "      result = globtastic('.storage/chats', file_glob=f'{choice}. *')\n",
    "      if result: \n",
    "        name = Path(result[0]).stem\n",
    "        print(f'Resuming {name}.')\n",
    "        self.start_chat(load_pickle(result[0]), chat_name=name)\n",
    "      else: \n",
    "        print('Chat not found.')\n",
    "        self.interface.previous_chats()\n",
    "  \n",
    "  def start_chat(self, history=[], chat_name=None):\n",
    "    '''Starts chat session.'''\n",
    "    print('Chat started. Type \\\\exit to end chat.')\n",
    "    self.chat = Chat(self.api_key, self.model, history)\n",
    "    while True:\n",
    "      user_input = input('\\nYou: ')\n",
    "      if user_input.strip() == '\\\\exit':\n",
    "        if chat_name:\n",
    "          save_pickle(f'.storage/chats/{chat_name}.pkl', self.chat.history)\n",
    "        else:\n",
    "          num_chat = len(Path('.storage/chats').ls()) + 1\n",
    "          # History from prior chats keeps persisting for some reason.\n",
    "          # chat_name = self.chat('Provide a concise title for this conversation.', save_history=False).strip('\"')\n",
    "          chat_name = input('Name this conversation: ').strip()\n",
    "          save_pickle(f'.storage/chats/{num_chat}. {chat_name}.pkl', self.chat.history)\n",
    "        break\n",
    "      else: \n",
    "        response = self.chat(user_input)\n",
    "        print(f'Assistant: {response}')\n",
    "    \n",
    "  def read_model(self):\n",
    "    '''Reads model from file. If file not found, prompts user to set model.'''\n",
    "    try: self.model = self.read_file('.storage/model.txt')\n",
    "    except FileNotFoundError: \n",
    "      print('Model not found.')\n",
    "      self.set_model()\n",
    "\n",
    "  def read_api_key(self):\n",
    "    '''Reads API key from file. If file not found, prompts user to set API key.'''\n",
    "    try: self.api_key = self.read_file('.storage/api_key.txt')\n",
    "    except FileNotFoundError: \n",
    "      print(\"API key not found.\")\n",
    "      self.set_api_key()\n",
    "\n",
    "  def set_model(self):\n",
    "    '''Prompts user to set model and saves it to file.'''\n",
    "    self.model = input('Enter model: ').strip()\n",
    "    while self.model not in ['open-mistral-7b', 'open-mixtral-8x7b', 'mistral-small-latest', 'mistral-medium-latest', 'mistral-large-latest']: self.model = input('Invalid model. Enter model: ')\n",
    "    self.write_file('.storage/model.txt', self.model)\n",
    "    print('Model saved.')\n",
    "\n",
    "  def set_api_key(self):\n",
    "    '''Prompts user to set API key and saves it to file.'''\n",
    "    self.api_key = input('Enter API Key: ')\n",
    "    while not self.check_api_key(): self.api_key = input('Invalid API key. Enter API Key: ')\n",
    "    self.write_file('.storage/api_key.txt', self.api_key)\n",
    "    print('API key saved.')\n",
    "\n",
    "  def read_file(self, f_path):\n",
    "    '''Reads file and returns content.'''\n",
    "    with open(f_path, 'r') as f: return f.read()\n",
    "  \n",
    "  def write_file(self, f_path, content):\n",
    "    '''Writes content to file.'''\n",
    "    with open(f_path, 'w') as f: f.write(content)\n",
    "  \n",
    "  def check_api_key(self):\n",
    "    '''Checks if API key is valid.'''\n",
    "    h = {'Content-Type': 'application/json', 'Accept': 'application/json', 'Authorization': f'Bearer {self.api_key}'}\n",
    "    d = {'model': 'open-mistral-7b', 'messages': [{'role': 'user', 'content': 'THIS IS AN API KEY TEST!'}]}\n",
    "    r = requests.post('https://api.mistral.ai/v1/chat/completions', headers=h, json=d)\n",
    "    return True if r.status_code == 200 else False"
   ]
  },
  {
   "cell_type": "code",
   "execution_count": null,
   "metadata": {},
   "outputs": [],
   "source": [
    "#| hide\n",
    "from nbdev.showdoc import *"
   ]
  },
  {
   "cell_type": "code",
   "execution_count": null,
   "metadata": {},
   "outputs": [
    {
     "data": {
      "text/markdown": [
       "---\n",
       "\n",
       "[source](https://github.com/ForBo7/terminal_llm/blob/main/terminal_llm/session_handler.py#L12){target=\"_blank\" style=\"float:right; font-size:smaller\"}\n",
       "\n",
       "### SessionHandler\n",
       "\n",
       ">      SessionHandler (interface)\n",
       "\n",
       "Handles application session by managing user input and output."
      ],
      "text/plain": [
       "---\n",
       "\n",
       "[source](https://github.com/ForBo7/terminal_llm/blob/main/terminal_llm/session_handler.py#L12){target=\"_blank\" style=\"float:right; font-size:smaller\"}\n",
       "\n",
       "### SessionHandler\n",
       "\n",
       ">      SessionHandler (interface)\n",
       "\n",
       "Handles application session by managing user input and output."
      ]
     },
     "execution_count": null,
     "metadata": {},
     "output_type": "execute_result"
    }
   ],
   "source": [
    "show_doc(SessionHandler)"
   ]
  },
  {
   "cell_type": "code",
   "execution_count": null,
   "metadata": {},
   "outputs": [
    {
     "data": {
      "text/markdown": [
       "---\n",
       "\n",
       "[source](https://github.com/ForBo7/terminal_llm/blob/main/terminal_llm/session_handler.py#L17){target=\"_blank\" style=\"float:right; font-size:smaller\"}\n",
       "\n",
       "### SessionHandler.start_app\n",
       "\n",
       ">      SessionHandler.start_app ()\n",
       "\n",
       "Starts the application. If storage directory exists, reads API key and model. Otherwise, prompts user to set API key and model."
      ],
      "text/plain": [
       "---\n",
       "\n",
       "[source](https://github.com/ForBo7/terminal_llm/blob/main/terminal_llm/session_handler.py#L17){target=\"_blank\" style=\"float:right; font-size:smaller\"}\n",
       "\n",
       "### SessionHandler.start_app\n",
       "\n",
       ">      SessionHandler.start_app ()\n",
       "\n",
       "Starts the application. If storage directory exists, reads API key and model. Otherwise, prompts user to set API key and model."
      ]
     },
     "execution_count": null,
     "metadata": {},
     "output_type": "execute_result"
    }
   ],
   "source": [
    "show_doc(SessionHandler.start_app)"
   ]
  },
  {
   "cell_type": "code",
   "execution_count": null,
   "metadata": {},
   "outputs": [
    {
     "data": {
      "text/markdown": [
       "---\n",
       "\n",
       "[source](https://github.com/ForBo7/terminal_llm/blob/main/terminal_llm/session_handler.py#L26){target=\"_blank\" style=\"float:right; font-size:smaller\"}\n",
       "\n",
       "### SessionHandler.process_menu\n",
       "\n",
       ">      SessionHandler.process_menu (choice)\n",
       "\n",
       "Processes menu choice."
      ],
      "text/plain": [
       "---\n",
       "\n",
       "[source](https://github.com/ForBo7/terminal_llm/blob/main/terminal_llm/session_handler.py#L26){target=\"_blank\" style=\"float:right; font-size:smaller\"}\n",
       "\n",
       "### SessionHandler.process_menu\n",
       "\n",
       ">      SessionHandler.process_menu (choice)\n",
       "\n",
       "Processes menu choice."
      ]
     },
     "execution_count": null,
     "metadata": {},
     "output_type": "execute_result"
    }
   ],
   "source": [
    "show_doc(SessionHandler.process_menu)"
   ]
  },
  {
   "cell_type": "code",
   "execution_count": null,
   "metadata": {},
   "outputs": [
    {
     "data": {
      "text/markdown": [
       "---\n",
       "\n",
       "[source](https://github.com/ForBo7/terminal_llm/blob/main/terminal_llm/session_handler.py#L33){target=\"_blank\" style=\"float:right; font-size:smaller\"}\n",
       "\n",
       "### SessionHandler.process_settings\n",
       "\n",
       ">      SessionHandler.process_settings (choice)\n",
       "\n",
       "Processes settings choice."
      ],
      "text/plain": [
       "---\n",
       "\n",
       "[source](https://github.com/ForBo7/terminal_llm/blob/main/terminal_llm/session_handler.py#L33){target=\"_blank\" style=\"float:right; font-size:smaller\"}\n",
       "\n",
       "### SessionHandler.process_settings\n",
       "\n",
       ">      SessionHandler.process_settings (choice)\n",
       "\n",
       "Processes settings choice."
      ]
     },
     "execution_count": null,
     "metadata": {},
     "output_type": "execute_result"
    }
   ],
   "source": [
    "show_doc(SessionHandler.process_settings)"
   ]
  },
  {
   "cell_type": "code",
   "execution_count": null,
   "metadata": {},
   "outputs": [
    {
     "data": {
      "text/markdown": [
       "---\n",
       "\n",
       "[source](https://github.com/ForBo7/terminal_llm/blob/main/terminal_llm/session_handler.py#L41){target=\"_blank\" style=\"float:right; font-size:smaller\"}\n",
       "\n",
       "### SessionHandler.start_chat\n",
       "\n",
       ">      SessionHandler.start_chat ()\n",
       "\n",
       "Starts chat session."
      ],
      "text/plain": [
       "---\n",
       "\n",
       "[source](https://github.com/ForBo7/terminal_llm/blob/main/terminal_llm/session_handler.py#L41){target=\"_blank\" style=\"float:right; font-size:smaller\"}\n",
       "\n",
       "### SessionHandler.start_chat\n",
       "\n",
       ">      SessionHandler.start_chat ()\n",
       "\n",
       "Starts chat session."
      ]
     },
     "execution_count": null,
     "metadata": {},
     "output_type": "execute_result"
    }
   ],
   "source": [
    "show_doc(SessionHandler.start_chat)"
   ]
  },
  {
   "cell_type": "code",
   "execution_count": null,
   "metadata": {},
   "outputs": [
    {
     "data": {
      "text/markdown": [
       "---\n",
       "\n",
       "[source](https://github.com/ForBo7/terminal_llm/blob/main/terminal_llm/session_handler.py#L52){target=\"_blank\" style=\"float:right; font-size:smaller\"}\n",
       "\n",
       "### SessionHandler.read_model\n",
       "\n",
       ">      SessionHandler.read_model ()\n",
       "\n",
       "Reads model from file. If file not found, prompts user to set model."
      ],
      "text/plain": [
       "---\n",
       "\n",
       "[source](https://github.com/ForBo7/terminal_llm/blob/main/terminal_llm/session_handler.py#L52){target=\"_blank\" style=\"float:right; font-size:smaller\"}\n",
       "\n",
       "### SessionHandler.read_model\n",
       "\n",
       ">      SessionHandler.read_model ()\n",
       "\n",
       "Reads model from file. If file not found, prompts user to set model."
      ]
     },
     "execution_count": null,
     "metadata": {},
     "output_type": "execute_result"
    }
   ],
   "source": [
    "show_doc(SessionHandler.read_model)"
   ]
  },
  {
   "cell_type": "code",
   "execution_count": null,
   "metadata": {},
   "outputs": [
    {
     "data": {
      "text/markdown": [
       "---\n",
       "\n",
       "[source](https://github.com/ForBo7/terminal_llm/blob/main/terminal_llm/session_handler.py#L58){target=\"_blank\" style=\"float:right; font-size:smaller\"}\n",
       "\n",
       "### SessionHandler.read_api_key\n",
       "\n",
       ">      SessionHandler.read_api_key ()\n",
       "\n",
       "Reads API key from file. If file not found, prompts user to set API key."
      ],
      "text/plain": [
       "---\n",
       "\n",
       "[source](https://github.com/ForBo7/terminal_llm/blob/main/terminal_llm/session_handler.py#L58){target=\"_blank\" style=\"float:right; font-size:smaller\"}\n",
       "\n",
       "### SessionHandler.read_api_key\n",
       "\n",
       ">      SessionHandler.read_api_key ()\n",
       "\n",
       "Reads API key from file. If file not found, prompts user to set API key."
      ]
     },
     "execution_count": null,
     "metadata": {},
     "output_type": "execute_result"
    }
   ],
   "source": [
    "show_doc(SessionHandler.read_api_key)"
   ]
  },
  {
   "cell_type": "code",
   "execution_count": null,
   "metadata": {},
   "outputs": [
    {
     "data": {
      "text/markdown": [
       "---\n",
       "\n",
       "[source](https://github.com/ForBo7/terminal_llm/blob/main/terminal_llm/session_handler.py#L64){target=\"_blank\" style=\"float:right; font-size:smaller\"}\n",
       "\n",
       "### SessionHandler.set_model\n",
       "\n",
       ">      SessionHandler.set_model ()\n",
       "\n",
       "Prompts user to set model and saves it to file."
      ],
      "text/plain": [
       "---\n",
       "\n",
       "[source](https://github.com/ForBo7/terminal_llm/blob/main/terminal_llm/session_handler.py#L64){target=\"_blank\" style=\"float:right; font-size:smaller\"}\n",
       "\n",
       "### SessionHandler.set_model\n",
       "\n",
       ">      SessionHandler.set_model ()\n",
       "\n",
       "Prompts user to set model and saves it to file."
      ]
     },
     "execution_count": null,
     "metadata": {},
     "output_type": "execute_result"
    }
   ],
   "source": [
    "show_doc(SessionHandler.set_model)"
   ]
  },
  {
   "cell_type": "code",
   "execution_count": null,
   "metadata": {},
   "outputs": [
    {
     "data": {
      "text/markdown": [
       "---\n",
       "\n",
       "[source](https://github.com/ForBo7/terminal_llm/blob/main/terminal_llm/session_handler.py#L70){target=\"_blank\" style=\"float:right; font-size:smaller\"}\n",
       "\n",
       "### SessionHandler.set_api_key\n",
       "\n",
       ">      SessionHandler.set_api_key ()\n",
       "\n",
       "Prompts user to set API key and saves it to file."
      ],
      "text/plain": [
       "---\n",
       "\n",
       "[source](https://github.com/ForBo7/terminal_llm/blob/main/terminal_llm/session_handler.py#L70){target=\"_blank\" style=\"float:right; font-size:smaller\"}\n",
       "\n",
       "### SessionHandler.set_api_key\n",
       "\n",
       ">      SessionHandler.set_api_key ()\n",
       "\n",
       "Prompts user to set API key and saves it to file."
      ]
     },
     "execution_count": null,
     "metadata": {},
     "output_type": "execute_result"
    }
   ],
   "source": [
    "show_doc(SessionHandler.set_api_key)"
   ]
  },
  {
   "cell_type": "code",
   "execution_count": null,
   "metadata": {},
   "outputs": [
    {
     "data": {
      "text/markdown": [
       "---\n",
       "\n",
       "[source](https://github.com/ForBo7/terminal_llm/blob/main/terminal_llm/session_handler.py#L76){target=\"_blank\" style=\"float:right; font-size:smaller\"}\n",
       "\n",
       "### SessionHandler.read_file\n",
       "\n",
       ">      SessionHandler.read_file (f_path)\n",
       "\n",
       "Reads file and returns content."
      ],
      "text/plain": [
       "---\n",
       "\n",
       "[source](https://github.com/ForBo7/terminal_llm/blob/main/terminal_llm/session_handler.py#L76){target=\"_blank\" style=\"float:right; font-size:smaller\"}\n",
       "\n",
       "### SessionHandler.read_file\n",
       "\n",
       ">      SessionHandler.read_file (f_path)\n",
       "\n",
       "Reads file and returns content."
      ]
     },
     "execution_count": null,
     "metadata": {},
     "output_type": "execute_result"
    }
   ],
   "source": [
    "show_doc(SessionHandler.read_file)"
   ]
  },
  {
   "cell_type": "code",
   "execution_count": null,
   "metadata": {},
   "outputs": [
    {
     "data": {
      "text/markdown": [
       "---\n",
       "\n",
       "[source](https://github.com/ForBo7/terminal_llm/blob/main/terminal_llm/session_handler.py#L79){target=\"_blank\" style=\"float:right; font-size:smaller\"}\n",
       "\n",
       "### SessionHandler.write_file\n",
       "\n",
       ">      SessionHandler.write_file (f_path, content)\n",
       "\n",
       "Writes content to file."
      ],
      "text/plain": [
       "---\n",
       "\n",
       "[source](https://github.com/ForBo7/terminal_llm/blob/main/terminal_llm/session_handler.py#L79){target=\"_blank\" style=\"float:right; font-size:smaller\"}\n",
       "\n",
       "### SessionHandler.write_file\n",
       "\n",
       ">      SessionHandler.write_file (f_path, content)\n",
       "\n",
       "Writes content to file."
      ]
     },
     "execution_count": null,
     "metadata": {},
     "output_type": "execute_result"
    }
   ],
   "source": [
    "show_doc(SessionHandler.write_file)"
   ]
  },
  {
   "cell_type": "code",
   "execution_count": null,
   "metadata": {},
   "outputs": [
    {
     "data": {
      "text/markdown": [
       "---\n",
       "\n",
       "[source](https://github.com/ForBo7/terminal_llm/blob/main/terminal_llm/session_handler.py#L82){target=\"_blank\" style=\"float:right; font-size:smaller\"}\n",
       "\n",
       "### SessionHandler.check_api_key\n",
       "\n",
       ">      SessionHandler.check_api_key ()\n",
       "\n",
       "Checks if API key is valid."
      ],
      "text/plain": [
       "---\n",
       "\n",
       "[source](https://github.com/ForBo7/terminal_llm/blob/main/terminal_llm/session_handler.py#L82){target=\"_blank\" style=\"float:right; font-size:smaller\"}\n",
       "\n",
       "### SessionHandler.check_api_key\n",
       "\n",
       ">      SessionHandler.check_api_key ()\n",
       "\n",
       "Checks if API key is valid."
      ]
     },
     "execution_count": null,
     "metadata": {},
     "output_type": "execute_result"
    }
   ],
   "source": [
    "show_doc(SessionHandler.check_api_key)"
   ]
  },
  {
   "cell_type": "code",
   "execution_count": null,
   "metadata": {},
   "outputs": [
    {
     "data": {
      "text/markdown": [
       "---\n",
       "\n",
       "### SessionHandler.process_previous_chats\n",
       "\n",
       ">      SessionHandler.process_previous_chats (choice)\n",
       "\n",
       "Processes previous chats choice. If chat is found, resumes chat. Otherwise, prompts user to select another chat."
      ],
      "text/plain": [
       "---\n",
       "\n",
       "### SessionHandler.process_previous_chats\n",
       "\n",
       ">      SessionHandler.process_previous_chats (choice)\n",
       "\n",
       "Processes previous chats choice. If chat is found, resumes chat. Otherwise, prompts user to select another chat."
      ]
     },
     "execution_count": null,
     "metadata": {},
     "output_type": "execute_result"
    }
   ],
   "source": [
    "show_doc(SessionHandler.process_previous_chats)"
   ]
  },
  {
   "cell_type": "markdown",
   "metadata": {},
   "source": [
    "## Export -"
   ]
  },
  {
   "cell_type": "code",
   "execution_count": null,
   "metadata": {},
   "outputs": [],
   "source": [
    "#| hide\n",
    "import nbdev; nbdev.nbdev_export()"
   ]
  },
  {
   "cell_type": "markdown",
   "metadata": {},
   "source": []
  }
 ],
 "metadata": {
  "kernelspec": {
   "display_name": "python3",
   "language": "python",
   "name": "python3"
  }
 },
 "nbformat": 4,
 "nbformat_minor": 4
}
