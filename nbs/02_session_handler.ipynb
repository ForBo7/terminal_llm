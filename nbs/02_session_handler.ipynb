{
 "cells": [
  {
   "cell_type": "code",
   "execution_count": null,
   "metadata": {},
   "outputs": [],
   "source": [
    "%load_ext autoreload\n",
    "%autoreload 2"
   ]
  },
  {
   "cell_type": "markdown",
   "metadata": {},
   "source": [
    "# session_handler\n",
    "> A class to handle the session of the user."
   ]
  },
  {
   "cell_type": "code",
   "execution_count": null,
   "metadata": {},
   "outputs": [],
   "source": [
    "#| default_exp session_handler"
   ]
  },
  {
   "cell_type": "code",
   "execution_count": null,
   "metadata": {},
   "outputs": [],
   "source": [
    "#| export\n",
    "from fastcore.all import *\n",
    "from terminal_llm.chat import Chat"
   ]
  },
  {
   "cell_type": "code",
   "execution_count": null,
   "metadata": {},
   "outputs": [],
   "source": [
    "#| export\n",
    "class SessionHandler():\n",
    "  def __init__(self, interface):\n",
    "    store_attr()\n",
    "    self.is_running = True\n",
    "  \n",
    "  def start_app(self):\n",
    "    # TODO: Check wifi is connected.\n",
    "    if Path('.storage').exists():\n",
    "      self.read_api_key()\n",
    "      self.read_model()\n",
    "    else:\n",
    "      Path('.storage').mkdir()\n",
    "      self.set_api_key()\n",
    "      self.set_model()\n",
    "  \n",
    "  def process_menu(self, choice):\n",
    "    if   choice == '0': self.is_running = False\n",
    "    elif choice == '1': self.interface.settings()\n",
    "    elif choice == '2': self.start_chat()\n",
    "    elif choice == '3': pass # previous chats\n",
    "    else\t\t\t\t\t\t\t: print(\"Invalid choice.\")\n",
    "  \n",
    "  def process_settings(self, choice):\n",
    "    if   choice == '0': pass\n",
    "    elif choice == '1': self.set_api_key()\n",
    "    elif choice == '2': self.set_model()\n",
    "    else\t\t\t\t\t\t\t: print('Invalid choice.')\n",
    "  \n",
    "  def start_chat(self):\n",
    "    print('Starting chat...')\n",
    "    # TODO: Print out assistant greeting.\n",
    "    self.chat = Chat(self.api_key, self.model)\n",
    "    while True:\n",
    "      user_input = input('You: ')\n",
    "      if user_input.lower().strip() == '\\\\exit': break\n",
    "      else: \n",
    "        response = self.chat(user_input)\n",
    "        print(f'Assistant: {response}')\n",
    "    \n",
    "\n",
    "  def read_model(self):\n",
    "    try: self.model = self.read_file('.storage/model.txt')\n",
    "    except FileNotFoundError: \n",
    "      print('Model not found.')\n",
    "      self.set_model()\n",
    "\n",
    "  def read_api_key(self):\n",
    "    try: self.api_key = self.read_file('.storage/api_key.txt')\n",
    "    except FileNotFoundError: \n",
    "      print(\"API key not found.\")\n",
    "      self.set_api_key()\n",
    "\n",
    "  def set_model(self):\n",
    "      self.model = input('Enter model: ')\n",
    "      while self.model not in ['open-mistral-7b', 'open-mixtral-8x7b', 'mistral-small-latest', 'mistral-medium-latest', 'mistral-large-latest']: self.model = input('Invalid model. Enter model: ')\n",
    "      self.write_file('.storage/model.txt', self.model)\n",
    "      print('Model saved.')\n",
    "\n",
    "  def set_api_key(self):\n",
    "      # TODO: Add a check to see whether entered API key is valid.\n",
    "      self.api_key = input('Enter API Key: ')\n",
    "      self.write_file('.storage/api_key.txt', self.api_key)\n",
    "      print('API key saved.')\n",
    "\n",
    "  def read_file(self, f_path):\n",
    "    with open(f_path, 'r') as f: return f.read()\n",
    "  \n",
    "  def write_file(self, f_path, content):\n",
    "    with open(f_path, 'w') as f: f.write(content)\n",
    "  \n",
    "  "
   ]
  },
  {
   "cell_type": "markdown",
   "metadata": {},
   "source": [
    "## Export -"
   ]
  },
  {
   "cell_type": "code",
   "execution_count": null,
   "metadata": {},
   "outputs": [],
   "source": [
    "#| hide\n",
    "import nbdev; nbdev.nbdev_export()"
   ]
  },
  {
   "cell_type": "markdown",
   "metadata": {},
   "source": []
  },
  {
   "cell_type": "code",
   "execution_count": null,
   "metadata": {},
   "outputs": [],
   "source": []
  }
 ],
 "metadata": {
  "kernelspec": {
   "display_name": "python3",
   "language": "python",
   "name": "python3"
  }
 },
 "nbformat": 4,
 "nbformat_minor": 2
}
