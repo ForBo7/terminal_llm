{
 "cells": [
  {
   "cell_type": "code",
   "execution_count": null,
   "metadata": {},
   "outputs": [],
   "source": [
    "%load_ext autoreload\n",
    "%autoreload 2"
   ]
  },
  {
   "cell_type": "markdown",
   "metadata": {},
   "source": [
    "# session_handler\n",
    "> A class to handle the session of the user."
   ]
  },
  {
   "cell_type": "code",
   "execution_count": null,
   "metadata": {},
   "outputs": [],
   "source": [
    "#| default_exp session_handler"
   ]
  },
  {
   "cell_type": "code",
   "execution_count": null,
   "metadata": {},
   "outputs": [],
   "source": [
    "#| export\n",
    "from fastcore.all import *\n",
    "from terminal_llm.chat import Chat"
   ]
  },
  {
   "cell_type": "code",
   "execution_count": null,
   "metadata": {},
   "outputs": [],
   "source": [
    "#| export\n",
    "class SessionHandler():\n",
    "  def __init__(self): pass\n",
    "  \n",
    "  def start_app(self):\n",
    "    print('Starting app...')\n",
    "    # TODO: Implement loading animation.\n",
    "    \n",
    "    if Path('.storage').exists():\n",
    "      self.read_api_key()\n",
    "      self.read_model()\n",
    "    else:\n",
    "      Path('.storage').mkdir()\n",
    "      self.set_api_key()\n",
    "      self.set_model()\n",
    "\n",
    "    print('No errors found. Starting menu...')\n",
    "  \n",
    "  def start_chat(self):\n",
    "    print('Starting chat...')\n",
    "    self.chat = Chat(self.api_key, self.model)\n",
    "    while True:\n",
    "      user_input = input('You: ')\n",
    "      if user_input.lower().strip() == '\\\\exit': break\n",
    "      else: \n",
    "        response = self.chat(user_input)\n",
    "        print(f'Assistant: {response}')\n",
    "    \n",
    "\n",
    "  def read_model(self):\n",
    "      try: self.model = self.read_file('.storage/model.txt')\n",
    "      except FileNotFoundError: \n",
    "        print('Model not found.')\n",
    "        self.set_model()\n",
    "\n",
    "  def read_api_key(self):\n",
    "      try: self.api_key = self.read_file('.storage/api_key.txt')\n",
    "      except FileNotFoundError: \n",
    "        print(\"API key not found.\")\n",
    "        self.set_api_key()\n",
    "\n",
    "  def set_model(self):\n",
    "      # TODO: Add a check to see whether entered model exists.\n",
    "      self.model = input('Enter Model: ')\n",
    "      self.write_file('.storage/model.txt', self.model)\n",
    "      print('Model saved.')\n",
    "\n",
    "  def set_api_key(self):\n",
    "      # TODO: Add a check to see whether entered API key is valid.\n",
    "      self.api_key = input('Enter API Key: ')\n",
    "      self.write_file('.storage/api_key.txt', self.api_key)\n",
    "      print('API key saved.')\n",
    "\n",
    "  def read_file(self, f_path):\n",
    "    with open(f_path, 'r') as f: return f.read()\n",
    "  \n",
    "  def write_file(self, f_path, content):\n",
    "    with open(f_path, 'w') as f: f.write(content)\n",
    "  \n",
    "  "
   ]
  },
  {
   "cell_type": "markdown",
   "metadata": {},
   "source": [
    "## Export -"
   ]
  },
  {
   "cell_type": "code",
   "execution_count": null,
   "metadata": {},
   "outputs": [],
   "source": [
    "#| hide\n",
    "import nbdev; nbdev.nbdev_export()"
   ]
  },
  {
   "cell_type": "code",
   "execution_count": null,
   "metadata": {},
   "outputs": [],
   "source": []
  }
 ],
 "metadata": {
  "kernelspec": {
   "display_name": "python3",
   "language": "python",
   "name": "python3"
  }
 },
 "nbformat": 4,
 "nbformat_minor": 2
}
