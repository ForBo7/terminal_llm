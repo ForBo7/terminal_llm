{
 "cells": [
  {
   "cell_type": "code",
   "execution_count": null,
   "metadata": {},
   "outputs": [],
   "source": [
    "%load_ext autoreload\n",
    "%autoreload 2"
   ]
  },
  {
   "cell_type": "markdown",
   "metadata": {},
   "source": [
    "# chat\n",
    "\n",
    "> A simple interface for the Mistral API."
   ]
  },
  {
   "cell_type": "markdown",
   "metadata": {},
   "source": [
    "> This notebook follows the [fastai style guide](https://docs.fast.ai/dev/style.html). (perhaps move this to the index page only.)"
   ]
  },
  {
   "cell_type": "code",
   "execution_count": null,
   "metadata": {},
   "outputs": [],
   "source": [
    "#| default_exp chat "
   ]
  },
  {
   "cell_type": "markdown",
   "metadata": {},
   "source": [
    "## API Key"
   ]
  },
  {
   "cell_type": "markdown",
   "metadata": {},
   "source": [
    "Testing our API key to see check whether we have it working correctly."
   ]
  },
  {
   "cell_type": "code",
   "execution_count": null,
   "metadata": {},
   "outputs": [],
   "source": [
    "import os\n",
    "API_KEY = os.environ.get('MISTRAL_API_KEY', 'KEY NOT FOUND')\n",
    "message = 'Who is the most renowned French artist?'\n",
    "h = {'Content-Type': 'application/json', 'Accept': 'application/json', 'Authorization': f'Bearer {API_KEY}'}\n",
    "d = {'model': 'open-mistral-7b', 'messages': [{'role': 'user', 'content': message}]}"
   ]
  },
  {
   "cell_type": "code",
   "execution_count": null,
   "metadata": {},
   "outputs": [
    {
     "data": {
      "text/plain": [
       "200"
      ]
     },
     "execution_count": null,
     "metadata": {},
     "output_type": "execute_result"
    }
   ],
   "source": [
    "import requests\n",
    "URL = 'https://api.mistral.ai/v1/chat/completions'\n",
    "r = requests.post(URL, headers=h, json=d); r.status_code"
   ]
  },
  {
   "cell_type": "code",
   "execution_count": null,
   "metadata": {},
   "outputs": [
    {
     "data": {
      "text/plain": [
       "'There are many renowned French artists across various artistic genres, but some of the most famous ones include:\\n\\n1. Leonardo da Vinci (1452-1519) - Although native to Italy, Leonardo spent his formative years in France and is considered one of the greatest painters, sculptors, architects, engineers, scientists, and all-around polymaths in history. His works such as the Mona Lisa and The Last Supper are some of the most recognizable and celebrated artworks in the world.\\n\\n2. Claude Monet (1840-1926) - Monet is widely regarded as the founder of Impressionism, one of the most influential art movements in history. He is best known for his landscapes and water lilies, which capture the ever-changing effects of light and color. Some of his most famous works include Impression, Sunrise and Water Lilies.\\n\\n3. Pablo Picasso (1881-1973) - Although Spanish, Picasso spent a significant part of his life in France and is often considered one of the most influential French artists of the 20th century. He is best known for co-founding the Cubist movement, which revolutionized European painting and sculpture. Some of his most famous works include Les Demoiselles d\\'Avignon and Guernica.\\n\\n4. Edith Piaf (1915-1963) - Piaf was a legendary French singer, known as the \"Little Sparrow.\" She rose to prominence during the 1930s and 40s and became a symbol of French culture and national pride. Her powerful voice and emotional ballads earned her a huge following both in France and around the world. Some of her most famous songs include La Vie en Rose, Milord, and Non, je ne regrette rien.\\n\\n5. Marcel Proust (1871-1922) - Proust was a French novelist, critic, and essayist, best known for his monumental novel, In Search of Lost Time (known as Remembrance of Things Past in English). Considered a landmark work of modern literature, it pioneered the stream-of-consciousness style and explores themes of memory and time.\\n\\nThese artists represent just a few of the many renowned French artists throughout history, each contributing significantly to their respective fields and leaving a lasting impact on the world of art.'"
      ]
     },
     "execution_count": null,
     "metadata": {},
     "output_type": "execute_result"
    }
   ],
   "source": [
    "r.json()['choices'][0]['message']['content']"
   ]
  },
  {
   "cell_type": "markdown",
   "metadata": {},
   "source": [
    "Exploring how message history would work."
   ]
  },
  {
   "cell_type": "code",
   "execution_count": null,
   "metadata": {},
   "outputs": [
    {
     "data": {
      "text/plain": [
       "\"I'd be happy to help answer any questions you have about Britain! Here are some common topics and facts related to Britain:\\n\\n1. Britain is made up of four countries: England, Scotland, Wales, and Northern Ireland.\\n2. The capital city of Britain is London, which is located in England.\\n3. The official language of Britain is English.\\n4. The currency used in Britain is the pound sterling.\\n5. The United Kingdom is a constitutional monarchy with a parliamentary democracy. The monarch, currently Queen Elizabeth II, is the head of state, while the Prime Minister is the head of government.\\n6. Britain has a rich history, dating back thousands of years. Some notable periods include the Roman occupation, the Middle Ages, the Renaissance, and the Industrial Revolution.\\n7. Britain is known for its cultural contributions to the world, including literature, music, art, and science. Some famous British figures include Shakespeare, Isaac Newton, Charles Dickens, and the Beatles.\\n8. Britain has a diverse population, with people from many different ethnic and religious backgrounds.\\n9. The climate in Britain is temperate, with rainfall evenly distributed throughout the year.\\n10. Britain is home to many famous landmarks, including the Tower of London, Stonehenge, the Scottish Highlands, and the Cliffs of Dover.\\n\\nI hope that helps answer any questions you might have! Let me know if you have any specific questions or if there's anything else I can help with.\""
      ]
     },
     "execution_count": null,
     "metadata": {},
     "output_type": "execute_result"
    }
   ],
   "source": [
    "m = 'How about from Britian?'\n",
    "d['messages'][0]['content'] = m\n",
    "r = requests.post(URL, headers=h, json=d)\n",
    "r.json()['choices'][0]['message']['content']"
   ]
  },
  {
   "cell_type": "markdown",
   "metadata": {},
   "source": [
    "It seems that prior interactions are not stored. Therefore, we will have to do this ourselves."
   ]
  },
  {
   "cell_type": "markdown",
   "metadata": {},
   "source": [
    "## Export -"
   ]
  },
  {
   "cell_type": "code",
   "execution_count": null,
   "metadata": {},
   "outputs": [],
   "source": [
    "#| hide\n",
    "import nbdev; nbdev.nbdev_export()"
   ]
  }
 ],
 "metadata": {
  "kernelspec": {
   "display_name": "python3",
   "language": "python",
   "name": "python3"
  }
 },
 "nbformat": 4,
 "nbformat_minor": 4
}
