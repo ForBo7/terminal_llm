{
 "cells": [
  {
   "cell_type": "code",
   "execution_count": null,
   "metadata": {},
   "outputs": [],
   "source": [
    "%load_ext autoreload\n",
    "%autoreload 2"
   ]
  },
  {
   "cell_type": "markdown",
   "metadata": {},
   "source": [
    "# chat\n",
    "\n",
    "> A simple interface for the Mistral API."
   ]
  },
  {
   "cell_type": "markdown",
   "metadata": {},
   "source": [
    "> This notebook follows the [fastai style guide](https://docs.fast.ai/dev/style.html). (perhaps move this to the index page only.)"
   ]
  },
  {
   "cell_type": "code",
   "execution_count": null,
   "metadata": {},
   "outputs": [],
   "source": [
    "#| default_exp chat "
   ]
  },
  {
   "cell_type": "markdown",
   "metadata": {},
   "source": [
    "## API Key"
   ]
  },
  {
   "cell_type": "markdown",
   "metadata": {},
   "source": [
    "Testing our API key to see check whether we have it working correctly."
   ]
  },
  {
   "cell_type": "code",
   "execution_count": null,
   "metadata": {},
   "outputs": [],
   "source": [
    "import os\n",
    "API_KEY = os.environ.get('MISTRAL_API_KEY', 'KEY NOT FOUND')\n",
    "message = 'Who is the most renowned French artist?'\n",
    "h = {'Content-Type': 'application/json', 'Accept': 'application/json', 'Authorization': f'Bearer {API_KEY}'}\n",
    "d = {'model': 'open-mistral-7b', 'messages': [{'role': 'user', 'content': message}]}"
   ]
  },
  {
   "cell_type": "code",
   "execution_count": null,
   "metadata": {},
   "outputs": [
    {
     "data": {
      "text/plain": [
       "200"
      ]
     },
     "execution_count": null,
     "metadata": {},
     "output_type": "execute_result"
    }
   ],
   "source": [
    "import requests\n",
    "URL = 'https://api.mistral.ai/v1/chat/completions'\n",
    "r = requests.post(URL, headers=h, json=d); r.status_code"
   ]
  },
  {
   "cell_type": "code",
   "execution_count": null,
   "metadata": {},
   "outputs": [
    {
     "data": {
      "text/plain": [
       "\"There are many renowned French artists across various artistic mediums, but some of the most famous include:\\n\\n1. Leonardo da Vinci (1452-1519): Although he was an Italian artist, he spent his last few years in France and had a significant impact on French art. He is known for his iconic paintings such as the Mona Lisa and The Last Supper.\\n\\n2. Claude Monet (1840-1926): He is considered the founder of French Impressionism, an art movement characterized by its emphasis on capturing the sensory impressions of a scene, especially as related to painting en plein air (outdoors). Some of his most famous works include Water Lilies and Impression, Sunrise.\\n\\n3. Pablo Picasso (1881-1973): Although Spanish, he spent a significant part of his life in France and is often associated with the country. He co-founded the Cubist movement, which revolutionized European painting and sculpture. Some of his most famous works include Les Demoiselles d'Avignon and Guernica.\\n\\n4. Edgar Degas (1834-1917): He was a leading figure in the Impressionist movement and is known for his paintings and sculptures depicting dance, the horse racecourse, and the urban scene. Some of his most famous works include The Dance Class and The Absinthe Drinker.\\n\\n5. Auguste Renoir (1841-1919): He was a leading painter in the Impressionist movement and is known for his luminous and sensuous depictions of Parisian life. Some of his most famous works include Luncheon of the Boating Party and Dance at Le Moulin de la Galette.\\n\\nThese artists have had a profound impact on the art world and continue to be celebrated for their contributions.\""
      ]
     },
     "execution_count": null,
     "metadata": {},
     "output_type": "execute_result"
    }
   ],
   "source": [
    "r.json()['choices'][0]['message']['content']"
   ]
  },
  {
   "cell_type": "markdown",
   "metadata": {},
   "source": [
    "Exploring how message history would work."
   ]
  },
  {
   "cell_type": "code",
   "execution_count": null,
   "metadata": {},
   "outputs": [],
   "source": [
    "m = 'How about from Britian?'\n",
    "d['messages'][0]['content'] = m\n",
    "r = requests.post(URL, headers=h, json=d)\n",
    "r.json()['choices'][0]['message']['content']"
   ]
  },
  {
   "cell_type": "markdown",
   "metadata": {},
   "source": [
    "It seems that prior interactions are not stored. Therefore, we will have to do this ourselves."
   ]
  },
  {
   "cell_type": "markdown",
   "metadata": {},
   "source": [
    "## Mistral Library"
   ]
  },
  {
   "cell_type": "markdown",
   "metadata": {},
   "source": [
    "The MistralAI library allows three different ways to use the API.\n",
    "- No streaming.\n",
    "- With streaming.\n",
    "- Async."
   ]
  },
  {
   "cell_type": "code",
   "execution_count": null,
   "metadata": {},
   "outputs": [],
   "source": [
    "#| export\n",
    "from mistralai.client import MistralClient\n",
    "from mistralai.models.chat_completion import ChatMessage"
   ]
  },
  {
   "cell_type": "code",
   "execution_count": null,
   "metadata": {},
   "outputs": [],
   "source": [
    "client = MistralClient(api_key=API_KEY)\n",
    "messages = [ChatMessage(role='user', content='What is the best French cheese?')]"
   ]
  },
  {
   "cell_type": "markdown",
   "metadata": {},
   "source": [
    "### No Streaming"
   ]
  },
  {
   "cell_type": "code",
   "execution_count": null,
   "metadata": {},
   "outputs": [
    {
     "data": {
      "text/plain": [
       "ChatCompletionResponse(id='04190adbeefd4270a90e2c0a304af703', object='chat.completion', created=1712844872, model='open-mistral-7b', choices=[ChatCompletionResponseChoice(index=0, message=ChatMessage(role='assistant', content='Choosing the \"best\" French cheese is subjective as it depends on personal preferences. Here are a few popular and highly regarded French cheeses:\\n\\n1. Roquefort: A blue-veined sheep\\'s milk cheese from the Massif Central region. It\\'s known for its strong, pungent flavor and distinctive veining.\\n2. Comté: A nutty and slightly sweet cow\\'s milk cheese from the Franche-Comté region. It\\'s made using traditional methods and has a rich, buttery texture.\\n3. Camembert: A soft, creamy cow\\'s milk cheese from Normandy. It\\'s famous for its earthy, mushroomy flavor and white mold rind.\\n4. Brie de Meaux: A soft, creamy cow\\'s milk cheese from the Ile-de-France region. It\\'s known for its velvety texture, mild, buttery flavor, and white mold rind.\\n5. Munster: A pungent, smelly cow\\'s milk cheese from the Alsace region. It\\'s made using raw milk and has a runny, gooey texture and strong, sulfurous flavor.\\n\\nIf you\\'re looking for a versatile cheese that can be used in cooking, I\\'d recommend Gruyère or Comté. For a more unique and pungent flavor, consider Roquefort or Munster. For a classic, creamy cheese, go for Brie or Camembert.', name=None, tool_calls=None), finish_reason=<FinishReason.stop: 'stop'>)], usage=UsageInfo(prompt_tokens=15, total_tokens=339, completion_tokens=324))"
      ]
     },
     "execution_count": null,
     "metadata": {},
     "output_type": "execute_result"
    }
   ],
   "source": [
    "m = 'open-mistral-7b'\n",
    "chat_response = client.chat(model=m, messages=messages); chat_response"
   ]
  },
  {
   "cell_type": "code",
   "execution_count": null,
   "metadata": {},
   "outputs": [
    {
     "data": {
      "text/plain": [
       "'Choosing the \"best\" French cheese is subjective as it depends on personal preferences. Here are a few popular and highly regarded French cheeses:\\n\\n1. Roquefort: A blue-veined sheep\\'s milk cheese from the Massif Central region. It\\'s known for its strong, pungent flavor and distinctive veining.\\n2. Comté: A nutty and slightly sweet cow\\'s milk cheese from the Franche-Comté region. It\\'s made using traditional methods and has a rich, buttery texture.\\n3. Camembert: A soft, creamy cow\\'s milk cheese from Normandy. It\\'s famous for its earthy, mushroomy flavor and white mold rind.\\n4. Brie de Meaux: A soft, creamy cow\\'s milk cheese from the Ile-de-France region. It\\'s known for its velvety texture, mild, buttery flavor, and white mold rind.\\n5. Munster: A pungent, smelly cow\\'s milk cheese from the Alsace region. It\\'s made using raw milk and has a runny, gooey texture and strong, sulfurous flavor.\\n\\nIf you\\'re looking for a versatile cheese that can be used in cooking, I\\'d recommend Gruyère or Comté. For a more unique and pungent flavor, consider Roquefort or Munster. For a classic, creamy cheese, go for Brie or Camembert.'"
      ]
     },
     "execution_count": null,
     "metadata": {},
     "output_type": "execute_result"
    }
   ],
   "source": [
    "chat_response.choices[0].message.content"
   ]
  },
  {
   "cell_type": "markdown",
   "metadata": {},
   "source": [
    "No streaming returns the entire message at once."
   ]
  },
  {
   "cell_type": "markdown",
   "metadata": {},
   "source": [
    "Let's see whether history is handled through the provided API."
   ]
  },
  {
   "cell_type": "code",
   "execution_count": null,
   "metadata": {},
   "outputs": [
    {
     "data": {
      "text/plain": [
       "'Determining the \"best\" French or British cheese is subjective and depends on personal preferences. Here are some popular and highly regarded options from both countries:\\n\\nFrench Cheeses:\\n1. Roquefort: A blue-veined cheese made from sheep\\'s milk. It has a strong, pungent aroma and a creamy texture.\\n2. Comté: A nutty and slightly sweet cheese made from cow\\'s milk. It has a firm texture and can be aged for different lengths of time.\\n3. Camembert: A soft, white mold-ripened cheese made from cow\\'s milk. It has a rich, earthy flavor and a creamy texture.\\n4. Brie de Meaux: A soft, creamy cheese with a white rind and a mild, buttery flavor. It is often eaten with bread or used as a spread.\\n5. Munster: A soft, smelly cheese with a pungent aroma and a runny, creamy texture. It is made from cow\\'s milk and has a spicy, slightly sweet flavor.\\n\\nBritish Cheeses:\\n1. Cheddar: A hard, sharp-tasting cheese made from cow\\'s milk. It has a crumbly texture and can be aged for different lengths of time.\\n2. Stilton: A blue-veined cheese made from cow\\'s milk. It has a strong, pungent aroma and a creamy, crumbly texture.\\n3. Cheshire: A pale, crumbly cheese made from cow\\'s milk. It has a mild, slightly sweet flavor and is often used in sandwiches or as a table cheese.\\n4. Wensleydale: A soft, crumbly cheese with a mild, slightly sweet flavor. It is often used in desserts or as a table cheese.\\n5. Red Leicester: A hard, orange-colored cheese made from cow\\'s milk. It has a nutty, slightly sweet flavor and is often used in sandwiches or as a table cheese.\\n\\nUltimately, the \"best\" cheese depends on your personal taste preferences. Some people might prefer a strong, pungent blue cheese, while others might prefer a mild, creamy brie. Experiment with different types and find the one that you enjoy the most!'"
      ]
     },
     "execution_count": null,
     "metadata": {},
     "output_type": "execute_result"
    }
   ],
   "source": [
    "messages.append(ChatMessage(role='user', content='What about the British variety?'))\n",
    "chat_response = client.chat(model=m, messages=messages); chat_response.choices[0].message.content"
   ]
  },
  {
   "cell_type": "markdown",
   "metadata": {},
   "source": [
    "It appearas not."
   ]
  },
  {
   "cell_type": "code",
   "execution_count": null,
   "metadata": {},
   "outputs": [
    {
     "name": "stdout",
     "output_type": "stream",
     "text": [
      "\u001b[0;31mInit signature:\u001b[0m\n",
      "\u001b[0mChatMessage\u001b[0m\u001b[0;34m(\u001b[0m\u001b[0;34m\u001b[0m\n",
      "\u001b[0;34m\u001b[0m    \u001b[0;34m*\u001b[0m\u001b[0;34m,\u001b[0m\u001b[0;34m\u001b[0m\n",
      "\u001b[0;34m\u001b[0m    \u001b[0mrole\u001b[0m\u001b[0;34m:\u001b[0m \u001b[0mstr\u001b[0m\u001b[0;34m,\u001b[0m\u001b[0;34m\u001b[0m\n",
      "\u001b[0;34m\u001b[0m    \u001b[0mcontent\u001b[0m\u001b[0;34m:\u001b[0m \u001b[0mUnion\u001b[0m\u001b[0;34m[\u001b[0m\u001b[0mstr\u001b[0m\u001b[0;34m,\u001b[0m \u001b[0mList\u001b[0m\u001b[0;34m[\u001b[0m\u001b[0mstr\u001b[0m\u001b[0;34m]\u001b[0m\u001b[0;34m]\u001b[0m\u001b[0;34m,\u001b[0m\u001b[0;34m\u001b[0m\n",
      "\u001b[0;34m\u001b[0m    \u001b[0mname\u001b[0m\u001b[0;34m:\u001b[0m \u001b[0mOptional\u001b[0m\u001b[0;34m[\u001b[0m\u001b[0mstr\u001b[0m\u001b[0;34m]\u001b[0m \u001b[0;34m=\u001b[0m \u001b[0;32mNone\u001b[0m\u001b[0;34m,\u001b[0m\u001b[0;34m\u001b[0m\n",
      "\u001b[0;34m\u001b[0m    \u001b[0mtool_calls\u001b[0m\u001b[0;34m:\u001b[0m \u001b[0mOptional\u001b[0m\u001b[0;34m[\u001b[0m\u001b[0mList\u001b[0m\u001b[0;34m[\u001b[0m\u001b[0mmistralai\u001b[0m\u001b[0;34m.\u001b[0m\u001b[0mmodels\u001b[0m\u001b[0;34m.\u001b[0m\u001b[0mchat_completion\u001b[0m\u001b[0;34m.\u001b[0m\u001b[0mToolCall\u001b[0m\u001b[0;34m]\u001b[0m\u001b[0;34m]\u001b[0m \u001b[0;34m=\u001b[0m \u001b[0;32mNone\u001b[0m\u001b[0;34m,\u001b[0m\u001b[0;34m\u001b[0m\n",
      "\u001b[0;34m\u001b[0m\u001b[0;34m)\u001b[0m \u001b[0;34m->\u001b[0m \u001b[0;32mNone\u001b[0m\u001b[0;34m\u001b[0m\u001b[0;34m\u001b[0m\u001b[0m\n",
      "\u001b[0;31mDocstring:\u001b[0m     \n",
      "Usage docs: https://docs.pydantic.dev/2.6/concepts/models/\n",
      "\n",
      "A base class for creating Pydantic models.\n",
      "\n",
      "Attributes:\n",
      "    __class_vars__: The names of classvars defined on the model.\n",
      "    __private_attributes__: Metadata about the private attributes of the model.\n",
      "    __signature__: The signature for instantiating the model.\n",
      "\n",
      "    __pydantic_complete__: Whether model building is completed, or if there are still undefined fields.\n",
      "    __pydantic_core_schema__: The pydantic-core schema used to build the SchemaValidator and SchemaSerializer.\n",
      "    __pydantic_custom_init__: Whether the model has a custom `__init__` function.\n",
      "    __pydantic_decorators__: Metadata containing the decorators defined on the model.\n",
      "        This replaces `Model.__validators__` and `Model.__root_validators__` from Pydantic V1.\n",
      "    __pydantic_generic_metadata__: Metadata for generic models; contains data used for a similar purpose to\n",
      "        __args__, __origin__, __parameters__ in typing-module generics. May eventually be replaced by these.\n",
      "    __pydantic_parent_namespace__: Parent namespace of the model, used for automatic rebuilding of models.\n",
      "    __pydantic_post_init__: The name of the post-init method for the model, if defined.\n",
      "    __pydantic_root_model__: Whether the model is a `RootModel`.\n",
      "    __pydantic_serializer__: The pydantic-core SchemaSerializer used to dump instances of the model.\n",
      "    __pydantic_validator__: The pydantic-core SchemaValidator used to validate instances of the model.\n",
      "\n",
      "    __pydantic_extra__: An instance attribute with the values of extra fields from validation when\n",
      "        `model_config['extra'] == 'allow'`.\n",
      "    __pydantic_fields_set__: An instance attribute with the names of fields explicitly set.\n",
      "    __pydantic_private__: Instance attribute with the values of private attributes set on the model instance.\n",
      "\u001b[0;31mInit docstring:\u001b[0m\n",
      "Create a new model by parsing and validating input data from keyword arguments.\n",
      "\n",
      "Raises [`ValidationError`][pydantic_core.ValidationError] if the input data cannot be\n",
      "validated to form a valid model.\n",
      "\n",
      "`self` is explicitly positional-only to allow `self` as a field name.\n",
      "\u001b[0;31mFile:\u001b[0m           ~/mambaforge/envs/terminal-llm/lib/python3.12/site-packages/mistralai/models/chat_completion.py\n",
      "\u001b[0;31mType:\u001b[0m           ModelMetaclass\n",
      "\u001b[0;31mSubclasses:\u001b[0m     "
     ]
    }
   ],
   "source": [
    "?ChatMessage"
   ]
  },
  {
   "cell_type": "code",
   "execution_count": null,
   "metadata": {},
   "outputs": [
    {
     "name": "stdout",
     "output_type": "stream",
     "text": [
      "\u001b[0;31mSignature:\u001b[0m\n",
      "\u001b[0mclient\u001b[0m\u001b[0;34m.\u001b[0m\u001b[0mchat\u001b[0m\u001b[0;34m(\u001b[0m\u001b[0;34m\u001b[0m\n",
      "\u001b[0;34m\u001b[0m    \u001b[0mmessages\u001b[0m\u001b[0;34m:\u001b[0m \u001b[0mList\u001b[0m\u001b[0;34m[\u001b[0m\u001b[0mAny\u001b[0m\u001b[0;34m]\u001b[0m\u001b[0;34m,\u001b[0m\u001b[0;34m\u001b[0m\n",
      "\u001b[0;34m\u001b[0m    \u001b[0mmodel\u001b[0m\u001b[0;34m:\u001b[0m \u001b[0mOptional\u001b[0m\u001b[0;34m[\u001b[0m\u001b[0mstr\u001b[0m\u001b[0;34m]\u001b[0m \u001b[0;34m=\u001b[0m \u001b[0;32mNone\u001b[0m\u001b[0;34m,\u001b[0m\u001b[0;34m\u001b[0m\n",
      "\u001b[0;34m\u001b[0m    \u001b[0mtools\u001b[0m\u001b[0;34m:\u001b[0m \u001b[0mOptional\u001b[0m\u001b[0;34m[\u001b[0m\u001b[0mList\u001b[0m\u001b[0;34m[\u001b[0m\u001b[0mDict\u001b[0m\u001b[0;34m[\u001b[0m\u001b[0mstr\u001b[0m\u001b[0;34m,\u001b[0m \u001b[0mAny\u001b[0m\u001b[0;34m]\u001b[0m\u001b[0;34m]\u001b[0m\u001b[0;34m]\u001b[0m \u001b[0;34m=\u001b[0m \u001b[0;32mNone\u001b[0m\u001b[0;34m,\u001b[0m\u001b[0;34m\u001b[0m\n",
      "\u001b[0;34m\u001b[0m    \u001b[0mtemperature\u001b[0m\u001b[0;34m:\u001b[0m \u001b[0mOptional\u001b[0m\u001b[0;34m[\u001b[0m\u001b[0mfloat\u001b[0m\u001b[0;34m]\u001b[0m \u001b[0;34m=\u001b[0m \u001b[0;32mNone\u001b[0m\u001b[0;34m,\u001b[0m\u001b[0;34m\u001b[0m\n",
      "\u001b[0;34m\u001b[0m    \u001b[0mmax_tokens\u001b[0m\u001b[0;34m:\u001b[0m \u001b[0mOptional\u001b[0m\u001b[0;34m[\u001b[0m\u001b[0mint\u001b[0m\u001b[0;34m]\u001b[0m \u001b[0;34m=\u001b[0m \u001b[0;32mNone\u001b[0m\u001b[0;34m,\u001b[0m\u001b[0;34m\u001b[0m\n",
      "\u001b[0;34m\u001b[0m    \u001b[0mtop_p\u001b[0m\u001b[0;34m:\u001b[0m \u001b[0mOptional\u001b[0m\u001b[0;34m[\u001b[0m\u001b[0mfloat\u001b[0m\u001b[0;34m]\u001b[0m \u001b[0;34m=\u001b[0m \u001b[0;32mNone\u001b[0m\u001b[0;34m,\u001b[0m\u001b[0;34m\u001b[0m\n",
      "\u001b[0;34m\u001b[0m    \u001b[0mrandom_seed\u001b[0m\u001b[0;34m:\u001b[0m \u001b[0mOptional\u001b[0m\u001b[0;34m[\u001b[0m\u001b[0mint\u001b[0m\u001b[0;34m]\u001b[0m \u001b[0;34m=\u001b[0m \u001b[0;32mNone\u001b[0m\u001b[0;34m,\u001b[0m\u001b[0;34m\u001b[0m\n",
      "\u001b[0;34m\u001b[0m    \u001b[0msafe_mode\u001b[0m\u001b[0;34m:\u001b[0m \u001b[0mbool\u001b[0m \u001b[0;34m=\u001b[0m \u001b[0;32mFalse\u001b[0m\u001b[0;34m,\u001b[0m\u001b[0;34m\u001b[0m\n",
      "\u001b[0;34m\u001b[0m    \u001b[0msafe_prompt\u001b[0m\u001b[0;34m:\u001b[0m \u001b[0mbool\u001b[0m \u001b[0;34m=\u001b[0m \u001b[0;32mFalse\u001b[0m\u001b[0;34m,\u001b[0m\u001b[0;34m\u001b[0m\n",
      "\u001b[0;34m\u001b[0m    \u001b[0mtool_choice\u001b[0m\u001b[0;34m:\u001b[0m \u001b[0mUnion\u001b[0m\u001b[0;34m[\u001b[0m\u001b[0mstr\u001b[0m\u001b[0;34m,\u001b[0m \u001b[0mmistralai\u001b[0m\u001b[0;34m.\u001b[0m\u001b[0mmodels\u001b[0m\u001b[0;34m.\u001b[0m\u001b[0mchat_completion\u001b[0m\u001b[0;34m.\u001b[0m\u001b[0mToolChoice\u001b[0m\u001b[0;34m,\u001b[0m \u001b[0mNoneType\u001b[0m\u001b[0;34m]\u001b[0m \u001b[0;34m=\u001b[0m \u001b[0;32mNone\u001b[0m\u001b[0;34m,\u001b[0m\u001b[0;34m\u001b[0m\n",
      "\u001b[0;34m\u001b[0m    \u001b[0mresponse_format\u001b[0m\u001b[0;34m:\u001b[0m \u001b[0mUnion\u001b[0m\u001b[0;34m[\u001b[0m\u001b[0mDict\u001b[0m\u001b[0;34m[\u001b[0m\u001b[0mstr\u001b[0m\u001b[0;34m,\u001b[0m \u001b[0mstr\u001b[0m\u001b[0;34m]\u001b[0m\u001b[0;34m,\u001b[0m \u001b[0mmistralai\u001b[0m\u001b[0;34m.\u001b[0m\u001b[0mmodels\u001b[0m\u001b[0;34m.\u001b[0m\u001b[0mchat_completion\u001b[0m\u001b[0;34m.\u001b[0m\u001b[0mResponseFormat\u001b[0m\u001b[0;34m,\u001b[0m \u001b[0mNoneType\u001b[0m\u001b[0;34m]\u001b[0m \u001b[0;34m=\u001b[0m \u001b[0;32mNone\u001b[0m\u001b[0;34m,\u001b[0m\u001b[0;34m\u001b[0m\n",
      "\u001b[0;34m\u001b[0m\u001b[0;34m)\u001b[0m \u001b[0;34m->\u001b[0m \u001b[0mmistralai\u001b[0m\u001b[0;34m.\u001b[0m\u001b[0mmodels\u001b[0m\u001b[0;34m.\u001b[0m\u001b[0mchat_completion\u001b[0m\u001b[0;34m.\u001b[0m\u001b[0mChatCompletionResponse\u001b[0m\u001b[0;34m\u001b[0m\u001b[0;34m\u001b[0m\u001b[0m\n",
      "\u001b[0;31mDocstring:\u001b[0m\n",
      "A chat endpoint that returns a single response.\n",
      "\n",
      "Args:\n",
      "    model (str): model the name of the model to chat with, e.g. mistral-tiny\n",
      "    messages (List[Any]): messages an array of messages to chat with, e.g.\n",
      "        [{role: 'user', content: 'What is the best French cheese?'}]\n",
      "    tools (Optional[List[Function]], optional): a list of tools to use.\n",
      "    temperature (Optional[float], optional): temperature the temperature to use for sampling, e.g. 0.5.\n",
      "    max_tokens (Optional[int], optional): the maximum number of tokens to generate, e.g. 100. Defaults to None.\n",
      "    top_p (Optional[float], optional): the cumulative probability of tokens to generate, e.g. 0.9.\n",
      "    Defaults to None.\n",
      "    random_seed (Optional[int], optional): the random seed to use for sampling, e.g. 42. Defaults to None.\n",
      "    safe_mode (bool, optional): deprecated, use safe_prompt instead. Defaults to False.\n",
      "    safe_prompt (bool, optional): whether to use safe prompt, e.g. true. Defaults to False.\n",
      "\n",
      "Returns:\n",
      "    ChatCompletionResponse: a response object containing the generated text.\n",
      "\u001b[0;31mFile:\u001b[0m      ~/mambaforge/envs/terminal-llm/lib/python3.12/site-packages/mistralai/client.py\n",
      "\u001b[0;31mType:\u001b[0m      method"
     ]
    }
   ],
   "source": [
    "?client.chat"
   ]
  },
  {
   "cell_type": "code",
   "execution_count": null,
   "metadata": {},
   "outputs": [
    {
     "data": {
      "text/plain": [
       "[ChatMessage(role='user', content='What is the best French cheese?', name=None, tool_calls=None),\n",
       " ChatMessage(role='user', content='What about the British variety?', name=None, tool_calls=None)]"
      ]
     },
     "execution_count": null,
     "metadata": {},
     "output_type": "execute_result"
    }
   ],
   "source": [
    "messages"
   ]
  },
  {
   "cell_type": "markdown",
   "metadata": {},
   "source": [
    "To implement history, we will need to store prior interactions. Each time a new message is sent in the conversation, all prior queries and responses will have to be sent."
   ]
  },
  {
   "cell_type": "code",
   "execution_count": null,
   "metadata": {},
   "outputs": [],
   "source": [
    "def get_response(message): return client.chat(model=m, messages=message).choices[0].message.content"
   ]
  },
  {
   "cell_type": "code",
   "execution_count": null,
   "metadata": {},
   "outputs": [
    {
     "data": {
      "text/plain": [
       "'Determining the \"best\" French cheese is subjective as it depends on personal taste preferences. Here are some popular and highly regarded French cheeses across different categories:\\n\\n1. Roquefort: A blue-veined sheep\\'s milk cheese, known for its distinctive strong flavor and tangy taste.\\n2. Camembert: A soft, creamy cow\\'s milk cheese with a pungent aroma and earthy, mushroomy flavors.\\n3. Comté: A nutty, sweet, and slightly fruity cow\\'s milk cheese, often compared to Swiss Emmental.\\n4. Brie de Meaux: A soft, creamy cow\\'s milk cheese with a rich, buttery, and mildly pungent flavor.\\n5. Munster: A pungent, smelly cow\\'s milk cheese with a gooey, runny texture when ripe.\\n6. Reblochon: A soft, bloomy rind cheese with a rich, creamy texture and a mild but distinctive flavor.\\n7. Cheddar de Jura: A hard, nutty cow\\'s milk cheese with a complex, savory flavor, similar to English cheddar.\\n8. Époisses: A pungent, soft, cow\\'s milk cheese with a runny, gooey texture and a strong, sulfurous aroma.\\n\\nTry a few of these cheeses to discover which one suits your taste buds best. Keep in mind that the taste, texture, and aroma of cheese can vary depending on its age and specific origin within the region.'"
      ]
     },
     "execution_count": null,
     "metadata": {},
     "output_type": "execute_result"
    }
   ],
   "source": [
    "history = []\n",
    "contents = 'What is the best French cheese?'\n",
    "messages = history + [ChatMessage(role='user', content=contents)]\n",
    "response = get_response(messages); response"
   ]
  },
  {
   "cell_type": "code",
   "execution_count": null,
   "metadata": {},
   "outputs": [
    {
     "data": {
      "text/plain": [
       "[ChatMessage(role='user', content='What is the best French cheese?', name=None, tool_calls=None)]"
      ]
     },
     "execution_count": null,
     "metadata": {},
     "output_type": "execute_result"
    }
   ],
   "source": [
    "history.append(ChatMessage(role='user', content=contents)); history"
   ]
  },
  {
   "cell_type": "code",
   "execution_count": null,
   "metadata": {},
   "outputs": [
    {
     "data": {
      "text/plain": [
       "[ChatMessage(role='user', content='What is the best French cheese?', name=None, tool_calls=None),\n",
       " ChatMessage(role='assistant', content='Determining the \"best\" French cheese is subjective as it depends on personal taste preferences. Here are some popular and highly regarded French cheeses across different categories:\\n\\n1. Roquefort: A blue-veined sheep\\'s milk cheese, known for its distinctive strong flavor and tangy taste.\\n2. Camembert: A soft, creamy cow\\'s milk cheese with a pungent aroma and earthy, mushroomy flavors.\\n3. Comté: A nutty, sweet, and slightly fruity cow\\'s milk cheese, often compared to Swiss Emmental.\\n4. Brie de Meaux: A soft, creamy cow\\'s milk cheese with a rich, buttery, and mildly pungent flavor.\\n5. Munster: A pungent, smelly cow\\'s milk cheese with a gooey, runny texture when ripe.\\n6. Reblochon: A soft, bloomy rind cheese with a rich, creamy texture and a mild but distinctive flavor.\\n7. Cheddar de Jura: A hard, nutty cow\\'s milk cheese with a complex, savory flavor, similar to English cheddar.\\n8. Époisses: A pungent, soft, cow\\'s milk cheese with a runny, gooey texture and a strong, sulfurous aroma.\\n\\nTry a few of these cheeses to discover which one suits your taste buds best. Keep in mind that the taste, texture, and aroma of cheese can vary depending on its age and specific origin within the region.', name=None, tool_calls=None)]"
      ]
     },
     "execution_count": null,
     "metadata": {},
     "output_type": "execute_result"
    }
   ],
   "source": [
    "history.append(ChatMessage(role='assistant', content=response)); history"
   ]
  },
  {
   "cell_type": "code",
   "execution_count": null,
   "metadata": {},
   "outputs": [
    {
     "data": {
      "text/plain": [
       "[ChatMessage(role='user', content='What is the best French cheese?', name=None, tool_calls=None),\n",
       " ChatMessage(role='assistant', content='Determining the \"best\" French cheese is subjective as it depends on personal taste preferences. Here are some popular and highly regarded French cheeses across different categories:\\n\\n1. Roquefort: A blue-veined sheep\\'s milk cheese, known for its distinctive strong flavor and tangy taste.\\n2. Camembert: A soft, creamy cow\\'s milk cheese with a pungent aroma and earthy, mushroomy flavors.\\n3. Comté: A nutty, sweet, and slightly fruity cow\\'s milk cheese, often compared to Swiss Emmental.\\n4. Brie de Meaux: A soft, creamy cow\\'s milk cheese with a rich, buttery, and mildly pungent flavor.\\n5. Munster: A pungent, smelly cow\\'s milk cheese with a gooey, runny texture when ripe.\\n6. Reblochon: A soft, bloomy rind cheese with a rich, creamy texture and a mild but distinctive flavor.\\n7. Cheddar de Jura: A hard, nutty cow\\'s milk cheese with a complex, savory flavor, similar to English cheddar.\\n8. Époisses: A pungent, soft, cow\\'s milk cheese with a runny, gooey texture and a strong, sulfurous aroma.\\n\\nTry a few of these cheeses to discover which one suits your taste buds best. Keep in mind that the taste, texture, and aroma of cheese can vary depending on its age and specific origin within the region.', name=None, tool_calls=None),\n",
       " ChatMessage(role='user', content='What about the British variety?', name=None, tool_calls=None)]"
      ]
     },
     "execution_count": null,
     "metadata": {},
     "output_type": "execute_result"
    }
   ],
   "source": [
    "contents = 'What about the British variety?'\n",
    "messages = history + [ChatMessage(role='user', content=contents)]; messages"
   ]
  },
  {
   "cell_type": "code",
   "execution_count": null,
   "metadata": {},
   "outputs": [
    {
     "data": {
      "text/plain": [
       "\"British cheese offers a diverse range of flavors and textures. Here are some popular and highly regarded British cheeses:\\n\\n1. Cheddar: A hard, savory cow's milk cheese with a sharp, tangy flavor and a distinctive crumbly texture when aged.\\n2. Stilton: A blue-veined cheese with a strong, pungent aroma and a creamy, crumbly texture. It is often described as having a distinctive, complex, and slightly salty taste.\\n3. Wensleydale: A soft, creamy, and crumbly cheese with a mild and slightly sweet flavor, often paired with fruits or honey.\\n4. Cheshire: A hard, crumbly cow's milk cheese with a tangy, slightly acidic flavor and a semi-sweet aftertaste.\\n5. Red Leicester: A hard, orange-colored cow's milk cheese with a sharp, tangy flavor and a slightly sweet aftertaste.\\n6. Lincolnshire Poacher: A hard, smoked cow's milk cheese with a rich, smoky flavor and a slightly sweet, buttery finish.\\n7. Somerset Brie: A soft, creamy cow's milk cheese with a mild, buttery flavor and a bloomy rind.\\n8. Wensleydale with Cranberries: A soft, creamy Wensleydale cheese studded with cranberries, offering a sweet and tart contrast to the mild, creamy cheese.\\n\\nThese are just a few of the many British cheeses available, each with its unique characteristics and flavor profile. Try a few to discover which one you prefer.\""
      ]
     },
     "execution_count": null,
     "metadata": {},
     "output_type": "execute_result"
    }
   ],
   "source": [
    "response = get_response(messages); response"
   ]
  },
  {
   "cell_type": "code",
   "execution_count": null,
   "metadata": {},
   "outputs": [
    {
     "data": {
      "text/plain": [
       "[ChatMessage(role='user', content='What is the best French cheese?', name=None, tool_calls=None),\n",
       " ChatMessage(role='assistant', content='Determining the \"best\" French cheese is subjective as it depends on personal taste preferences. Here are some popular and highly regarded French cheeses across different categories:\\n\\n1. Roquefort: A blue-veined sheep\\'s milk cheese, known for its distinctive strong flavor and tangy taste.\\n2. Camembert: A soft, creamy cow\\'s milk cheese with a pungent aroma and earthy, mushroomy flavors.\\n3. Comté: A nutty, sweet, and slightly fruity cow\\'s milk cheese, often compared to Swiss Emmental.\\n4. Brie de Meaux: A soft, creamy cow\\'s milk cheese with a rich, buttery, and mildly pungent flavor.\\n5. Munster: A pungent, smelly cow\\'s milk cheese with a gooey, runny texture when ripe.\\n6. Reblochon: A soft, bloomy rind cheese with a rich, creamy texture and a mild but distinctive flavor.\\n7. Cheddar de Jura: A hard, nutty cow\\'s milk cheese with a complex, savory flavor, similar to English cheddar.\\n8. Époisses: A pungent, soft, cow\\'s milk cheese with a runny, gooey texture and a strong, sulfurous aroma.\\n\\nTry a few of these cheeses to discover which one suits your taste buds best. Keep in mind that the taste, texture, and aroma of cheese can vary depending on its age and specific origin within the region.', name=None, tool_calls=None),\n",
       " ChatMessage(role='user', content='What about the British variety?', name=None, tool_calls=None),\n",
       " ChatMessage(role='assistant', content=\"British cheese offers a diverse range of flavors and textures. Here are some popular and highly regarded British cheeses:\\n\\n1. Cheddar: A hard, savory cow's milk cheese with a sharp, tangy flavor and a distinctive crumbly texture when aged.\\n2. Stilton: A blue-veined cheese with a strong, pungent aroma and a creamy, crumbly texture. It is often described as having a distinctive, complex, and slightly salty taste.\\n3. Wensleydale: A soft, creamy, and crumbly cheese with a mild and slightly sweet flavor, often paired with fruits or honey.\\n4. Cheshire: A hard, crumbly cow's milk cheese with a tangy, slightly acidic flavor and a semi-sweet aftertaste.\\n5. Red Leicester: A hard, orange-colored cow's milk cheese with a sharp, tangy flavor and a slightly sweet aftertaste.\\n6. Lincolnshire Poacher: A hard, smoked cow's milk cheese with a rich, smoky flavor and a slightly sweet, buttery finish.\\n7. Somerset Brie: A soft, creamy cow's milk cheese with a mild, buttery flavor and a bloomy rind.\\n8. Wensleydale with Cranberries: A soft, creamy Wensleydale cheese studded with cranberries, offering a sweet and tart contrast to the mild, creamy cheese.\\n\\nThese are just a few of the many British cheeses available, each with its unique characteristics and flavor profile. Try a few to discover which one you prefer.\", name=None, tool_calls=None)]"
      ]
     },
     "execution_count": null,
     "metadata": {},
     "output_type": "execute_result"
    }
   ],
   "source": [
    "history.append(ChatMessage(role='user', content=contents))\n",
    "history.append(ChatMessage(role='assistant', content=response))\n",
    "history"
   ]
  },
  {
   "cell_type": "markdown",
   "metadata": {},
   "source": [
    "### With Streaming."
   ]
  },
  {
   "cell_type": "markdown",
   "metadata": {},
   "source": [
    "Let's see how streaming works."
   ]
  },
  {
   "cell_type": "code",
   "execution_count": null,
   "metadata": {},
   "outputs": [
    {
     "data": {
      "text/plain": [
       "<generator object MistralClient.chat_stream>"
      ]
     },
     "execution_count": null,
     "metadata": {},
     "output_type": "execute_result"
    }
   ],
   "source": [
    "stream_response = client.chat_stream(model=m, messages=messages); stream_response"
   ]
  },
  {
   "cell_type": "code",
   "execution_count": null,
   "metadata": {},
   "outputs": [
    {
     "name": "stdout",
     "output_type": "stream",
     "text": [
      "id='4772ffd5bfe04fcca33a16e841c4eee9' model='open-mistral-7b' choices=[ChatCompletionResponseStreamChoice(index=0, delta=DeltaMessage(role='assistant', content='', tool_calls=None), finish_reason=None)] created=1712846800 object='chat.completion.chunk' usage=None\n",
      "id='4772ffd5bfe04fcca33a16e841c4eee9' model='open-mistral-7b' choices=[ChatCompletionResponseStreamChoice(index=0, delta=DeltaMessage(role=None, content='British', tool_calls=None), finish_reason=None)] created=1712846800 object='chat.completion.chunk' usage=None\n",
      "id='4772ffd5bfe04fcca33a16e841c4eee9' model='open-mistral-7b' choices=[ChatCompletionResponseStreamChoice(index=0, delta=DeltaMessage(role=None, content=' cheese', tool_calls=None), finish_reason=None)] created=1712846800 object='chat.completion.chunk' usage=None\n",
      "id='4772ffd5bfe04fcca33a16e841c4eee9' model='open-mistral-7b' choices=[ChatCompletionResponseStreamChoice(index=0, delta=DeltaMessage(role=None, content=' offers', tool_calls=None), finish_reason=None)] created=1712846800 object='chat.completion.chunk' usage=None\n",
      "id='4772ffd5bfe04fcca33a16e841c4eee9' model='open-mistral-7b' choices=[ChatCompletionResponseStreamChoice(index=0, delta=DeltaMessage(role=None, content=' a', tool_calls=None), finish_reason=None)] created=1712846800 object='chat.completion.chunk' usage=None\n",
      "id='4772ffd5bfe04fcca33a16e841c4eee9' model='open-mistral-7b' choices=[ChatCompletionResponseStreamChoice(index=0, delta=DeltaMessage(role=None, content=' diverse', tool_calls=None), finish_reason=None)] created=1712846800 object='chat.completion.chunk' usage=None\n",
      "id='4772ffd5bfe04fcca33a16e841c4eee9' model='open-mistral-7b' choices=[ChatCompletionResponseStreamChoice(index=0, delta=DeltaMessage(role=None, content=' range', tool_calls=None), finish_reason=None)] created=1712846800 object='chat.completion.chunk' usage=None\n",
      "id='4772ffd5bfe04fcca33a16e841c4eee9' model='open-mistral-7b' choices=[ChatCompletionResponseStreamChoice(index=0, delta=DeltaMessage(role=None, content=' of', tool_calls=None), finish_reason=None)] created=1712846800 object='chat.completion.chunk' usage=None\n",
      "id='4772ffd5bfe04fcca33a16e841c4eee9' model='open-mistral-7b' choices=[ChatCompletionResponseStreamChoice(index=0, delta=DeltaMessage(role=None, content=' flav', tool_calls=None), finish_reason=None)] created=1712846800 object='chat.completion.chunk' usage=None\n",
      "id='4772ffd5bfe04fcca33a16e841c4eee9' model='open-mistral-7b' choices=[ChatCompletionResponseStreamChoice(index=0, delta=DeltaMessage(role=None, content='ors', tool_calls=None), finish_reason=None)] created=1712846800 object='chat.completion.chunk' usage=None\n",
      "id='4772ffd5bfe04fcca33a16e841c4eee9' model='open-mistral-7b' choices=[ChatCompletionResponseStreamChoice(index=0, delta=DeltaMessage(role=None, content=' and', tool_calls=None), finish_reason=None)] created=1712846800 object='chat.completion.chunk' usage=None\n",
      "id='4772ffd5bfe04fcca33a16e841c4eee9' model='open-mistral-7b' choices=[ChatCompletionResponseStreamChoice(index=0, delta=DeltaMessage(role=None, content=' text', tool_calls=None), finish_reason=None)] created=1712846800 object='chat.completion.chunk' usage=None\n",
      "id='4772ffd5bfe04fcca33a16e841c4eee9' model='open-mistral-7b' choices=[ChatCompletionResponseStreamChoice(index=0, delta=DeltaMessage(role=None, content='ures', tool_calls=None), finish_reason=None)] created=1712846800 object='chat.completion.chunk' usage=None\n",
      "id='4772ffd5bfe04fcca33a16e841c4eee9' model='open-mistral-7b' choices=[ChatCompletionResponseStreamChoice(index=0, delta=DeltaMessage(role=None, content=',', tool_calls=None), finish_reason=None)] created=1712846800 object='chat.completion.chunk' usage=None\n",
      "id='4772ffd5bfe04fcca33a16e841c4eee9' model='open-mistral-7b' choices=[ChatCompletionResponseStreamChoice(index=0, delta=DeltaMessage(role=None, content=' so', tool_calls=None), finish_reason=None)] created=1712846800 object='chat.completion.chunk' usage=None\n",
      "id='4772ffd5bfe04fcca33a16e841c4eee9' model='open-mistral-7b' choices=[ChatCompletionResponseStreamChoice(index=0, delta=DeltaMessage(role=None, content=' here', tool_calls=None), finish_reason=None)] created=1712846800 object='chat.completion.chunk' usage=None\n",
      "id='4772ffd5bfe04fcca33a16e841c4eee9' model='open-mistral-7b' choices=[ChatCompletionResponseStreamChoice(index=0, delta=DeltaMessage(role=None, content=' are', tool_calls=None), finish_reason=None)] created=1712846800 object='chat.completion.chunk' usage=None\n",
      "id='4772ffd5bfe04fcca33a16e841c4eee9' model='open-mistral-7b' choices=[ChatCompletionResponseStreamChoice(index=0, delta=DeltaMessage(role=None, content=' some', tool_calls=None), finish_reason=None)] created=1712846800 object='chat.completion.chunk' usage=None\n",
      "id='4772ffd5bfe04fcca33a16e841c4eee9' model='open-mistral-7b' choices=[ChatCompletionResponseStreamChoice(index=0, delta=DeltaMessage(role=None, content=' popular', tool_calls=None), finish_reason=None)] created=1712846800 object='chat.completion.chunk' usage=None\n",
      "id='4772ffd5bfe04fcca33a16e841c4eee9' model='open-mistral-7b' choices=[ChatCompletionResponseStreamChoice(index=0, delta=DeltaMessage(role=None, content=' and', tool_calls=None), finish_reason=None)] created=1712846800 object='chat.completion.chunk' usage=None\n",
      "id='4772ffd5bfe04fcca33a16e841c4eee9' model='open-mistral-7b' choices=[ChatCompletionResponseStreamChoice(index=0, delta=DeltaMessage(role=None, content=' highly', tool_calls=None), finish_reason=None)] created=1712846800 object='chat.completion.chunk' usage=None\n",
      "id='4772ffd5bfe04fcca33a16e841c4eee9' model='open-mistral-7b' choices=[ChatCompletionResponseStreamChoice(index=0, delta=DeltaMessage(role=None, content=' regarded', tool_calls=None), finish_reason=None)] created=1712846800 object='chat.completion.chunk' usage=None\n",
      "id='4772ffd5bfe04fcca33a16e841c4eee9' model='open-mistral-7b' choices=[ChatCompletionResponseStreamChoice(index=0, delta=DeltaMessage(role=None, content=' British', tool_calls=None), finish_reason=None)] created=1712846800 object='chat.completion.chunk' usage=None\n",
      "id='4772ffd5bfe04fcca33a16e841c4eee9' model='open-mistral-7b' choices=[ChatCompletionResponseStreamChoice(index=0, delta=DeltaMessage(role=None, content=' che', tool_calls=None), finish_reason=None)] created=1712846800 object='chat.completion.chunk' usage=None\n",
      "id='4772ffd5bfe04fcca33a16e841c4eee9' model='open-mistral-7b' choices=[ChatCompletionResponseStreamChoice(index=0, delta=DeltaMessage(role=None, content='es', tool_calls=None), finish_reason=None)] created=1712846800 object='chat.completion.chunk' usage=None\n",
      "id='4772ffd5bfe04fcca33a16e841c4eee9' model='open-mistral-7b' choices=[ChatCompletionResponseStreamChoice(index=0, delta=DeltaMessage(role=None, content='es', tool_calls=None), finish_reason=None)] created=1712846800 object='chat.completion.chunk' usage=None\n",
      "id='4772ffd5bfe04fcca33a16e841c4eee9' model='open-mistral-7b' choices=[ChatCompletionResponseStreamChoice(index=0, delta=DeltaMessage(role=None, content=':', tool_calls=None), finish_reason=None)] created=1712846800 object='chat.completion.chunk' usage=None\n",
      "id='4772ffd5bfe04fcca33a16e841c4eee9' model='open-mistral-7b' choices=[ChatCompletionResponseStreamChoice(index=0, delta=DeltaMessage(role=None, content='\\n\\n1', tool_calls=None), finish_reason=None)] created=1712846800 object='chat.completion.chunk' usage=None\n",
      "id='4772ffd5bfe04fcca33a16e841c4eee9' model='open-mistral-7b' choices=[ChatCompletionResponseStreamChoice(index=0, delta=DeltaMessage(role=None, content='.', tool_calls=None), finish_reason=None)] created=1712846800 object='chat.completion.chunk' usage=None\n",
      "id='4772ffd5bfe04fcca33a16e841c4eee9' model='open-mistral-7b' choices=[ChatCompletionResponseStreamChoice(index=0, delta=DeltaMessage(role=None, content=' C', tool_calls=None), finish_reason=None)] created=1712846800 object='chat.completion.chunk' usage=None\n",
      "id='4772ffd5bfe04fcca33a16e841c4eee9' model='open-mistral-7b' choices=[ChatCompletionResponseStreamChoice(index=0, delta=DeltaMessage(role=None, content='hed', tool_calls=None), finish_reason=None)] created=1712846800 object='chat.completion.chunk' usage=None\n",
      "id='4772ffd5bfe04fcca33a16e841c4eee9' model='open-mistral-7b' choices=[ChatCompletionResponseStreamChoice(index=0, delta=DeltaMessage(role=None, content='dar', tool_calls=None), finish_reason=None)] created=1712846800 object='chat.completion.chunk' usage=None\n",
      "id='4772ffd5bfe04fcca33a16e841c4eee9' model='open-mistral-7b' choices=[ChatCompletionResponseStreamChoice(index=0, delta=DeltaMessage(role=None, content=':', tool_calls=None), finish_reason=None)] created=1712846800 object='chat.completion.chunk' usage=None\n",
      "id='4772ffd5bfe04fcca33a16e841c4eee9' model='open-mistral-7b' choices=[ChatCompletionResponseStreamChoice(index=0, delta=DeltaMessage(role=None, content=' A', tool_calls=None), finish_reason=None)] created=1712846800 object='chat.completion.chunk' usage=None\n",
      "id='4772ffd5bfe04fcca33a16e841c4eee9' model='open-mistral-7b' choices=[ChatCompletionResponseStreamChoice(index=0, delta=DeltaMessage(role=None, content=' hard', tool_calls=None), finish_reason=None)] created=1712846800 object='chat.completion.chunk' usage=None\n",
      "id='4772ffd5bfe04fcca33a16e841c4eee9' model='open-mistral-7b' choices=[ChatCompletionResponseStreamChoice(index=0, delta=DeltaMessage(role=None, content=',', tool_calls=None), finish_reason=None)] created=1712846800 object='chat.completion.chunk' usage=None\n",
      "id='4772ffd5bfe04fcca33a16e841c4eee9' model='open-mistral-7b' choices=[ChatCompletionResponseStreamChoice(index=0, delta=DeltaMessage(role=None, content=' sharp', tool_calls=None), finish_reason=None)] created=1712846800 object='chat.completion.chunk' usage=None\n",
      "id='4772ffd5bfe04fcca33a16e841c4eee9' model='open-mistral-7b' choices=[ChatCompletionResponseStreamChoice(index=0, delta=DeltaMessage(role=None, content='-', tool_calls=None), finish_reason=None)] created=1712846800 object='chat.completion.chunk' usage=None\n",
      "id='4772ffd5bfe04fcca33a16e841c4eee9' model='open-mistral-7b' choices=[ChatCompletionResponseStreamChoice(index=0, delta=DeltaMessage(role=None, content='t', tool_calls=None), finish_reason=None)] created=1712846800 object='chat.completion.chunk' usage=None\n",
      "id='4772ffd5bfe04fcca33a16e841c4eee9' model='open-mistral-7b' choices=[ChatCompletionResponseStreamChoice(index=0, delta=DeltaMessage(role=None, content='asting', tool_calls=None), finish_reason=None)] created=1712846800 object='chat.completion.chunk' usage=None\n",
      "id='4772ffd5bfe04fcca33a16e841c4eee9' model='open-mistral-7b' choices=[ChatCompletionResponseStreamChoice(index=0, delta=DeltaMessage(role=None, content=',', tool_calls=None), finish_reason=None)] created=1712846800 object='chat.completion.chunk' usage=None\n",
      "id='4772ffd5bfe04fcca33a16e841c4eee9' model='open-mistral-7b' choices=[ChatCompletionResponseStreamChoice(index=0, delta=DeltaMessage(role=None, content=' cow', tool_calls=None), finish_reason=None)] created=1712846800 object='chat.completion.chunk' usage=None\n",
      "id='4772ffd5bfe04fcca33a16e841c4eee9' model='open-mistral-7b' choices=[ChatCompletionResponseStreamChoice(index=0, delta=DeltaMessage(role=None, content=\"'\", tool_calls=None), finish_reason=None)] created=1712846800 object='chat.completion.chunk' usage=None\n",
      "id='4772ffd5bfe04fcca33a16e841c4eee9' model='open-mistral-7b' choices=[ChatCompletionResponseStreamChoice(index=0, delta=DeltaMessage(role=None, content='s', tool_calls=None), finish_reason=None)] created=1712846800 object='chat.completion.chunk' usage=None\n",
      "id='4772ffd5bfe04fcca33a16e841c4eee9' model='open-mistral-7b' choices=[ChatCompletionResponseStreamChoice(index=0, delta=DeltaMessage(role=None, content=' milk', tool_calls=None), finish_reason=None)] created=1712846800 object='chat.completion.chunk' usage=None\n",
      "id='4772ffd5bfe04fcca33a16e841c4eee9' model='open-mistral-7b' choices=[ChatCompletionResponseStreamChoice(index=0, delta=DeltaMessage(role=None, content=' cheese', tool_calls=None), finish_reason=None)] created=1712846800 object='chat.completion.chunk' usage=None\n",
      "id='4772ffd5bfe04fcca33a16e841c4eee9' model='open-mistral-7b' choices=[ChatCompletionResponseStreamChoice(index=0, delta=DeltaMessage(role=None, content=' origin', tool_calls=None), finish_reason=None)] created=1712846800 object='chat.completion.chunk' usage=None\n",
      "id='4772ffd5bfe04fcca33a16e841c4eee9' model='open-mistral-7b' choices=[ChatCompletionResponseStreamChoice(index=0, delta=DeltaMessage(role=None, content='ating', tool_calls=None), finish_reason=None)] created=1712846800 object='chat.completion.chunk' usage=None\n",
      "id='4772ffd5bfe04fcca33a16e841c4eee9' model='open-mistral-7b' choices=[ChatCompletionResponseStreamChoice(index=0, delta=DeltaMessage(role=None, content=' from', tool_calls=None), finish_reason=None)] created=1712846800 object='chat.completion.chunk' usage=None\n",
      "id='4772ffd5bfe04fcca33a16e841c4eee9' model='open-mistral-7b' choices=[ChatCompletionResponseStreamChoice(index=0, delta=DeltaMessage(role=None, content=' Som', tool_calls=None), finish_reason=None)] created=1712846800 object='chat.completion.chunk' usage=None\n",
      "id='4772ffd5bfe04fcca33a16e841c4eee9' model='open-mistral-7b' choices=[ChatCompletionResponseStreamChoice(index=0, delta=DeltaMessage(role=None, content='erset', tool_calls=None), finish_reason=None)] created=1712846800 object='chat.completion.chunk' usage=None\n",
      "id='4772ffd5bfe04fcca33a16e841c4eee9' model='open-mistral-7b' choices=[ChatCompletionResponseStreamChoice(index=0, delta=DeltaMessage(role=None, content=',', tool_calls=None), finish_reason=None)] created=1712846800 object='chat.completion.chunk' usage=None\n",
      "id='4772ffd5bfe04fcca33a16e841c4eee9' model='open-mistral-7b' choices=[ChatCompletionResponseStreamChoice(index=0, delta=DeltaMessage(role=None, content=' England', tool_calls=None), finish_reason=None)] created=1712846800 object='chat.completion.chunk' usage=None\n",
      "id='4772ffd5bfe04fcca33a16e841c4eee9' model='open-mistral-7b' choices=[ChatCompletionResponseStreamChoice(index=0, delta=DeltaMessage(role=None, content='.', tool_calls=None), finish_reason=None)] created=1712846800 object='chat.completion.chunk' usage=None\n",
      "id='4772ffd5bfe04fcca33a16e841c4eee9' model='open-mistral-7b' choices=[ChatCompletionResponseStreamChoice(index=0, delta=DeltaMessage(role=None, content=' It', tool_calls=None), finish_reason=None)] created=1712846800 object='chat.completion.chunk' usage=None\n",
      "id='4772ffd5bfe04fcca33a16e841c4eee9' model='open-mistral-7b' choices=[ChatCompletionResponseStreamChoice(index=0, delta=DeltaMessage(role=None, content=' can', tool_calls=None), finish_reason=None)] created=1712846800 object='chat.completion.chunk' usage=None\n",
      "id='4772ffd5bfe04fcca33a16e841c4eee9' model='open-mistral-7b' choices=[ChatCompletionResponseStreamChoice(index=0, delta=DeltaMessage(role=None, content=' range', tool_calls=None), finish_reason=None)] created=1712846800 object='chat.completion.chunk' usage=None\n",
      "id='4772ffd5bfe04fcca33a16e841c4eee9' model='open-mistral-7b' choices=[ChatCompletionResponseStreamChoice(index=0, delta=DeltaMessage(role=None, content=' from', tool_calls=None), finish_reason=None)] created=1712846800 object='chat.completion.chunk' usage=None\n",
      "id='4772ffd5bfe04fcca33a16e841c4eee9' model='open-mistral-7b' choices=[ChatCompletionResponseStreamChoice(index=0, delta=DeltaMessage(role=None, content=' mild', tool_calls=None), finish_reason=None)] created=1712846800 object='chat.completion.chunk' usage=None\n",
      "id='4772ffd5bfe04fcca33a16e841c4eee9' model='open-mistral-7b' choices=[ChatCompletionResponseStreamChoice(index=0, delta=DeltaMessage(role=None, content=' to', tool_calls=None), finish_reason=None)] created=1712846800 object='chat.completion.chunk' usage=None\n",
      "id='4772ffd5bfe04fcca33a16e841c4eee9' model='open-mistral-7b' choices=[ChatCompletionResponseStreamChoice(index=0, delta=DeltaMessage(role=None, content=' very', tool_calls=None), finish_reason=None)] created=1712846800 object='chat.completion.chunk' usage=None\n",
      "id='4772ffd5bfe04fcca33a16e841c4eee9' model='open-mistral-7b' choices=[ChatCompletionResponseStreamChoice(index=0, delta=DeltaMessage(role=None, content=' strong', tool_calls=None), finish_reason=None)] created=1712846800 object='chat.completion.chunk' usage=None\n",
      "id='4772ffd5bfe04fcca33a16e841c4eee9' model='open-mistral-7b' choices=[ChatCompletionResponseStreamChoice(index=0, delta=DeltaMessage(role=None, content=' in', tool_calls=None), finish_reason=None)] created=1712846800 object='chat.completion.chunk' usage=None\n",
      "id='4772ffd5bfe04fcca33a16e841c4eee9' model='open-mistral-7b' choices=[ChatCompletionResponseStreamChoice(index=0, delta=DeltaMessage(role=None, content=' flavor', tool_calls=None), finish_reason=None)] created=1712846800 object='chat.completion.chunk' usage=None\n",
      "id='4772ffd5bfe04fcca33a16e841c4eee9' model='open-mistral-7b' choices=[ChatCompletionResponseStreamChoice(index=0, delta=DeltaMessage(role=None, content=',', tool_calls=None), finish_reason=None)] created=1712846800 object='chat.completion.chunk' usage=None\n",
      "id='4772ffd5bfe04fcca33a16e841c4eee9' model='open-mistral-7b' choices=[ChatCompletionResponseStreamChoice(index=0, delta=DeltaMessage(role=None, content=' depending', tool_calls=None), finish_reason=None)] created=1712846800 object='chat.completion.chunk' usage=None\n",
      "id='4772ffd5bfe04fcca33a16e841c4eee9' model='open-mistral-7b' choices=[ChatCompletionResponseStreamChoice(index=0, delta=DeltaMessage(role=None, content=' on', tool_calls=None), finish_reason=None)] created=1712846800 object='chat.completion.chunk' usage=None\n",
      "id='4772ffd5bfe04fcca33a16e841c4eee9' model='open-mistral-7b' choices=[ChatCompletionResponseStreamChoice(index=0, delta=DeltaMessage(role=None, content=' its', tool_calls=None), finish_reason=None)] created=1712846800 object='chat.completion.chunk' usage=None\n",
      "id='4772ffd5bfe04fcca33a16e841c4eee9' model='open-mistral-7b' choices=[ChatCompletionResponseStreamChoice(index=0, delta=DeltaMessage(role=None, content=' age', tool_calls=None), finish_reason=None)] created=1712846800 object='chat.completion.chunk' usage=None\n",
      "id='4772ffd5bfe04fcca33a16e841c4eee9' model='open-mistral-7b' choices=[ChatCompletionResponseStreamChoice(index=0, delta=DeltaMessage(role=None, content='.', tool_calls=None), finish_reason=None)] created=1712846800 object='chat.completion.chunk' usage=None\n",
      "id='4772ffd5bfe04fcca33a16e841c4eee9' model='open-mistral-7b' choices=[ChatCompletionResponseStreamChoice(index=0, delta=DeltaMessage(role=None, content='\\n2', tool_calls=None), finish_reason=None)] created=1712846800 object='chat.completion.chunk' usage=None\n",
      "id='4772ffd5bfe04fcca33a16e841c4eee9' model='open-mistral-7b' choices=[ChatCompletionResponseStreamChoice(index=0, delta=DeltaMessage(role=None, content='.', tool_calls=None), finish_reason=None)] created=1712846800 object='chat.completion.chunk' usage=None\n",
      "id='4772ffd5bfe04fcca33a16e841c4eee9' model='open-mistral-7b' choices=[ChatCompletionResponseStreamChoice(index=0, delta=DeltaMessage(role=None, content=' St', tool_calls=None), finish_reason=None)] created=1712846800 object='chat.completion.chunk' usage=None\n",
      "id='4772ffd5bfe04fcca33a16e841c4eee9' model='open-mistral-7b' choices=[ChatCompletionResponseStreamChoice(index=0, delta=DeltaMessage(role=None, content='ilton', tool_calls=None), finish_reason=None)] created=1712846800 object='chat.completion.chunk' usage=None\n",
      "id='4772ffd5bfe04fcca33a16e841c4eee9' model='open-mistral-7b' choices=[ChatCompletionResponseStreamChoice(index=0, delta=DeltaMessage(role=None, content=':', tool_calls=None), finish_reason=None)] created=1712846800 object='chat.completion.chunk' usage=None\n",
      "id='4772ffd5bfe04fcca33a16e841c4eee9' model='open-mistral-7b' choices=[ChatCompletionResponseStreamChoice(index=0, delta=DeltaMessage(role=None, content=' A', tool_calls=None), finish_reason=None)] created=1712846800 object='chat.completion.chunk' usage=None\n",
      "id='4772ffd5bfe04fcca33a16e841c4eee9' model='open-mistral-7b' choices=[ChatCompletionResponseStreamChoice(index=0, delta=DeltaMessage(role=None, content=' blue', tool_calls=None), finish_reason=None)] created=1712846800 object='chat.completion.chunk' usage=None\n",
      "id='4772ffd5bfe04fcca33a16e841c4eee9' model='open-mistral-7b' choices=[ChatCompletionResponseStreamChoice(index=0, delta=DeltaMessage(role=None, content='-', tool_calls=None), finish_reason=None)] created=1712846800 object='chat.completion.chunk' usage=None\n",
      "id='4772ffd5bfe04fcca33a16e841c4eee9' model='open-mistral-7b' choices=[ChatCompletionResponseStreamChoice(index=0, delta=DeltaMessage(role=None, content='ve', tool_calls=None), finish_reason=None)] created=1712846800 object='chat.completion.chunk' usage=None\n",
      "id='4772ffd5bfe04fcca33a16e841c4eee9' model='open-mistral-7b' choices=[ChatCompletionResponseStreamChoice(index=0, delta=DeltaMessage(role=None, content='ined', tool_calls=None), finish_reason=None)] created=1712846800 object='chat.completion.chunk' usage=None\n",
      "id='4772ffd5bfe04fcca33a16e841c4eee9' model='open-mistral-7b' choices=[ChatCompletionResponseStreamChoice(index=0, delta=DeltaMessage(role=None, content=' cheese', tool_calls=None), finish_reason=None)] created=1712846800 object='chat.completion.chunk' usage=None\n",
      "id='4772ffd5bfe04fcca33a16e841c4eee9' model='open-mistral-7b' choices=[ChatCompletionResponseStreamChoice(index=0, delta=DeltaMessage(role=None, content=' made', tool_calls=None), finish_reason=None)] created=1712846800 object='chat.completion.chunk' usage=None\n",
      "id='4772ffd5bfe04fcca33a16e841c4eee9' model='open-mistral-7b' choices=[ChatCompletionResponseStreamChoice(index=0, delta=DeltaMessage(role=None, content=' from', tool_calls=None), finish_reason=None)] created=1712846800 object='chat.completion.chunk' usage=None\n",
      "id='4772ffd5bfe04fcca33a16e841c4eee9' model='open-mistral-7b' choices=[ChatCompletionResponseStreamChoice(index=0, delta=DeltaMessage(role=None, content=' cow', tool_calls=None), finish_reason=None)] created=1712846800 object='chat.completion.chunk' usage=None\n",
      "id='4772ffd5bfe04fcca33a16e841c4eee9' model='open-mistral-7b' choices=[ChatCompletionResponseStreamChoice(index=0, delta=DeltaMessage(role=None, content=\"'\", tool_calls=None), finish_reason=None)] created=1712846800 object='chat.completion.chunk' usage=None\n",
      "id='4772ffd5bfe04fcca33a16e841c4eee9' model='open-mistral-7b' choices=[ChatCompletionResponseStreamChoice(index=0, delta=DeltaMessage(role=None, content='s', tool_calls=None), finish_reason=None)] created=1712846800 object='chat.completion.chunk' usage=None\n",
      "id='4772ffd5bfe04fcca33a16e841c4eee9' model='open-mistral-7b' choices=[ChatCompletionResponseStreamChoice(index=0, delta=DeltaMessage(role=None, content=' milk', tool_calls=None), finish_reason=None)] created=1712846800 object='chat.completion.chunk' usage=None\n",
      "id='4772ffd5bfe04fcca33a16e841c4eee9' model='open-mistral-7b' choices=[ChatCompletionResponseStreamChoice(index=0, delta=DeltaMessage(role=None, content=',', tool_calls=None), finish_reason=None)] created=1712846800 object='chat.completion.chunk' usage=None\n",
      "id='4772ffd5bfe04fcca33a16e841c4eee9' model='open-mistral-7b' choices=[ChatCompletionResponseStreamChoice(index=0, delta=DeltaMessage(role=None, content=' origin', tool_calls=None), finish_reason=None)] created=1712846800 object='chat.completion.chunk' usage=None\n",
      "id='4772ffd5bfe04fcca33a16e841c4eee9' model='open-mistral-7b' choices=[ChatCompletionResponseStreamChoice(index=0, delta=DeltaMessage(role=None, content='ating', tool_calls=None), finish_reason=None)] created=1712846800 object='chat.completion.chunk' usage=None\n",
      "id='4772ffd5bfe04fcca33a16e841c4eee9' model='open-mistral-7b' choices=[ChatCompletionResponseStreamChoice(index=0, delta=DeltaMessage(role=None, content=' from', tool_calls=None), finish_reason=None)] created=1712846800 object='chat.completion.chunk' usage=None\n",
      "id='4772ffd5bfe04fcca33a16e841c4eee9' model='open-mistral-7b' choices=[ChatCompletionResponseStreamChoice(index=0, delta=DeltaMessage(role=None, content=' the', tool_calls=None), finish_reason=None)] created=1712846800 object='chat.completion.chunk' usage=None\n",
      "id='4772ffd5bfe04fcca33a16e841c4eee9' model='open-mistral-7b' choices=[ChatCompletionResponseStreamChoice(index=0, delta=DeltaMessage(role=None, content=' county', tool_calls=None), finish_reason=None)] created=1712846800 object='chat.completion.chunk' usage=None\n",
      "id='4772ffd5bfe04fcca33a16e841c4eee9' model='open-mistral-7b' choices=[ChatCompletionResponseStreamChoice(index=0, delta=DeltaMessage(role=None, content=' of', tool_calls=None), finish_reason=None)] created=1712846800 object='chat.completion.chunk' usage=None\n",
      "id='4772ffd5bfe04fcca33a16e841c4eee9' model='open-mistral-7b' choices=[ChatCompletionResponseStreamChoice(index=0, delta=DeltaMessage(role=None, content=' Not', tool_calls=None), finish_reason=None)] created=1712846800 object='chat.completion.chunk' usage=None\n",
      "id='4772ffd5bfe04fcca33a16e841c4eee9' model='open-mistral-7b' choices=[ChatCompletionResponseStreamChoice(index=0, delta=DeltaMessage(role=None, content='ting', tool_calls=None), finish_reason=None)] created=1712846800 object='chat.completion.chunk' usage=None\n",
      "id='4772ffd5bfe04fcca33a16e841c4eee9' model='open-mistral-7b' choices=[ChatCompletionResponseStreamChoice(index=0, delta=DeltaMessage(role=None, content='ham', tool_calls=None), finish_reason=None)] created=1712846800 object='chat.completion.chunk' usage=None\n",
      "id='4772ffd5bfe04fcca33a16e841c4eee9' model='open-mistral-7b' choices=[ChatCompletionResponseStreamChoice(index=0, delta=DeltaMessage(role=None, content='shire', tool_calls=None), finish_reason=None)] created=1712846800 object='chat.completion.chunk' usage=None\n",
      "id='4772ffd5bfe04fcca33a16e841c4eee9' model='open-mistral-7b' choices=[ChatCompletionResponseStreamChoice(index=0, delta=DeltaMessage(role=None, content='.', tool_calls=None), finish_reason=None)] created=1712846800 object='chat.completion.chunk' usage=None\n",
      "id='4772ffd5bfe04fcca33a16e841c4eee9' model='open-mistral-7b' choices=[ChatCompletionResponseStreamChoice(index=0, delta=DeltaMessage(role=None, content=' It', tool_calls=None), finish_reason=None)] created=1712846800 object='chat.completion.chunk' usage=None\n",
      "id='4772ffd5bfe04fcca33a16e841c4eee9' model='open-mistral-7b' choices=[ChatCompletionResponseStreamChoice(index=0, delta=DeltaMessage(role=None, content=' has', tool_calls=None), finish_reason=None)] created=1712846800 object='chat.completion.chunk' usage=None\n",
      "id='4772ffd5bfe04fcca33a16e841c4eee9' model='open-mistral-7b' choices=[ChatCompletionResponseStreamChoice(index=0, delta=DeltaMessage(role=None, content=' a', tool_calls=None), finish_reason=None)] created=1712846800 object='chat.completion.chunk' usage=None\n",
      "id='4772ffd5bfe04fcca33a16e841c4eee9' model='open-mistral-7b' choices=[ChatCompletionResponseStreamChoice(index=0, delta=DeltaMessage(role=None, content=' distinctive', tool_calls=None), finish_reason=None)] created=1712846800 object='chat.completion.chunk' usage=None\n",
      "id='4772ffd5bfe04fcca33a16e841c4eee9' model='open-mistral-7b' choices=[ChatCompletionResponseStreamChoice(index=0, delta=DeltaMessage(role=None, content=' sharp', tool_calls=None), finish_reason=None)] created=1712846800 object='chat.completion.chunk' usage=None\n",
      "id='4772ffd5bfe04fcca33a16e841c4eee9' model='open-mistral-7b' choices=[ChatCompletionResponseStreamChoice(index=0, delta=DeltaMessage(role=None, content=',', tool_calls=None), finish_reason=None)] created=1712846800 object='chat.completion.chunk' usage=None\n",
      "id='4772ffd5bfe04fcca33a16e841c4eee9' model='open-mistral-7b' choices=[ChatCompletionResponseStreamChoice(index=0, delta=DeltaMessage(role=None, content=' p', tool_calls=None), finish_reason=None)] created=1712846800 object='chat.completion.chunk' usage=None\n",
      "id='4772ffd5bfe04fcca33a16e841c4eee9' model='open-mistral-7b' choices=[ChatCompletionResponseStreamChoice(index=0, delta=DeltaMessage(role=None, content='ung', tool_calls=None), finish_reason=None)] created=1712846800 object='chat.completion.chunk' usage=None\n",
      "id='4772ffd5bfe04fcca33a16e841c4eee9' model='open-mistral-7b' choices=[ChatCompletionResponseStreamChoice(index=0, delta=DeltaMessage(role=None, content='ent', tool_calls=None), finish_reason=None)] created=1712846800 object='chat.completion.chunk' usage=None\n",
      "id='4772ffd5bfe04fcca33a16e841c4eee9' model='open-mistral-7b' choices=[ChatCompletionResponseStreamChoice(index=0, delta=DeltaMessage(role=None, content=' flavor', tool_calls=None), finish_reason=None)] created=1712846800 object='chat.completion.chunk' usage=None\n",
      "id='4772ffd5bfe04fcca33a16e841c4eee9' model='open-mistral-7b' choices=[ChatCompletionResponseStreamChoice(index=0, delta=DeltaMessage(role=None, content=' and', tool_calls=None), finish_reason=None)] created=1712846800 object='chat.completion.chunk' usage=None\n",
      "id='4772ffd5bfe04fcca33a16e841c4eee9' model='open-mistral-7b' choices=[ChatCompletionResponseStreamChoice(index=0, delta=DeltaMessage(role=None, content=' cream', tool_calls=None), finish_reason=None)] created=1712846800 object='chat.completion.chunk' usage=None\n",
      "id='4772ffd5bfe04fcca33a16e841c4eee9' model='open-mistral-7b' choices=[ChatCompletionResponseStreamChoice(index=0, delta=DeltaMessage(role=None, content='y', tool_calls=None), finish_reason=None)] created=1712846800 object='chat.completion.chunk' usage=None\n",
      "id='4772ffd5bfe04fcca33a16e841c4eee9' model='open-mistral-7b' choices=[ChatCompletionResponseStreamChoice(index=0, delta=DeltaMessage(role=None, content=' texture', tool_calls=None), finish_reason=None)] created=1712846800 object='chat.completion.chunk' usage=None\n",
      "id='4772ffd5bfe04fcca33a16e841c4eee9' model='open-mistral-7b' choices=[ChatCompletionResponseStreamChoice(index=0, delta=DeltaMessage(role=None, content='.', tool_calls=None), finish_reason=None)] created=1712846800 object='chat.completion.chunk' usage=None\n",
      "id='4772ffd5bfe04fcca33a16e841c4eee9' model='open-mistral-7b' choices=[ChatCompletionResponseStreamChoice(index=0, delta=DeltaMessage(role=None, content='\\n3', tool_calls=None), finish_reason=None)] created=1712846800 object='chat.completion.chunk' usage=None\n",
      "id='4772ffd5bfe04fcca33a16e841c4eee9' model='open-mistral-7b' choices=[ChatCompletionResponseStreamChoice(index=0, delta=DeltaMessage(role=None, content='.', tool_calls=None), finish_reason=None)] created=1712846800 object='chat.completion.chunk' usage=None\n",
      "id='4772ffd5bfe04fcca33a16e841c4eee9' model='open-mistral-7b' choices=[ChatCompletionResponseStreamChoice(index=0, delta=DeltaMessage(role=None, content=' Che', tool_calls=None), finish_reason=None)] created=1712846800 object='chat.completion.chunk' usage=None\n",
      "id='4772ffd5bfe04fcca33a16e841c4eee9' model='open-mistral-7b' choices=[ChatCompletionResponseStreamChoice(index=0, delta=DeltaMessage(role=None, content='shire', tool_calls=None), finish_reason=None)] created=1712846800 object='chat.completion.chunk' usage=None\n",
      "id='4772ffd5bfe04fcca33a16e841c4eee9' model='open-mistral-7b' choices=[ChatCompletionResponseStreamChoice(index=0, delta=DeltaMessage(role=None, content=':', tool_calls=None), finish_reason=None)] created=1712846800 object='chat.completion.chunk' usage=None\n",
      "id='4772ffd5bfe04fcca33a16e841c4eee9' model='open-mistral-7b' choices=[ChatCompletionResponseStreamChoice(index=0, delta=DeltaMessage(role=None, content=' A', tool_calls=None), finish_reason=None)] created=1712846800 object='chat.completion.chunk' usage=None\n",
      "id='4772ffd5bfe04fcca33a16e841c4eee9' model='open-mistral-7b' choices=[ChatCompletionResponseStreamChoice(index=0, delta=DeltaMessage(role=None, content=' semi', tool_calls=None), finish_reason=None)] created=1712846800 object='chat.completion.chunk' usage=None\n",
      "id='4772ffd5bfe04fcca33a16e841c4eee9' model='open-mistral-7b' choices=[ChatCompletionResponseStreamChoice(index=0, delta=DeltaMessage(role=None, content='-', tool_calls=None), finish_reason=None)] created=1712846800 object='chat.completion.chunk' usage=None\n",
      "id='4772ffd5bfe04fcca33a16e841c4eee9' model='open-mistral-7b' choices=[ChatCompletionResponseStreamChoice(index=0, delta=DeltaMessage(role=None, content='soft', tool_calls=None), finish_reason=None)] created=1712846800 object='chat.completion.chunk' usage=None\n",
      "id='4772ffd5bfe04fcca33a16e841c4eee9' model='open-mistral-7b' choices=[ChatCompletionResponseStreamChoice(index=0, delta=DeltaMessage(role=None, content=',', tool_calls=None), finish_reason=None)] created=1712846800 object='chat.completion.chunk' usage=None\n",
      "id='4772ffd5bfe04fcca33a16e841c4eee9' model='open-mistral-7b' choices=[ChatCompletionResponseStreamChoice(index=0, delta=DeltaMessage(role=None, content=' cow', tool_calls=None), finish_reason=None)] created=1712846800 object='chat.completion.chunk' usage=None\n",
      "id='4772ffd5bfe04fcca33a16e841c4eee9' model='open-mistral-7b' choices=[ChatCompletionResponseStreamChoice(index=0, delta=DeltaMessage(role=None, content=\"'\", tool_calls=None), finish_reason=None)] created=1712846800 object='chat.completion.chunk' usage=None\n",
      "id='4772ffd5bfe04fcca33a16e841c4eee9' model='open-mistral-7b' choices=[ChatCompletionResponseStreamChoice(index=0, delta=DeltaMessage(role=None, content='s', tool_calls=None), finish_reason=None)] created=1712846800 object='chat.completion.chunk' usage=None\n",
      "id='4772ffd5bfe04fcca33a16e841c4eee9' model='open-mistral-7b' choices=[ChatCompletionResponseStreamChoice(index=0, delta=DeltaMessage(role=None, content=' milk', tool_calls=None), finish_reason=None)] created=1712846800 object='chat.completion.chunk' usage=None\n",
      "id='4772ffd5bfe04fcca33a16e841c4eee9' model='open-mistral-7b' choices=[ChatCompletionResponseStreamChoice(index=0, delta=DeltaMessage(role=None, content=' cheese', tool_calls=None), finish_reason=None)] created=1712846800 object='chat.completion.chunk' usage=None\n",
      "id='4772ffd5bfe04fcca33a16e841c4eee9' model='open-mistral-7b' choices=[ChatCompletionResponseStreamChoice(index=0, delta=DeltaMessage(role=None, content=' with', tool_calls=None), finish_reason=None)] created=1712846800 object='chat.completion.chunk' usage=None\n",
      "id='4772ffd5bfe04fcca33a16e841c4eee9' model='open-mistral-7b' choices=[ChatCompletionResponseStreamChoice(index=0, delta=DeltaMessage(role=None, content=' a', tool_calls=None), finish_reason=None)] created=1712846800 object='chat.completion.chunk' usage=None\n",
      "id='4772ffd5bfe04fcca33a16e841c4eee9' model='open-mistral-7b' choices=[ChatCompletionResponseStreamChoice(index=0, delta=DeltaMessage(role=None, content=' mild', tool_calls=None), finish_reason=None)] created=1712846800 object='chat.completion.chunk' usage=None\n",
      "id='4772ffd5bfe04fcca33a16e841c4eee9' model='open-mistral-7b' choices=[ChatCompletionResponseStreamChoice(index=0, delta=DeltaMessage(role=None, content=',', tool_calls=None), finish_reason=None)] created=1712846800 object='chat.completion.chunk' usage=None\n",
      "id='4772ffd5bfe04fcca33a16e841c4eee9' model='open-mistral-7b' choices=[ChatCompletionResponseStreamChoice(index=0, delta=DeltaMessage(role=None, content=' slightly', tool_calls=None), finish_reason=None)] created=1712846800 object='chat.completion.chunk' usage=None\n",
      "id='4772ffd5bfe04fcca33a16e841c4eee9' model='open-mistral-7b' choices=[ChatCompletionResponseStreamChoice(index=0, delta=DeltaMessage(role=None, content=' tang', tool_calls=None), finish_reason=None)] created=1712846800 object='chat.completion.chunk' usage=None\n",
      "id='4772ffd5bfe04fcca33a16e841c4eee9' model='open-mistral-7b' choices=[ChatCompletionResponseStreamChoice(index=0, delta=DeltaMessage(role=None, content='y', tool_calls=None), finish_reason=None)] created=1712846800 object='chat.completion.chunk' usage=None\n",
      "id='4772ffd5bfe04fcca33a16e841c4eee9' model='open-mistral-7b' choices=[ChatCompletionResponseStreamChoice(index=0, delta=DeltaMessage(role=None, content=' flavor', tool_calls=None), finish_reason=None)] created=1712846800 object='chat.completion.chunk' usage=None\n",
      "id='4772ffd5bfe04fcca33a16e841c4eee9' model='open-mistral-7b' choices=[ChatCompletionResponseStreamChoice(index=0, delta=DeltaMessage(role=None, content=' and', tool_calls=None), finish_reason=None)] created=1712846800 object='chat.completion.chunk' usage=None\n",
      "id='4772ffd5bfe04fcca33a16e841c4eee9' model='open-mistral-7b' choices=[ChatCompletionResponseStreamChoice(index=0, delta=DeltaMessage(role=None, content=' a', tool_calls=None), finish_reason=None)] created=1712846800 object='chat.completion.chunk' usage=None\n",
      "id='4772ffd5bfe04fcca33a16e841c4eee9' model='open-mistral-7b' choices=[ChatCompletionResponseStreamChoice(index=0, delta=DeltaMessage(role=None, content=' cr', tool_calls=None), finish_reason=None)] created=1712846800 object='chat.completion.chunk' usage=None\n",
      "id='4772ffd5bfe04fcca33a16e841c4eee9' model='open-mistral-7b' choices=[ChatCompletionResponseStreamChoice(index=0, delta=DeltaMessage(role=None, content='umb', tool_calls=None), finish_reason=None)] created=1712846800 object='chat.completion.chunk' usage=None\n",
      "id='4772ffd5bfe04fcca33a16e841c4eee9' model='open-mistral-7b' choices=[ChatCompletionResponseStreamChoice(index=0, delta=DeltaMessage(role=None, content='ly', tool_calls=None), finish_reason=None)] created=1712846800 object='chat.completion.chunk' usage=None\n",
      "id='4772ffd5bfe04fcca33a16e841c4eee9' model='open-mistral-7b' choices=[ChatCompletionResponseStreamChoice(index=0, delta=DeltaMessage(role=None, content=' texture', tool_calls=None), finish_reason=None)] created=1712846800 object='chat.completion.chunk' usage=None\n",
      "id='4772ffd5bfe04fcca33a16e841c4eee9' model='open-mistral-7b' choices=[ChatCompletionResponseStreamChoice(index=0, delta=DeltaMessage(role=None, content='.', tool_calls=None), finish_reason=None)] created=1712846800 object='chat.completion.chunk' usage=None\n",
      "id='4772ffd5bfe04fcca33a16e841c4eee9' model='open-mistral-7b' choices=[ChatCompletionResponseStreamChoice(index=0, delta=DeltaMessage(role=None, content='\\n4', tool_calls=None), finish_reason=None)] created=1712846800 object='chat.completion.chunk' usage=None\n",
      "id='4772ffd5bfe04fcca33a16e841c4eee9' model='open-mistral-7b' choices=[ChatCompletionResponseStreamChoice(index=0, delta=DeltaMessage(role=None, content='.', tool_calls=None), finish_reason=None)] created=1712846800 object='chat.completion.chunk' usage=None\n",
      "id='4772ffd5bfe04fcca33a16e841c4eee9' model='open-mistral-7b' choices=[ChatCompletionResponseStreamChoice(index=0, delta=DeltaMessage(role=None, content=' W', tool_calls=None), finish_reason=None)] created=1712846800 object='chat.completion.chunk' usage=None\n",
      "id='4772ffd5bfe04fcca33a16e841c4eee9' model='open-mistral-7b' choices=[ChatCompletionResponseStreamChoice(index=0, delta=DeltaMessage(role=None, content='ens', tool_calls=None), finish_reason=None)] created=1712846800 object='chat.completion.chunk' usage=None\n",
      "id='4772ffd5bfe04fcca33a16e841c4eee9' model='open-mistral-7b' choices=[ChatCompletionResponseStreamChoice(index=0, delta=DeltaMessage(role=None, content='ley', tool_calls=None), finish_reason=None)] created=1712846800 object='chat.completion.chunk' usage=None\n",
      "id='4772ffd5bfe04fcca33a16e841c4eee9' model='open-mistral-7b' choices=[ChatCompletionResponseStreamChoice(index=0, delta=DeltaMessage(role=None, content='dale', tool_calls=None), finish_reason=None)] created=1712846800 object='chat.completion.chunk' usage=None\n",
      "id='4772ffd5bfe04fcca33a16e841c4eee9' model='open-mistral-7b' choices=[ChatCompletionResponseStreamChoice(index=0, delta=DeltaMessage(role=None, content=':', tool_calls=None), finish_reason=None)] created=1712846800 object='chat.completion.chunk' usage=None\n",
      "id='4772ffd5bfe04fcca33a16e841c4eee9' model='open-mistral-7b' choices=[ChatCompletionResponseStreamChoice(index=0, delta=DeltaMessage(role=None, content=' A', tool_calls=None), finish_reason=None)] created=1712846800 object='chat.completion.chunk' usage=None\n",
      "id='4772ffd5bfe04fcca33a16e841c4eee9' model='open-mistral-7b' choices=[ChatCompletionResponseStreamChoice(index=0, delta=DeltaMessage(role=None, content=' soft', tool_calls=None), finish_reason=None)] created=1712846800 object='chat.completion.chunk' usage=None\n",
      "id='4772ffd5bfe04fcca33a16e841c4eee9' model='open-mistral-7b' choices=[ChatCompletionResponseStreamChoice(index=0, delta=DeltaMessage(role=None, content=',', tool_calls=None), finish_reason=None)] created=1712846800 object='chat.completion.chunk' usage=None\n",
      "id='4772ffd5bfe04fcca33a16e841c4eee9' model='open-mistral-7b' choices=[ChatCompletionResponseStreamChoice(index=0, delta=DeltaMessage(role=None, content=' cow', tool_calls=None), finish_reason=None)] created=1712846800 object='chat.completion.chunk' usage=None\n",
      "id='4772ffd5bfe04fcca33a16e841c4eee9' model='open-mistral-7b' choices=[ChatCompletionResponseStreamChoice(index=0, delta=DeltaMessage(role=None, content=\"'\", tool_calls=None), finish_reason=None)] created=1712846800 object='chat.completion.chunk' usage=None\n",
      "id='4772ffd5bfe04fcca33a16e841c4eee9' model='open-mistral-7b' choices=[ChatCompletionResponseStreamChoice(index=0, delta=DeltaMessage(role=None, content='s', tool_calls=None), finish_reason=None)] created=1712846800 object='chat.completion.chunk' usage=None\n",
      "id='4772ffd5bfe04fcca33a16e841c4eee9' model='open-mistral-7b' choices=[ChatCompletionResponseStreamChoice(index=0, delta=DeltaMessage(role=None, content=' milk', tool_calls=None), finish_reason=None)] created=1712846800 object='chat.completion.chunk' usage=None\n",
      "id='4772ffd5bfe04fcca33a16e841c4eee9' model='open-mistral-7b' choices=[ChatCompletionResponseStreamChoice(index=0, delta=DeltaMessage(role=None, content=' cheese', tool_calls=None), finish_reason=None)] created=1712846800 object='chat.completion.chunk' usage=None\n",
      "id='4772ffd5bfe04fcca33a16e841c4eee9' model='open-mistral-7b' choices=[ChatCompletionResponseStreamChoice(index=0, delta=DeltaMessage(role=None, content=' from', tool_calls=None), finish_reason=None)] created=1712846800 object='chat.completion.chunk' usage=None\n",
      "id='4772ffd5bfe04fcca33a16e841c4eee9' model='open-mistral-7b' choices=[ChatCompletionResponseStreamChoice(index=0, delta=DeltaMessage(role=None, content=' the', tool_calls=None), finish_reason=None)] created=1712846800 object='chat.completion.chunk' usage=None\n",
      "id='4772ffd5bfe04fcca33a16e841c4eee9' model='open-mistral-7b' choices=[ChatCompletionResponseStreamChoice(index=0, delta=DeltaMessage(role=None, content=' York', tool_calls=None), finish_reason=None)] created=1712846800 object='chat.completion.chunk' usage=None\n",
      "id='4772ffd5bfe04fcca33a16e841c4eee9' model='open-mistral-7b' choices=[ChatCompletionResponseStreamChoice(index=0, delta=DeltaMessage(role=None, content='shire', tool_calls=None), finish_reason=None)] created=1712846800 object='chat.completion.chunk' usage=None\n",
      "id='4772ffd5bfe04fcca33a16e841c4eee9' model='open-mistral-7b' choices=[ChatCompletionResponseStreamChoice(index=0, delta=DeltaMessage(role=None, content=' D', tool_calls=None), finish_reason=None)] created=1712846800 object='chat.completion.chunk' usage=None\n",
      "id='4772ffd5bfe04fcca33a16e841c4eee9' model='open-mistral-7b' choices=[ChatCompletionResponseStreamChoice(index=0, delta=DeltaMessage(role=None, content='ales', tool_calls=None), finish_reason=None)] created=1712846800 object='chat.completion.chunk' usage=None\n",
      "id='4772ffd5bfe04fcca33a16e841c4eee9' model='open-mistral-7b' choices=[ChatCompletionResponseStreamChoice(index=0, delta=DeltaMessage(role=None, content=' that', tool_calls=None), finish_reason=None)] created=1712846800 object='chat.completion.chunk' usage=None\n",
      "id='4772ffd5bfe04fcca33a16e841c4eee9' model='open-mistral-7b' choices=[ChatCompletionResponseStreamChoice(index=0, delta=DeltaMessage(role=None, content=' has', tool_calls=None), finish_reason=None)] created=1712846800 object='chat.completion.chunk' usage=None\n",
      "id='4772ffd5bfe04fcca33a16e841c4eee9' model='open-mistral-7b' choices=[ChatCompletionResponseStreamChoice(index=0, delta=DeltaMessage(role=None, content=' a', tool_calls=None), finish_reason=None)] created=1712846800 object='chat.completion.chunk' usage=None\n",
      "id='4772ffd5bfe04fcca33a16e841c4eee9' model='open-mistral-7b' choices=[ChatCompletionResponseStreamChoice(index=0, delta=DeltaMessage(role=None, content=' sweet', tool_calls=None), finish_reason=None)] created=1712846800 object='chat.completion.chunk' usage=None\n",
      "id='4772ffd5bfe04fcca33a16e841c4eee9' model='open-mistral-7b' choices=[ChatCompletionResponseStreamChoice(index=0, delta=DeltaMessage(role=None, content=',', tool_calls=None), finish_reason=None)] created=1712846800 object='chat.completion.chunk' usage=None\n",
      "id='4772ffd5bfe04fcca33a16e841c4eee9' model='open-mistral-7b' choices=[ChatCompletionResponseStreamChoice(index=0, delta=DeltaMessage(role=None, content=' mild', tool_calls=None), finish_reason=None)] created=1712846800 object='chat.completion.chunk' usage=None\n",
      "id='4772ffd5bfe04fcca33a16e841c4eee9' model='open-mistral-7b' choices=[ChatCompletionResponseStreamChoice(index=0, delta=DeltaMessage(role=None, content=' flavor', tool_calls=None), finish_reason=None)] created=1712846800 object='chat.completion.chunk' usage=None\n",
      "id='4772ffd5bfe04fcca33a16e841c4eee9' model='open-mistral-7b' choices=[ChatCompletionResponseStreamChoice(index=0, delta=DeltaMessage(role=None, content=' and', tool_calls=None), finish_reason=None)] created=1712846800 object='chat.completion.chunk' usage=None\n",
      "id='4772ffd5bfe04fcca33a16e841c4eee9' model='open-mistral-7b' choices=[ChatCompletionResponseStreamChoice(index=0, delta=DeltaMessage(role=None, content=' a', tool_calls=None), finish_reason=None)] created=1712846800 object='chat.completion.chunk' usage=None\n",
      "id='4772ffd5bfe04fcca33a16e841c4eee9' model='open-mistral-7b' choices=[ChatCompletionResponseStreamChoice(index=0, delta=DeltaMessage(role=None, content=' cream', tool_calls=None), finish_reason=None)] created=1712846800 object='chat.completion.chunk' usage=None\n",
      "id='4772ffd5bfe04fcca33a16e841c4eee9' model='open-mistral-7b' choices=[ChatCompletionResponseStreamChoice(index=0, delta=DeltaMessage(role=None, content='y', tool_calls=None), finish_reason=None)] created=1712846800 object='chat.completion.chunk' usage=None\n",
      "id='4772ffd5bfe04fcca33a16e841c4eee9' model='open-mistral-7b' choices=[ChatCompletionResponseStreamChoice(index=0, delta=DeltaMessage(role=None, content=' texture', tool_calls=None), finish_reason=None)] created=1712846800 object='chat.completion.chunk' usage=None\n",
      "id='4772ffd5bfe04fcca33a16e841c4eee9' model='open-mistral-7b' choices=[ChatCompletionResponseStreamChoice(index=0, delta=DeltaMessage(role=None, content='.', tool_calls=None), finish_reason=None)] created=1712846800 object='chat.completion.chunk' usage=None\n",
      "id='4772ffd5bfe04fcca33a16e841c4eee9' model='open-mistral-7b' choices=[ChatCompletionResponseStreamChoice(index=0, delta=DeltaMessage(role=None, content='\\n5', tool_calls=None), finish_reason=None)] created=1712846800 object='chat.completion.chunk' usage=None\n",
      "id='4772ffd5bfe04fcca33a16e841c4eee9' model='open-mistral-7b' choices=[ChatCompletionResponseStreamChoice(index=0, delta=DeltaMessage(role=None, content='.', tool_calls=None), finish_reason=None)] created=1712846800 object='chat.completion.chunk' usage=None\n",
      "id='4772ffd5bfe04fcca33a16e841c4eee9' model='open-mistral-7b' choices=[ChatCompletionResponseStreamChoice(index=0, delta=DeltaMessage(role=None, content=' Lanc', tool_calls=None), finish_reason=None)] created=1712846800 object='chat.completion.chunk' usage=None\n",
      "id='4772ffd5bfe04fcca33a16e841c4eee9' model='open-mistral-7b' choices=[ChatCompletionResponseStreamChoice(index=0, delta=DeltaMessage(role=None, content='ash', tool_calls=None), finish_reason=None)] created=1712846800 object='chat.completion.chunk' usage=None\n",
      "id='4772ffd5bfe04fcca33a16e841c4eee9' model='open-mistral-7b' choices=[ChatCompletionResponseStreamChoice(index=0, delta=DeltaMessage(role=None, content='ire', tool_calls=None), finish_reason=None)] created=1712846800 object='chat.completion.chunk' usage=None\n",
      "id='4772ffd5bfe04fcca33a16e841c4eee9' model='open-mistral-7b' choices=[ChatCompletionResponseStreamChoice(index=0, delta=DeltaMessage(role=None, content=':', tool_calls=None), finish_reason=None)] created=1712846800 object='chat.completion.chunk' usage=None\n",
      "id='4772ffd5bfe04fcca33a16e841c4eee9' model='open-mistral-7b' choices=[ChatCompletionResponseStreamChoice(index=0, delta=DeltaMessage(role=None, content=' A', tool_calls=None), finish_reason=None)] created=1712846800 object='chat.completion.chunk' usage=None\n",
      "id='4772ffd5bfe04fcca33a16e841c4eee9' model='open-mistral-7b' choices=[ChatCompletionResponseStreamChoice(index=0, delta=DeltaMessage(role=None, content=' cr', tool_calls=None), finish_reason=None)] created=1712846800 object='chat.completion.chunk' usage=None\n",
      "id='4772ffd5bfe04fcca33a16e841c4eee9' model='open-mistral-7b' choices=[ChatCompletionResponseStreamChoice(index=0, delta=DeltaMessage(role=None, content='umb', tool_calls=None), finish_reason=None)] created=1712846800 object='chat.completion.chunk' usage=None\n",
      "id='4772ffd5bfe04fcca33a16e841c4eee9' model='open-mistral-7b' choices=[ChatCompletionResponseStreamChoice(index=0, delta=DeltaMessage(role=None, content='ly', tool_calls=None), finish_reason=None)] created=1712846800 object='chat.completion.chunk' usage=None\n",
      "id='4772ffd5bfe04fcca33a16e841c4eee9' model='open-mistral-7b' choices=[ChatCompletionResponseStreamChoice(index=0, delta=DeltaMessage(role=None, content=',', tool_calls=None), finish_reason=None)] created=1712846800 object='chat.completion.chunk' usage=None\n",
      "id='4772ffd5bfe04fcca33a16e841c4eee9' model='open-mistral-7b' choices=[ChatCompletionResponseStreamChoice(index=0, delta=DeltaMessage(role=None, content=' tang', tool_calls=None), finish_reason=None)] created=1712846800 object='chat.completion.chunk' usage=None\n",
      "id='4772ffd5bfe04fcca33a16e841c4eee9' model='open-mistral-7b' choices=[ChatCompletionResponseStreamChoice(index=0, delta=DeltaMessage(role=None, content='y', tool_calls=None), finish_reason=None)] created=1712846800 object='chat.completion.chunk' usage=None\n",
      "id='4772ffd5bfe04fcca33a16e841c4eee9' model='open-mistral-7b' choices=[ChatCompletionResponseStreamChoice(index=0, delta=DeltaMessage(role=None, content=' cow', tool_calls=None), finish_reason=None)] created=1712846800 object='chat.completion.chunk' usage=None\n",
      "id='4772ffd5bfe04fcca33a16e841c4eee9' model='open-mistral-7b' choices=[ChatCompletionResponseStreamChoice(index=0, delta=DeltaMessage(role=None, content=\"'\", tool_calls=None), finish_reason=None)] created=1712846800 object='chat.completion.chunk' usage=None\n",
      "id='4772ffd5bfe04fcca33a16e841c4eee9' model='open-mistral-7b' choices=[ChatCompletionResponseStreamChoice(index=0, delta=DeltaMessage(role=None, content='s', tool_calls=None), finish_reason=None)] created=1712846800 object='chat.completion.chunk' usage=None\n",
      "id='4772ffd5bfe04fcca33a16e841c4eee9' model='open-mistral-7b' choices=[ChatCompletionResponseStreamChoice(index=0, delta=DeltaMessage(role=None, content=' milk', tool_calls=None), finish_reason=None)] created=1712846800 object='chat.completion.chunk' usage=None\n",
      "id='4772ffd5bfe04fcca33a16e841c4eee9' model='open-mistral-7b' choices=[ChatCompletionResponseStreamChoice(index=0, delta=DeltaMessage(role=None, content=' cheese', tool_calls=None), finish_reason=None)] created=1712846800 object='chat.completion.chunk' usage=None\n",
      "id='4772ffd5bfe04fcca33a16e841c4eee9' model='open-mistral-7b' choices=[ChatCompletionResponseStreamChoice(index=0, delta=DeltaMessage(role=None, content=' from', tool_calls=None), finish_reason=None)] created=1712846800 object='chat.completion.chunk' usage=None\n",
      "id='4772ffd5bfe04fcca33a16e841c4eee9' model='open-mistral-7b' choices=[ChatCompletionResponseStreamChoice(index=0, delta=DeltaMessage(role=None, content=' Lanc', tool_calls=None), finish_reason=None)] created=1712846800 object='chat.completion.chunk' usage=None\n",
      "id='4772ffd5bfe04fcca33a16e841c4eee9' model='open-mistral-7b' choices=[ChatCompletionResponseStreamChoice(index=0, delta=DeltaMessage(role=None, content='ash', tool_calls=None), finish_reason=None)] created=1712846800 object='chat.completion.chunk' usage=None\n",
      "id='4772ffd5bfe04fcca33a16e841c4eee9' model='open-mistral-7b' choices=[ChatCompletionResponseStreamChoice(index=0, delta=DeltaMessage(role=None, content='ire', tool_calls=None), finish_reason=None)] created=1712846800 object='chat.completion.chunk' usage=None\n",
      "id='4772ffd5bfe04fcca33a16e841c4eee9' model='open-mistral-7b' choices=[ChatCompletionResponseStreamChoice(index=0, delta=DeltaMessage(role=None, content=',', tool_calls=None), finish_reason=None)] created=1712846800 object='chat.completion.chunk' usage=None\n",
      "id='4772ffd5bfe04fcca33a16e841c4eee9' model='open-mistral-7b' choices=[ChatCompletionResponseStreamChoice(index=0, delta=DeltaMessage(role=None, content=' often', tool_calls=None), finish_reason=None)] created=1712846800 object='chat.completion.chunk' usage=None\n",
      "id='4772ffd5bfe04fcca33a16e841c4eee9' model='open-mistral-7b' choices=[ChatCompletionResponseStreamChoice(index=0, delta=DeltaMessage(role=None, content=' eaten', tool_calls=None), finish_reason=None)] created=1712846800 object='chat.completion.chunk' usage=None\n",
      "id='4772ffd5bfe04fcca33a16e841c4eee9' model='open-mistral-7b' choices=[ChatCompletionResponseStreamChoice(index=0, delta=DeltaMessage(role=None, content=' with', tool_calls=None), finish_reason=None)] created=1712846800 object='chat.completion.chunk' usage=None\n",
      "id='4772ffd5bfe04fcca33a16e841c4eee9' model='open-mistral-7b' choices=[ChatCompletionResponseStreamChoice(index=0, delta=DeltaMessage(role=None, content=' pick', tool_calls=None), finish_reason=None)] created=1712846800 object='chat.completion.chunk' usage=None\n",
      "id='4772ffd5bfe04fcca33a16e841c4eee9' model='open-mistral-7b' choices=[ChatCompletionResponseStreamChoice(index=0, delta=DeltaMessage(role=None, content='led', tool_calls=None), finish_reason=None)] created=1712846800 object='chat.completion.chunk' usage=None\n",
      "id='4772ffd5bfe04fcca33a16e841c4eee9' model='open-mistral-7b' choices=[ChatCompletionResponseStreamChoice(index=0, delta=DeltaMessage(role=None, content=' on', tool_calls=None), finish_reason=None)] created=1712846800 object='chat.completion.chunk' usage=None\n",
      "id='4772ffd5bfe04fcca33a16e841c4eee9' model='open-mistral-7b' choices=[ChatCompletionResponseStreamChoice(index=0, delta=DeltaMessage(role=None, content='ions', tool_calls=None), finish_reason=None)] created=1712846800 object='chat.completion.chunk' usage=None\n",
      "id='4772ffd5bfe04fcca33a16e841c4eee9' model='open-mistral-7b' choices=[ChatCompletionResponseStreamChoice(index=0, delta=DeltaMessage(role=None, content='.', tool_calls=None), finish_reason=None)] created=1712846800 object='chat.completion.chunk' usage=None\n",
      "id='4772ffd5bfe04fcca33a16e841c4eee9' model='open-mistral-7b' choices=[ChatCompletionResponseStreamChoice(index=0, delta=DeltaMessage(role=None, content='\\n6', tool_calls=None), finish_reason=None)] created=1712846800 object='chat.completion.chunk' usage=None\n",
      "id='4772ffd5bfe04fcca33a16e841c4eee9' model='open-mistral-7b' choices=[ChatCompletionResponseStreamChoice(index=0, delta=DeltaMessage(role=None, content='.', tool_calls=None), finish_reason=None)] created=1712846800 object='chat.completion.chunk' usage=None\n",
      "id='4772ffd5bfe04fcca33a16e841c4eee9' model='open-mistral-7b' choices=[ChatCompletionResponseStreamChoice(index=0, delta=DeltaMessage(role=None, content=' Red', tool_calls=None), finish_reason=None)] created=1712846800 object='chat.completion.chunk' usage=None\n",
      "id='4772ffd5bfe04fcca33a16e841c4eee9' model='open-mistral-7b' choices=[ChatCompletionResponseStreamChoice(index=0, delta=DeltaMessage(role=None, content=' Le', tool_calls=None), finish_reason=None)] created=1712846800 object='chat.completion.chunk' usage=None\n",
      "id='4772ffd5bfe04fcca33a16e841c4eee9' model='open-mistral-7b' choices=[ChatCompletionResponseStreamChoice(index=0, delta=DeltaMessage(role=None, content='ices', tool_calls=None), finish_reason=None)] created=1712846800 object='chat.completion.chunk' usage=None\n",
      "id='4772ffd5bfe04fcca33a16e841c4eee9' model='open-mistral-7b' choices=[ChatCompletionResponseStreamChoice(index=0, delta=DeltaMessage(role=None, content='ter', tool_calls=None), finish_reason=None)] created=1712846800 object='chat.completion.chunk' usage=None\n",
      "id='4772ffd5bfe04fcca33a16e841c4eee9' model='open-mistral-7b' choices=[ChatCompletionResponseStreamChoice(index=0, delta=DeltaMessage(role=None, content=':', tool_calls=None), finish_reason=None)] created=1712846800 object='chat.completion.chunk' usage=None\n",
      "id='4772ffd5bfe04fcca33a16e841c4eee9' model='open-mistral-7b' choices=[ChatCompletionResponseStreamChoice(index=0, delta=DeltaMessage(role=None, content=' A', tool_calls=None), finish_reason=None)] created=1712846800 object='chat.completion.chunk' usage=None\n",
      "id='4772ffd5bfe04fcca33a16e841c4eee9' model='open-mistral-7b' choices=[ChatCompletionResponseStreamChoice(index=0, delta=DeltaMessage(role=None, content=' semi', tool_calls=None), finish_reason=None)] created=1712846800 object='chat.completion.chunk' usage=None\n",
      "id='4772ffd5bfe04fcca33a16e841c4eee9' model='open-mistral-7b' choices=[ChatCompletionResponseStreamChoice(index=0, delta=DeltaMessage(role=None, content='-', tool_calls=None), finish_reason=None)] created=1712846800 object='chat.completion.chunk' usage=None\n",
      "id='4772ffd5bfe04fcca33a16e841c4eee9' model='open-mistral-7b' choices=[ChatCompletionResponseStreamChoice(index=0, delta=DeltaMessage(role=None, content='hard', tool_calls=None), finish_reason=None)] created=1712846800 object='chat.completion.chunk' usage=None\n",
      "id='4772ffd5bfe04fcca33a16e841c4eee9' model='open-mistral-7b' choices=[ChatCompletionResponseStreamChoice(index=0, delta=DeltaMessage(role=None, content=',', tool_calls=None), finish_reason=None)] created=1712846800 object='chat.completion.chunk' usage=None\n",
      "id='4772ffd5bfe04fcca33a16e841c4eee9' model='open-mistral-7b' choices=[ChatCompletionResponseStreamChoice(index=0, delta=DeltaMessage(role=None, content=' cow', tool_calls=None), finish_reason=None)] created=1712846800 object='chat.completion.chunk' usage=None\n",
      "id='4772ffd5bfe04fcca33a16e841c4eee9' model='open-mistral-7b' choices=[ChatCompletionResponseStreamChoice(index=0, delta=DeltaMessage(role=None, content=\"'\", tool_calls=None), finish_reason=None)] created=1712846800 object='chat.completion.chunk' usage=None\n",
      "id='4772ffd5bfe04fcca33a16e841c4eee9' model='open-mistral-7b' choices=[ChatCompletionResponseStreamChoice(index=0, delta=DeltaMessage(role=None, content='s', tool_calls=None), finish_reason=None)] created=1712846800 object='chat.completion.chunk' usage=None\n",
      "id='4772ffd5bfe04fcca33a16e841c4eee9' model='open-mistral-7b' choices=[ChatCompletionResponseStreamChoice(index=0, delta=DeltaMessage(role=None, content=' milk', tool_calls=None), finish_reason=None)] created=1712846800 object='chat.completion.chunk' usage=None\n",
      "id='4772ffd5bfe04fcca33a16e841c4eee9' model='open-mistral-7b' choices=[ChatCompletionResponseStreamChoice(index=0, delta=DeltaMessage(role=None, content=' cheese', tool_calls=None), finish_reason=None)] created=1712846800 object='chat.completion.chunk' usage=None\n",
      "id='4772ffd5bfe04fcca33a16e841c4eee9' model='open-mistral-7b' choices=[ChatCompletionResponseStreamChoice(index=0, delta=DeltaMessage(role=None, content=' with', tool_calls=None), finish_reason=None)] created=1712846800 object='chat.completion.chunk' usage=None\n",
      "id='4772ffd5bfe04fcca33a16e841c4eee9' model='open-mistral-7b' choices=[ChatCompletionResponseStreamChoice(index=0, delta=DeltaMessage(role=None, content=' a', tool_calls=None), finish_reason=None)] created=1712846800 object='chat.completion.chunk' usage=None\n",
      "id='4772ffd5bfe04fcca33a16e841c4eee9' model='open-mistral-7b' choices=[ChatCompletionResponseStreamChoice(index=0, delta=DeltaMessage(role=None, content=' bright', tool_calls=None), finish_reason=None)] created=1712846800 object='chat.completion.chunk' usage=None\n",
      "id='4772ffd5bfe04fcca33a16e841c4eee9' model='open-mistral-7b' choices=[ChatCompletionResponseStreamChoice(index=0, delta=DeltaMessage(role=None, content=' orange', tool_calls=None), finish_reason=None)] created=1712846800 object='chat.completion.chunk' usage=None\n",
      "id='4772ffd5bfe04fcca33a16e841c4eee9' model='open-mistral-7b' choices=[ChatCompletionResponseStreamChoice(index=0, delta=DeltaMessage(role=None, content=' r', tool_calls=None), finish_reason=None)] created=1712846800 object='chat.completion.chunk' usage=None\n",
      "id='4772ffd5bfe04fcca33a16e841c4eee9' model='open-mistral-7b' choices=[ChatCompletionResponseStreamChoice(index=0, delta=DeltaMessage(role=None, content='ind', tool_calls=None), finish_reason=None)] created=1712846800 object='chat.completion.chunk' usage=None\n",
      "id='4772ffd5bfe04fcca33a16e841c4eee9' model='open-mistral-7b' choices=[ChatCompletionResponseStreamChoice(index=0, delta=DeltaMessage(role=None, content=' due', tool_calls=None), finish_reason=None)] created=1712846800 object='chat.completion.chunk' usage=None\n",
      "id='4772ffd5bfe04fcca33a16e841c4eee9' model='open-mistral-7b' choices=[ChatCompletionResponseStreamChoice(index=0, delta=DeltaMessage(role=None, content=' to', tool_calls=None), finish_reason=None)] created=1712846800 object='chat.completion.chunk' usage=None\n",
      "id='4772ffd5bfe04fcca33a16e841c4eee9' model='open-mistral-7b' choices=[ChatCompletionResponseStreamChoice(index=0, delta=DeltaMessage(role=None, content=' the', tool_calls=None), finish_reason=None)] created=1712846800 object='chat.completion.chunk' usage=None\n",
      "id='4772ffd5bfe04fcca33a16e841c4eee9' model='open-mistral-7b' choices=[ChatCompletionResponseStreamChoice(index=0, delta=DeltaMessage(role=None, content=' addition', tool_calls=None), finish_reason=None)] created=1712846800 object='chat.completion.chunk' usage=None\n",
      "id='4772ffd5bfe04fcca33a16e841c4eee9' model='open-mistral-7b' choices=[ChatCompletionResponseStreamChoice(index=0, delta=DeltaMessage(role=None, content=' of', tool_calls=None), finish_reason=None)] created=1712846800 object='chat.completion.chunk' usage=None\n",
      "id='4772ffd5bfe04fcca33a16e841c4eee9' model='open-mistral-7b' choices=[ChatCompletionResponseStreamChoice(index=0, delta=DeltaMessage(role=None, content=' ann', tool_calls=None), finish_reason=None)] created=1712846800 object='chat.completion.chunk' usage=None\n",
      "id='4772ffd5bfe04fcca33a16e841c4eee9' model='open-mistral-7b' choices=[ChatCompletionResponseStreamChoice(index=0, delta=DeltaMessage(role=None, content='atto', tool_calls=None), finish_reason=None)] created=1712846800 object='chat.completion.chunk' usage=None\n",
      "id='4772ffd5bfe04fcca33a16e841c4eee9' model='open-mistral-7b' choices=[ChatCompletionResponseStreamChoice(index=0, delta=DeltaMessage(role=None, content='.', tool_calls=None), finish_reason=None)] created=1712846800 object='chat.completion.chunk' usage=None\n",
      "id='4772ffd5bfe04fcca33a16e841c4eee9' model='open-mistral-7b' choices=[ChatCompletionResponseStreamChoice(index=0, delta=DeltaMessage(role=None, content=' It', tool_calls=None), finish_reason=None)] created=1712846800 object='chat.completion.chunk' usage=None\n",
      "id='4772ffd5bfe04fcca33a16e841c4eee9' model='open-mistral-7b' choices=[ChatCompletionResponseStreamChoice(index=0, delta=DeltaMessage(role=None, content=' has', tool_calls=None), finish_reason=None)] created=1712846800 object='chat.completion.chunk' usage=None\n",
      "id='4772ffd5bfe04fcca33a16e841c4eee9' model='open-mistral-7b' choices=[ChatCompletionResponseStreamChoice(index=0, delta=DeltaMessage(role=None, content=' a', tool_calls=None), finish_reason=None)] created=1712846800 object='chat.completion.chunk' usage=None\n",
      "id='4772ffd5bfe04fcca33a16e841c4eee9' model='open-mistral-7b' choices=[ChatCompletionResponseStreamChoice(index=0, delta=DeltaMessage(role=None, content=' sharp', tool_calls=None), finish_reason=None)] created=1712846800 object='chat.completion.chunk' usage=None\n",
      "id='4772ffd5bfe04fcca33a16e841c4eee9' model='open-mistral-7b' choices=[ChatCompletionResponseStreamChoice(index=0, delta=DeltaMessage(role=None, content=',', tool_calls=None), finish_reason=None)] created=1712846800 object='chat.completion.chunk' usage=None\n",
      "id='4772ffd5bfe04fcca33a16e841c4eee9' model='open-mistral-7b' choices=[ChatCompletionResponseStreamChoice(index=0, delta=DeltaMessage(role=None, content=' tang', tool_calls=None), finish_reason=None)] created=1712846800 object='chat.completion.chunk' usage=None\n",
      "id='4772ffd5bfe04fcca33a16e841c4eee9' model='open-mistral-7b' choices=[ChatCompletionResponseStreamChoice(index=0, delta=DeltaMessage(role=None, content='y', tool_calls=None), finish_reason=None)] created=1712846800 object='chat.completion.chunk' usage=None\n",
      "id='4772ffd5bfe04fcca33a16e841c4eee9' model='open-mistral-7b' choices=[ChatCompletionResponseStreamChoice(index=0, delta=DeltaMessage(role=None, content=' flavor', tool_calls=None), finish_reason=None)] created=1712846800 object='chat.completion.chunk' usage=None\n",
      "id='4772ffd5bfe04fcca33a16e841c4eee9' model='open-mistral-7b' choices=[ChatCompletionResponseStreamChoice(index=0, delta=DeltaMessage(role=None, content=' and', tool_calls=None), finish_reason=None)] created=1712846800 object='chat.completion.chunk' usage=None\n",
      "id='4772ffd5bfe04fcca33a16e841c4eee9' model='open-mistral-7b' choices=[ChatCompletionResponseStreamChoice(index=0, delta=DeltaMessage(role=None, content=' a', tool_calls=None), finish_reason=None)] created=1712846800 object='chat.completion.chunk' usage=None\n",
      "id='4772ffd5bfe04fcca33a16e841c4eee9' model='open-mistral-7b' choices=[ChatCompletionResponseStreamChoice(index=0, delta=DeltaMessage(role=None, content=' cr', tool_calls=None), finish_reason=None)] created=1712846800 object='chat.completion.chunk' usage=None\n",
      "id='4772ffd5bfe04fcca33a16e841c4eee9' model='open-mistral-7b' choices=[ChatCompletionResponseStreamChoice(index=0, delta=DeltaMessage(role=None, content='umb', tool_calls=None), finish_reason=None)] created=1712846800 object='chat.completion.chunk' usage=None\n",
      "id='4772ffd5bfe04fcca33a16e841c4eee9' model='open-mistral-7b' choices=[ChatCompletionResponseStreamChoice(index=0, delta=DeltaMessage(role=None, content='ly', tool_calls=None), finish_reason=None)] created=1712846800 object='chat.completion.chunk' usage=None\n",
      "id='4772ffd5bfe04fcca33a16e841c4eee9' model='open-mistral-7b' choices=[ChatCompletionResponseStreamChoice(index=0, delta=DeltaMessage(role=None, content=' texture', tool_calls=None), finish_reason=None)] created=1712846800 object='chat.completion.chunk' usage=None\n",
      "id='4772ffd5bfe04fcca33a16e841c4eee9' model='open-mistral-7b' choices=[ChatCompletionResponseStreamChoice(index=0, delta=DeltaMessage(role=None, content='.', tool_calls=None), finish_reason=None)] created=1712846800 object='chat.completion.chunk' usage=None\n",
      "id='4772ffd5bfe04fcca33a16e841c4eee9' model='open-mistral-7b' choices=[ChatCompletionResponseStreamChoice(index=0, delta=DeltaMessage(role=None, content='\\n7', tool_calls=None), finish_reason=None)] created=1712846800 object='chat.completion.chunk' usage=None\n",
      "id='4772ffd5bfe04fcca33a16e841c4eee9' model='open-mistral-7b' choices=[ChatCompletionResponseStreamChoice(index=0, delta=DeltaMessage(role=None, content='.', tool_calls=None), finish_reason=None)] created=1712846800 object='chat.completion.chunk' usage=None\n",
      "id='4772ffd5bfe04fcca33a16e841c4eee9' model='open-mistral-7b' choices=[ChatCompletionResponseStreamChoice(index=0, delta=DeltaMessage(role=None, content=' Corn', tool_calls=None), finish_reason=None)] created=1712846800 object='chat.completion.chunk' usage=None\n",
      "id='4772ffd5bfe04fcca33a16e841c4eee9' model='open-mistral-7b' choices=[ChatCompletionResponseStreamChoice(index=0, delta=DeltaMessage(role=None, content='ish', tool_calls=None), finish_reason=None)] created=1712846800 object='chat.completion.chunk' usage=None\n",
      "id='4772ffd5bfe04fcca33a16e841c4eee9' model='open-mistral-7b' choices=[ChatCompletionResponseStreamChoice(index=0, delta=DeltaMessage(role=None, content=' Y', tool_calls=None), finish_reason=None)] created=1712846800 object='chat.completion.chunk' usage=None\n",
      "id='4772ffd5bfe04fcca33a16e841c4eee9' model='open-mistral-7b' choices=[ChatCompletionResponseStreamChoice(index=0, delta=DeltaMessage(role=None, content='arg', tool_calls=None), finish_reason=None)] created=1712846800 object='chat.completion.chunk' usage=None\n",
      "id='4772ffd5bfe04fcca33a16e841c4eee9' model='open-mistral-7b' choices=[ChatCompletionResponseStreamChoice(index=0, delta=DeltaMessage(role=None, content=':', tool_calls=None), finish_reason=None)] created=1712846800 object='chat.completion.chunk' usage=None\n",
      "id='4772ffd5bfe04fcca33a16e841c4eee9' model='open-mistral-7b' choices=[ChatCompletionResponseStreamChoice(index=0, delta=DeltaMessage(role=None, content=' A', tool_calls=None), finish_reason=None)] created=1712846800 object='chat.completion.chunk' usage=None\n",
      "id='4772ffd5bfe04fcca33a16e841c4eee9' model='open-mistral-7b' choices=[ChatCompletionResponseStreamChoice(index=0, delta=DeltaMessage(role=None, content=' semi', tool_calls=None), finish_reason=None)] created=1712846800 object='chat.completion.chunk' usage=None\n",
      "id='4772ffd5bfe04fcca33a16e841c4eee9' model='open-mistral-7b' choices=[ChatCompletionResponseStreamChoice(index=0, delta=DeltaMessage(role=None, content='-', tool_calls=None), finish_reason=None)] created=1712846800 object='chat.completion.chunk' usage=None\n",
      "id='4772ffd5bfe04fcca33a16e841c4eee9' model='open-mistral-7b' choices=[ChatCompletionResponseStreamChoice(index=0, delta=DeltaMessage(role=None, content='soft', tool_calls=None), finish_reason=None)] created=1712846800 object='chat.completion.chunk' usage=None\n",
      "id='4772ffd5bfe04fcca33a16e841c4eee9' model='open-mistral-7b' choices=[ChatCompletionResponseStreamChoice(index=0, delta=DeltaMessage(role=None, content=',', tool_calls=None), finish_reason=None)] created=1712846800 object='chat.completion.chunk' usage=None\n",
      "id='4772ffd5bfe04fcca33a16e841c4eee9' model='open-mistral-7b' choices=[ChatCompletionResponseStreamChoice(index=0, delta=DeltaMessage(role=None, content=' go', tool_calls=None), finish_reason=None)] created=1712846800 object='chat.completion.chunk' usage=None\n",
      "id='4772ffd5bfe04fcca33a16e841c4eee9' model='open-mistral-7b' choices=[ChatCompletionResponseStreamChoice(index=0, delta=DeltaMessage(role=None, content='at', tool_calls=None), finish_reason=None)] created=1712846800 object='chat.completion.chunk' usage=None\n",
      "id='4772ffd5bfe04fcca33a16e841c4eee9' model='open-mistral-7b' choices=[ChatCompletionResponseStreamChoice(index=0, delta=DeltaMessage(role=None, content=\"'\", tool_calls=None), finish_reason=None)] created=1712846800 object='chat.completion.chunk' usage=None\n",
      "id='4772ffd5bfe04fcca33a16e841c4eee9' model='open-mistral-7b' choices=[ChatCompletionResponseStreamChoice(index=0, delta=DeltaMessage(role=None, content='s', tool_calls=None), finish_reason=None)] created=1712846800 object='chat.completion.chunk' usage=None\n",
      "id='4772ffd5bfe04fcca33a16e841c4eee9' model='open-mistral-7b' choices=[ChatCompletionResponseStreamChoice(index=0, delta=DeltaMessage(role=None, content=' milk', tool_calls=None), finish_reason=None)] created=1712846800 object='chat.completion.chunk' usage=None\n",
      "id='4772ffd5bfe04fcca33a16e841c4eee9' model='open-mistral-7b' choices=[ChatCompletionResponseStreamChoice(index=0, delta=DeltaMessage(role=None, content=' cheese', tool_calls=None), finish_reason=None)] created=1712846800 object='chat.completion.chunk' usage=None\n",
      "id='4772ffd5bfe04fcca33a16e841c4eee9' model='open-mistral-7b' choices=[ChatCompletionResponseStreamChoice(index=0, delta=DeltaMessage(role=None, content=' with', tool_calls=None), finish_reason=None)] created=1712846800 object='chat.completion.chunk' usage=None\n",
      "id='4772ffd5bfe04fcca33a16e841c4eee9' model='open-mistral-7b' choices=[ChatCompletionResponseStreamChoice(index=0, delta=DeltaMessage(role=None, content=' a', tool_calls=None), finish_reason=None)] created=1712846800 object='chat.completion.chunk' usage=None\n",
      "id='4772ffd5bfe04fcca33a16e841c4eee9' model='open-mistral-7b' choices=[ChatCompletionResponseStreamChoice(index=0, delta=DeltaMessage(role=None, content=' distinctive', tool_calls=None), finish_reason=None)] created=1712846800 object='chat.completion.chunk' usage=None\n",
      "id='4772ffd5bfe04fcca33a16e841c4eee9' model='open-mistral-7b' choices=[ChatCompletionResponseStreamChoice(index=0, delta=DeltaMessage(role=None, content=' net', tool_calls=None), finish_reason=None)] created=1712846800 object='chat.completion.chunk' usage=None\n",
      "id='4772ffd5bfe04fcca33a16e841c4eee9' model='open-mistral-7b' choices=[ChatCompletionResponseStreamChoice(index=0, delta=DeltaMessage(role=None, content='tle', tool_calls=None), finish_reason=None)] created=1712846800 object='chat.completion.chunk' usage=None\n",
      "id='4772ffd5bfe04fcca33a16e841c4eee9' model='open-mistral-7b' choices=[ChatCompletionResponseStreamChoice(index=0, delta=DeltaMessage(role=None, content='-', tool_calls=None), finish_reason=None)] created=1712846800 object='chat.completion.chunk' usage=None\n",
      "id='4772ffd5bfe04fcca33a16e841c4eee9' model='open-mistral-7b' choices=[ChatCompletionResponseStreamChoice(index=0, delta=DeltaMessage(role=None, content='wr', tool_calls=None), finish_reason=None)] created=1712846800 object='chat.completion.chunk' usage=None\n",
      "id='4772ffd5bfe04fcca33a16e841c4eee9' model='open-mistral-7b' choices=[ChatCompletionResponseStreamChoice(index=0, delta=DeltaMessage(role=None, content='apped', tool_calls=None), finish_reason=None)] created=1712846800 object='chat.completion.chunk' usage=None\n",
      "id='4772ffd5bfe04fcca33a16e841c4eee9' model='open-mistral-7b' choices=[ChatCompletionResponseStreamChoice(index=0, delta=DeltaMessage(role=None, content=' r', tool_calls=None), finish_reason=None)] created=1712846800 object='chat.completion.chunk' usage=None\n",
      "id='4772ffd5bfe04fcca33a16e841c4eee9' model='open-mistral-7b' choices=[ChatCompletionResponseStreamChoice(index=0, delta=DeltaMessage(role=None, content='ind', tool_calls=None), finish_reason=None)] created=1712846800 object='chat.completion.chunk' usage=None\n",
      "id='4772ffd5bfe04fcca33a16e841c4eee9' model='open-mistral-7b' choices=[ChatCompletionResponseStreamChoice(index=0, delta=DeltaMessage(role=None, content=',', tool_calls=None), finish_reason=None)] created=1712846800 object='chat.completion.chunk' usage=None\n",
      "id='4772ffd5bfe04fcca33a16e841c4eee9' model='open-mistral-7b' choices=[ChatCompletionResponseStreamChoice(index=0, delta=DeltaMessage(role=None, content=' providing', tool_calls=None), finish_reason=None)] created=1712846800 object='chat.completion.chunk' usage=None\n",
      "id='4772ffd5bfe04fcca33a16e841c4eee9' model='open-mistral-7b' choices=[ChatCompletionResponseStreamChoice(index=0, delta=DeltaMessage(role=None, content=' a', tool_calls=None), finish_reason=None)] created=1712846800 object='chat.completion.chunk' usage=None\n",
      "id='4772ffd5bfe04fcca33a16e841c4eee9' model='open-mistral-7b' choices=[ChatCompletionResponseStreamChoice(index=0, delta=DeltaMessage(role=None, content=' unique', tool_calls=None), finish_reason=None)] created=1712846800 object='chat.completion.chunk' usage=None\n",
      "id='4772ffd5bfe04fcca33a16e841c4eee9' model='open-mistral-7b' choices=[ChatCompletionResponseStreamChoice(index=0, delta=DeltaMessage(role=None, content=' earth', tool_calls=None), finish_reason=None)] created=1712846800 object='chat.completion.chunk' usage=None\n",
      "id='4772ffd5bfe04fcca33a16e841c4eee9' model='open-mistral-7b' choices=[ChatCompletionResponseStreamChoice(index=0, delta=DeltaMessage(role=None, content='y', tool_calls=None), finish_reason=None)] created=1712846800 object='chat.completion.chunk' usage=None\n",
      "id='4772ffd5bfe04fcca33a16e841c4eee9' model='open-mistral-7b' choices=[ChatCompletionResponseStreamChoice(index=0, delta=DeltaMessage(role=None, content=' flavor', tool_calls=None), finish_reason=None)] created=1712846800 object='chat.completion.chunk' usage=None\n",
      "id='4772ffd5bfe04fcca33a16e841c4eee9' model='open-mistral-7b' choices=[ChatCompletionResponseStreamChoice(index=0, delta=DeltaMessage(role=None, content='.', tool_calls=None), finish_reason=None)] created=1712846800 object='chat.completion.chunk' usage=None\n",
      "id='4772ffd5bfe04fcca33a16e841c4eee9' model='open-mistral-7b' choices=[ChatCompletionResponseStreamChoice(index=0, delta=DeltaMessage(role=None, content='\\n8', tool_calls=None), finish_reason=None)] created=1712846800 object='chat.completion.chunk' usage=None\n",
      "id='4772ffd5bfe04fcca33a16e841c4eee9' model='open-mistral-7b' choices=[ChatCompletionResponseStreamChoice(index=0, delta=DeltaMessage(role=None, content='.', tool_calls=None), finish_reason=None)] created=1712846800 object='chat.completion.chunk' usage=None\n",
      "id='4772ffd5bfe04fcca33a16e841c4eee9' model='open-mistral-7b' choices=[ChatCompletionResponseStreamChoice(index=0, delta=DeltaMessage(role=None, content=' W', tool_calls=None), finish_reason=None)] created=1712846800 object='chat.completion.chunk' usage=None\n",
      "id='4772ffd5bfe04fcca33a16e841c4eee9' model='open-mistral-7b' choices=[ChatCompletionResponseStreamChoice(index=0, delta=DeltaMessage(role=None, content='ens', tool_calls=None), finish_reason=None)] created=1712846800 object='chat.completion.chunk' usage=None\n",
      "id='4772ffd5bfe04fcca33a16e841c4eee9' model='open-mistral-7b' choices=[ChatCompletionResponseStreamChoice(index=0, delta=DeltaMessage(role=None, content='ley', tool_calls=None), finish_reason=None)] created=1712846800 object='chat.completion.chunk' usage=None\n",
      "id='4772ffd5bfe04fcca33a16e841c4eee9' model='open-mistral-7b' choices=[ChatCompletionResponseStreamChoice(index=0, delta=DeltaMessage(role=None, content='dale', tool_calls=None), finish_reason=None)] created=1712846800 object='chat.completion.chunk' usage=None\n",
      "id='4772ffd5bfe04fcca33a16e841c4eee9' model='open-mistral-7b' choices=[ChatCompletionResponseStreamChoice(index=0, delta=DeltaMessage(role=None, content=' with', tool_calls=None), finish_reason=None)] created=1712846800 object='chat.completion.chunk' usage=None\n",
      "id='4772ffd5bfe04fcca33a16e841c4eee9' model='open-mistral-7b' choices=[ChatCompletionResponseStreamChoice(index=0, delta=DeltaMessage(role=None, content=' Cr', tool_calls=None), finish_reason=None)] created=1712846800 object='chat.completion.chunk' usage=None\n",
      "id='4772ffd5bfe04fcca33a16e841c4eee9' model='open-mistral-7b' choices=[ChatCompletionResponseStreamChoice(index=0, delta=DeltaMessage(role=None, content='an', tool_calls=None), finish_reason=None)] created=1712846800 object='chat.completion.chunk' usage=None\n",
      "id='4772ffd5bfe04fcca33a16e841c4eee9' model='open-mistral-7b' choices=[ChatCompletionResponseStreamChoice(index=0, delta=DeltaMessage(role=None, content='berries', tool_calls=None), finish_reason=None)] created=1712846800 object='chat.completion.chunk' usage=None\n",
      "id='4772ffd5bfe04fcca33a16e841c4eee9' model='open-mistral-7b' choices=[ChatCompletionResponseStreamChoice(index=0, delta=DeltaMessage(role=None, content=':', tool_calls=None), finish_reason=None)] created=1712846800 object='chat.completion.chunk' usage=None\n",
      "id='4772ffd5bfe04fcca33a16e841c4eee9' model='open-mistral-7b' choices=[ChatCompletionResponseStreamChoice(index=0, delta=DeltaMessage(role=None, content=' A', tool_calls=None), finish_reason=None)] created=1712846800 object='chat.completion.chunk' usage=None\n",
      "id='4772ffd5bfe04fcca33a16e841c4eee9' model='open-mistral-7b' choices=[ChatCompletionResponseStreamChoice(index=0, delta=DeltaMessage(role=None, content=' sweet', tool_calls=None), finish_reason=None)] created=1712846800 object='chat.completion.chunk' usage=None\n",
      "id='4772ffd5bfe04fcca33a16e841c4eee9' model='open-mistral-7b' choices=[ChatCompletionResponseStreamChoice(index=0, delta=DeltaMessage(role=None, content=' and', tool_calls=None), finish_reason=None)] created=1712846800 object='chat.completion.chunk' usage=None\n",
      "id='4772ffd5bfe04fcca33a16e841c4eee9' model='open-mistral-7b' choices=[ChatCompletionResponseStreamChoice(index=0, delta=DeltaMessage(role=None, content=' tang', tool_calls=None), finish_reason=None)] created=1712846800 object='chat.completion.chunk' usage=None\n",
      "id='4772ffd5bfe04fcca33a16e841c4eee9' model='open-mistral-7b' choices=[ChatCompletionResponseStreamChoice(index=0, delta=DeltaMessage(role=None, content='y', tool_calls=None), finish_reason=None)] created=1712846800 object='chat.completion.chunk' usage=None\n",
      "id='4772ffd5bfe04fcca33a16e841c4eee9' model='open-mistral-7b' choices=[ChatCompletionResponseStreamChoice(index=0, delta=DeltaMessage(role=None, content=' variation', tool_calls=None), finish_reason=None)] created=1712846800 object='chat.completion.chunk' usage=None\n",
      "id='4772ffd5bfe04fcca33a16e841c4eee9' model='open-mistral-7b' choices=[ChatCompletionResponseStreamChoice(index=0, delta=DeltaMessage(role=None, content=' of', tool_calls=None), finish_reason=None)] created=1712846800 object='chat.completion.chunk' usage=None\n",
      "id='4772ffd5bfe04fcca33a16e841c4eee9' model='open-mistral-7b' choices=[ChatCompletionResponseStreamChoice(index=0, delta=DeltaMessage(role=None, content=' W', tool_calls=None), finish_reason=None)] created=1712846800 object='chat.completion.chunk' usage=None\n",
      "id='4772ffd5bfe04fcca33a16e841c4eee9' model='open-mistral-7b' choices=[ChatCompletionResponseStreamChoice(index=0, delta=DeltaMessage(role=None, content='ens', tool_calls=None), finish_reason=None)] created=1712846800 object='chat.completion.chunk' usage=None\n",
      "id='4772ffd5bfe04fcca33a16e841c4eee9' model='open-mistral-7b' choices=[ChatCompletionResponseStreamChoice(index=0, delta=DeltaMessage(role=None, content='ley', tool_calls=None), finish_reason=None)] created=1712846800 object='chat.completion.chunk' usage=None\n",
      "id='4772ffd5bfe04fcca33a16e841c4eee9' model='open-mistral-7b' choices=[ChatCompletionResponseStreamChoice(index=0, delta=DeltaMessage(role=None, content='dale', tool_calls=None), finish_reason=None)] created=1712846800 object='chat.completion.chunk' usage=None\n",
      "id='4772ffd5bfe04fcca33a16e841c4eee9' model='open-mistral-7b' choices=[ChatCompletionResponseStreamChoice(index=0, delta=DeltaMessage(role=None, content=',', tool_calls=None), finish_reason=None)] created=1712846800 object='chat.completion.chunk' usage=None\n",
      "id='4772ffd5bfe04fcca33a16e841c4eee9' model='open-mistral-7b' choices=[ChatCompletionResponseStreamChoice(index=0, delta=DeltaMessage(role=None, content=' inf', tool_calls=None), finish_reason=None)] created=1712846800 object='chat.completion.chunk' usage=None\n",
      "id='4772ffd5bfe04fcca33a16e841c4eee9' model='open-mistral-7b' choices=[ChatCompletionResponseStreamChoice(index=0, delta=DeltaMessage(role=None, content='used', tool_calls=None), finish_reason=None)] created=1712846800 object='chat.completion.chunk' usage=None\n",
      "id='4772ffd5bfe04fcca33a16e841c4eee9' model='open-mistral-7b' choices=[ChatCompletionResponseStreamChoice(index=0, delta=DeltaMessage(role=None, content=' with', tool_calls=None), finish_reason=None)] created=1712846800 object='chat.completion.chunk' usage=None\n",
      "id='4772ffd5bfe04fcca33a16e841c4eee9' model='open-mistral-7b' choices=[ChatCompletionResponseStreamChoice(index=0, delta=DeltaMessage(role=None, content=' dried', tool_calls=None), finish_reason=None)] created=1712846800 object='chat.completion.chunk' usage=None\n",
      "id='4772ffd5bfe04fcca33a16e841c4eee9' model='open-mistral-7b' choices=[ChatCompletionResponseStreamChoice(index=0, delta=DeltaMessage(role=None, content=' cr', tool_calls=None), finish_reason=None)] created=1712846800 object='chat.completion.chunk' usage=None\n",
      "id='4772ffd5bfe04fcca33a16e841c4eee9' model='open-mistral-7b' choices=[ChatCompletionResponseStreamChoice(index=0, delta=DeltaMessage(role=None, content='an', tool_calls=None), finish_reason=None)] created=1712846800 object='chat.completion.chunk' usage=None\n",
      "id='4772ffd5bfe04fcca33a16e841c4eee9' model='open-mistral-7b' choices=[ChatCompletionResponseStreamChoice(index=0, delta=DeltaMessage(role=None, content='berries', tool_calls=None), finish_reason=None)] created=1712846800 object='chat.completion.chunk' usage=None\n",
      "id='4772ffd5bfe04fcca33a16e841c4eee9' model='open-mistral-7b' choices=[ChatCompletionResponseStreamChoice(index=0, delta=DeltaMessage(role=None, content=',', tool_calls=None), finish_reason=None)] created=1712846800 object='chat.completion.chunk' usage=None\n",
      "id='4772ffd5bfe04fcca33a16e841c4eee9' model='open-mistral-7b' choices=[ChatCompletionResponseStreamChoice(index=0, delta=DeltaMessage(role=None, content=' creating', tool_calls=None), finish_reason=None)] created=1712846800 object='chat.completion.chunk' usage=None\n",
      "id='4772ffd5bfe04fcca33a16e841c4eee9' model='open-mistral-7b' choices=[ChatCompletionResponseStreamChoice(index=0, delta=DeltaMessage(role=None, content=' a', tool_calls=None), finish_reason=None)] created=1712846800 object='chat.completion.chunk' usage=None\n",
      "id='4772ffd5bfe04fcca33a16e841c4eee9' model='open-mistral-7b' choices=[ChatCompletionResponseStreamChoice(index=0, delta=DeltaMessage(role=None, content=' delight', tool_calls=None), finish_reason=None)] created=1712846800 object='chat.completion.chunk' usage=None\n",
      "id='4772ffd5bfe04fcca33a16e841c4eee9' model='open-mistral-7b' choices=[ChatCompletionResponseStreamChoice(index=0, delta=DeltaMessage(role=None, content='ful', tool_calls=None), finish_reason=None)] created=1712846800 object='chat.completion.chunk' usage=None\n",
      "id='4772ffd5bfe04fcca33a16e841c4eee9' model='open-mistral-7b' choices=[ChatCompletionResponseStreamChoice(index=0, delta=DeltaMessage(role=None, content=' balance', tool_calls=None), finish_reason=None)] created=1712846800 object='chat.completion.chunk' usage=None\n",
      "id='4772ffd5bfe04fcca33a16e841c4eee9' model='open-mistral-7b' choices=[ChatCompletionResponseStreamChoice(index=0, delta=DeltaMessage(role=None, content=' of', tool_calls=None), finish_reason=None)] created=1712846800 object='chat.completion.chunk' usage=None\n",
      "id='4772ffd5bfe04fcca33a16e841c4eee9' model='open-mistral-7b' choices=[ChatCompletionResponseStreamChoice(index=0, delta=DeltaMessage(role=None, content=' flav', tool_calls=None), finish_reason=None)] created=1712846800 object='chat.completion.chunk' usage=None\n",
      "id='4772ffd5bfe04fcca33a16e841c4eee9' model='open-mistral-7b' choices=[ChatCompletionResponseStreamChoice(index=0, delta=DeltaMessage(role=None, content='ors', tool_calls=None), finish_reason=None)] created=1712846800 object='chat.completion.chunk' usage=None\n",
      "id='4772ffd5bfe04fcca33a16e841c4eee9' model='open-mistral-7b' choices=[ChatCompletionResponseStreamChoice(index=0, delta=DeltaMessage(role=None, content='.', tool_calls=None), finish_reason=None)] created=1712846800 object='chat.completion.chunk' usage=None\n",
      "id='4772ffd5bfe04fcca33a16e841c4eee9' model='open-mistral-7b' choices=[ChatCompletionResponseStreamChoice(index=0, delta=DeltaMessage(role=None, content='\\n\\nTry', tool_calls=None), finish_reason=None)] created=1712846800 object='chat.completion.chunk' usage=None\n",
      "id='4772ffd5bfe04fcca33a16e841c4eee9' model='open-mistral-7b' choices=[ChatCompletionResponseStreamChoice(index=0, delta=DeltaMessage(role=None, content=' a', tool_calls=None), finish_reason=None)] created=1712846800 object='chat.completion.chunk' usage=None\n",
      "id='4772ffd5bfe04fcca33a16e841c4eee9' model='open-mistral-7b' choices=[ChatCompletionResponseStreamChoice(index=0, delta=DeltaMessage(role=None, content=' few', tool_calls=None), finish_reason=None)] created=1712846800 object='chat.completion.chunk' usage=None\n",
      "id='4772ffd5bfe04fcca33a16e841c4eee9' model='open-mistral-7b' choices=[ChatCompletionResponseStreamChoice(index=0, delta=DeltaMessage(role=None, content=' of', tool_calls=None), finish_reason=None)] created=1712846800 object='chat.completion.chunk' usage=None\n",
      "id='4772ffd5bfe04fcca33a16e841c4eee9' model='open-mistral-7b' choices=[ChatCompletionResponseStreamChoice(index=0, delta=DeltaMessage(role=None, content=' these', tool_calls=None), finish_reason=None)] created=1712846800 object='chat.completion.chunk' usage=None\n",
      "id='4772ffd5bfe04fcca33a16e841c4eee9' model='open-mistral-7b' choices=[ChatCompletionResponseStreamChoice(index=0, delta=DeltaMessage(role=None, content=' che', tool_calls=None), finish_reason=None)] created=1712846800 object='chat.completion.chunk' usage=None\n",
      "id='4772ffd5bfe04fcca33a16e841c4eee9' model='open-mistral-7b' choices=[ChatCompletionResponseStreamChoice(index=0, delta=DeltaMessage(role=None, content='es', tool_calls=None), finish_reason=None)] created=1712846800 object='chat.completion.chunk' usage=None\n",
      "id='4772ffd5bfe04fcca33a16e841c4eee9' model='open-mistral-7b' choices=[ChatCompletionResponseStreamChoice(index=0, delta=DeltaMessage(role=None, content='es', tool_calls=None), finish_reason=None)] created=1712846800 object='chat.completion.chunk' usage=None\n",
      "id='4772ffd5bfe04fcca33a16e841c4eee9' model='open-mistral-7b' choices=[ChatCompletionResponseStreamChoice(index=0, delta=DeltaMessage(role=None, content=' to', tool_calls=None), finish_reason=None)] created=1712846800 object='chat.completion.chunk' usage=None\n",
      "id='4772ffd5bfe04fcca33a16e841c4eee9' model='open-mistral-7b' choices=[ChatCompletionResponseStreamChoice(index=0, delta=DeltaMessage(role=None, content=' discover', tool_calls=None), finish_reason=None)] created=1712846800 object='chat.completion.chunk' usage=None\n",
      "id='4772ffd5bfe04fcca33a16e841c4eee9' model='open-mistral-7b' choices=[ChatCompletionResponseStreamChoice(index=0, delta=DeltaMessage(role=None, content=' which', tool_calls=None), finish_reason=None)] created=1712846800 object='chat.completion.chunk' usage=None\n",
      "id='4772ffd5bfe04fcca33a16e841c4eee9' model='open-mistral-7b' choices=[ChatCompletionResponseStreamChoice(index=0, delta=DeltaMessage(role=None, content=' one', tool_calls=None), finish_reason=None)] created=1712846800 object='chat.completion.chunk' usage=None\n",
      "id='4772ffd5bfe04fcca33a16e841c4eee9' model='open-mistral-7b' choices=[ChatCompletionResponseStreamChoice(index=0, delta=DeltaMessage(role=None, content=' suits', tool_calls=None), finish_reason=None)] created=1712846800 object='chat.completion.chunk' usage=None\n",
      "id='4772ffd5bfe04fcca33a16e841c4eee9' model='open-mistral-7b' choices=[ChatCompletionResponseStreamChoice(index=0, delta=DeltaMessage(role=None, content=' your', tool_calls=None), finish_reason=None)] created=1712846800 object='chat.completion.chunk' usage=None\n",
      "id='4772ffd5bfe04fcca33a16e841c4eee9' model='open-mistral-7b' choices=[ChatCompletionResponseStreamChoice(index=0, delta=DeltaMessage(role=None, content=' taste', tool_calls=None), finish_reason=None)] created=1712846800 object='chat.completion.chunk' usage=None\n",
      "id='4772ffd5bfe04fcca33a16e841c4eee9' model='open-mistral-7b' choices=[ChatCompletionResponseStreamChoice(index=0, delta=DeltaMessage(role=None, content=' bud', tool_calls=None), finish_reason=None)] created=1712846800 object='chat.completion.chunk' usage=None\n",
      "id='4772ffd5bfe04fcca33a16e841c4eee9' model='open-mistral-7b' choices=[ChatCompletionResponseStreamChoice(index=0, delta=DeltaMessage(role=None, content='s', tool_calls=None), finish_reason=None)] created=1712846800 object='chat.completion.chunk' usage=None\n",
      "id='4772ffd5bfe04fcca33a16e841c4eee9' model='open-mistral-7b' choices=[ChatCompletionResponseStreamChoice(index=0, delta=DeltaMessage(role=None, content=' best', tool_calls=None), finish_reason=None)] created=1712846800 object='chat.completion.chunk' usage=None\n",
      "id='4772ffd5bfe04fcca33a16e841c4eee9' model='open-mistral-7b' choices=[ChatCompletionResponseStreamChoice(index=0, delta=DeltaMessage(role=None, content='.', tool_calls=None), finish_reason=None)] created=1712846800 object='chat.completion.chunk' usage=None\n",
      "id='4772ffd5bfe04fcca33a16e841c4eee9' model='open-mistral-7b' choices=[ChatCompletionResponseStreamChoice(index=0, delta=DeltaMessage(role=None, content=' Remember', tool_calls=None), finish_reason=None)] created=1712846800 object='chat.completion.chunk' usage=None\n",
      "id='4772ffd5bfe04fcca33a16e841c4eee9' model='open-mistral-7b' choices=[ChatCompletionResponseStreamChoice(index=0, delta=DeltaMessage(role=None, content=' that', tool_calls=None), finish_reason=None)] created=1712846800 object='chat.completion.chunk' usage=None\n",
      "id='4772ffd5bfe04fcca33a16e841c4eee9' model='open-mistral-7b' choices=[ChatCompletionResponseStreamChoice(index=0, delta=DeltaMessage(role=None, content=' the', tool_calls=None), finish_reason=None)] created=1712846800 object='chat.completion.chunk' usage=None\n",
      "id='4772ffd5bfe04fcca33a16e841c4eee9' model='open-mistral-7b' choices=[ChatCompletionResponseStreamChoice(index=0, delta=DeltaMessage(role=None, content=' taste', tool_calls=None), finish_reason=None)] created=1712846800 object='chat.completion.chunk' usage=None\n",
      "id='4772ffd5bfe04fcca33a16e841c4eee9' model='open-mistral-7b' choices=[ChatCompletionResponseStreamChoice(index=0, delta=DeltaMessage(role=None, content=',', tool_calls=None), finish_reason=None)] created=1712846800 object='chat.completion.chunk' usage=None\n",
      "id='4772ffd5bfe04fcca33a16e841c4eee9' model='open-mistral-7b' choices=[ChatCompletionResponseStreamChoice(index=0, delta=DeltaMessage(role=None, content=' texture', tool_calls=None), finish_reason=None)] created=1712846800 object='chat.completion.chunk' usage=None\n",
      "id='4772ffd5bfe04fcca33a16e841c4eee9' model='open-mistral-7b' choices=[ChatCompletionResponseStreamChoice(index=0, delta=DeltaMessage(role=None, content=',', tool_calls=None), finish_reason=None)] created=1712846800 object='chat.completion.chunk' usage=None\n",
      "id='4772ffd5bfe04fcca33a16e841c4eee9' model='open-mistral-7b' choices=[ChatCompletionResponseStreamChoice(index=0, delta=DeltaMessage(role=None, content=' and', tool_calls=None), finish_reason=None)] created=1712846800 object='chat.completion.chunk' usage=None\n",
      "id='4772ffd5bfe04fcca33a16e841c4eee9' model='open-mistral-7b' choices=[ChatCompletionResponseStreamChoice(index=0, delta=DeltaMessage(role=None, content=' arom', tool_calls=None), finish_reason=None)] created=1712846800 object='chat.completion.chunk' usage=None\n",
      "id='4772ffd5bfe04fcca33a16e841c4eee9' model='open-mistral-7b' choices=[ChatCompletionResponseStreamChoice(index=0, delta=DeltaMessage(role=None, content='a', tool_calls=None), finish_reason=None)] created=1712846800 object='chat.completion.chunk' usage=None\n",
      "id='4772ffd5bfe04fcca33a16e841c4eee9' model='open-mistral-7b' choices=[ChatCompletionResponseStreamChoice(index=0, delta=DeltaMessage(role=None, content=' of', tool_calls=None), finish_reason=None)] created=1712846800 object='chat.completion.chunk' usage=None\n",
      "id='4772ffd5bfe04fcca33a16e841c4eee9' model='open-mistral-7b' choices=[ChatCompletionResponseStreamChoice(index=0, delta=DeltaMessage(role=None, content=' cheese', tool_calls=None), finish_reason=None)] created=1712846800 object='chat.completion.chunk' usage=None\n",
      "id='4772ffd5bfe04fcca33a16e841c4eee9' model='open-mistral-7b' choices=[ChatCompletionResponseStreamChoice(index=0, delta=DeltaMessage(role=None, content=' can', tool_calls=None), finish_reason=None)] created=1712846800 object='chat.completion.chunk' usage=None\n",
      "id='4772ffd5bfe04fcca33a16e841c4eee9' model='open-mistral-7b' choices=[ChatCompletionResponseStreamChoice(index=0, delta=DeltaMessage(role=None, content=' vary', tool_calls=None), finish_reason=None)] created=1712846800 object='chat.completion.chunk' usage=None\n",
      "id='4772ffd5bfe04fcca33a16e841c4eee9' model='open-mistral-7b' choices=[ChatCompletionResponseStreamChoice(index=0, delta=DeltaMessage(role=None, content=' depending', tool_calls=None), finish_reason=None)] created=1712846800 object='chat.completion.chunk' usage=None\n",
      "id='4772ffd5bfe04fcca33a16e841c4eee9' model='open-mistral-7b' choices=[ChatCompletionResponseStreamChoice(index=0, delta=DeltaMessage(role=None, content=' on', tool_calls=None), finish_reason=None)] created=1712846800 object='chat.completion.chunk' usage=None\n",
      "id='4772ffd5bfe04fcca33a16e841c4eee9' model='open-mistral-7b' choices=[ChatCompletionResponseStreamChoice(index=0, delta=DeltaMessage(role=None, content=' its', tool_calls=None), finish_reason=None)] created=1712846800 object='chat.completion.chunk' usage=None\n",
      "id='4772ffd5bfe04fcca33a16e841c4eee9' model='open-mistral-7b' choices=[ChatCompletionResponseStreamChoice(index=0, delta=DeltaMessage(role=None, content=' age', tool_calls=None), finish_reason=None)] created=1712846800 object='chat.completion.chunk' usage=None\n",
      "id='4772ffd5bfe04fcca33a16e841c4eee9' model='open-mistral-7b' choices=[ChatCompletionResponseStreamChoice(index=0, delta=DeltaMessage(role=None, content=',', tool_calls=None), finish_reason=None)] created=1712846800 object='chat.completion.chunk' usage=None\n",
      "id='4772ffd5bfe04fcca33a16e841c4eee9' model='open-mistral-7b' choices=[ChatCompletionResponseStreamChoice(index=0, delta=DeltaMessage(role=None, content=' specific', tool_calls=None), finish_reason=None)] created=1712846800 object='chat.completion.chunk' usage=None\n",
      "id='4772ffd5bfe04fcca33a16e841c4eee9' model='open-mistral-7b' choices=[ChatCompletionResponseStreamChoice(index=0, delta=DeltaMessage(role=None, content=' origin', tool_calls=None), finish_reason=None)] created=1712846800 object='chat.completion.chunk' usage=None\n",
      "id='4772ffd5bfe04fcca33a16e841c4eee9' model='open-mistral-7b' choices=[ChatCompletionResponseStreamChoice(index=0, delta=DeltaMessage(role=None, content=' within', tool_calls=None), finish_reason=None)] created=1712846800 object='chat.completion.chunk' usage=None\n",
      "id='4772ffd5bfe04fcca33a16e841c4eee9' model='open-mistral-7b' choices=[ChatCompletionResponseStreamChoice(index=0, delta=DeltaMessage(role=None, content=' the', tool_calls=None), finish_reason=None)] created=1712846800 object='chat.completion.chunk' usage=None\n",
      "id='4772ffd5bfe04fcca33a16e841c4eee9' model='open-mistral-7b' choices=[ChatCompletionResponseStreamChoice(index=0, delta=DeltaMessage(role=None, content=' region', tool_calls=None), finish_reason=None)] created=1712846800 object='chat.completion.chunk' usage=None\n",
      "id='4772ffd5bfe04fcca33a16e841c4eee9' model='open-mistral-7b' choices=[ChatCompletionResponseStreamChoice(index=0, delta=DeltaMessage(role=None, content=',', tool_calls=None), finish_reason=None)] created=1712846800 object='chat.completion.chunk' usage=None\n",
      "id='4772ffd5bfe04fcca33a16e841c4eee9' model='open-mistral-7b' choices=[ChatCompletionResponseStreamChoice(index=0, delta=DeltaMessage(role=None, content=' and', tool_calls=None), finish_reason=None)] created=1712846800 object='chat.completion.chunk' usage=None\n",
      "id='4772ffd5bfe04fcca33a16e841c4eee9' model='open-mistral-7b' choices=[ChatCompletionResponseStreamChoice(index=0, delta=DeltaMessage(role=None, content=' even', tool_calls=None), finish_reason=None)] created=1712846800 object='chat.completion.chunk' usage=None\n",
      "id='4772ffd5bfe04fcca33a16e841c4eee9' model='open-mistral-7b' choices=[ChatCompletionResponseStreamChoice(index=0, delta=DeltaMessage(role=None, content=' the', tool_calls=None), finish_reason=None)] created=1712846800 object='chat.completion.chunk' usage=None\n",
      "id='4772ffd5bfe04fcca33a16e841c4eee9' model='open-mistral-7b' choices=[ChatCompletionResponseStreamChoice(index=0, delta=DeltaMessage(role=None, content=' time', tool_calls=None), finish_reason=None)] created=1712846800 object='chat.completion.chunk' usage=None\n",
      "id='4772ffd5bfe04fcca33a16e841c4eee9' model='open-mistral-7b' choices=[ChatCompletionResponseStreamChoice(index=0, delta=DeltaMessage(role=None, content=' of', tool_calls=None), finish_reason=None)] created=1712846800 object='chat.completion.chunk' usage=None\n",
      "id='4772ffd5bfe04fcca33a16e841c4eee9' model='open-mistral-7b' choices=[ChatCompletionResponseStreamChoice(index=0, delta=DeltaMessage(role=None, content=' year', tool_calls=None), finish_reason=None)] created=1712846800 object='chat.completion.chunk' usage=None\n",
      "id='4772ffd5bfe04fcca33a16e841c4eee9' model='open-mistral-7b' choices=[ChatCompletionResponseStreamChoice(index=0, delta=DeltaMessage(role=None, content=' it', tool_calls=None), finish_reason=None)] created=1712846800 object='chat.completion.chunk' usage=None\n",
      "id='4772ffd5bfe04fcca33a16e841c4eee9' model='open-mistral-7b' choices=[ChatCompletionResponseStreamChoice(index=0, delta=DeltaMessage(role=None, content=' was', tool_calls=None), finish_reason=None)] created=1712846800 object='chat.completion.chunk' usage=None\n",
      "id='4772ffd5bfe04fcca33a16e841c4eee9' model='open-mistral-7b' choices=[ChatCompletionResponseStreamChoice(index=0, delta=DeltaMessage(role=None, content=' produced', tool_calls=None), finish_reason=None)] created=1712846800 object='chat.completion.chunk' usage=None\n",
      "id='4772ffd5bfe04fcca33a16e841c4eee9' model='open-mistral-7b' choices=[ChatCompletionResponseStreamChoice(index=0, delta=DeltaMessage(role=None, content='.', tool_calls=None), finish_reason=None)] created=1712846800 object='chat.completion.chunk' usage=None\n",
      "id='4772ffd5bfe04fcca33a16e841c4eee9' model='open-mistral-7b' choices=[ChatCompletionResponseStreamChoice(index=0, delta=DeltaMessage(role=None, content='', tool_calls=None), finish_reason=<FinishReason.stop: 'stop'>)] created=1712846800 object='chat.completion.chunk' usage=UsageInfo(prompt_tokens=376, total_tokens=771, completion_tokens=395)\n"
     ]
    }
   ],
   "source": [
    "for chunk in stream_response: print(chunk)"
   ]
  },
  {
   "cell_type": "code",
   "execution_count": null,
   "metadata": {},
   "outputs": [
    {
     "name": "stdout",
     "output_type": "stream",
     "text": [
      "\n",
      "British\n",
      " cheese\n",
      " is\n",
      " diverse\n",
      " and\n",
      " offers\n",
      " a\n",
      " wide\n",
      " range\n",
      " of\n",
      " flav\n",
      "ors\n",
      ",\n",
      " text\n",
      "ures\n",
      ",\n",
      " and\n",
      " milk\n",
      " sources\n",
      ".\n",
      " Here\n",
      " are\n",
      " some\n",
      " popular\n",
      " and\n",
      " highly\n",
      " regarded\n",
      " British\n",
      " che\n",
      "es\n",
      "es\n",
      ":\n",
      "\n",
      "\n",
      "1\n",
      ".\n",
      " C\n",
      "hed\n",
      "dar\n",
      ":\n",
      " A\n",
      " hard\n",
      ",\n",
      " smooth\n",
      "-\n",
      "text\n",
      "ured\n",
      ",\n",
      " and\n",
      " cr\n",
      "umb\n",
      "ly\n",
      " cow\n",
      "'\n",
      "s\n",
      " milk\n",
      " cheese\n",
      " with\n",
      " a\n",
      " strong\n",
      ",\n",
      " sav\n",
      "ory\n",
      ",\n",
      " and\n",
      " slightly\n",
      " sweet\n",
      " flavor\n",
      ".\n",
      "\n",
      "2\n",
      ".\n",
      " St\n",
      "ilton\n",
      ":\n",
      " A\n",
      " blue\n",
      "-\n",
      "ve\n",
      "ined\n",
      ",\n",
      " cow\n",
      "'\n",
      "s\n",
      " milk\n",
      " cheese\n",
      " with\n",
      " a\n",
      " strong\n",
      ",\n",
      " p\n",
      "ung\n",
      "ent\n",
      " arom\n",
      "a\n",
      " and\n",
      " a\n",
      " tang\n",
      "y\n",
      ",\n",
      " sal\n",
      "ty\n",
      ",\n",
      " and\n",
      " cream\n",
      "y\n",
      " taste\n",
      ".\n",
      "\n",
      "3\n",
      ".\n",
      " Che\n",
      "shire\n",
      ":\n",
      " A\n",
      " semi\n",
      "-\n",
      "hard\n",
      ",\n",
      " cr\n",
      "umb\n",
      "ly\n",
      ",\n",
      " and\n",
      " slightly\n",
      " tang\n",
      "y\n",
      " cow\n",
      "'\n",
      "s\n",
      " milk\n",
      " cheese\n",
      " with\n",
      " a\n",
      " mild\n",
      " and\n",
      " butter\n",
      "y\n",
      " flavor\n",
      ".\n",
      "\n",
      "4\n",
      ".\n",
      " W\n",
      "ens\n",
      "ley\n",
      "dale\n",
      ":\n",
      " A\n",
      " soft\n",
      ",\n",
      " cr\n",
      "umb\n",
      "ly\n",
      ",\n",
      " and\n",
      " slightly\n",
      " sweet\n",
      " sheep\n",
      "'\n",
      "s\n",
      " milk\n",
      " cheese\n",
      " with\n",
      " a\n",
      " mild\n",
      " and\n",
      " cream\n",
      "y\n",
      " flavor\n",
      ",\n",
      " often\n",
      " pa\n",
      "ired\n",
      " with\n",
      " fruit\n",
      " or\n",
      " honey\n",
      ".\n",
      "\n",
      "5\n",
      ".\n",
      " Red\n",
      " Le\n",
      "ices\n",
      "ter\n",
      ":\n",
      " A\n",
      " semi\n",
      "-\n",
      "hard\n",
      ",\n",
      " orange\n",
      "-\n",
      "colored\n",
      " cow\n",
      "'\n",
      "s\n",
      " milk\n",
      " cheese\n",
      " with\n",
      " a\n",
      " sharp\n",
      " and\n",
      " slightly\n",
      " sweet\n",
      " flavor\n",
      ".\n",
      "\n",
      "6\n",
      ".\n",
      " Lanc\n",
      "ash\n",
      "ire\n",
      ":\n",
      " A\n",
      " semi\n",
      "-\n",
      "soft\n",
      ",\n",
      " cr\n",
      "umb\n",
      "ly\n",
      ",\n",
      " and\n",
      " tang\n",
      "y\n",
      " cow\n",
      "'\n",
      "s\n",
      " milk\n",
      " cheese\n",
      " with\n",
      " a\n",
      " distinctive\n",
      " p\n",
      "iqu\n",
      "ant\n",
      " and\n",
      " slightly\n",
      " sour\n",
      " taste\n",
      ".\n",
      "\n",
      "7\n",
      ".\n",
      " Dor\n",
      "set\n",
      " Dr\n",
      "um\n",
      ":\n",
      " A\n",
      " hard\n",
      ",\n",
      " sm\n",
      "oked\n",
      " cow\n",
      "'\n",
      "s\n",
      " milk\n",
      " cheese\n",
      " with\n",
      " a\n",
      " strong\n",
      ",\n",
      " sm\n",
      "ok\n",
      "y\n",
      ",\n",
      " and\n",
      " slightly\n",
      " sweet\n",
      " flavor\n",
      ".\n",
      "\n",
      "8\n",
      ".\n",
      " Y\n",
      "arg\n",
      ":\n",
      " A\n",
      " soft\n",
      ",\n",
      " blo\n",
      "omy\n",
      "-\n",
      "r\n",
      "ind\n",
      " cow\n",
      "'\n",
      "s\n",
      " milk\n",
      " cheese\n",
      " with\n",
      " a\n",
      " mild\n",
      " and\n",
      " cream\n",
      "y\n",
      " flavor\n",
      " and\n",
      " a\n",
      " distinctive\n",
      " net\n",
      "tle\n",
      " r\n",
      "ind\n",
      ".\n",
      "\n",
      "\n",
      "These\n",
      " che\n",
      "es\n",
      "es\n",
      " show\n",
      "case\n",
      " the\n",
      " rich\n",
      " and\n",
      " diverse\n",
      " cheese\n",
      "-\n",
      "making\n",
      " tradition\n",
      " in\n",
      " Britain\n",
      ".\n",
      " Try\n",
      " a\n",
      " few\n",
      " of\n",
      " these\n",
      " che\n",
      "es\n",
      "es\n",
      " to\n",
      " discover\n",
      " which\n",
      " one\n",
      " suits\n",
      " your\n",
      " taste\n",
      " bud\n",
      "s\n",
      " best\n",
      ".\n",
      "\n"
     ]
    }
   ],
   "source": [
    "stream_response = client.chat_stream(model=m, messages=messages)\n",
    "for chunk in stream_response: print(chunk.choices[0].delta.content)"
   ]
  },
  {
   "cell_type": "markdown",
   "metadata": {},
   "source": [
    "Streaming returns the output of the model as it is being produced."
   ]
  },
  {
   "cell_type": "markdown",
   "metadata": {},
   "source": [
    "### Async"
   ]
  },
  {
   "cell_type": "code",
   "execution_count": null,
   "metadata": {},
   "outputs": [
    {
     "name": "stdout",
     "output_type": "stream",
     "text": [
      "\n",
      "British\n",
      " che\n",
      "es\n",
      "es\n",
      " offer\n",
      " a\n",
      " diverse\n",
      " range\n",
      " of\n",
      " flav\n",
      "ors\n",
      ",\n",
      " text\n",
      "ures\n",
      ",\n",
      " and\n",
      " milk\n",
      " sources\n",
      ".\n",
      " Here\n",
      " are\n",
      " some\n",
      " popular\n",
      " and\n",
      " highly\n",
      " regarded\n",
      " British\n",
      " che\n",
      "es\n",
      "es\n",
      ":\n",
      "\n",
      "\n",
      "1\n",
      ".\n",
      " C\n",
      "hed\n",
      "dar\n",
      ":\n",
      " A\n",
      " hard\n",
      ",\n",
      " tang\n",
      "y\n",
      ",\n",
      " and\n",
      " cr\n",
      "umb\n",
      "ly\n",
      " cow\n",
      "'\n",
      "s\n",
      " milk\n",
      " cheese\n",
      ",\n",
      " origin\n",
      "ating\n",
      " from\n",
      " the\n",
      " English\n",
      " village\n",
      " of\n",
      " C\n",
      "hed\n",
      "dar\n",
      ".\n",
      " It\n",
      " comes\n",
      " in\n",
      " various\n",
      " ages\n",
      ",\n",
      " ranging\n",
      " from\n",
      " mild\n",
      " to\n",
      " strongly\n",
      " p\n",
      "ung\n",
      "ent\n",
      ".\n",
      "\n",
      "2\n",
      ".\n",
      " St\n",
      "ilton\n",
      ":\n",
      " A\n",
      " blue\n",
      "-\n",
      "ve\n",
      "ined\n",
      " cow\n",
      "'\n",
      "s\n",
      " milk\n",
      " cheese\n",
      " with\n",
      " a\n",
      " strong\n",
      ",\n",
      " p\n",
      "ung\n",
      "ent\n",
      " arom\n",
      "a\n",
      " and\n",
      " a\n",
      " sharp\n",
      ",\n",
      " tang\n",
      "y\n",
      " flavor\n",
      ".\n",
      " It\n",
      "'\n",
      "s\n",
      " often\n",
      " described\n",
      " as\n",
      " having\n",
      " a\n",
      " distinctive\n",
      " taste\n",
      " of\n",
      " pen\n",
      "ic\n",
      "ill\n",
      "ium\n",
      " ro\n",
      "qu\n",
      "ef\n",
      "ort\n",
      "i\n",
      ".\n",
      "\n",
      "3\n",
      ".\n",
      " Che\n",
      "shire\n",
      ":\n",
      " A\n",
      " semi\n",
      "-\n",
      "hard\n",
      ",\n",
      " cr\n",
      "umb\n",
      "ly\n",
      ",\n",
      " and\n",
      " slightly\n",
      " tang\n",
      "y\n",
      " cow\n",
      "'\n",
      "s\n",
      " milk\n",
      " cheese\n",
      " with\n",
      " a\n",
      " long\n",
      " history\n",
      " dating\n",
      " back\n",
      " to\n",
      " the\n",
      " Roman\n",
      " times\n",
      ".\n",
      "\n",
      "4\n",
      ".\n",
      " W\n",
      "ens\n",
      "ley\n",
      "dale\n",
      ":\n",
      " A\n",
      " soft\n",
      ",\n",
      " cream\n",
      "y\n",
      " cow\n",
      "'\n",
      "s\n",
      " milk\n",
      " cheese\n",
      " with\n",
      " a\n",
      " mild\n",
      ",\n",
      " slightly\n",
      " sweet\n",
      " flavor\n",
      ",\n",
      " often\n",
      " pa\n",
      "ired\n",
      " with\n",
      " fruit\n",
      " or\n",
      " used\n",
      " in\n",
      " dess\n",
      "erts\n",
      ".\n",
      "\n",
      "5\n",
      ".\n",
      " Lanc\n",
      "ash\n",
      "ire\n",
      ":\n",
      " A\n",
      " cr\n",
      "umb\n",
      "ly\n",
      ",\n",
      " tang\n",
      "y\n",
      ",\n",
      " and\n",
      " slightly\n",
      " sweet\n",
      " cow\n",
      "'\n",
      "s\n",
      " milk\n",
      " cheese\n",
      ",\n",
      " often\n",
      " aged\n",
      " for\n",
      " several\n",
      " months\n",
      " to\n",
      " develop\n",
      " a\n",
      " stronger\n",
      " flavor\n",
      ".\n",
      "\n",
      "6\n",
      ".\n",
      " Red\n",
      " Le\n",
      "ices\n",
      "ter\n",
      ":\n",
      " A\n",
      " semi\n",
      "-\n",
      "hard\n",
      ",\n",
      " orange\n",
      "-\n",
      "colored\n",
      " cow\n",
      "'\n",
      "s\n",
      " milk\n",
      " cheese\n",
      " with\n",
      " a\n",
      " nut\n",
      "ty\n",
      " and\n",
      " slightly\n",
      " sweet\n",
      " taste\n",
      ",\n",
      " often\n",
      " used\n",
      " for\n",
      " cheese\n",
      " on\n",
      " toast\n",
      ".\n",
      "\n",
      "7\n",
      ".\n",
      " W\n",
      "ens\n",
      "ley\n",
      "'\n",
      "s\n",
      " Blue\n",
      ":\n",
      " A\n",
      " blue\n",
      "-\n",
      "ve\n",
      "ined\n",
      " cow\n",
      "'\n",
      "s\n",
      " milk\n",
      " cheese\n",
      " with\n",
      " a\n",
      " cream\n",
      "y\n",
      " texture\n",
      ",\n",
      " mild\n",
      "er\n",
      " than\n",
      " St\n",
      "ilton\n",
      ",\n",
      " and\n",
      " a\n",
      " slightly\n",
      " sweet\n",
      " and\n",
      " tang\n",
      "y\n",
      " flavor\n",
      ".\n",
      "\n",
      "8\n",
      ".\n",
      " Corn\n",
      "ish\n",
      " Y\n",
      "arg\n",
      ":\n",
      " A\n",
      " unique\n",
      ",\n",
      " net\n",
      "tle\n",
      "-\n",
      "wr\n",
      "apped\n",
      ",\n",
      " semi\n",
      "-\n",
      "soft\n",
      " cow\n",
      "'\n",
      "s\n",
      " milk\n",
      " cheese\n",
      " with\n",
      " a\n",
      " mild\n",
      ",\n",
      " slightly\n",
      " sweet\n",
      " and\n",
      " tang\n",
      "y\n",
      " flavor\n",
      ",\n",
      " and\n",
      " a\n",
      " distinct\n",
      ",\n",
      " earth\n",
      "y\n",
      " arom\n",
      "a\n",
      ".\n",
      "\n",
      "\n",
      "Try\n",
      " a\n",
      " few\n",
      " of\n",
      " these\n",
      " British\n",
      " che\n",
      "es\n",
      "es\n",
      " to\n",
      " discover\n",
      " which\n",
      " one\n",
      " suits\n",
      " your\n",
      " taste\n",
      " bud\n",
      "s\n",
      " best\n",
      ".\n",
      " Like\n",
      " French\n",
      " cheese\n",
      ",\n",
      " the\n",
      " taste\n",
      ",\n",
      " texture\n",
      ",\n",
      " and\n",
      " arom\n",
      "a\n",
      " of\n",
      " British\n",
      " cheese\n",
      " can\n",
      " vary\n",
      " depending\n",
      " on\n",
      " its\n",
      " age\n",
      " and\n",
      " specific\n",
      " origin\n",
      " within\n",
      " the\n",
      " region\n",
      ".\n",
      "\n"
     ]
    }
   ],
   "source": [
    "from mistralai.async_client import MistralAsyncClient\n",
    "aclient = MistralAsyncClient(api_key=API_KEY)\n",
    "async_response = aclient.chat_stream(model=m, messages=messages)\n",
    "async for chunk in async_response: print(chunk.choices[0].delta.content)"
   ]
  },
  {
   "cell_type": "markdown",
   "metadata": {},
   "source": [
    "## Chat Class"
   ]
  },
  {
   "cell_type": "markdown",
   "metadata": {},
   "source": [
    "Let's first create a simple class, that when called, can be sued to interact with the endpoint."
   ]
  },
  {
   "cell_type": "markdown",
   "metadata": {},
   "source": [
    "> TODO: Check fastai style guide regarding spacing between methods."
   ]
  },
  {
   "cell_type": "code",
   "execution_count": null,
   "metadata": {},
   "outputs": [],
   "source": [
    "class Chat:\n",
    "  def __init__(self, api_key, model): \n",
    "    self.client = MistralClient(api_key=api_key)\n",
    "    self.model = model\n",
    "\n",
    "    \n",
    "  def __call__(self, message): \n",
    "    messages = [ChatMessage(role='user', content=message)]\n",
    "    response = self.client.chat(model=self.model, messages=messages)\n",
    "    return response.choices[0].message.content"
   ]
  },
  {
   "cell_type": "code",
   "execution_count": null,
   "metadata": {},
   "outputs": [
    {
     "data": {
      "text/plain": [
       "\"I cannot definitively answer which French cheese is the best, as it largely depends on personal preferences and the specific occasion or dish. Here are a few popular French cheeses that are highly regarded:\\n\\n1. Roquefort: A blue-veined cheese from the Massif Central region, known for its pungent and tangy flavor. It's often used in salads or as a topping for bread.\\n\\n2. Camembert: A soft, creamy cheese from Normandy with a distinctive earthy taste. It's often eaten with baguette or used as an ingredient in various dishes.\\n\\n3. Comté: A nutty and slightly sweet semi-hard cheese from the Franche-Comté region. It's often enjoyed in thin slices or grated over dishes.\\n\\n4. Munster: A soft, pungent cheese with a runny texture and distinctive smell from the Alsace region. It's often melted and used in sandwiches or on top of fondue.\\n\\n5. Brie de Meaux: A soft, creamy cheese with a white rind and a mild, buttery flavor. It's often eaten with bread or used as an ingredient in various dishes.\\n\\n6. Cheddar de Jura: A hard, nutty cheese from the Jura Mountains with a complex and savory flavor. It's often used in cooking or savory pastries.\\n\\n7. Chaource: A soft, creamy cheese with a white rind and a mild, buttery flavor from the Ile-de-France region. It's often served with fruit or bread.\\n\\nUltimately, the best French cheese for you depends on your personal taste preferences and the dish or occasion you're planning. I suggest trying a few different varieties to find the one that suits you best.\""
      ]
     },
     "execution_count": null,
     "metadata": {},
     "output_type": "execute_result"
    }
   ],
   "source": [
    "c = Chat(API_KEY, 'open-mistral-7b')\n",
    "c('What is the best French Cheese?')"
   ]
  },
  {
   "cell_type": "markdown",
   "metadata": {},
   "source": [
    "It works! Let's add in history, so the class can be used naturally."
   ]
  },
  {
   "cell_type": "code",
   "execution_count": null,
   "metadata": {},
   "outputs": [],
   "source": [
    "#| export\n",
    "class Chat:\n",
    "  def __init__(self, api_key, model):\n",
    "    '''Initialize the class.'''\n",
    "    self.client = MistralClient(api_key=api_key)\n",
    "    self.model = model\n",
    "    self.history = []\n",
    "\n",
    "\n",
    "  def __call__(self, query): \n",
    "    '''Send a query to the model and return the response.'''\n",
    "    messages = self.history + [ChatMessage(role='user', content=query)]\n",
    "    response = self.client.chat(model=self.model, messages=messages).choices[0].message.content\n",
    "    self.write_history(query, response)\n",
    "    return response\n",
    "  \n",
    "  \n",
    "  def write_history(self, query, response):\n",
    "    '''Store the query and response in the history.'''\n",
    "    self.history.append(ChatMessage(role='user', content=query))\n",
    "    self.history.append(ChatMessage(role='assistant', content=response))"
   ]
  },
  {
   "cell_type": "code",
   "execution_count": null,
   "metadata": {},
   "outputs": [],
   "source": [
    "#| hide\n",
    "from nbdev.showdoc import *"
   ]
  },
  {
   "cell_type": "code",
   "execution_count": null,
   "metadata": {},
   "outputs": [
    {
     "data": {
      "text/markdown": [
       "---\n",
       "\n",
       "### Chat.__call__\n",
       "\n",
       ">      Chat.__call__ (query)\n",
       "\n",
       "Send a query to the model and return the response."
      ],
      "text/plain": [
       "---\n",
       "\n",
       "### Chat.__call__\n",
       "\n",
       ">      Chat.__call__ (query)\n",
       "\n",
       "Send a query to the model and return the response."
      ]
     },
     "execution_count": null,
     "metadata": {},
     "output_type": "execute_result"
    }
   ],
   "source": [
    "show_doc(Chat.__call__)"
   ]
  },
  {
   "cell_type": "code",
   "execution_count": null,
   "metadata": {},
   "outputs": [
    {
     "data": {
      "text/markdown": [
       "---\n",
       "\n",
       "### Chat.write_history\n",
       "\n",
       ">      Chat.write_history (query, response)\n",
       "\n",
       "Store the query and response in the history."
      ],
      "text/plain": [
       "---\n",
       "\n",
       "### Chat.write_history\n",
       "\n",
       ">      Chat.write_history (query, response)\n",
       "\n",
       "Store the query and response in the history."
      ]
     },
     "execution_count": null,
     "metadata": {},
     "output_type": "execute_result"
    }
   ],
   "source": [
    "show_doc(Chat.write_history)"
   ]
  },
  {
   "cell_type": "code",
   "execution_count": null,
   "metadata": {},
   "outputs": [
    {
     "data": {
      "text/plain": [
       "'Determining the \"best\" French cheese is subjective and depends on personal preferences. Here are some popular French cheeses that are highly regarded and beloved by many:\\n\\n1. Roquefort: A blue-veined sheep\\'s milk cheese from the Massif Central region, known for its distinctive pungent aroma and tangy, salty flavor.\\n2. Camembert: A soft, creamy cow\\'s milk cheese from Normandy, with a white, downy rind and a rich, earthy taste.\\n3. Comté: A nutty, firm cow\\'s milk cheese from the Franche-Comté region, with a complex flavor and a smooth, buttery texture.\\n4. Brie de Meaux: A soft, creamy cow\\'s milk cheese from the Île-de-France region, with a velvety, white rind and a mild, buttery taste.\\n5. Munster: A smelly, soft, cow\\'s milk cheese from Alsace, with a pungent aroma and a strong, spicy, garlic-like flavor.\\n\\nUltimately, the best French cheese for you comes down to your personal taste preferences. If you\\'re unsure, try a variety of French cheeses to discover which ones you enjoy the most.'"
      ]
     },
     "execution_count": null,
     "metadata": {},
     "output_type": "execute_result"
    }
   ],
   "source": [
    "c = Chat(API_KEY, m)\n",
    "c('What is the best French cheese?')"
   ]
  },
  {
   "cell_type": "code",
   "execution_count": null,
   "metadata": {},
   "outputs": [
    {
     "data": {
      "text/plain": [
       "\"British cheeses offer a diverse range of flavors and textures as well. Here are some popular British cheeses that are highly regarded:\\n\\n1. Cheddar: A hard, tangy, and crumbly cow's milk cheese originally from the English county of Somerset, with a strong flavor that becomes sharper with aging.\\n2. Stilton: A blue-veined, cow's milk cheese from the East Midlands, characterized by its distinctive tangy, salty, and pungent flavor.\\n3. Cheshire: A semi-hard, crumbly cow's milk cheese from Cheshire in northwest England, with a mild, slightly sweet taste.\\n4. Wensleydale: A soft, crumbly cow's milk cheese from the Yorkshire Dales, with a mild, slightly sweet flavor that can be enhanced with the addition of fruits or honey.\\n5. Cheshire Gorge: A pungent, smear-ripened cow's milk cheese from Cheshire, with a creamy texture and a strong, tangy flavor.\\n\\nThese are just a few examples of the many delicious British cheeses available. As with French cheeses, the best British cheese for you depends on your personal taste preferences.\""
      ]
     },
     "execution_count": null,
     "metadata": {},
     "output_type": "execute_result"
    }
   ],
   "source": [
    "c('What about the British variety?')"
   ]
  },
  {
   "cell_type": "code",
   "execution_count": null,
   "metadata": {},
   "outputs": [
    {
     "data": {
      "text/plain": [
       "'I don\\'t have personal taste preferences or the ability to favorite foods, but I can share that I enjoy learning about and appreciating the unique characteristics of various cheeses from around the world, including French and British varieties. Each cheese has its distinct flavor profile and texture that can enhance culinary experiences. So, I encourage you to try a variety of cheeses and discover which ones resonate with your palate the most.\\n\\nIf I had to pick a few for their widespread appeal and iconic status, I would suggest the following:\\n\\n1. Brie de Meaux (French) - Its creamy texture and mild, buttery taste make it a classic and beloved favorite.\\n2. Cheddar (British) - Its tangy, crumbly texture and versatility make it a staple in many households and cuisines.\\n3. Stilton (British) - Its distinctive pungent aroma and strong, spicy flavor make it a bold and delicious choice for those who enjoy a strong cheese.\\n\\nOf course, the \"best\" cheese is subjective and ultimately comes down to personal preference. I encourage everyone to explore and discover their favorite cheeses!'"
      ]
     },
     "execution_count": null,
     "metadata": {},
     "output_type": "execute_result"
    }
   ],
   "source": [
    "c('Do you have any favorite?')"
   ]
  },
  {
   "cell_type": "markdown",
   "metadata": {},
   "source": [
    "And now we have a basic functioning chat component!"
   ]
  },
  {
   "cell_type": "markdown",
   "metadata": {},
   "source": [
    "## Export -"
   ]
  },
  {
   "cell_type": "code",
   "execution_count": null,
   "metadata": {},
   "outputs": [],
   "source": [
    "#| hide\n",
    "import nbdev; nbdev.nbdev_export()"
   ]
  },
  {
   "cell_type": "code",
   "execution_count": null,
   "metadata": {},
   "outputs": [],
   "source": []
  }
 ],
 "metadata": {
  "kernelspec": {
   "display_name": "python3",
   "language": "python",
   "name": "python3"
  }
 },
 "nbformat": 4,
 "nbformat_minor": 4
}
