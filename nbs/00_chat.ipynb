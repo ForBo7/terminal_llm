{
 "cells": [
  {
   "cell_type": "code",
   "execution_count": null,
   "metadata": {},
   "outputs": [],
   "source": [
    "%load_ext autoreload\n",
    "%autoreload 2"
   ]
  },
  {
   "cell_type": "markdown",
   "metadata": {},
   "source": [
    "# chat\n",
    "\n",
    "> A simple interface for the Mistral API."
   ]
  },
  {
   "cell_type": "markdown",
   "metadata": {},
   "source": [
    "> This notebook follows the [fastai style guide](https://docs.fast.ai/dev/style.html). (perhaps move this to the index page only.)"
   ]
  },
  {
   "cell_type": "code",
   "execution_count": null,
   "metadata": {},
   "outputs": [],
   "source": [
    "#| default_exp chat "
   ]
  },
  {
   "cell_type": "markdown",
   "metadata": {},
   "source": [
    "## API Key"
   ]
  },
  {
   "cell_type": "markdown",
   "metadata": {},
   "source": [
    "Testing our API key to see check whether we have it working correctly."
   ]
  },
  {
   "cell_type": "code",
   "execution_count": null,
   "metadata": {},
   "outputs": [],
   "source": [
    "import os\n",
    "API_KEY = os.environ.get('MISTRAL_API_KEY', 'KEY NOT FOUND')\n",
    "message = 'Who is the most renowned French artist?'\n",
    "h = {'Content-Type': 'application/json', 'Accept': 'application/json', 'Authorization': f'Bearer {API_KEY}'}\n",
    "d = {'model': 'open-mistral-7b', 'messages': [{'role': 'user', 'content': message}]}"
   ]
  },
  {
   "cell_type": "code",
   "execution_count": null,
   "metadata": {},
   "outputs": [
    {
     "data": {
      "text/plain": [
       "200"
      ]
     },
     "execution_count": null,
     "metadata": {},
     "output_type": "execute_result"
    }
   ],
   "source": [
    "import requests\n",
    "URL = 'https://api.mistral.ai/v1/chat/completions'\n",
    "r = requests.post(URL, headers=h, json=d); r.status_code"
   ]
  },
  {
   "cell_type": "code",
   "execution_count": null,
   "metadata": {},
   "outputs": [
    {
     "data": {
      "text/plain": [
       "\"There are many renowned French artists across various artistic mediums, but some of the most famous ones include:\\n\\n1. Leonardo da Vinci (1452-1519): Although he was an Italian artist, he spent his last few years in France, and some of his most famous works were completed there. The Mona Lisa and The Last Supper are among his most famous works.\\n\\n2. Claude Monet (1840-1926): Monet is considered the founder of Impressionism, a revolutionary art movement. Some of his most famous works include Water Lilies, Impression, Sunrise, and Rouen Cathedral series.\\n\\n3. Pablo Picasso (1881-1973): Picasso was a Spanish artist who lived and worked in France for most of his life. He is one of the most influential artists of the 20th century, and he co-founded the Cubist movement. Some of his most famous works include Les Demoiselles d'Avignon, Guernica, and The Old Guitarist.\\n\\n4. Henri Matisse (1869-1954): Matisse was a leading figure in Modernist painting and sculpture. He is known for his use of color and his innovative compositions. Some of his most famous works include The Red Studio, The Woman with a Hat, and The Snail.\\n\\n5. Edgar Degas (1834-1917): Degas was a painter and sculptor who is known for his depictions of ballet dancers and racehorses. He was a leading figure in Impressionism and Post-Impressionism. Some of his most famous works include The Dance Class, The Bellelli Family, and The Absinthe Drinker.\""
      ]
     },
     "execution_count": null,
     "metadata": {},
     "output_type": "execute_result"
    }
   ],
   "source": [
    "# r.json()['choices'][0]['message']['content']"
   ]
  },
  {
   "cell_type": "markdown",
   "metadata": {},
   "source": [
    "Exploring how message history would work."
   ]
  },
  {
   "cell_type": "code",
   "execution_count": null,
   "metadata": {},
   "outputs": [
    {
     "data": {
      "text/plain": [
       "\"I'd be happy to help answer any questions you have about Britain or the United Kingdom. Here are some common topics related to Britain that people often ask about:\\n\\n1. Geography: Where is Britain located? What countries make up the United Kingdom? What are the major cities in the UK?\\n2. History: When was Britain founded? What significant historical events have taken place in Britain? Who were some famous British monarchs?\\n3. Culture: What is British culture like? What are some traditional British foods? What are some popular British customs and traditions?\\n4. Politics: What is the British government like? Who are the current political leaders in the UK? What are the major political parties in the UK?\\n5. Education: What is the education system like in Britain? What are some famous British universities?\\n6. Travel: What are some popular tourist destinations in Britain? What are some tips for traveling in the UK?\\n7. Sports: What are some popular sports in Britain? Who are some famous British athletes?\\n8. Business: What is the economy of Britain like? What are some major industries in the UK?\\n9. Technology: What is the technology scene like in Britain? What are some major tech companies based in the UK?\\n10. Entertainment: What are some famous British musicians, actors, and writers? What are some popular British TV shows and movies?\\n\\nI hope that gives you a good idea of the types of things I can help answer about Britain. Let me know if you have any specific questions!\""
      ]
     },
     "execution_count": null,
     "metadata": {},
     "output_type": "execute_result"
    }
   ],
   "source": [
    "m = 'How about from Britian?'\n",
    "d['messages'][0]['content'] = m\n",
    "r = requests.post(URL, headers=h, json=d)\n",
    "# r.json()['choices'][0]['message']['content']"
   ]
  },
  {
   "cell_type": "markdown",
   "metadata": {},
   "source": [
    "It seems that prior interactions are not stored. Therefore, we will have to do this ourselves."
   ]
  },
  {
   "cell_type": "markdown",
   "metadata": {},
   "source": [
    "## Mistral Library"
   ]
  },
  {
   "cell_type": "markdown",
   "metadata": {},
   "source": [
    "The MistralAI library allows three different ways to use the API.\n",
    "- No streaming.\n",
    "- With streaming.\n",
    "- Async."
   ]
  },
  {
   "cell_type": "code",
   "execution_count": null,
   "metadata": {},
   "outputs": [],
   "source": [
    "#| export\n",
    "from mistralai.client import MistralClient\n",
    "from mistralai.models.chat_completion import ChatMessage"
   ]
  },
  {
   "cell_type": "code",
   "execution_count": null,
   "metadata": {},
   "outputs": [],
   "source": [
    "client = MistralClient(api_key=API_KEY)\n",
    "messages = [ChatMessage(role='user', content='What is the best French cheese?')]"
   ]
  },
  {
   "cell_type": "markdown",
   "metadata": {},
   "source": [
    "### No Streaming"
   ]
  },
  {
   "cell_type": "code",
   "execution_count": null,
   "metadata": {},
   "outputs": [
    {
     "data": {
      "text/plain": [
       "ChatCompletionResponse(id='d7c35eda5e7345ca9daf28cb956a7d08', object='chat.completion', created=1712839000, model='open-mistral-7b', choices=[ChatCompletionResponseChoice(index=0, message=ChatMessage(role='assistant', content='Determining the \"best\" French cheese is subjective and depends on personal preferences. Here are a few renowned French cheeses that are widely appreciated for their unique flavors and textures:\\n\\n1. Roquefort: A blue-veined sheep\\'s milk cheese from the Massif Central region. It has a strong, pungent flavor and a creamy texture.\\n\\n2. Comté: A nutty and slightly sweet cow\\'s milk cheese from the Jura region. It has a firm texture and can be aged for various lengths of time.\\n\\n3. Camembert de Normandie: A soft, earthy cow\\'s milk cheese from Normandy. It has a white bloom rind and a creamy, runny texture.\\n\\n4. Brie de Meaux: A soft, creamy cow\\'s milk cheese from the Île-de-France region. It has a white, downy rind and a mild, buttery flavor.\\n\\n5. Munster: A pungent, smelly cow\\'s milk cheese from the Alsace region. It has a gooey, runny texture and a strong, sulfurous aroma.\\n\\n6. Époisses de Bourgogne: A soft, pungent cow\\'s milk cheese from Burgundy. It has a pink rind and a strong, pungent flavor.\\n\\nUltimately, the best French cheese for you depends on your personal taste preferences. You may want to try a few different varieties to find your favorite.', name=None, tool_calls=None), finish_reason=<FinishReason.stop: 'stop'>)], usage=UsageInfo(prompt_tokens=15, total_tokens=350, completion_tokens=335))"
      ]
     },
     "execution_count": null,
     "metadata": {},
     "output_type": "execute_result"
    }
   ],
   "source": [
    "m = 'open-mistral-7b'\n",
    "chat_response = client.chat(model=m, messages=messages); chat_response"
   ]
  },
  {
   "cell_type": "code",
   "execution_count": null,
   "metadata": {},
   "outputs": [
    {
     "data": {
      "text/plain": [
       "'Determining the \"best\" French cheese is subjective and depends on personal preferences. Here are a few renowned French cheeses that are widely appreciated for their unique flavors and textures:\\n\\n1. Roquefort: A blue-veined sheep\\'s milk cheese from the Massif Central region. It has a strong, pungent flavor and a creamy texture.\\n\\n2. Comté: A nutty and slightly sweet cow\\'s milk cheese from the Jura region. It has a firm texture and can be aged for various lengths of time.\\n\\n3. Camembert de Normandie: A soft, earthy cow\\'s milk cheese from Normandy. It has a white bloom rind and a creamy, runny texture.\\n\\n4. Brie de Meaux: A soft, creamy cow\\'s milk cheese from the Île-de-France region. It has a white, downy rind and a mild, buttery flavor.\\n\\n5. Munster: A pungent, smelly cow\\'s milk cheese from the Alsace region. It has a gooey, runny texture and a strong, sulfurous aroma.\\n\\n6. Époisses de Bourgogne: A soft, pungent cow\\'s milk cheese from Burgundy. It has a pink rind and a strong, pungent flavor.\\n\\nUltimately, the best French cheese for you depends on your personal taste preferences. You may want to try a few different varieties to find your favorite.'"
      ]
     },
     "execution_count": null,
     "metadata": {},
     "output_type": "execute_result"
    }
   ],
   "source": [
    "chat_response.choices[0].message.content"
   ]
  },
  {
   "cell_type": "markdown",
   "metadata": {},
   "source": [
    "No streaming returns the entire message at once."
   ]
  },
  {
   "cell_type": "markdown",
   "metadata": {},
   "source": [
    "## Export -"
   ]
  },
  {
   "cell_type": "code",
   "execution_count": null,
   "metadata": {},
   "outputs": [],
   "source": [
    "#| hide\n",
    "import nbdev; nbdev.nbdev_export()"
   ]
  }
 ],
 "metadata": {
  "kernelspec": {
   "display_name": "python3",
   "language": "python",
   "name": "python3"
  }
 },
 "nbformat": 4,
 "nbformat_minor": 4
}
