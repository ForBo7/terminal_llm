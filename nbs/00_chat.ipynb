{
 "cells": [
  {
   "cell_type": "code",
   "execution_count": null,
   "metadata": {},
   "outputs": [],
   "source": [
    "%load_ext autoreload\n",
    "%autoreload 2"
   ]
  },
  {
   "cell_type": "markdown",
   "metadata": {},
   "source": [
    "# chat\n",
    "\n",
    "> A simple interface for the Mistral API."
   ]
  },
  {
   "cell_type": "markdown",
   "metadata": {},
   "source": [
    "> This notebook follows the [fastai style guide](https://docs.fast.ai/dev/style.html). (perhaps move this to the index page only.)"
   ]
  },
  {
   "cell_type": "code",
   "execution_count": null,
   "metadata": {},
   "outputs": [],
   "source": [
    "#| default_exp chat "
   ]
  },
  {
   "cell_type": "markdown",
   "metadata": {},
   "source": [
    "## API Key"
   ]
  },
  {
   "cell_type": "markdown",
   "metadata": {},
   "source": [
    "Testing our API key to see check whether we have it working correctly."
   ]
  },
  {
   "cell_type": "code",
   "execution_count": null,
   "metadata": {},
   "outputs": [],
   "source": [
    "import os\n",
    "API_KEY = os.environ.get('MISTRAL_API_KEY', 'KEY NOT FOUND')\n",
    "message = 'Who is the most renowned French artist?'\n",
    "h = {'Content-Type': 'application/json', 'Accept': 'application/json', 'Authorization': f'Bearer {API_KEY}'}\n",
    "d = {'model': 'open-mistral-7b', 'messages': [{'role': 'user', 'content': message}]}"
   ]
  },
  {
   "cell_type": "code",
   "execution_count": null,
   "metadata": {},
   "outputs": [
    {
     "data": {
      "text/plain": [
       "200"
      ]
     },
     "execution_count": null,
     "metadata": {},
     "output_type": "execute_result"
    }
   ],
   "source": [
    "import requests\n",
    "URL = 'https://api.mistral.ai/v1/chat/completions'\n",
    "r = requests.post(URL, headers=h, json=d); r.status_code"
   ]
  },
  {
   "cell_type": "code",
   "execution_count": null,
   "metadata": {},
   "outputs": [
    {
     "data": {
      "text/plain": [
       "\"There are many renowned French artists across various artistic mediums, but some of the most famous include:\\n\\n1. Leonardo da Vinci (1452-1519): Although he was an Italian artist, he spent his last few years in France and had a significant impact on French art. He is known for his iconic paintings such as the Mona Lisa and The Last Supper.\\n\\n2. Claude Monet (1840-1926): He is considered the founder of French Impressionism, an art movement characterized by its emphasis on capturing the sensory impressions of a scene, especially as related to painting en plein air (outdoors). Some of his most famous works include Water Lilies and Impression, Sunrise.\\n\\n3. Pablo Picasso (1881-1973): Although Spanish, he spent a significant part of his life in France and is often associated with the country. He co-founded the Cubist movement, which revolutionized European painting and sculpture. Some of his most famous works include Les Demoiselles d'Avignon and Guernica.\\n\\n4. Edgar Degas (1834-1917): He was a leading figure in the Impressionist movement and is known for his paintings and sculptures depicting dance, the horse racecourse, and the urban scene. Some of his most famous works include The Dance Class and The Absinthe Drinker.\\n\\n5. Auguste Renoir (1841-1919): He was a leading painter in the Impressionist movement and is known for his luminous and sensuous depictions of Parisian life. Some of his most famous works include Luncheon of the Boating Party and Dance at Le Moulin de la Galette.\\n\\nThese artists have had a profound impact on the art world and continue to be celebrated for their contributions.\""
      ]
     },
     "execution_count": null,
     "metadata": {},
     "output_type": "execute_result"
    }
   ],
   "source": [
    "r.json()['choices'][0]['message']['content']"
   ]
  },
  {
   "cell_type": "markdown",
   "metadata": {},
   "source": [
    "Exploring how message history would work."
   ]
  },
  {
   "cell_type": "code",
   "execution_count": null,
   "metadata": {},
   "outputs": [],
   "source": [
    "m = 'How about from Britian?'\n",
    "d['messages'][0]['content'] = m\n",
    "r = requests.post(URL, headers=h, json=d)\n",
    "r.json()['choices'][0]['message']['content']"
   ]
  },
  {
   "cell_type": "markdown",
   "metadata": {},
   "source": [
    "It seems that prior interactions are not stored. Therefore, we will have to do this ourselves."
   ]
  },
  {
   "cell_type": "markdown",
   "metadata": {},
   "source": [
    "## Mistral Library"
   ]
  },
  {
   "cell_type": "markdown",
   "metadata": {},
   "source": [
    "The MistralAI library allows three different ways to use the API.\n",
    "- No streaming.\n",
    "- With streaming.\n",
    "- Async."
   ]
  },
  {
   "cell_type": "code",
   "execution_count": null,
   "metadata": {},
   "outputs": [],
   "source": [
    "#| export\n",
    "from mistralai.client import MistralClient\n",
    "from mistralai.models.chat_completion import ChatMessage"
   ]
  },
  {
   "cell_type": "code",
   "execution_count": null,
   "metadata": {},
   "outputs": [],
   "source": [
    "client = MistralClient(api_key=API_KEY)\n",
    "messages = [ChatMessage(role='user', content='What is the best French cheese?')]"
   ]
  },
  {
   "cell_type": "markdown",
   "metadata": {},
   "source": [
    "### No Streaming"
   ]
  },
  {
   "cell_type": "code",
   "execution_count": null,
   "metadata": {},
   "outputs": [
    {
     "data": {
      "text/plain": [
       "ChatCompletionResponse(id='04190adbeefd4270a90e2c0a304af703', object='chat.completion', created=1712844872, model='open-mistral-7b', choices=[ChatCompletionResponseChoice(index=0, message=ChatMessage(role='assistant', content='Choosing the \"best\" French cheese is subjective as it depends on personal preferences. Here are a few popular and highly regarded French cheeses:\\n\\n1. Roquefort: A blue-veined sheep\\'s milk cheese from the Massif Central region. It\\'s known for its strong, pungent flavor and distinctive veining.\\n2. Comté: A nutty and slightly sweet cow\\'s milk cheese from the Franche-Comté region. It\\'s made using traditional methods and has a rich, buttery texture.\\n3. Camembert: A soft, creamy cow\\'s milk cheese from Normandy. It\\'s famous for its earthy, mushroomy flavor and white mold rind.\\n4. Brie de Meaux: A soft, creamy cow\\'s milk cheese from the Ile-de-France region. It\\'s known for its velvety texture, mild, buttery flavor, and white mold rind.\\n5. Munster: A pungent, smelly cow\\'s milk cheese from the Alsace region. It\\'s made using raw milk and has a runny, gooey texture and strong, sulfurous flavor.\\n\\nIf you\\'re looking for a versatile cheese that can be used in cooking, I\\'d recommend Gruyère or Comté. For a more unique and pungent flavor, consider Roquefort or Munster. For a classic, creamy cheese, go for Brie or Camembert.', name=None, tool_calls=None), finish_reason=<FinishReason.stop: 'stop'>)], usage=UsageInfo(prompt_tokens=15, total_tokens=339, completion_tokens=324))"
      ]
     },
     "execution_count": null,
     "metadata": {},
     "output_type": "execute_result"
    }
   ],
   "source": [
    "m = 'open-mistral-7b'\n",
    "chat_response = client.chat(model=m, messages=messages); chat_response"
   ]
  },
  {
   "cell_type": "code",
   "execution_count": null,
   "metadata": {},
   "outputs": [
    {
     "data": {
      "text/plain": [
       "'Choosing the \"best\" French cheese is subjective as it depends on personal preferences. Here are a few popular and highly regarded French cheeses:\\n\\n1. Roquefort: A blue-veined sheep\\'s milk cheese from the Massif Central region. It\\'s known for its strong, pungent flavor and distinctive veining.\\n2. Comté: A nutty and slightly sweet cow\\'s milk cheese from the Franche-Comté region. It\\'s made using traditional methods and has a rich, buttery texture.\\n3. Camembert: A soft, creamy cow\\'s milk cheese from Normandy. It\\'s famous for its earthy, mushroomy flavor and white mold rind.\\n4. Brie de Meaux: A soft, creamy cow\\'s milk cheese from the Ile-de-France region. It\\'s known for its velvety texture, mild, buttery flavor, and white mold rind.\\n5. Munster: A pungent, smelly cow\\'s milk cheese from the Alsace region. It\\'s made using raw milk and has a runny, gooey texture and strong, sulfurous flavor.\\n\\nIf you\\'re looking for a versatile cheese that can be used in cooking, I\\'d recommend Gruyère or Comté. For a more unique and pungent flavor, consider Roquefort or Munster. For a classic, creamy cheese, go for Brie or Camembert.'"
      ]
     },
     "execution_count": null,
     "metadata": {},
     "output_type": "execute_result"
    }
   ],
   "source": [
    "chat_response.choices[0].message.content"
   ]
  },
  {
   "cell_type": "markdown",
   "metadata": {},
   "source": [
    "No streaming returns the entire message at once."
   ]
  },
  {
   "cell_type": "markdown",
   "metadata": {},
   "source": [
    "Let's see whether history is handled through the provided API."
   ]
  },
  {
   "cell_type": "code",
   "execution_count": null,
   "metadata": {},
   "outputs": [
    {
     "data": {
      "text/plain": [
       "'Determining the \"best\" French or British cheese is subjective and depends on personal preferences. Here are some popular and highly regarded options from both countries:\\n\\nFrench Cheeses:\\n1. Roquefort: A blue-veined cheese made from sheep\\'s milk. It has a strong, pungent aroma and a creamy texture.\\n2. Comté: A nutty and slightly sweet cheese made from cow\\'s milk. It has a firm texture and can be aged for different lengths of time.\\n3. Camembert: A soft, white mold-ripened cheese made from cow\\'s milk. It has a rich, earthy flavor and a creamy texture.\\n4. Brie de Meaux: A soft, creamy cheese with a white rind and a mild, buttery flavor. It is often eaten with bread or used as a spread.\\n5. Munster: A soft, smelly cheese with a pungent aroma and a runny, creamy texture. It is made from cow\\'s milk and has a spicy, slightly sweet flavor.\\n\\nBritish Cheeses:\\n1. Cheddar: A hard, sharp-tasting cheese made from cow\\'s milk. It has a crumbly texture and can be aged for different lengths of time.\\n2. Stilton: A blue-veined cheese made from cow\\'s milk. It has a strong, pungent aroma and a creamy, crumbly texture.\\n3. Cheshire: A pale, crumbly cheese made from cow\\'s milk. It has a mild, slightly sweet flavor and is often used in sandwiches or as a table cheese.\\n4. Wensleydale: A soft, crumbly cheese with a mild, slightly sweet flavor. It is often used in desserts or as a table cheese.\\n5. Red Leicester: A hard, orange-colored cheese made from cow\\'s milk. It has a nutty, slightly sweet flavor and is often used in sandwiches or as a table cheese.\\n\\nUltimately, the \"best\" cheese depends on your personal taste preferences. Some people might prefer a strong, pungent blue cheese, while others might prefer a mild, creamy brie. Experiment with different types and find the one that you enjoy the most!'"
      ]
     },
     "execution_count": null,
     "metadata": {},
     "output_type": "execute_result"
    }
   ],
   "source": [
    "messages.append(ChatMessage(role='user', content='What about the British variety?'))\n",
    "chat_response = client.chat(model=m, messages=messages); chat_response.choices[0].message.content"
   ]
  },
  {
   "cell_type": "markdown",
   "metadata": {},
   "source": [
    "It appearas not."
   ]
  },
  {
   "cell_type": "code",
   "execution_count": null,
   "metadata": {},
   "outputs": [
    {
     "name": "stdout",
     "output_type": "stream",
     "text": [
      "\u001b[0;31mInit signature:\u001b[0m\n",
      "\u001b[0mChatMessage\u001b[0m\u001b[0;34m(\u001b[0m\u001b[0;34m\u001b[0m\n",
      "\u001b[0;34m\u001b[0m    \u001b[0;34m*\u001b[0m\u001b[0;34m,\u001b[0m\u001b[0;34m\u001b[0m\n",
      "\u001b[0;34m\u001b[0m    \u001b[0mrole\u001b[0m\u001b[0;34m:\u001b[0m \u001b[0mstr\u001b[0m\u001b[0;34m,\u001b[0m\u001b[0;34m\u001b[0m\n",
      "\u001b[0;34m\u001b[0m    \u001b[0mcontent\u001b[0m\u001b[0;34m:\u001b[0m \u001b[0mUnion\u001b[0m\u001b[0;34m[\u001b[0m\u001b[0mstr\u001b[0m\u001b[0;34m,\u001b[0m \u001b[0mList\u001b[0m\u001b[0;34m[\u001b[0m\u001b[0mstr\u001b[0m\u001b[0;34m]\u001b[0m\u001b[0;34m]\u001b[0m\u001b[0;34m,\u001b[0m\u001b[0;34m\u001b[0m\n",
      "\u001b[0;34m\u001b[0m    \u001b[0mname\u001b[0m\u001b[0;34m:\u001b[0m \u001b[0mOptional\u001b[0m\u001b[0;34m[\u001b[0m\u001b[0mstr\u001b[0m\u001b[0;34m]\u001b[0m \u001b[0;34m=\u001b[0m \u001b[0;32mNone\u001b[0m\u001b[0;34m,\u001b[0m\u001b[0;34m\u001b[0m\n",
      "\u001b[0;34m\u001b[0m    \u001b[0mtool_calls\u001b[0m\u001b[0;34m:\u001b[0m \u001b[0mOptional\u001b[0m\u001b[0;34m[\u001b[0m\u001b[0mList\u001b[0m\u001b[0;34m[\u001b[0m\u001b[0mmistralai\u001b[0m\u001b[0;34m.\u001b[0m\u001b[0mmodels\u001b[0m\u001b[0;34m.\u001b[0m\u001b[0mchat_completion\u001b[0m\u001b[0;34m.\u001b[0m\u001b[0mToolCall\u001b[0m\u001b[0;34m]\u001b[0m\u001b[0;34m]\u001b[0m \u001b[0;34m=\u001b[0m \u001b[0;32mNone\u001b[0m\u001b[0;34m,\u001b[0m\u001b[0;34m\u001b[0m\n",
      "\u001b[0;34m\u001b[0m\u001b[0;34m)\u001b[0m \u001b[0;34m->\u001b[0m \u001b[0;32mNone\u001b[0m\u001b[0;34m\u001b[0m\u001b[0;34m\u001b[0m\u001b[0m\n",
      "\u001b[0;31mDocstring:\u001b[0m     \n",
      "Usage docs: https://docs.pydantic.dev/2.6/concepts/models/\n",
      "\n",
      "A base class for creating Pydantic models.\n",
      "\n",
      "Attributes:\n",
      "    __class_vars__: The names of classvars defined on the model.\n",
      "    __private_attributes__: Metadata about the private attributes of the model.\n",
      "    __signature__: The signature for instantiating the model.\n",
      "\n",
      "    __pydantic_complete__: Whether model building is completed, or if there are still undefined fields.\n",
      "    __pydantic_core_schema__: The pydantic-core schema used to build the SchemaValidator and SchemaSerializer.\n",
      "    __pydantic_custom_init__: Whether the model has a custom `__init__` function.\n",
      "    __pydantic_decorators__: Metadata containing the decorators defined on the model.\n",
      "        This replaces `Model.__validators__` and `Model.__root_validators__` from Pydantic V1.\n",
      "    __pydantic_generic_metadata__: Metadata for generic models; contains data used for a similar purpose to\n",
      "        __args__, __origin__, __parameters__ in typing-module generics. May eventually be replaced by these.\n",
      "    __pydantic_parent_namespace__: Parent namespace of the model, used for automatic rebuilding of models.\n",
      "    __pydantic_post_init__: The name of the post-init method for the model, if defined.\n",
      "    __pydantic_root_model__: Whether the model is a `RootModel`.\n",
      "    __pydantic_serializer__: The pydantic-core SchemaSerializer used to dump instances of the model.\n",
      "    __pydantic_validator__: The pydantic-core SchemaValidator used to validate instances of the model.\n",
      "\n",
      "    __pydantic_extra__: An instance attribute with the values of extra fields from validation when\n",
      "        `model_config['extra'] == 'allow'`.\n",
      "    __pydantic_fields_set__: An instance attribute with the names of fields explicitly set.\n",
      "    __pydantic_private__: Instance attribute with the values of private attributes set on the model instance.\n",
      "\u001b[0;31mInit docstring:\u001b[0m\n",
      "Create a new model by parsing and validating input data from keyword arguments.\n",
      "\n",
      "Raises [`ValidationError`][pydantic_core.ValidationError] if the input data cannot be\n",
      "validated to form a valid model.\n",
      "\n",
      "`self` is explicitly positional-only to allow `self` as a field name.\n",
      "\u001b[0;31mFile:\u001b[0m           ~/mambaforge/envs/terminal-llm/lib/python3.12/site-packages/mistralai/models/chat_completion.py\n",
      "\u001b[0;31mType:\u001b[0m           ModelMetaclass\n",
      "\u001b[0;31mSubclasses:\u001b[0m     "
     ]
    }
   ],
   "source": [
    "?ChatMessage"
   ]
  },
  {
   "cell_type": "code",
   "execution_count": null,
   "metadata": {},
   "outputs": [
    {
     "name": "stdout",
     "output_type": "stream",
     "text": [
      "\u001b[0;31mSignature:\u001b[0m\n",
      "\u001b[0mclient\u001b[0m\u001b[0;34m.\u001b[0m\u001b[0mchat\u001b[0m\u001b[0;34m(\u001b[0m\u001b[0;34m\u001b[0m\n",
      "\u001b[0;34m\u001b[0m    \u001b[0mmessages\u001b[0m\u001b[0;34m:\u001b[0m \u001b[0mList\u001b[0m\u001b[0;34m[\u001b[0m\u001b[0mAny\u001b[0m\u001b[0;34m]\u001b[0m\u001b[0;34m,\u001b[0m\u001b[0;34m\u001b[0m\n",
      "\u001b[0;34m\u001b[0m    \u001b[0mmodel\u001b[0m\u001b[0;34m:\u001b[0m \u001b[0mOptional\u001b[0m\u001b[0;34m[\u001b[0m\u001b[0mstr\u001b[0m\u001b[0;34m]\u001b[0m \u001b[0;34m=\u001b[0m \u001b[0;32mNone\u001b[0m\u001b[0;34m,\u001b[0m\u001b[0;34m\u001b[0m\n",
      "\u001b[0;34m\u001b[0m    \u001b[0mtools\u001b[0m\u001b[0;34m:\u001b[0m \u001b[0mOptional\u001b[0m\u001b[0;34m[\u001b[0m\u001b[0mList\u001b[0m\u001b[0;34m[\u001b[0m\u001b[0mDict\u001b[0m\u001b[0;34m[\u001b[0m\u001b[0mstr\u001b[0m\u001b[0;34m,\u001b[0m \u001b[0mAny\u001b[0m\u001b[0;34m]\u001b[0m\u001b[0;34m]\u001b[0m\u001b[0;34m]\u001b[0m \u001b[0;34m=\u001b[0m \u001b[0;32mNone\u001b[0m\u001b[0;34m,\u001b[0m\u001b[0;34m\u001b[0m\n",
      "\u001b[0;34m\u001b[0m    \u001b[0mtemperature\u001b[0m\u001b[0;34m:\u001b[0m \u001b[0mOptional\u001b[0m\u001b[0;34m[\u001b[0m\u001b[0mfloat\u001b[0m\u001b[0;34m]\u001b[0m \u001b[0;34m=\u001b[0m \u001b[0;32mNone\u001b[0m\u001b[0;34m,\u001b[0m\u001b[0;34m\u001b[0m\n",
      "\u001b[0;34m\u001b[0m    \u001b[0mmax_tokens\u001b[0m\u001b[0;34m:\u001b[0m \u001b[0mOptional\u001b[0m\u001b[0;34m[\u001b[0m\u001b[0mint\u001b[0m\u001b[0;34m]\u001b[0m \u001b[0;34m=\u001b[0m \u001b[0;32mNone\u001b[0m\u001b[0;34m,\u001b[0m\u001b[0;34m\u001b[0m\n",
      "\u001b[0;34m\u001b[0m    \u001b[0mtop_p\u001b[0m\u001b[0;34m:\u001b[0m \u001b[0mOptional\u001b[0m\u001b[0;34m[\u001b[0m\u001b[0mfloat\u001b[0m\u001b[0;34m]\u001b[0m \u001b[0;34m=\u001b[0m \u001b[0;32mNone\u001b[0m\u001b[0;34m,\u001b[0m\u001b[0;34m\u001b[0m\n",
      "\u001b[0;34m\u001b[0m    \u001b[0mrandom_seed\u001b[0m\u001b[0;34m:\u001b[0m \u001b[0mOptional\u001b[0m\u001b[0;34m[\u001b[0m\u001b[0mint\u001b[0m\u001b[0;34m]\u001b[0m \u001b[0;34m=\u001b[0m \u001b[0;32mNone\u001b[0m\u001b[0;34m,\u001b[0m\u001b[0;34m\u001b[0m\n",
      "\u001b[0;34m\u001b[0m    \u001b[0msafe_mode\u001b[0m\u001b[0;34m:\u001b[0m \u001b[0mbool\u001b[0m \u001b[0;34m=\u001b[0m \u001b[0;32mFalse\u001b[0m\u001b[0;34m,\u001b[0m\u001b[0;34m\u001b[0m\n",
      "\u001b[0;34m\u001b[0m    \u001b[0msafe_prompt\u001b[0m\u001b[0;34m:\u001b[0m \u001b[0mbool\u001b[0m \u001b[0;34m=\u001b[0m \u001b[0;32mFalse\u001b[0m\u001b[0;34m,\u001b[0m\u001b[0;34m\u001b[0m\n",
      "\u001b[0;34m\u001b[0m    \u001b[0mtool_choice\u001b[0m\u001b[0;34m:\u001b[0m \u001b[0mUnion\u001b[0m\u001b[0;34m[\u001b[0m\u001b[0mstr\u001b[0m\u001b[0;34m,\u001b[0m \u001b[0mmistralai\u001b[0m\u001b[0;34m.\u001b[0m\u001b[0mmodels\u001b[0m\u001b[0;34m.\u001b[0m\u001b[0mchat_completion\u001b[0m\u001b[0;34m.\u001b[0m\u001b[0mToolChoice\u001b[0m\u001b[0;34m,\u001b[0m \u001b[0mNoneType\u001b[0m\u001b[0;34m]\u001b[0m \u001b[0;34m=\u001b[0m \u001b[0;32mNone\u001b[0m\u001b[0;34m,\u001b[0m\u001b[0;34m\u001b[0m\n",
      "\u001b[0;34m\u001b[0m    \u001b[0mresponse_format\u001b[0m\u001b[0;34m:\u001b[0m \u001b[0mUnion\u001b[0m\u001b[0;34m[\u001b[0m\u001b[0mDict\u001b[0m\u001b[0;34m[\u001b[0m\u001b[0mstr\u001b[0m\u001b[0;34m,\u001b[0m \u001b[0mstr\u001b[0m\u001b[0;34m]\u001b[0m\u001b[0;34m,\u001b[0m \u001b[0mmistralai\u001b[0m\u001b[0;34m.\u001b[0m\u001b[0mmodels\u001b[0m\u001b[0;34m.\u001b[0m\u001b[0mchat_completion\u001b[0m\u001b[0;34m.\u001b[0m\u001b[0mResponseFormat\u001b[0m\u001b[0;34m,\u001b[0m \u001b[0mNoneType\u001b[0m\u001b[0;34m]\u001b[0m \u001b[0;34m=\u001b[0m \u001b[0;32mNone\u001b[0m\u001b[0;34m,\u001b[0m\u001b[0;34m\u001b[0m\n",
      "\u001b[0;34m\u001b[0m\u001b[0;34m)\u001b[0m \u001b[0;34m->\u001b[0m \u001b[0mmistralai\u001b[0m\u001b[0;34m.\u001b[0m\u001b[0mmodels\u001b[0m\u001b[0;34m.\u001b[0m\u001b[0mchat_completion\u001b[0m\u001b[0;34m.\u001b[0m\u001b[0mChatCompletionResponse\u001b[0m\u001b[0;34m\u001b[0m\u001b[0;34m\u001b[0m\u001b[0m\n",
      "\u001b[0;31mDocstring:\u001b[0m\n",
      "A chat endpoint that returns a single response.\n",
      "\n",
      "Args:\n",
      "    model (str): model the name of the model to chat with, e.g. mistral-tiny\n",
      "    messages (List[Any]): messages an array of messages to chat with, e.g.\n",
      "        [{role: 'user', content: 'What is the best French cheese?'}]\n",
      "    tools (Optional[List[Function]], optional): a list of tools to use.\n",
      "    temperature (Optional[float], optional): temperature the temperature to use for sampling, e.g. 0.5.\n",
      "    max_tokens (Optional[int], optional): the maximum number of tokens to generate, e.g. 100. Defaults to None.\n",
      "    top_p (Optional[float], optional): the cumulative probability of tokens to generate, e.g. 0.9.\n",
      "    Defaults to None.\n",
      "    random_seed (Optional[int], optional): the random seed to use for sampling, e.g. 42. Defaults to None.\n",
      "    safe_mode (bool, optional): deprecated, use safe_prompt instead. Defaults to False.\n",
      "    safe_prompt (bool, optional): whether to use safe prompt, e.g. true. Defaults to False.\n",
      "\n",
      "Returns:\n",
      "    ChatCompletionResponse: a response object containing the generated text.\n",
      "\u001b[0;31mFile:\u001b[0m      ~/mambaforge/envs/terminal-llm/lib/python3.12/site-packages/mistralai/client.py\n",
      "\u001b[0;31mType:\u001b[0m      method"
     ]
    }
   ],
   "source": [
    "?client.chat"
   ]
  },
  {
   "cell_type": "code",
   "execution_count": null,
   "metadata": {},
   "outputs": [
    {
     "data": {
      "text/plain": [
       "[ChatMessage(role='user', content='What is the best French cheese?', name=None, tool_calls=None),\n",
       " ChatMessage(role='user', content='What about the British variety?', name=None, tool_calls=None)]"
      ]
     },
     "execution_count": null,
     "metadata": {},
     "output_type": "execute_result"
    }
   ],
   "source": [
    "messages"
   ]
  },
  {
   "cell_type": "markdown",
   "metadata": {},
   "source": [
    "To implement history, we will need to store prior interactions. Each time a new message is sent in the conversation, all prior queries and responses will have to be sent."
   ]
  },
  {
   "cell_type": "code",
   "execution_count": null,
   "metadata": {},
   "outputs": [],
   "source": [
    "def get_response(message): return client.chat(model=m, messages=message).choices[0].message.content"
   ]
  },
  {
   "cell_type": "code",
   "execution_count": null,
   "metadata": {},
   "outputs": [
    {
     "data": {
      "text/plain": [
       "'Determining the \"best\" French cheese is subjective as it depends on personal taste preferences. Here are some popular and highly regarded French cheeses across different categories:\\n\\n1. Roquefort: A blue-veined sheep\\'s milk cheese, known for its distinctive strong flavor and tangy taste.\\n2. Camembert: A soft, creamy cow\\'s milk cheese with a pungent aroma and earthy, mushroomy flavors.\\n3. Comté: A nutty, sweet, and slightly fruity cow\\'s milk cheese, often compared to Swiss Emmental.\\n4. Brie de Meaux: A soft, creamy cow\\'s milk cheese with a rich, buttery, and mildly pungent flavor.\\n5. Munster: A pungent, smelly cow\\'s milk cheese with a gooey, runny texture when ripe.\\n6. Reblochon: A soft, bloomy rind cheese with a rich, creamy texture and a mild but distinctive flavor.\\n7. Cheddar de Jura: A hard, nutty cow\\'s milk cheese with a complex, savory flavor, similar to English cheddar.\\n8. Époisses: A pungent, soft, cow\\'s milk cheese with a runny, gooey texture and a strong, sulfurous aroma.\\n\\nTry a few of these cheeses to discover which one suits your taste buds best. Keep in mind that the taste, texture, and aroma of cheese can vary depending on its age and specific origin within the region.'"
      ]
     },
     "execution_count": null,
     "metadata": {},
     "output_type": "execute_result"
    }
   ],
   "source": [
    "history = []\n",
    "contents = 'What is the best French cheese?'\n",
    "messages = history + [ChatMessage(role='user', content=contents)]\n",
    "response = get_response(messages); response"
   ]
  },
  {
   "cell_type": "code",
   "execution_count": null,
   "metadata": {},
   "outputs": [
    {
     "data": {
      "text/plain": [
       "[ChatMessage(role='user', content='What is the best French cheese?', name=None, tool_calls=None)]"
      ]
     },
     "execution_count": null,
     "metadata": {},
     "output_type": "execute_result"
    }
   ],
   "source": [
    "history.append(ChatMessage(role='user', content=contents)); history"
   ]
  },
  {
   "cell_type": "code",
   "execution_count": null,
   "metadata": {},
   "outputs": [
    {
     "data": {
      "text/plain": [
       "[ChatMessage(role='user', content='What is the best French cheese?', name=None, tool_calls=None),\n",
       " ChatMessage(role='assistant', content='Determining the \"best\" French cheese is subjective as it depends on personal taste preferences. Here are some popular and highly regarded French cheeses across different categories:\\n\\n1. Roquefort: A blue-veined sheep\\'s milk cheese, known for its distinctive strong flavor and tangy taste.\\n2. Camembert: A soft, creamy cow\\'s milk cheese with a pungent aroma and earthy, mushroomy flavors.\\n3. Comté: A nutty, sweet, and slightly fruity cow\\'s milk cheese, often compared to Swiss Emmental.\\n4. Brie de Meaux: A soft, creamy cow\\'s milk cheese with a rich, buttery, and mildly pungent flavor.\\n5. Munster: A pungent, smelly cow\\'s milk cheese with a gooey, runny texture when ripe.\\n6. Reblochon: A soft, bloomy rind cheese with a rich, creamy texture and a mild but distinctive flavor.\\n7. Cheddar de Jura: A hard, nutty cow\\'s milk cheese with a complex, savory flavor, similar to English cheddar.\\n8. Époisses: A pungent, soft, cow\\'s milk cheese with a runny, gooey texture and a strong, sulfurous aroma.\\n\\nTry a few of these cheeses to discover which one suits your taste buds best. Keep in mind that the taste, texture, and aroma of cheese can vary depending on its age and specific origin within the region.', name=None, tool_calls=None)]"
      ]
     },
     "execution_count": null,
     "metadata": {},
     "output_type": "execute_result"
    }
   ],
   "source": [
    "history.append(ChatMessage(role='assistant', content=response)); history"
   ]
  },
  {
   "cell_type": "code",
   "execution_count": null,
   "metadata": {},
   "outputs": [
    {
     "data": {
      "text/plain": [
       "[ChatMessage(role='user', content='What is the best French cheese?', name=None, tool_calls=None),\n",
       " ChatMessage(role='assistant', content='Determining the \"best\" French cheese is subjective as it depends on personal taste preferences. Here are some popular and highly regarded French cheeses across different categories:\\n\\n1. Roquefort: A blue-veined sheep\\'s milk cheese, known for its distinctive strong flavor and tangy taste.\\n2. Camembert: A soft, creamy cow\\'s milk cheese with a pungent aroma and earthy, mushroomy flavors.\\n3. Comté: A nutty, sweet, and slightly fruity cow\\'s milk cheese, often compared to Swiss Emmental.\\n4. Brie de Meaux: A soft, creamy cow\\'s milk cheese with a rich, buttery, and mildly pungent flavor.\\n5. Munster: A pungent, smelly cow\\'s milk cheese with a gooey, runny texture when ripe.\\n6. Reblochon: A soft, bloomy rind cheese with a rich, creamy texture and a mild but distinctive flavor.\\n7. Cheddar de Jura: A hard, nutty cow\\'s milk cheese with a complex, savory flavor, similar to English cheddar.\\n8. Époisses: A pungent, soft, cow\\'s milk cheese with a runny, gooey texture and a strong, sulfurous aroma.\\n\\nTry a few of these cheeses to discover which one suits your taste buds best. Keep in mind that the taste, texture, and aroma of cheese can vary depending on its age and specific origin within the region.', name=None, tool_calls=None),\n",
       " ChatMessage(role='user', content='What about the British variety?', name=None, tool_calls=None)]"
      ]
     },
     "execution_count": null,
     "metadata": {},
     "output_type": "execute_result"
    }
   ],
   "source": [
    "contents = 'What about the British variety?'\n",
    "messages = history + [ChatMessage(role='user', content=contents)]; messages"
   ]
  },
  {
   "cell_type": "code",
   "execution_count": null,
   "metadata": {},
   "outputs": [
    {
     "data": {
      "text/plain": [
       "\"British cheese offers a diverse range of flavors and textures. Here are some popular and highly regarded British cheeses:\\n\\n1. Cheddar: A hard, savory cow's milk cheese with a sharp, tangy flavor and a distinctive crumbly texture when aged.\\n2. Stilton: A blue-veined cheese with a strong, pungent aroma and a creamy, crumbly texture. It is often described as having a distinctive, complex, and slightly salty taste.\\n3. Wensleydale: A soft, creamy, and crumbly cheese with a mild and slightly sweet flavor, often paired with fruits or honey.\\n4. Cheshire: A hard, crumbly cow's milk cheese with a tangy, slightly acidic flavor and a semi-sweet aftertaste.\\n5. Red Leicester: A hard, orange-colored cow's milk cheese with a sharp, tangy flavor and a slightly sweet aftertaste.\\n6. Lincolnshire Poacher: A hard, smoked cow's milk cheese with a rich, smoky flavor and a slightly sweet, buttery finish.\\n7. Somerset Brie: A soft, creamy cow's milk cheese with a mild, buttery flavor and a bloomy rind.\\n8. Wensleydale with Cranberries: A soft, creamy Wensleydale cheese studded with cranberries, offering a sweet and tart contrast to the mild, creamy cheese.\\n\\nThese are just a few of the many British cheeses available, each with its unique characteristics and flavor profile. Try a few to discover which one you prefer.\""
      ]
     },
     "execution_count": null,
     "metadata": {},
     "output_type": "execute_result"
    }
   ],
   "source": [
    "response = get_response(messages); response"
   ]
  },
  {
   "cell_type": "code",
   "execution_count": null,
   "metadata": {},
   "outputs": [
    {
     "data": {
      "text/plain": [
       "[ChatMessage(role='user', content='What is the best French cheese?', name=None, tool_calls=None),\n",
       " ChatMessage(role='assistant', content='Determining the \"best\" French cheese is subjective as it depends on personal taste preferences. Here are some popular and highly regarded French cheeses across different categories:\\n\\n1. Roquefort: A blue-veined sheep\\'s milk cheese, known for its distinctive strong flavor and tangy taste.\\n2. Camembert: A soft, creamy cow\\'s milk cheese with a pungent aroma and earthy, mushroomy flavors.\\n3. Comté: A nutty, sweet, and slightly fruity cow\\'s milk cheese, often compared to Swiss Emmental.\\n4. Brie de Meaux: A soft, creamy cow\\'s milk cheese with a rich, buttery, and mildly pungent flavor.\\n5. Munster: A pungent, smelly cow\\'s milk cheese with a gooey, runny texture when ripe.\\n6. Reblochon: A soft, bloomy rind cheese with a rich, creamy texture and a mild but distinctive flavor.\\n7. Cheddar de Jura: A hard, nutty cow\\'s milk cheese with a complex, savory flavor, similar to English cheddar.\\n8. Époisses: A pungent, soft, cow\\'s milk cheese with a runny, gooey texture and a strong, sulfurous aroma.\\n\\nTry a few of these cheeses to discover which one suits your taste buds best. Keep in mind that the taste, texture, and aroma of cheese can vary depending on its age and specific origin within the region.', name=None, tool_calls=None),\n",
       " ChatMessage(role='user', content='What about the British variety?', name=None, tool_calls=None),\n",
       " ChatMessage(role='assistant', content=\"British cheese offers a diverse range of flavors and textures. Here are some popular and highly regarded British cheeses:\\n\\n1. Cheddar: A hard, savory cow's milk cheese with a sharp, tangy flavor and a distinctive crumbly texture when aged.\\n2. Stilton: A blue-veined cheese with a strong, pungent aroma and a creamy, crumbly texture. It is often described as having a distinctive, complex, and slightly salty taste.\\n3. Wensleydale: A soft, creamy, and crumbly cheese with a mild and slightly sweet flavor, often paired with fruits or honey.\\n4. Cheshire: A hard, crumbly cow's milk cheese with a tangy, slightly acidic flavor and a semi-sweet aftertaste.\\n5. Red Leicester: A hard, orange-colored cow's milk cheese with a sharp, tangy flavor and a slightly sweet aftertaste.\\n6. Lincolnshire Poacher: A hard, smoked cow's milk cheese with a rich, smoky flavor and a slightly sweet, buttery finish.\\n7. Somerset Brie: A soft, creamy cow's milk cheese with a mild, buttery flavor and a bloomy rind.\\n8. Wensleydale with Cranberries: A soft, creamy Wensleydale cheese studded with cranberries, offering a sweet and tart contrast to the mild, creamy cheese.\\n\\nThese are just a few of the many British cheeses available, each with its unique characteristics and flavor profile. Try a few to discover which one you prefer.\", name=None, tool_calls=None)]"
      ]
     },
     "execution_count": null,
     "metadata": {},
     "output_type": "execute_result"
    }
   ],
   "source": [
    "history.append(ChatMessage(role='user', content=contents))\n",
    "history.append(ChatMessage(role='assistant', content=response))\n",
    "history"
   ]
  },
  {
   "cell_type": "markdown",
   "metadata": {},
   "source": [
    "## Export -"
   ]
  },
  {
   "cell_type": "code",
   "execution_count": null,
   "metadata": {},
   "outputs": [],
   "source": [
    "#| hide\n",
    "import nbdev; nbdev.nbdev_export()"
   ]
  }
 ],
 "metadata": {
  "kernelspec": {
   "display_name": "python3",
   "language": "python",
   "name": "python3"
  }
 },
 "nbformat": 4,
 "nbformat_minor": 4
}
