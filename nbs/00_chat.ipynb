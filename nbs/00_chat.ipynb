{
 "cells": [
  {
   "cell_type": "code",
   "execution_count": null,
   "metadata": {},
   "outputs": [],
   "source": [
    "%load_ext autoreload\n",
    "%autoreload 2"
   ]
  },
  {
   "cell_type": "markdown",
   "metadata": {},
   "source": [
    "# chat\n",
    "\n",
    "> A simple interface for the Mistral API."
   ]
  },
  {
   "cell_type": "code",
   "execution_count": null,
   "metadata": {},
   "outputs": [],
   "source": [
    "#| default_exp chat"
   ]
  },
  {
   "cell_type": "markdown",
   "metadata": {},
   "source": [
    "## API Key -"
   ]
  },
  {
   "cell_type": "code",
   "execution_count": null,
   "metadata": {},
   "outputs": [],
   "source": [
    "#| hide\n",
    "import os\n",
    "API_KEY = os.environ.get('MISTRAL_API_KEY', 'KEY NOT FOUND')\n",
    "message = 'Who is the most renowned French artist?'\n",
    "h = {'Content-Type': 'application/json', 'Accept': 'application/json', 'Authorization': f'Bearer {API_KEY}'}\n",
    "d = {'model': 'open-mistral-7b', 'messages': [{'role': 'user', 'content': message}]}"
   ]
  },
  {
   "cell_type": "code",
   "execution_count": null,
   "metadata": {},
   "outputs": [],
   "source": [
    "#| export\n",
    "import requests"
   ]
  },
  {
   "cell_type": "code",
   "execution_count": null,
   "metadata": {},
   "outputs": [
    {
     "data": {
      "text/plain": [
       "401"
      ]
     },
     "execution_count": null,
     "metadata": {},
     "output_type": "execute_result"
    }
   ],
   "source": [
    "#| hide\n",
    "URL = 'https://api.mistral.ai/v1/chat/completions'\n",
    "r = requests.post(URL, headers=h, json=d); r.status_code"
   ]
  },
  {
   "cell_type": "code",
   "execution_count": null,
   "metadata": {},
   "outputs": [
    {
     "data": {
      "text/plain": [
       "'There are many renowned French artists across various art forms, but some of the most famous names in Western art history are:\\n\\n1. Leonardo da Vinci (1452-1519): Although born in Italy, Leonardo spent his formative years and later part of his life in France. His works such as the Mona Lisa and The Last Supper are some of the world\\'s most famous pieces.\\n\\n2. Claude Monet (1840-1926): Monet is considered the founder of Impressionism, one of the most significant movements in art history. Some of his most famous works include Water Lilies and Impression, Sunrise.\\n\\n3. Pablo Picasso (1881-1973): Although Spanish, Picasso spent a significant part of his life in France and is considered a French artist. He is known for co-founding the Cubist movement and creating some of the most influential art of the 20th century.\\n\\n4. Edgar Degas (1834-1917): Degas was a leading figure in the Impressionist movement and is known for his paintings of ballet dancers and horse races.\\n\\n5. Henri Matisse (1869-1954): Matisse was a major figure in Modernist painting and is known for his use of color and his innovative compositions.\\n\\n6. Marcel Duchamp (1887-1968): Duchamp was a pioneer of conceptual art and is best known for his work \"Fountain,\" which challenged traditional definitions of art.\\n\\n7. Frida Kahlo (1907-1954): Although Mexican, Kahlo spent a significant part of her life in France and is considered a French artist. She is known for her surreal and symbolic self-portraits.'"
      ]
     },
     "execution_count": null,
     "metadata": {},
     "output_type": "execute_result"
    }
   ],
   "source": [
    "#| hide\n",
    "r.json()['choices'][0]['message']['content']"
   ]
  },
  {
   "cell_type": "markdown",
   "metadata": {},
   "source": [
    "#| hide\n",
    "Exploring how message history would work."
   ]
  },
  {
   "cell_type": "code",
   "execution_count": null,
   "metadata": {},
   "outputs": [
    {
     "data": {
      "text/plain": [
       "\"I'd be happy to help answer any questions you have related to Britain! However, I need a bit more context to provide a specific answer. Are you asking about a particular aspect of Britain, such as its history, culture, geography, or politics? Or perhaps you have a specific question in mind? Please let me know and I'll do my best to provide you with accurate and up-to-date information.\\n\\nSome general facts about Britain:\\n- Britain is a country located off the northwestern coast of Europe. It consists of four countries: England, Scotland, Wales, and Northern Ireland.\\n- The capital city of Britain is London, which is also the largest city.\\n- Britain is a constitutional monarchy with a parliamentary democratic system of government. The monarch is Queen Elizabeth II.\\n- The official language of Britain is English.\\n- Britain is known for its rich history, diverse culture, and iconic landmarks, including the Tower of London, Stonehenge, and the English countryside.\\n- Britain is a major global power and a member of the G7 and the European Union.\\n\\nI hope that gives you a good starting point for learning about Britain! Let me know if you have any questions or if there's a specific topic you'd like to know more about.\""
      ]
     },
     "execution_count": null,
     "metadata": {},
     "output_type": "execute_result"
    }
   ],
   "source": [
    "#| hide\n",
    "m = 'How about from Britian?'\n",
    "d['messages'][0]['content'] = m\n",
    "r = requests.post(URL, headers=h, json=d)\n",
    "r.json()['choices'][0]['message']['content']"
   ]
  },
  {
   "cell_type": "markdown",
   "metadata": {},
   "source": [
    "## Mistral Library -"
   ]
  },
  {
   "cell_type": "code",
   "execution_count": null,
   "metadata": {},
   "outputs": [],
   "source": [
    "#| export\n",
    "from mistralai.client import MistralClient\n",
    "from mistralai.models.chat_completion import ChatMessage"
   ]
  },
  {
   "cell_type": "code",
   "execution_count": null,
   "metadata": {},
   "outputs": [],
   "source": [
    "#| hide\n",
    "client = MistralClient(api_key=API_KEY)\n",
    "messages = [ChatMessage(role='user', content='What is the best French cheese?')]"
   ]
  },
  {
   "cell_type": "markdown",
   "metadata": {},
   "source": [
    "### No Streaming -"
   ]
  },
  {
   "cell_type": "code",
   "execution_count": null,
   "metadata": {},
   "outputs": [
    {
     "name": "stdout",
     "output_type": "stream",
     "text": [
      "Status: 401. Message: {\n",
      "  \"message\":\"Unauthorized\",\n",
      "  \"request_id\":\"0ca2e10216c36907154551378f5f843c\"\n",
      "}\n"
     ]
    }
   ],
   "source": [
    "#| hide\n",
    "m = 'open-mistral-7ba'\n",
    "try: chat_response = client.chat(model=m, messages=messages, response_format={\"type\": \"json_object\"},)\n",
    "except Exception as e: print(e)"
   ]
  },
  {
   "cell_type": "code",
   "execution_count": null,
   "metadata": {},
   "outputs": [
    {
     "data": {
      "text/plain": [
       "ChatCompletionResponse(id='e490515f56a741399341361d271e67a3', object='chat.completion', created=1713190961, model='open-mistral-7b', choices=[ChatCompletionResponseChoice(index=0, message=ChatMessage(role='assistant', content='It\\'s important to note that the \"best\" French cheese can be subjective, as it depends on personal preferences in terms of texture, taste, and milk source. Here are a few widely recognized and appreciated French cheeses:\\n\\n1. Roquefort: A blue-veined sheep\\'s milk cheese, known for its pungent aroma and tangy, savory flavor.\\n2. Camembert: A soft, creamy cow\\'s milk cheese with a rich, earthy taste and a white, downy rind.\\n3. Comté: A nutty, savory hard cow\\'s milk cheese from the Franche-Comté region, often referred to as the \"French Gruyère.\"\\n4. Brie de Meaux: A soft, creamy cow\\'s milk cheese with a velvety texture and mild, buttery flavor, covered in a bloom of white mold.\\n5. Munster: A soft, pungent cow\\'s milk cheese with a distinctive, runny texture and a strong, aromatic flavor.\\n\\nConsider trying out a few different French cheeses to determine which one is your favorite!', name=None, tool_calls=None), finish_reason=<FinishReason.stop: 'stop'>)], usage=UsageInfo(prompt_tokens=15, total_tokens=265, completion_tokens=250))"
      ]
     },
     "execution_count": null,
     "metadata": {},
     "output_type": "execute_result"
    }
   ],
   "source": [
    "#| hide\n",
    "chat_response"
   ]
  },
  {
   "cell_type": "code",
   "execution_count": null,
   "metadata": {},
   "outputs": [
    {
     "data": {
      "text/plain": [
       "'It\\'s subjective to determine the \"best\" French cheese as it largely depends on personal preference. Here are a few popular and highly regarded French cheeses in various categories:\\n\\n1. Soft Cheese: Brie - A famous French soft cheese with a velvety texture, bloomy rind, and mild, buttery, and slightly sweet flavor.\\n\\n2. Hard Cheese: Comté - A delicious nutty, slightly sweet, and complex-flavored hard cheese from the Franche-Comté region.\\n\\n3. Blue Cheese: Roquefort - A pungent and tangy blue-veined cheese from the Massif Central region. It\\'s known for its distinctive salty, herbal, and spicy taste.\\n\\n4. Goat Cheese: Chevre - A fresh, creamy, and versatile goat cheese that comes in various textures and flavors. This is a must-try for those who enjoy goat cheese.\\n\\n5. Camembert - A soft, earthy, and rich cheese with a white mold rind, originating from Normandy.\\n\\nSo, it depends on your taste preferences, and you may want to try all these cheeses to find your favorite!'"
      ]
     },
     "execution_count": null,
     "metadata": {},
     "output_type": "execute_result"
    }
   ],
   "source": [
    "#| hide\n",
    "chat_response.choices[0].message.content"
   ]
  },
  {
   "cell_type": "markdown",
   "metadata": {},
   "source": [
    "#| hide\n",
    "Let's see whether history is handled through the provided API."
   ]
  },
  {
   "cell_type": "code",
   "execution_count": null,
   "metadata": {},
   "outputs": [
    {
     "data": {
      "text/plain": [
       "'Determining the \"best\" French or British cheese is subjective and depends on personal preference. There are numerous varieties of cheese from both countries, each with unique flavors, textures, and milk sources.\\n\\nFor French cheeses, some popular and highly regarded options include:\\n\\n1. Roquefort: A blue-veined cheese from the Massif Central region of France, known for its strong, pungent flavor and creamy texture.\\n2. Comté: A nutty, slightly sweet, and rich cheese from the Jura Mountains in eastern France. It has a smooth and dense texture.\\n3. Camembert: A soft, white, and creamy cheese from Normandy, France. It develops a distinctive white mold rind and has a strong, earthy, and slightly sour flavor.\\n\\nFor British cheeses:\\n\\n1. Cheddar: A hard, smooth-textured, and sharp-tasting cheese from the English county of Somerset. It has a distinctive tang and is popular for its long-lasting nature.\\n2. Stilton: A blue-veined English cheese from the village of Stilton in Cambridgeshire. Its creamy texture contrasts with its strong, pungent flavor.\\n3. Wensleydale: A mild, creamy, and crumbly cheese from the Yorkshire Dales. It has a slightly sweet and nutty taste.\\n\\nUltimately, the best cheese is a matter of personal preference. It\\'s recommended to try various cheeses from both countries to determine which one suits your taste buds best.'"
      ]
     },
     "execution_count": null,
     "metadata": {},
     "output_type": "execute_result"
    }
   ],
   "source": [
    "#| hide\n",
    "messages.append(ChatMessage(role='user', content='What about the British variety?'))\n",
    "chat_response = client.chat(model=m, messages=messages); chat_response.choices[0].message.content"
   ]
  },
  {
   "cell_type": "markdown",
   "metadata": {},
   "source": [
    "#| hide\n",
    "It appears not."
   ]
  },
  {
   "cell_type": "code",
   "execution_count": null,
   "metadata": {},
   "outputs": [
    {
     "name": "stdout",
     "output_type": "stream",
     "text": [
      "\u001b[0;31mInit signature:\u001b[0m\n",
      "\u001b[0mChatMessage\u001b[0m\u001b[0;34m(\u001b[0m\u001b[0;34m\u001b[0m\n",
      "\u001b[0;34m\u001b[0m    \u001b[0;34m*\u001b[0m\u001b[0;34m,\u001b[0m\u001b[0;34m\u001b[0m\n",
      "\u001b[0;34m\u001b[0m    \u001b[0mrole\u001b[0m\u001b[0;34m:\u001b[0m \u001b[0mstr\u001b[0m\u001b[0;34m,\u001b[0m\u001b[0;34m\u001b[0m\n",
      "\u001b[0;34m\u001b[0m    \u001b[0mcontent\u001b[0m\u001b[0;34m:\u001b[0m \u001b[0mUnion\u001b[0m\u001b[0;34m[\u001b[0m\u001b[0mstr\u001b[0m\u001b[0;34m,\u001b[0m \u001b[0mList\u001b[0m\u001b[0;34m[\u001b[0m\u001b[0mstr\u001b[0m\u001b[0;34m]\u001b[0m\u001b[0;34m]\u001b[0m\u001b[0;34m,\u001b[0m\u001b[0;34m\u001b[0m\n",
      "\u001b[0;34m\u001b[0m    \u001b[0mname\u001b[0m\u001b[0;34m:\u001b[0m \u001b[0mOptional\u001b[0m\u001b[0;34m[\u001b[0m\u001b[0mstr\u001b[0m\u001b[0;34m]\u001b[0m \u001b[0;34m=\u001b[0m \u001b[0;32mNone\u001b[0m\u001b[0;34m,\u001b[0m\u001b[0;34m\u001b[0m\n",
      "\u001b[0;34m\u001b[0m    \u001b[0mtool_calls\u001b[0m\u001b[0;34m:\u001b[0m \u001b[0mOptional\u001b[0m\u001b[0;34m[\u001b[0m\u001b[0mList\u001b[0m\u001b[0;34m[\u001b[0m\u001b[0mmistralai\u001b[0m\u001b[0;34m.\u001b[0m\u001b[0mmodels\u001b[0m\u001b[0;34m.\u001b[0m\u001b[0mchat_completion\u001b[0m\u001b[0;34m.\u001b[0m\u001b[0mToolCall\u001b[0m\u001b[0;34m]\u001b[0m\u001b[0;34m]\u001b[0m \u001b[0;34m=\u001b[0m \u001b[0;32mNone\u001b[0m\u001b[0;34m,\u001b[0m\u001b[0;34m\u001b[0m\n",
      "\u001b[0;34m\u001b[0m\u001b[0;34m)\u001b[0m \u001b[0;34m->\u001b[0m \u001b[0;32mNone\u001b[0m\u001b[0;34m\u001b[0m\u001b[0;34m\u001b[0m\u001b[0m\n",
      "\u001b[0;31mDocstring:\u001b[0m     \n",
      "Usage docs: https://docs.pydantic.dev/2.6/concepts/models/\n",
      "\n",
      "A base class for creating Pydantic models.\n",
      "\n",
      "Attributes:\n",
      "    __class_vars__: The names of classvars defined on the model.\n",
      "    __private_attributes__: Metadata about the private attributes of the model.\n",
      "    __signature__: The signature for instantiating the model.\n",
      "\n",
      "    __pydantic_complete__: Whether model building is completed, or if there are still undefined fields.\n",
      "    __pydantic_core_schema__: The pydantic-core schema used to build the SchemaValidator and SchemaSerializer.\n",
      "    __pydantic_custom_init__: Whether the model has a custom `__init__` function.\n",
      "    __pydantic_decorators__: Metadata containing the decorators defined on the model.\n",
      "        This replaces `Model.__validators__` and `Model.__root_validators__` from Pydantic V1.\n",
      "    __pydantic_generic_metadata__: Metadata for generic models; contains data used for a similar purpose to\n",
      "        __args__, __origin__, __parameters__ in typing-module generics. May eventually be replaced by these.\n",
      "    __pydantic_parent_namespace__: Parent namespace of the model, used for automatic rebuilding of models.\n",
      "    __pydantic_post_init__: The name of the post-init method for the model, if defined.\n",
      "    __pydantic_root_model__: Whether the model is a `RootModel`.\n",
      "    __pydantic_serializer__: The pydantic-core SchemaSerializer used to dump instances of the model.\n",
      "    __pydantic_validator__: The pydantic-core SchemaValidator used to validate instances of the model.\n",
      "\n",
      "    __pydantic_extra__: An instance attribute with the values of extra fields from validation when\n",
      "        `model_config['extra'] == 'allow'`.\n",
      "    __pydantic_fields_set__: An instance attribute with the names of fields explicitly set.\n",
      "    __pydantic_private__: Instance attribute with the values of private attributes set on the model instance.\n",
      "\u001b[0;31mInit docstring:\u001b[0m\n",
      "Create a new model by parsing and validating input data from keyword arguments.\n",
      "\n",
      "Raises [`ValidationError`][pydantic_core.ValidationError] if the input data cannot be\n",
      "validated to form a valid model.\n",
      "\n",
      "`self` is explicitly positional-only to allow `self` as a field name.\n",
      "\u001b[0;31mFile:\u001b[0m           ~/mambaforge/envs/terminal-llm/lib/python3.12/site-packages/mistralai/models/chat_completion.py\n",
      "\u001b[0;31mType:\u001b[0m           ModelMetaclass\n",
      "\u001b[0;31mSubclasses:\u001b[0m     "
     ]
    }
   ],
   "source": [
    "#| hide\n",
    "?ChatMessage"
   ]
  },
  {
   "cell_type": "code",
   "execution_count": null,
   "metadata": {},
   "outputs": [
    {
     "name": "stdout",
     "output_type": "stream",
     "text": [
      "\u001b[0;31mSignature:\u001b[0m\n",
      "\u001b[0mclient\u001b[0m\u001b[0;34m.\u001b[0m\u001b[0mchat\u001b[0m\u001b[0;34m(\u001b[0m\u001b[0;34m\u001b[0m\n",
      "\u001b[0;34m\u001b[0m    \u001b[0mmessages\u001b[0m\u001b[0;34m:\u001b[0m \u001b[0mList\u001b[0m\u001b[0;34m[\u001b[0m\u001b[0mAny\u001b[0m\u001b[0;34m]\u001b[0m\u001b[0;34m,\u001b[0m\u001b[0;34m\u001b[0m\n",
      "\u001b[0;34m\u001b[0m    \u001b[0mmodel\u001b[0m\u001b[0;34m:\u001b[0m \u001b[0mOptional\u001b[0m\u001b[0;34m[\u001b[0m\u001b[0mstr\u001b[0m\u001b[0;34m]\u001b[0m \u001b[0;34m=\u001b[0m \u001b[0;32mNone\u001b[0m\u001b[0;34m,\u001b[0m\u001b[0;34m\u001b[0m\n",
      "\u001b[0;34m\u001b[0m    \u001b[0mtools\u001b[0m\u001b[0;34m:\u001b[0m \u001b[0mOptional\u001b[0m\u001b[0;34m[\u001b[0m\u001b[0mList\u001b[0m\u001b[0;34m[\u001b[0m\u001b[0mDict\u001b[0m\u001b[0;34m[\u001b[0m\u001b[0mstr\u001b[0m\u001b[0;34m,\u001b[0m \u001b[0mAny\u001b[0m\u001b[0;34m]\u001b[0m\u001b[0;34m]\u001b[0m\u001b[0;34m]\u001b[0m \u001b[0;34m=\u001b[0m \u001b[0;32mNone\u001b[0m\u001b[0;34m,\u001b[0m\u001b[0;34m\u001b[0m\n",
      "\u001b[0;34m\u001b[0m    \u001b[0mtemperature\u001b[0m\u001b[0;34m:\u001b[0m \u001b[0mOptional\u001b[0m\u001b[0;34m[\u001b[0m\u001b[0mfloat\u001b[0m\u001b[0;34m]\u001b[0m \u001b[0;34m=\u001b[0m \u001b[0;32mNone\u001b[0m\u001b[0;34m,\u001b[0m\u001b[0;34m\u001b[0m\n",
      "\u001b[0;34m\u001b[0m    \u001b[0mmax_tokens\u001b[0m\u001b[0;34m:\u001b[0m \u001b[0mOptional\u001b[0m\u001b[0;34m[\u001b[0m\u001b[0mint\u001b[0m\u001b[0;34m]\u001b[0m \u001b[0;34m=\u001b[0m \u001b[0;32mNone\u001b[0m\u001b[0;34m,\u001b[0m\u001b[0;34m\u001b[0m\n",
      "\u001b[0;34m\u001b[0m    \u001b[0mtop_p\u001b[0m\u001b[0;34m:\u001b[0m \u001b[0mOptional\u001b[0m\u001b[0;34m[\u001b[0m\u001b[0mfloat\u001b[0m\u001b[0;34m]\u001b[0m \u001b[0;34m=\u001b[0m \u001b[0;32mNone\u001b[0m\u001b[0;34m,\u001b[0m\u001b[0;34m\u001b[0m\n",
      "\u001b[0;34m\u001b[0m    \u001b[0mrandom_seed\u001b[0m\u001b[0;34m:\u001b[0m \u001b[0mOptional\u001b[0m\u001b[0;34m[\u001b[0m\u001b[0mint\u001b[0m\u001b[0;34m]\u001b[0m \u001b[0;34m=\u001b[0m \u001b[0;32mNone\u001b[0m\u001b[0;34m,\u001b[0m\u001b[0;34m\u001b[0m\n",
      "\u001b[0;34m\u001b[0m    \u001b[0msafe_mode\u001b[0m\u001b[0;34m:\u001b[0m \u001b[0mbool\u001b[0m \u001b[0;34m=\u001b[0m \u001b[0;32mFalse\u001b[0m\u001b[0;34m,\u001b[0m\u001b[0;34m\u001b[0m\n",
      "\u001b[0;34m\u001b[0m    \u001b[0msafe_prompt\u001b[0m\u001b[0;34m:\u001b[0m \u001b[0mbool\u001b[0m \u001b[0;34m=\u001b[0m \u001b[0;32mFalse\u001b[0m\u001b[0;34m,\u001b[0m\u001b[0;34m\u001b[0m\n",
      "\u001b[0;34m\u001b[0m    \u001b[0mtool_choice\u001b[0m\u001b[0;34m:\u001b[0m \u001b[0mUnion\u001b[0m\u001b[0;34m[\u001b[0m\u001b[0mstr\u001b[0m\u001b[0;34m,\u001b[0m \u001b[0mmistralai\u001b[0m\u001b[0;34m.\u001b[0m\u001b[0mmodels\u001b[0m\u001b[0;34m.\u001b[0m\u001b[0mchat_completion\u001b[0m\u001b[0;34m.\u001b[0m\u001b[0mToolChoice\u001b[0m\u001b[0;34m,\u001b[0m \u001b[0mNoneType\u001b[0m\u001b[0;34m]\u001b[0m \u001b[0;34m=\u001b[0m \u001b[0;32mNone\u001b[0m\u001b[0;34m,\u001b[0m\u001b[0;34m\u001b[0m\n",
      "\u001b[0;34m\u001b[0m    \u001b[0mresponse_format\u001b[0m\u001b[0;34m:\u001b[0m \u001b[0mUnion\u001b[0m\u001b[0;34m[\u001b[0m\u001b[0mDict\u001b[0m\u001b[0;34m[\u001b[0m\u001b[0mstr\u001b[0m\u001b[0;34m,\u001b[0m \u001b[0mstr\u001b[0m\u001b[0;34m]\u001b[0m\u001b[0;34m,\u001b[0m \u001b[0mmistralai\u001b[0m\u001b[0;34m.\u001b[0m\u001b[0mmodels\u001b[0m\u001b[0;34m.\u001b[0m\u001b[0mchat_completion\u001b[0m\u001b[0;34m.\u001b[0m\u001b[0mResponseFormat\u001b[0m\u001b[0;34m,\u001b[0m \u001b[0mNoneType\u001b[0m\u001b[0;34m]\u001b[0m \u001b[0;34m=\u001b[0m \u001b[0;32mNone\u001b[0m\u001b[0;34m,\u001b[0m\u001b[0;34m\u001b[0m\n",
      "\u001b[0;34m\u001b[0m\u001b[0;34m)\u001b[0m \u001b[0;34m->\u001b[0m \u001b[0mmistralai\u001b[0m\u001b[0;34m.\u001b[0m\u001b[0mmodels\u001b[0m\u001b[0;34m.\u001b[0m\u001b[0mchat_completion\u001b[0m\u001b[0;34m.\u001b[0m\u001b[0mChatCompletionResponse\u001b[0m\u001b[0;34m\u001b[0m\u001b[0;34m\u001b[0m\u001b[0m\n",
      "\u001b[0;31mDocstring:\u001b[0m\n",
      "A chat endpoint that returns a single response.\n",
      "\n",
      "Args:\n",
      "    model (str): model the name of the model to chat with, e.g. mistral-tiny\n",
      "    messages (List[Any]): messages an array of messages to chat with, e.g.\n",
      "        [{role: 'user', content: 'What is the best French cheese?'}]\n",
      "    tools (Optional[List[Function]], optional): a list of tools to use.\n",
      "    temperature (Optional[float], optional): temperature the temperature to use for sampling, e.g. 0.5.\n",
      "    max_tokens (Optional[int], optional): the maximum number of tokens to generate, e.g. 100. Defaults to None.\n",
      "    top_p (Optional[float], optional): the cumulative probability of tokens to generate, e.g. 0.9.\n",
      "    Defaults to None.\n",
      "    random_seed (Optional[int], optional): the random seed to use for sampling, e.g. 42. Defaults to None.\n",
      "    safe_mode (bool, optional): deprecated, use safe_prompt instead. Defaults to False.\n",
      "    safe_prompt (bool, optional): whether to use safe prompt, e.g. true. Defaults to False.\n",
      "\n",
      "Returns:\n",
      "    ChatCompletionResponse: a response object containing the generated text.\n",
      "\u001b[0;31mFile:\u001b[0m      ~/mambaforge/envs/terminal-llm/lib/python3.12/site-packages/mistralai/client.py\n",
      "\u001b[0;31mType:\u001b[0m      method"
     ]
    }
   ],
   "source": [
    "#| hide\n",
    "?client.chat"
   ]
  },
  {
   "cell_type": "code",
   "execution_count": null,
   "metadata": {},
   "outputs": [
    {
     "data": {
      "text/plain": [
       "[ChatMessage(role='user', content='What is the best French cheese?', name=None, tool_calls=None),\n",
       " ChatMessage(role='user', content='What about the British variety?', name=None, tool_calls=None)]"
      ]
     },
     "execution_count": null,
     "metadata": {},
     "output_type": "execute_result"
    }
   ],
   "source": [
    "#| hide\n",
    "messages"
   ]
  },
  {
   "cell_type": "markdown",
   "metadata": {},
   "source": [
    "#| hide\n",
    "To implement history, we will need to store prior interactions. Each time a new message is sent in the conversation, all prior queries and responses will have to be sent."
   ]
  },
  {
   "cell_type": "code",
   "execution_count": null,
   "metadata": {},
   "outputs": [],
   "source": [
    "#| hide\n",
    "def get_response(message): return client.chat(model=m, messages=message).choices[0].message.content"
   ]
  },
  {
   "cell_type": "code",
   "execution_count": null,
   "metadata": {},
   "outputs": [
    {
     "data": {
      "text/plain": [
       "'It\\'s subjective to determine the \"best\" French cheese as it depends on personal preferences. Here are some popular French cheeses that are often highly regarded:\\n\\n1. Roquefort: A blue cheese made from sheep\\'s milk, known for its strong taste and distinctive veins of mold.\\n2. Comté: A nutty and slightly sweet cheese made from raw cow\\'s milk, aged for a minimum of four months.\\n3. Camembert: A soft, white cheese with a creamy texture and a rich, earthy flavor.\\n4. Brie de Meaux: A soft, creamy cheese with a velvety white rind, known for its mild, buttery flavor.\\n5. Cheddar de Jura: A hard, nutty cheese made from cow\\'s milk, similar in taste and texture to British Cheddar, but with a distinctively French character.\\n6. Munster: A soft, smelly cheese made from cow\\'s milk, with a pungent aroma and a strong, savory taste.\\n7. Reblochon: A soft, bloomy-rind cheese with a rich, creamy texture and a mild, nutty flavor.\\n\\nUltimately, the best French cheese is the one that you enjoy the most!'"
      ]
     },
     "execution_count": null,
     "metadata": {},
     "output_type": "execute_result"
    }
   ],
   "source": [
    "#| hide\n",
    "history = []\n",
    "contents = 'What is the best French cheese?'\n",
    "messages = history + [ChatMessage(role='user', content=contents)]\n",
    "response = get_response(messages); response"
   ]
  },
  {
   "cell_type": "code",
   "execution_count": null,
   "metadata": {},
   "outputs": [
    {
     "data": {
      "text/plain": [
       "[ChatMessage(role='user', content='What is the best French cheese?', name=None, tool_calls=None)]"
      ]
     },
     "execution_count": null,
     "metadata": {},
     "output_type": "execute_result"
    }
   ],
   "source": [
    "#| hide\n",
    "history.append(ChatMessage(role='user', content=contents)); history"
   ]
  },
  {
   "cell_type": "code",
   "execution_count": null,
   "metadata": {},
   "outputs": [
    {
     "data": {
      "text/plain": [
       "[ChatMessage(role='user', content='What is the best French cheese?', name=None, tool_calls=None),\n",
       " ChatMessage(role='assistant', content='It\\'s subjective to determine the \"best\" French cheese as it depends on personal preferences. Here are some popular French cheeses that are often highly regarded:\\n\\n1. Roquefort: A blue cheese made from sheep\\'s milk, known for its strong taste and distinctive veins of mold.\\n2. Comté: A nutty and slightly sweet cheese made from raw cow\\'s milk, aged for a minimum of four months.\\n3. Camembert: A soft, white cheese with a creamy texture and a rich, earthy flavor.\\n4. Brie de Meaux: A soft, creamy cheese with a velvety white rind, known for its mild, buttery flavor.\\n5. Cheddar de Jura: A hard, nutty cheese made from cow\\'s milk, similar in taste and texture to British Cheddar, but with a distinctively French character.\\n6. Munster: A soft, smelly cheese made from cow\\'s milk, with a pungent aroma and a strong, savory taste.\\n7. Reblochon: A soft, bloomy-rind cheese with a rich, creamy texture and a mild, nutty flavor.\\n\\nUltimately, the best French cheese is the one that you enjoy the most!', name=None, tool_calls=None)]"
      ]
     },
     "execution_count": null,
     "metadata": {},
     "output_type": "execute_result"
    }
   ],
   "source": [
    "#| hide\n",
    "history.append(ChatMessage(role='assistant', content=response)); history"
   ]
  },
  {
   "cell_type": "code",
   "execution_count": null,
   "metadata": {},
   "outputs": [
    {
     "data": {
      "text/plain": [
       "[ChatMessage(role='user', content='What is the best French cheese?', name=None, tool_calls=None),\n",
       " ChatMessage(role='assistant', content='It\\'s subjective to determine the \"best\" French cheese as it depends on personal preferences. Here are some popular French cheeses that are often highly regarded:\\n\\n1. Roquefort: A blue cheese made from sheep\\'s milk, known for its strong taste and distinctive veins of mold.\\n2. Comté: A nutty and slightly sweet cheese made from raw cow\\'s milk, aged for a minimum of four months.\\n3. Camembert: A soft, white cheese with a creamy texture and a rich, earthy flavor.\\n4. Brie de Meaux: A soft, creamy cheese with a velvety white rind, known for its mild, buttery flavor.\\n5. Cheddar de Jura: A hard, nutty cheese made from cow\\'s milk, similar in taste and texture to British Cheddar, but with a distinctively French character.\\n6. Munster: A soft, smelly cheese made from cow\\'s milk, with a pungent aroma and a strong, savory taste.\\n7. Reblochon: A soft, bloomy-rind cheese with a rich, creamy texture and a mild, nutty flavor.\\n\\nUltimately, the best French cheese is the one that you enjoy the most!', name=None, tool_calls=None),\n",
       " ChatMessage(role='user', content='What about the British variety?', name=None, tool_calls=None)]"
      ]
     },
     "execution_count": null,
     "metadata": {},
     "output_type": "execute_result"
    }
   ],
   "source": [
    "#| hide\n",
    "contents = 'What about the British variety?'\n",
    "messages = history + [ChatMessage(role='user', content=contents)]; messages"
   ]
  },
  {
   "cell_type": "code",
   "execution_count": null,
   "metadata": {},
   "outputs": [
    {
     "data": {
      "text/plain": [
       "\"British cheese is also known for its unique character and variety. Here are some popular British cheeses:\\n\\n1. Cheddar: A hard, tangy cheese with a sharp, savory flavor and a dense, crumbly texture. It's aged for several months, and the longer it's aged, the stronger the flavor becomes.\\n2. Stilton: A blue-veined cheese made from cow's milk, known for its distinctive sharp, tangy, and salty flavor, as well as its crumbly texture.\\n3. Wensleydale: A mild, creamy cheese with a slightly sweet taste and a crumbly texture. It can be found plain or with fruit or honey added.\\n4. Cheshire: A hard, crumbly cheese with a mild, slightly sweet flavor and a pale-yellow color.\\n5. Lancashire: A hard, crumbly cheese with a tangy, slightly sweet flavor and a distinctive orange rind.\\n6. Red Leicester: A hard, orange-colored cheese with a sharp, tangy flavor and a crumbly texture.\\n7. Cheshire with Grapes: A version of Cheshire cheese that's been coated in grapes and rolled in crushed nuts, giving it a sweet and crunchy exterior.\\n\\nThese are just a few of the many delicious British cheeses out there. As with French cheese, the best British cheese is the one that you enjoy the most!\""
      ]
     },
     "execution_count": null,
     "metadata": {},
     "output_type": "execute_result"
    }
   ],
   "source": [
    "#| hide\n",
    "response = get_response(messages); response"
   ]
  },
  {
   "cell_type": "code",
   "execution_count": null,
   "metadata": {},
   "outputs": [
    {
     "data": {
      "text/plain": [
       "[ChatMessage(role='user', content='What is the best French cheese?', name=None, tool_calls=None),\n",
       " ChatMessage(role='assistant', content='It\\'s subjective to determine the \"best\" French cheese as it depends on personal preferences. Here are some popular French cheeses that are often highly regarded:\\n\\n1. Roquefort: A blue cheese made from sheep\\'s milk, known for its strong taste and distinctive veins of mold.\\n2. Comté: A nutty and slightly sweet cheese made from raw cow\\'s milk, aged for a minimum of four months.\\n3. Camembert: A soft, white cheese with a creamy texture and a rich, earthy flavor.\\n4. Brie de Meaux: A soft, creamy cheese with a velvety white rind, known for its mild, buttery flavor.\\n5. Cheddar de Jura: A hard, nutty cheese made from cow\\'s milk, similar in taste and texture to British Cheddar, but with a distinctively French character.\\n6. Munster: A soft, smelly cheese made from cow\\'s milk, with a pungent aroma and a strong, savory taste.\\n7. Reblochon: A soft, bloomy-rind cheese with a rich, creamy texture and a mild, nutty flavor.\\n\\nUltimately, the best French cheese is the one that you enjoy the most!', name=None, tool_calls=None),\n",
       " ChatMessage(role='user', content='What about the British variety?', name=None, tool_calls=None),\n",
       " ChatMessage(role='assistant', content=\"British cheese is also known for its unique character and variety. Here are some popular British cheeses:\\n\\n1. Cheddar: A hard, tangy cheese with a sharp, savory flavor and a dense, crumbly texture. It's aged for several months, and the longer it's aged, the stronger the flavor becomes.\\n2. Stilton: A blue-veined cheese made from cow's milk, known for its distinctive sharp, tangy, and salty flavor, as well as its crumbly texture.\\n3. Wensleydale: A mild, creamy cheese with a slightly sweet taste and a crumbly texture. It can be found plain or with fruit or honey added.\\n4. Cheshire: A hard, crumbly cheese with a mild, slightly sweet flavor and a pale-yellow color.\\n5. Lancashire: A hard, crumbly cheese with a tangy, slightly sweet flavor and a distinctive orange rind.\\n6. Red Leicester: A hard, orange-colored cheese with a sharp, tangy flavor and a crumbly texture.\\n7. Cheshire with Grapes: A version of Cheshire cheese that's been coated in grapes and rolled in crushed nuts, giving it a sweet and crunchy exterior.\\n\\nThese are just a few of the many delicious British cheeses out there. As with French cheese, the best British cheese is the one that you enjoy the most!\", name=None, tool_calls=None)]"
      ]
     },
     "execution_count": null,
     "metadata": {},
     "output_type": "execute_result"
    }
   ],
   "source": [
    "#| hide\n",
    "history.append(ChatMessage(role='user', content=contents))\n",
    "history.append(ChatMessage(role='assistant', content=response))\n",
    "history"
   ]
  },
  {
   "cell_type": "markdown",
   "metadata": {},
   "source": [
    "### With Streaming. -"
   ]
  },
  {
   "cell_type": "code",
   "execution_count": null,
   "metadata": {},
   "outputs": [
    {
     "data": {
      "text/plain": [
       "<generator object MistralClient.chat_stream>"
      ]
     },
     "execution_count": null,
     "metadata": {},
     "output_type": "execute_result"
    }
   ],
   "source": [
    "#| hide\n",
    "stream_response = client.chat_stream(model=m, messages=messages); stream_response"
   ]
  },
  {
   "cell_type": "code",
   "execution_count": null,
   "metadata": {},
   "outputs": [
    {
     "name": "stdout",
     "output_type": "stream",
     "text": [
      "id='270ae83f31804849846f7923e03d4dff' model='open-mistral-7b' choices=[ChatCompletionResponseStreamChoice(index=0, delta=DeltaMessage(role='assistant', content='', tool_calls=None), finish_reason=None)] created=1712848896 object='chat.completion.chunk' usage=None\n",
      "id='270ae83f31804849846f7923e03d4dff' model='open-mistral-7b' choices=[ChatCompletionResponseStreamChoice(index=0, delta=DeltaMessage(role=None, content='British', tool_calls=None), finish_reason=None)] created=1712848896 object='chat.completion.chunk' usage=None\n",
      "id='270ae83f31804849846f7923e03d4dff' model='open-mistral-7b' choices=[ChatCompletionResponseStreamChoice(index=0, delta=DeltaMessage(role=None, content=' cheese', tool_calls=None), finish_reason=None)] created=1712848896 object='chat.completion.chunk' usage=None\n",
      "id='270ae83f31804849846f7923e03d4dff' model='open-mistral-7b' choices=[ChatCompletionResponseStreamChoice(index=0, delta=DeltaMessage(role=None, content=' is', tool_calls=None), finish_reason=None)] created=1712848896 object='chat.completion.chunk' usage=None\n",
      "id='270ae83f31804849846f7923e03d4dff' model='open-mistral-7b' choices=[ChatCompletionResponseStreamChoice(index=0, delta=DeltaMessage(role=None, content=' just', tool_calls=None), finish_reason=None)] created=1712848896 object='chat.completion.chunk' usage=None\n",
      "id='270ae83f31804849846f7923e03d4dff' model='open-mistral-7b' choices=[ChatCompletionResponseStreamChoice(index=0, delta=DeltaMessage(role=None, content=' as', tool_calls=None), finish_reason=None)] created=1712848896 object='chat.completion.chunk' usage=None\n",
      "id='270ae83f31804849846f7923e03d4dff' model='open-mistral-7b' choices=[ChatCompletionResponseStreamChoice(index=0, delta=DeltaMessage(role=None, content=' diverse', tool_calls=None), finish_reason=None)] created=1712848896 object='chat.completion.chunk' usage=None\n",
      "id='270ae83f31804849846f7923e03d4dff' model='open-mistral-7b' choices=[ChatCompletionResponseStreamChoice(index=0, delta=DeltaMessage(role=None, content=' and', tool_calls=None), finish_reason=None)] created=1712848896 object='chat.completion.chunk' usage=None\n",
      "id='270ae83f31804849846f7923e03d4dff' model='open-mistral-7b' choices=[ChatCompletionResponseStreamChoice(index=0, delta=DeltaMessage(role=None, content=' delicious', tool_calls=None), finish_reason=None)] created=1712848896 object='chat.completion.chunk' usage=None\n",
      "id='270ae83f31804849846f7923e03d4dff' model='open-mistral-7b' choices=[ChatCompletionResponseStreamChoice(index=0, delta=DeltaMessage(role=None, content=' as', tool_calls=None), finish_reason=None)] created=1712848896 object='chat.completion.chunk' usage=None\n",
      "id='270ae83f31804849846f7923e03d4dff' model='open-mistral-7b' choices=[ChatCompletionResponseStreamChoice(index=0, delta=DeltaMessage(role=None, content=' French', tool_calls=None), finish_reason=None)] created=1712848896 object='chat.completion.chunk' usage=None\n",
      "id='270ae83f31804849846f7923e03d4dff' model='open-mistral-7b' choices=[ChatCompletionResponseStreamChoice(index=0, delta=DeltaMessage(role=None, content=' cheese', tool_calls=None), finish_reason=None)] created=1712848896 object='chat.completion.chunk' usage=None\n",
      "id='270ae83f31804849846f7923e03d4dff' model='open-mistral-7b' choices=[ChatCompletionResponseStreamChoice(index=0, delta=DeltaMessage(role=None, content=',', tool_calls=None), finish_reason=None)] created=1712848896 object='chat.completion.chunk' usage=None\n",
      "id='270ae83f31804849846f7923e03d4dff' model='open-mistral-7b' choices=[ChatCompletionResponseStreamChoice(index=0, delta=DeltaMessage(role=None, content=' with', tool_calls=None), finish_reason=None)] created=1712848896 object='chat.completion.chunk' usage=None\n",
      "id='270ae83f31804849846f7923e03d4dff' model='open-mistral-7b' choices=[ChatCompletionResponseStreamChoice(index=0, delta=DeltaMessage(role=None, content=' its', tool_calls=None), finish_reason=None)] created=1712848896 object='chat.completion.chunk' usage=None\n",
      "id='270ae83f31804849846f7923e03d4dff' model='open-mistral-7b' choices=[ChatCompletionResponseStreamChoice(index=0, delta=DeltaMessage(role=None, content=' own', tool_calls=None), finish_reason=None)] created=1712848896 object='chat.completion.chunk' usage=None\n",
      "id='270ae83f31804849846f7923e03d4dff' model='open-mistral-7b' choices=[ChatCompletionResponseStreamChoice(index=0, delta=DeltaMessage(role=None, content=' unique', tool_calls=None), finish_reason=None)] created=1712848896 object='chat.completion.chunk' usage=None\n",
      "id='270ae83f31804849846f7923e03d4dff' model='open-mistral-7b' choices=[ChatCompletionResponseStreamChoice(index=0, delta=DeltaMessage(role=None, content=' characteristics', tool_calls=None), finish_reason=None)] created=1712848896 object='chat.completion.chunk' usage=None\n",
      "id='270ae83f31804849846f7923e03d4dff' model='open-mistral-7b' choices=[ChatCompletionResponseStreamChoice(index=0, delta=DeltaMessage(role=None, content='.', tool_calls=None), finish_reason=None)] created=1712848896 object='chat.completion.chunk' usage=None\n",
      "id='270ae83f31804849846f7923e03d4dff' model='open-mistral-7b' choices=[ChatCompletionResponseStreamChoice(index=0, delta=DeltaMessage(role=None, content=' Here', tool_calls=None), finish_reason=None)] created=1712848896 object='chat.completion.chunk' usage=None\n",
      "id='270ae83f31804849846f7923e03d4dff' model='open-mistral-7b' choices=[ChatCompletionResponseStreamChoice(index=0, delta=DeltaMessage(role=None, content=' are', tool_calls=None), finish_reason=None)] created=1712848896 object='chat.completion.chunk' usage=None\n",
      "id='270ae83f31804849846f7923e03d4dff' model='open-mistral-7b' choices=[ChatCompletionResponseStreamChoice(index=0, delta=DeltaMessage(role=None, content=' some', tool_calls=None), finish_reason=None)] created=1712848896 object='chat.completion.chunk' usage=None\n",
      "id='270ae83f31804849846f7923e03d4dff' model='open-mistral-7b' choices=[ChatCompletionResponseStreamChoice(index=0, delta=DeltaMessage(role=None, content=' popular', tool_calls=None), finish_reason=None)] created=1712848896 object='chat.completion.chunk' usage=None\n",
      "id='270ae83f31804849846f7923e03d4dff' model='open-mistral-7b' choices=[ChatCompletionResponseStreamChoice(index=0, delta=DeltaMessage(role=None, content=' British', tool_calls=None), finish_reason=None)] created=1712848896 object='chat.completion.chunk' usage=None\n",
      "id='270ae83f31804849846f7923e03d4dff' model='open-mistral-7b' choices=[ChatCompletionResponseStreamChoice(index=0, delta=DeltaMessage(role=None, content=' che', tool_calls=None), finish_reason=None)] created=1712848896 object='chat.completion.chunk' usage=None\n",
      "id='270ae83f31804849846f7923e03d4dff' model='open-mistral-7b' choices=[ChatCompletionResponseStreamChoice(index=0, delta=DeltaMessage(role=None, content='es', tool_calls=None), finish_reason=None)] created=1712848896 object='chat.completion.chunk' usage=None\n",
      "id='270ae83f31804849846f7923e03d4dff' model='open-mistral-7b' choices=[ChatCompletionResponseStreamChoice(index=0, delta=DeltaMessage(role=None, content='es', tool_calls=None), finish_reason=None)] created=1712848896 object='chat.completion.chunk' usage=None\n",
      "id='270ae83f31804849846f7923e03d4dff' model='open-mistral-7b' choices=[ChatCompletionResponseStreamChoice(index=0, delta=DeltaMessage(role=None, content=':', tool_calls=None), finish_reason=None)] created=1712848896 object='chat.completion.chunk' usage=None\n",
      "id='270ae83f31804849846f7923e03d4dff' model='open-mistral-7b' choices=[ChatCompletionResponseStreamChoice(index=0, delta=DeltaMessage(role=None, content='\\n\\n1', tool_calls=None), finish_reason=None)] created=1712848896 object='chat.completion.chunk' usage=None\n",
      "id='270ae83f31804849846f7923e03d4dff' model='open-mistral-7b' choices=[ChatCompletionResponseStreamChoice(index=0, delta=DeltaMessage(role=None, content='.', tool_calls=None), finish_reason=None)] created=1712848896 object='chat.completion.chunk' usage=None\n",
      "id='270ae83f31804849846f7923e03d4dff' model='open-mistral-7b' choices=[ChatCompletionResponseStreamChoice(index=0, delta=DeltaMessage(role=None, content=' C', tool_calls=None), finish_reason=None)] created=1712848896 object='chat.completion.chunk' usage=None\n",
      "id='270ae83f31804849846f7923e03d4dff' model='open-mistral-7b' choices=[ChatCompletionResponseStreamChoice(index=0, delta=DeltaMessage(role=None, content='hed', tool_calls=None), finish_reason=None)] created=1712848896 object='chat.completion.chunk' usage=None\n",
      "id='270ae83f31804849846f7923e03d4dff' model='open-mistral-7b' choices=[ChatCompletionResponseStreamChoice(index=0, delta=DeltaMessage(role=None, content='dar', tool_calls=None), finish_reason=None)] created=1712848896 object='chat.completion.chunk' usage=None\n",
      "id='270ae83f31804849846f7923e03d4dff' model='open-mistral-7b' choices=[ChatCompletionResponseStreamChoice(index=0, delta=DeltaMessage(role=None, content=':', tool_calls=None), finish_reason=None)] created=1712848896 object='chat.completion.chunk' usage=None\n",
      "id='270ae83f31804849846f7923e03d4dff' model='open-mistral-7b' choices=[ChatCompletionResponseStreamChoice(index=0, delta=DeltaMessage(role=None, content=' A', tool_calls=None), finish_reason=None)] created=1712848896 object='chat.completion.chunk' usage=None\n",
      "id='270ae83f31804849846f7923e03d4dff' model='open-mistral-7b' choices=[ChatCompletionResponseStreamChoice(index=0, delta=DeltaMessage(role=None, content=' hard', tool_calls=None), finish_reason=None)] created=1712848896 object='chat.completion.chunk' usage=None\n",
      "id='270ae83f31804849846f7923e03d4dff' model='open-mistral-7b' choices=[ChatCompletionResponseStreamChoice(index=0, delta=DeltaMessage(role=None, content=',', tool_calls=None), finish_reason=None)] created=1712848896 object='chat.completion.chunk' usage=None\n",
      "id='270ae83f31804849846f7923e03d4dff' model='open-mistral-7b' choices=[ChatCompletionResponseStreamChoice(index=0, delta=DeltaMessage(role=None, content=' tang', tool_calls=None), finish_reason=None)] created=1712848896 object='chat.completion.chunk' usage=None\n",
      "id='270ae83f31804849846f7923e03d4dff' model='open-mistral-7b' choices=[ChatCompletionResponseStreamChoice(index=0, delta=DeltaMessage(role=None, content='y', tool_calls=None), finish_reason=None)] created=1712848896 object='chat.completion.chunk' usage=None\n",
      "id='270ae83f31804849846f7923e03d4dff' model='open-mistral-7b' choices=[ChatCompletionResponseStreamChoice(index=0, delta=DeltaMessage(role=None, content=' cheese', tool_calls=None), finish_reason=None)] created=1712848896 object='chat.completion.chunk' usage=None\n",
      "id='270ae83f31804849846f7923e03d4dff' model='open-mistral-7b' choices=[ChatCompletionResponseStreamChoice(index=0, delta=DeltaMessage(role=None, content=' with', tool_calls=None), finish_reason=None)] created=1712848896 object='chat.completion.chunk' usage=None\n",
      "id='270ae83f31804849846f7923e03d4dff' model='open-mistral-7b' choices=[ChatCompletionResponseStreamChoice(index=0, delta=DeltaMessage(role=None, content=' a', tool_calls=None), finish_reason=None)] created=1712848896 object='chat.completion.chunk' usage=None\n",
      "id='270ae83f31804849846f7923e03d4dff' model='open-mistral-7b' choices=[ChatCompletionResponseStreamChoice(index=0, delta=DeltaMessage(role=None, content=' cr', tool_calls=None), finish_reason=None)] created=1712848896 object='chat.completion.chunk' usage=None\n",
      "id='270ae83f31804849846f7923e03d4dff' model='open-mistral-7b' choices=[ChatCompletionResponseStreamChoice(index=0, delta=DeltaMessage(role=None, content='umb', tool_calls=None), finish_reason=None)] created=1712848896 object='chat.completion.chunk' usage=None\n",
      "id='270ae83f31804849846f7923e03d4dff' model='open-mistral-7b' choices=[ChatCompletionResponseStreamChoice(index=0, delta=DeltaMessage(role=None, content='ly', tool_calls=None), finish_reason=None)] created=1712848896 object='chat.completion.chunk' usage=None\n",
      "id='270ae83f31804849846f7923e03d4dff' model='open-mistral-7b' choices=[ChatCompletionResponseStreamChoice(index=0, delta=DeltaMessage(role=None, content=' texture', tool_calls=None), finish_reason=None)] created=1712848896 object='chat.completion.chunk' usage=None\n",
      "id='270ae83f31804849846f7923e03d4dff' model='open-mistral-7b' choices=[ChatCompletionResponseStreamChoice(index=0, delta=DeltaMessage(role=None, content=',', tool_calls=None), finish_reason=None)] created=1712848896 object='chat.completion.chunk' usage=None\n",
      "id='270ae83f31804849846f7923e03d4dff' model='open-mistral-7b' choices=[ChatCompletionResponseStreamChoice(index=0, delta=DeltaMessage(role=None, content=' aged', tool_calls=None), finish_reason=None)] created=1712848896 object='chat.completion.chunk' usage=None\n",
      "id='270ae83f31804849846f7923e03d4dff' model='open-mistral-7b' choices=[ChatCompletionResponseStreamChoice(index=0, delta=DeltaMessage(role=None, content=' for', tool_calls=None), finish_reason=None)] created=1712848896 object='chat.completion.chunk' usage=None\n",
      "id='270ae83f31804849846f7923e03d4dff' model='open-mistral-7b' choices=[ChatCompletionResponseStreamChoice(index=0, delta=DeltaMessage(role=None, content=' various', tool_calls=None), finish_reason=None)] created=1712848896 object='chat.completion.chunk' usage=None\n",
      "id='270ae83f31804849846f7923e03d4dff' model='open-mistral-7b' choices=[ChatCompletionResponseStreamChoice(index=0, delta=DeltaMessage(role=None, content=' lengths', tool_calls=None), finish_reason=None)] created=1712848896 object='chat.completion.chunk' usage=None\n",
      "id='270ae83f31804849846f7923e03d4dff' model='open-mistral-7b' choices=[ChatCompletionResponseStreamChoice(index=0, delta=DeltaMessage(role=None, content=' of', tool_calls=None), finish_reason=None)] created=1712848896 object='chat.completion.chunk' usage=None\n",
      "id='270ae83f31804849846f7923e03d4dff' model='open-mistral-7b' choices=[ChatCompletionResponseStreamChoice(index=0, delta=DeltaMessage(role=None, content=' time', tool_calls=None), finish_reason=None)] created=1712848896 object='chat.completion.chunk' usage=None\n",
      "id='270ae83f31804849846f7923e03d4dff' model='open-mistral-7b' choices=[ChatCompletionResponseStreamChoice(index=0, delta=DeltaMessage(role=None, content='.', tool_calls=None), finish_reason=None)] created=1712848896 object='chat.completion.chunk' usage=None\n",
      "id='270ae83f31804849846f7923e03d4dff' model='open-mistral-7b' choices=[ChatCompletionResponseStreamChoice(index=0, delta=DeltaMessage(role=None, content=' M', tool_calls=None), finish_reason=None)] created=1712848896 object='chat.completion.chunk' usage=None\n",
      "id='270ae83f31804849846f7923e03d4dff' model='open-mistral-7b' choices=[ChatCompletionResponseStreamChoice(index=0, delta=DeltaMessage(role=None, content='ature', tool_calls=None), finish_reason=None)] created=1712848896 object='chat.completion.chunk' usage=None\n",
      "id='270ae83f31804849846f7923e03d4dff' model='open-mistral-7b' choices=[ChatCompletionResponseStreamChoice(index=0, delta=DeltaMessage(role=None, content=' C', tool_calls=None), finish_reason=None)] created=1712848896 object='chat.completion.chunk' usage=None\n",
      "id='270ae83f31804849846f7923e03d4dff' model='open-mistral-7b' choices=[ChatCompletionResponseStreamChoice(index=0, delta=DeltaMessage(role=None, content='hed', tool_calls=None), finish_reason=None)] created=1712848896 object='chat.completion.chunk' usage=None\n",
      "id='270ae83f31804849846f7923e03d4dff' model='open-mistral-7b' choices=[ChatCompletionResponseStreamChoice(index=0, delta=DeltaMessage(role=None, content='dar', tool_calls=None), finish_reason=None)] created=1712848896 object='chat.completion.chunk' usage=None\n",
      "id='270ae83f31804849846f7923e03d4dff' model='open-mistral-7b' choices=[ChatCompletionResponseStreamChoice(index=0, delta=DeltaMessage(role=None, content=' has', tool_calls=None), finish_reason=None)] created=1712848896 object='chat.completion.chunk' usage=None\n",
      "id='270ae83f31804849846f7923e03d4dff' model='open-mistral-7b' choices=[ChatCompletionResponseStreamChoice(index=0, delta=DeltaMessage(role=None, content=' a', tool_calls=None), finish_reason=None)] created=1712848896 object='chat.completion.chunk' usage=None\n",
      "id='270ae83f31804849846f7923e03d4dff' model='open-mistral-7b' choices=[ChatCompletionResponseStreamChoice(index=0, delta=DeltaMessage(role=None, content=' strong', tool_calls=None), finish_reason=None)] created=1712848896 object='chat.completion.chunk' usage=None\n",
      "id='270ae83f31804849846f7923e03d4dff' model='open-mistral-7b' choices=[ChatCompletionResponseStreamChoice(index=0, delta=DeltaMessage(role=None, content=',', tool_calls=None), finish_reason=None)] created=1712848896 object='chat.completion.chunk' usage=None\n",
      "id='270ae83f31804849846f7923e03d4dff' model='open-mistral-7b' choices=[ChatCompletionResponseStreamChoice(index=0, delta=DeltaMessage(role=None, content=' p', tool_calls=None), finish_reason=None)] created=1712848896 object='chat.completion.chunk' usage=None\n",
      "id='270ae83f31804849846f7923e03d4dff' model='open-mistral-7b' choices=[ChatCompletionResponseStreamChoice(index=0, delta=DeltaMessage(role=None, content='ung', tool_calls=None), finish_reason=None)] created=1712848896 object='chat.completion.chunk' usage=None\n",
      "id='270ae83f31804849846f7923e03d4dff' model='open-mistral-7b' choices=[ChatCompletionResponseStreamChoice(index=0, delta=DeltaMessage(role=None, content='ent', tool_calls=None), finish_reason=None)] created=1712848896 object='chat.completion.chunk' usage=None\n",
      "id='270ae83f31804849846f7923e03d4dff' model='open-mistral-7b' choices=[ChatCompletionResponseStreamChoice(index=0, delta=DeltaMessage(role=None, content=' flavor', tool_calls=None), finish_reason=None)] created=1712848896 object='chat.completion.chunk' usage=None\n",
      "id='270ae83f31804849846f7923e03d4dff' model='open-mistral-7b' choices=[ChatCompletionResponseStreamChoice(index=0, delta=DeltaMessage(role=None, content=',', tool_calls=None), finish_reason=None)] created=1712848896 object='chat.completion.chunk' usage=None\n",
      "id='270ae83f31804849846f7923e03d4dff' model='open-mistral-7b' choices=[ChatCompletionResponseStreamChoice(index=0, delta=DeltaMessage(role=None, content=' while', tool_calls=None), finish_reason=None)] created=1712848896 object='chat.completion.chunk' usage=None\n",
      "id='270ae83f31804849846f7923e03d4dff' model='open-mistral-7b' choices=[ChatCompletionResponseStreamChoice(index=0, delta=DeltaMessage(role=None, content=' mild', tool_calls=None), finish_reason=None)] created=1712848896 object='chat.completion.chunk' usage=None\n",
      "id='270ae83f31804849846f7923e03d4dff' model='open-mistral-7b' choices=[ChatCompletionResponseStreamChoice(index=0, delta=DeltaMessage(role=None, content='er', tool_calls=None), finish_reason=None)] created=1712848896 object='chat.completion.chunk' usage=None\n",
      "id='270ae83f31804849846f7923e03d4dff' model='open-mistral-7b' choices=[ChatCompletionResponseStreamChoice(index=0, delta=DeltaMessage(role=None, content=' versions', tool_calls=None), finish_reason=None)] created=1712848896 object='chat.completion.chunk' usage=None\n",
      "id='270ae83f31804849846f7923e03d4dff' model='open-mistral-7b' choices=[ChatCompletionResponseStreamChoice(index=0, delta=DeltaMessage(role=None, content=' have', tool_calls=None), finish_reason=None)] created=1712848896 object='chat.completion.chunk' usage=None\n",
      "id='270ae83f31804849846f7923e03d4dff' model='open-mistral-7b' choices=[ChatCompletionResponseStreamChoice(index=0, delta=DeltaMessage(role=None, content=' a', tool_calls=None), finish_reason=None)] created=1712848896 object='chat.completion.chunk' usage=None\n",
      "id='270ae83f31804849846f7923e03d4dff' model='open-mistral-7b' choices=[ChatCompletionResponseStreamChoice(index=0, delta=DeltaMessage(role=None, content=' more', tool_calls=None), finish_reason=None)] created=1712848896 object='chat.completion.chunk' usage=None\n",
      "id='270ae83f31804849846f7923e03d4dff' model='open-mistral-7b' choices=[ChatCompletionResponseStreamChoice(index=0, delta=DeltaMessage(role=None, content=' m', tool_calls=None), finish_reason=None)] created=1712848896 object='chat.completion.chunk' usage=None\n",
      "id='270ae83f31804849846f7923e03d4dff' model='open-mistral-7b' choices=[ChatCompletionResponseStreamChoice(index=0, delta=DeltaMessage(role=None, content='ellow', tool_calls=None), finish_reason=None)] created=1712848896 object='chat.completion.chunk' usage=None\n",
      "id='270ae83f31804849846f7923e03d4dff' model='open-mistral-7b' choices=[ChatCompletionResponseStreamChoice(index=0, delta=DeltaMessage(role=None, content=' taste', tool_calls=None), finish_reason=None)] created=1712848896 object='chat.completion.chunk' usage=None\n",
      "id='270ae83f31804849846f7923e03d4dff' model='open-mistral-7b' choices=[ChatCompletionResponseStreamChoice(index=0, delta=DeltaMessage(role=None, content='.', tool_calls=None), finish_reason=None)] created=1712848896 object='chat.completion.chunk' usage=None\n",
      "id='270ae83f31804849846f7923e03d4dff' model='open-mistral-7b' choices=[ChatCompletionResponseStreamChoice(index=0, delta=DeltaMessage(role=None, content='\\n2', tool_calls=None), finish_reason=None)] created=1712848896 object='chat.completion.chunk' usage=None\n",
      "id='270ae83f31804849846f7923e03d4dff' model='open-mistral-7b' choices=[ChatCompletionResponseStreamChoice(index=0, delta=DeltaMessage(role=None, content='.', tool_calls=None), finish_reason=None)] created=1712848896 object='chat.completion.chunk' usage=None\n",
      "id='270ae83f31804849846f7923e03d4dff' model='open-mistral-7b' choices=[ChatCompletionResponseStreamChoice(index=0, delta=DeltaMessage(role=None, content=' St', tool_calls=None), finish_reason=None)] created=1712848896 object='chat.completion.chunk' usage=None\n",
      "id='270ae83f31804849846f7923e03d4dff' model='open-mistral-7b' choices=[ChatCompletionResponseStreamChoice(index=0, delta=DeltaMessage(role=None, content='ilton', tool_calls=None), finish_reason=None)] created=1712848896 object='chat.completion.chunk' usage=None\n",
      "id='270ae83f31804849846f7923e03d4dff' model='open-mistral-7b' choices=[ChatCompletionResponseStreamChoice(index=0, delta=DeltaMessage(role=None, content=':', tool_calls=None), finish_reason=None)] created=1712848896 object='chat.completion.chunk' usage=None\n",
      "id='270ae83f31804849846f7923e03d4dff' model='open-mistral-7b' choices=[ChatCompletionResponseStreamChoice(index=0, delta=DeltaMessage(role=None, content=' A', tool_calls=None), finish_reason=None)] created=1712848896 object='chat.completion.chunk' usage=None\n",
      "id='270ae83f31804849846f7923e03d4dff' model='open-mistral-7b' choices=[ChatCompletionResponseStreamChoice(index=0, delta=DeltaMessage(role=None, content=' blue', tool_calls=None), finish_reason=None)] created=1712848896 object='chat.completion.chunk' usage=None\n",
      "id='270ae83f31804849846f7923e03d4dff' model='open-mistral-7b' choices=[ChatCompletionResponseStreamChoice(index=0, delta=DeltaMessage(role=None, content='-', tool_calls=None), finish_reason=None)] created=1712848896 object='chat.completion.chunk' usage=None\n",
      "id='270ae83f31804849846f7923e03d4dff' model='open-mistral-7b' choices=[ChatCompletionResponseStreamChoice(index=0, delta=DeltaMessage(role=None, content='ve', tool_calls=None), finish_reason=None)] created=1712848896 object='chat.completion.chunk' usage=None\n",
      "id='270ae83f31804849846f7923e03d4dff' model='open-mistral-7b' choices=[ChatCompletionResponseStreamChoice(index=0, delta=DeltaMessage(role=None, content='ined', tool_calls=None), finish_reason=None)] created=1712848896 object='chat.completion.chunk' usage=None\n",
      "id='270ae83f31804849846f7923e03d4dff' model='open-mistral-7b' choices=[ChatCompletionResponseStreamChoice(index=0, delta=DeltaMessage(role=None, content=' cheese', tool_calls=None), finish_reason=None)] created=1712848896 object='chat.completion.chunk' usage=None\n",
      "id='270ae83f31804849846f7923e03d4dff' model='open-mistral-7b' choices=[ChatCompletionResponseStreamChoice(index=0, delta=DeltaMessage(role=None, content=' made', tool_calls=None), finish_reason=None)] created=1712848896 object='chat.completion.chunk' usage=None\n",
      "id='270ae83f31804849846f7923e03d4dff' model='open-mistral-7b' choices=[ChatCompletionResponseStreamChoice(index=0, delta=DeltaMessage(role=None, content=' from', tool_calls=None), finish_reason=None)] created=1712848896 object='chat.completion.chunk' usage=None\n",
      "id='270ae83f31804849846f7923e03d4dff' model='open-mistral-7b' choices=[ChatCompletionResponseStreamChoice(index=0, delta=DeltaMessage(role=None, content=' cow', tool_calls=None), finish_reason=None)] created=1712848896 object='chat.completion.chunk' usage=None\n",
      "id='270ae83f31804849846f7923e03d4dff' model='open-mistral-7b' choices=[ChatCompletionResponseStreamChoice(index=0, delta=DeltaMessage(role=None, content=\"'\", tool_calls=None), finish_reason=None)] created=1712848896 object='chat.completion.chunk' usage=None\n",
      "id='270ae83f31804849846f7923e03d4dff' model='open-mistral-7b' choices=[ChatCompletionResponseStreamChoice(index=0, delta=DeltaMessage(role=None, content='s', tool_calls=None), finish_reason=None)] created=1712848896 object='chat.completion.chunk' usage=None\n",
      "id='270ae83f31804849846f7923e03d4dff' model='open-mistral-7b' choices=[ChatCompletionResponseStreamChoice(index=0, delta=DeltaMessage(role=None, content=' milk', tool_calls=None), finish_reason=None)] created=1712848896 object='chat.completion.chunk' usage=None\n",
      "id='270ae83f31804849846f7923e03d4dff' model='open-mistral-7b' choices=[ChatCompletionResponseStreamChoice(index=0, delta=DeltaMessage(role=None, content=',', tool_calls=None), finish_reason=None)] created=1712848896 object='chat.completion.chunk' usage=None\n",
      "id='270ae83f31804849846f7923e03d4dff' model='open-mistral-7b' choices=[ChatCompletionResponseStreamChoice(index=0, delta=DeltaMessage(role=None, content=' known', tool_calls=None), finish_reason=None)] created=1712848896 object='chat.completion.chunk' usage=None\n",
      "id='270ae83f31804849846f7923e03d4dff' model='open-mistral-7b' choices=[ChatCompletionResponseStreamChoice(index=0, delta=DeltaMessage(role=None, content=' for', tool_calls=None), finish_reason=None)] created=1712848896 object='chat.completion.chunk' usage=None\n",
      "id='270ae83f31804849846f7923e03d4dff' model='open-mistral-7b' choices=[ChatCompletionResponseStreamChoice(index=0, delta=DeltaMessage(role=None, content=' its', tool_calls=None), finish_reason=None)] created=1712848896 object='chat.completion.chunk' usage=None\n",
      "id='270ae83f31804849846f7923e03d4dff' model='open-mistral-7b' choices=[ChatCompletionResponseStreamChoice(index=0, delta=DeltaMessage(role=None, content=' distinctive', tool_calls=None), finish_reason=None)] created=1712848896 object='chat.completion.chunk' usage=None\n",
      "id='270ae83f31804849846f7923e03d4dff' model='open-mistral-7b' choices=[ChatCompletionResponseStreamChoice(index=0, delta=DeltaMessage(role=None, content=' sharp', tool_calls=None), finish_reason=None)] created=1712848896 object='chat.completion.chunk' usage=None\n",
      "id='270ae83f31804849846f7923e03d4dff' model='open-mistral-7b' choices=[ChatCompletionResponseStreamChoice(index=0, delta=DeltaMessage(role=None, content=',', tool_calls=None), finish_reason=None)] created=1712848896 object='chat.completion.chunk' usage=None\n",
      "id='270ae83f31804849846f7923e03d4dff' model='open-mistral-7b' choices=[ChatCompletionResponseStreamChoice(index=0, delta=DeltaMessage(role=None, content=' tang', tool_calls=None), finish_reason=None)] created=1712848896 object='chat.completion.chunk' usage=None\n",
      "id='270ae83f31804849846f7923e03d4dff' model='open-mistral-7b' choices=[ChatCompletionResponseStreamChoice(index=0, delta=DeltaMessage(role=None, content='y', tool_calls=None), finish_reason=None)] created=1712848896 object='chat.completion.chunk' usage=None\n",
      "id='270ae83f31804849846f7923e03d4dff' model='open-mistral-7b' choices=[ChatCompletionResponseStreamChoice(index=0, delta=DeltaMessage(role=None, content=' flavor', tool_calls=None), finish_reason=None)] created=1712848896 object='chat.completion.chunk' usage=None\n",
      "id='270ae83f31804849846f7923e03d4dff' model='open-mistral-7b' choices=[ChatCompletionResponseStreamChoice(index=0, delta=DeltaMessage(role=None, content=' and', tool_calls=None), finish_reason=None)] created=1712848896 object='chat.completion.chunk' usage=None\n",
      "id='270ae83f31804849846f7923e03d4dff' model='open-mistral-7b' choices=[ChatCompletionResponseStreamChoice(index=0, delta=DeltaMessage(role=None, content=' cr', tool_calls=None), finish_reason=None)] created=1712848896 object='chat.completion.chunk' usage=None\n",
      "id='270ae83f31804849846f7923e03d4dff' model='open-mistral-7b' choices=[ChatCompletionResponseStreamChoice(index=0, delta=DeltaMessage(role=None, content='umb', tool_calls=None), finish_reason=None)] created=1712848896 object='chat.completion.chunk' usage=None\n",
      "id='270ae83f31804849846f7923e03d4dff' model='open-mistral-7b' choices=[ChatCompletionResponseStreamChoice(index=0, delta=DeltaMessage(role=None, content='ly', tool_calls=None), finish_reason=None)] created=1712848896 object='chat.completion.chunk' usage=None\n",
      "id='270ae83f31804849846f7923e03d4dff' model='open-mistral-7b' choices=[ChatCompletionResponseStreamChoice(index=0, delta=DeltaMessage(role=None, content=' texture', tool_calls=None), finish_reason=None)] created=1712848896 object='chat.completion.chunk' usage=None\n",
      "id='270ae83f31804849846f7923e03d4dff' model='open-mistral-7b' choices=[ChatCompletionResponseStreamChoice(index=0, delta=DeltaMessage(role=None, content='.', tool_calls=None), finish_reason=None)] created=1712848896 object='chat.completion.chunk' usage=None\n",
      "id='270ae83f31804849846f7923e03d4dff' model='open-mistral-7b' choices=[ChatCompletionResponseStreamChoice(index=0, delta=DeltaMessage(role=None, content='\\n3', tool_calls=None), finish_reason=None)] created=1712848896 object='chat.completion.chunk' usage=None\n",
      "id='270ae83f31804849846f7923e03d4dff' model='open-mistral-7b' choices=[ChatCompletionResponseStreamChoice(index=0, delta=DeltaMessage(role=None, content='.', tool_calls=None), finish_reason=None)] created=1712848896 object='chat.completion.chunk' usage=None\n",
      "id='270ae83f31804849846f7923e03d4dff' model='open-mistral-7b' choices=[ChatCompletionResponseStreamChoice(index=0, delta=DeltaMessage(role=None, content=' Che', tool_calls=None), finish_reason=None)] created=1712848896 object='chat.completion.chunk' usage=None\n",
      "id='270ae83f31804849846f7923e03d4dff' model='open-mistral-7b' choices=[ChatCompletionResponseStreamChoice(index=0, delta=DeltaMessage(role=None, content='shire', tool_calls=None), finish_reason=None)] created=1712848896 object='chat.completion.chunk' usage=None\n",
      "id='270ae83f31804849846f7923e03d4dff' model='open-mistral-7b' choices=[ChatCompletionResponseStreamChoice(index=0, delta=DeltaMessage(role=None, content=':', tool_calls=None), finish_reason=None)] created=1712848896 object='chat.completion.chunk' usage=None\n",
      "id='270ae83f31804849846f7923e03d4dff' model='open-mistral-7b' choices=[ChatCompletionResponseStreamChoice(index=0, delta=DeltaMessage(role=None, content=' A', tool_calls=None), finish_reason=None)] created=1712848896 object='chat.completion.chunk' usage=None\n",
      "id='270ae83f31804849846f7923e03d4dff' model='open-mistral-7b' choices=[ChatCompletionResponseStreamChoice(index=0, delta=DeltaMessage(role=None, content=' hard', tool_calls=None), finish_reason=None)] created=1712848896 object='chat.completion.chunk' usage=None\n",
      "id='270ae83f31804849846f7923e03d4dff' model='open-mistral-7b' choices=[ChatCompletionResponseStreamChoice(index=0, delta=DeltaMessage(role=None, content=',', tool_calls=None), finish_reason=None)] created=1712848896 object='chat.completion.chunk' usage=None\n",
      "id='270ae83f31804849846f7923e03d4dff' model='open-mistral-7b' choices=[ChatCompletionResponseStreamChoice(index=0, delta=DeltaMessage(role=None, content=' cr', tool_calls=None), finish_reason=None)] created=1712848896 object='chat.completion.chunk' usage=None\n",
      "id='270ae83f31804849846f7923e03d4dff' model='open-mistral-7b' choices=[ChatCompletionResponseStreamChoice(index=0, delta=DeltaMessage(role=None, content='umb', tool_calls=None), finish_reason=None)] created=1712848896 object='chat.completion.chunk' usage=None\n",
      "id='270ae83f31804849846f7923e03d4dff' model='open-mistral-7b' choices=[ChatCompletionResponseStreamChoice(index=0, delta=DeltaMessage(role=None, content='ly', tool_calls=None), finish_reason=None)] created=1712848896 object='chat.completion.chunk' usage=None\n",
      "id='270ae83f31804849846f7923e03d4dff' model='open-mistral-7b' choices=[ChatCompletionResponseStreamChoice(index=0, delta=DeltaMessage(role=None, content=' cheese', tool_calls=None), finish_reason=None)] created=1712848896 object='chat.completion.chunk' usage=None\n",
      "id='270ae83f31804849846f7923e03d4dff' model='open-mistral-7b' choices=[ChatCompletionResponseStreamChoice(index=0, delta=DeltaMessage(role=None, content=' with', tool_calls=None), finish_reason=None)] created=1712848896 object='chat.completion.chunk' usage=None\n",
      "id='270ae83f31804849846f7923e03d4dff' model='open-mistral-7b' choices=[ChatCompletionResponseStreamChoice(index=0, delta=DeltaMessage(role=None, content=' a', tool_calls=None), finish_reason=None)] created=1712848896 object='chat.completion.chunk' usage=None\n",
      "id='270ae83f31804849846f7923e03d4dff' model='open-mistral-7b' choices=[ChatCompletionResponseStreamChoice(index=0, delta=DeltaMessage(role=None, content=' mild', tool_calls=None), finish_reason=None)] created=1712848896 object='chat.completion.chunk' usage=None\n",
      "id='270ae83f31804849846f7923e03d4dff' model='open-mistral-7b' choices=[ChatCompletionResponseStreamChoice(index=0, delta=DeltaMessage(role=None, content=',', tool_calls=None), finish_reason=None)] created=1712848896 object='chat.completion.chunk' usage=None\n",
      "id='270ae83f31804849846f7923e03d4dff' model='open-mistral-7b' choices=[ChatCompletionResponseStreamChoice(index=0, delta=DeltaMessage(role=None, content=' slightly', tool_calls=None), finish_reason=None)] created=1712848896 object='chat.completion.chunk' usage=None\n",
      "id='270ae83f31804849846f7923e03d4dff' model='open-mistral-7b' choices=[ChatCompletionResponseStreamChoice(index=0, delta=DeltaMessage(role=None, content=' sweet', tool_calls=None), finish_reason=None)] created=1712848896 object='chat.completion.chunk' usage=None\n",
      "id='270ae83f31804849846f7923e03d4dff' model='open-mistral-7b' choices=[ChatCompletionResponseStreamChoice(index=0, delta=DeltaMessage(role=None, content=' flavor', tool_calls=None), finish_reason=None)] created=1712848896 object='chat.completion.chunk' usage=None\n",
      "id='270ae83f31804849846f7923e03d4dff' model='open-mistral-7b' choices=[ChatCompletionResponseStreamChoice(index=0, delta=DeltaMessage(role=None, content=' and', tool_calls=None), finish_reason=None)] created=1712848896 object='chat.completion.chunk' usage=None\n",
      "id='270ae83f31804849846f7923e03d4dff' model='open-mistral-7b' choices=[ChatCompletionResponseStreamChoice(index=0, delta=DeltaMessage(role=None, content=' a', tool_calls=None), finish_reason=None)] created=1712848896 object='chat.completion.chunk' usage=None\n",
      "id='270ae83f31804849846f7923e03d4dff' model='open-mistral-7b' choices=[ChatCompletionResponseStreamChoice(index=0, delta=DeltaMessage(role=None, content=' slight', tool_calls=None), finish_reason=None)] created=1712848896 object='chat.completion.chunk' usage=None\n",
      "id='270ae83f31804849846f7923e03d4dff' model='open-mistral-7b' choices=[ChatCompletionResponseStreamChoice(index=0, delta=DeltaMessage(role=None, content=' tang', tool_calls=None), finish_reason=None)] created=1712848896 object='chat.completion.chunk' usage=None\n",
      "id='270ae83f31804849846f7923e03d4dff' model='open-mistral-7b' choices=[ChatCompletionResponseStreamChoice(index=0, delta=DeltaMessage(role=None, content='.', tool_calls=None), finish_reason=None)] created=1712848896 object='chat.completion.chunk' usage=None\n",
      "id='270ae83f31804849846f7923e03d4dff' model='open-mistral-7b' choices=[ChatCompletionResponseStreamChoice(index=0, delta=DeltaMessage(role=None, content='\\n4', tool_calls=None), finish_reason=None)] created=1712848896 object='chat.completion.chunk' usage=None\n",
      "id='270ae83f31804849846f7923e03d4dff' model='open-mistral-7b' choices=[ChatCompletionResponseStreamChoice(index=0, delta=DeltaMessage(role=None, content='.', tool_calls=None), finish_reason=None)] created=1712848896 object='chat.completion.chunk' usage=None\n",
      "id='270ae83f31804849846f7923e03d4dff' model='open-mistral-7b' choices=[ChatCompletionResponseStreamChoice(index=0, delta=DeltaMessage(role=None, content=' W', tool_calls=None), finish_reason=None)] created=1712848896 object='chat.completion.chunk' usage=None\n",
      "id='270ae83f31804849846f7923e03d4dff' model='open-mistral-7b' choices=[ChatCompletionResponseStreamChoice(index=0, delta=DeltaMessage(role=None, content='ens', tool_calls=None), finish_reason=None)] created=1712848896 object='chat.completion.chunk' usage=None\n",
      "id='270ae83f31804849846f7923e03d4dff' model='open-mistral-7b' choices=[ChatCompletionResponseStreamChoice(index=0, delta=DeltaMessage(role=None, content='ley', tool_calls=None), finish_reason=None)] created=1712848896 object='chat.completion.chunk' usage=None\n",
      "id='270ae83f31804849846f7923e03d4dff' model='open-mistral-7b' choices=[ChatCompletionResponseStreamChoice(index=0, delta=DeltaMessage(role=None, content='dale', tool_calls=None), finish_reason=None)] created=1712848896 object='chat.completion.chunk' usage=None\n",
      "id='270ae83f31804849846f7923e03d4dff' model='open-mistral-7b' choices=[ChatCompletionResponseStreamChoice(index=0, delta=DeltaMessage(role=None, content=':', tool_calls=None), finish_reason=None)] created=1712848896 object='chat.completion.chunk' usage=None\n",
      "id='270ae83f31804849846f7923e03d4dff' model='open-mistral-7b' choices=[ChatCompletionResponseStreamChoice(index=0, delta=DeltaMessage(role=None, content=' A', tool_calls=None), finish_reason=None)] created=1712848896 object='chat.completion.chunk' usage=None\n",
      "id='270ae83f31804849846f7923e03d4dff' model='open-mistral-7b' choices=[ChatCompletionResponseStreamChoice(index=0, delta=DeltaMessage(role=None, content=' soft', tool_calls=None), finish_reason=None)] created=1712848896 object='chat.completion.chunk' usage=None\n",
      "id='270ae83f31804849846f7923e03d4dff' model='open-mistral-7b' choices=[ChatCompletionResponseStreamChoice(index=0, delta=DeltaMessage(role=None, content=',', tool_calls=None), finish_reason=None)] created=1712848896 object='chat.completion.chunk' usage=None\n",
      "id='270ae83f31804849846f7923e03d4dff' model='open-mistral-7b' choices=[ChatCompletionResponseStreamChoice(index=0, delta=DeltaMessage(role=None, content=' cr', tool_calls=None), finish_reason=None)] created=1712848896 object='chat.completion.chunk' usage=None\n",
      "id='270ae83f31804849846f7923e03d4dff' model='open-mistral-7b' choices=[ChatCompletionResponseStreamChoice(index=0, delta=DeltaMessage(role=None, content='umb', tool_calls=None), finish_reason=None)] created=1712848896 object='chat.completion.chunk' usage=None\n",
      "id='270ae83f31804849846f7923e03d4dff' model='open-mistral-7b' choices=[ChatCompletionResponseStreamChoice(index=0, delta=DeltaMessage(role=None, content='ly', tool_calls=None), finish_reason=None)] created=1712848896 object='chat.completion.chunk' usage=None\n",
      "id='270ae83f31804849846f7923e03d4dff' model='open-mistral-7b' choices=[ChatCompletionResponseStreamChoice(index=0, delta=DeltaMessage(role=None, content=' cheese', tool_calls=None), finish_reason=None)] created=1712848896 object='chat.completion.chunk' usage=None\n",
      "id='270ae83f31804849846f7923e03d4dff' model='open-mistral-7b' choices=[ChatCompletionResponseStreamChoice(index=0, delta=DeltaMessage(role=None, content=' with', tool_calls=None), finish_reason=None)] created=1712848896 object='chat.completion.chunk' usage=None\n",
      "id='270ae83f31804849846f7923e03d4dff' model='open-mistral-7b' choices=[ChatCompletionResponseStreamChoice(index=0, delta=DeltaMessage(role=None, content=' a', tool_calls=None), finish_reason=None)] created=1712848896 object='chat.completion.chunk' usage=None\n",
      "id='270ae83f31804849846f7923e03d4dff' model='open-mistral-7b' choices=[ChatCompletionResponseStreamChoice(index=0, delta=DeltaMessage(role=None, content=' mild', tool_calls=None), finish_reason=None)] created=1712848896 object='chat.completion.chunk' usage=None\n",
      "id='270ae83f31804849846f7923e03d4dff' model='open-mistral-7b' choices=[ChatCompletionResponseStreamChoice(index=0, delta=DeltaMessage(role=None, content=',', tool_calls=None), finish_reason=None)] created=1712848896 object='chat.completion.chunk' usage=None\n",
      "id='270ae83f31804849846f7923e03d4dff' model='open-mistral-7b' choices=[ChatCompletionResponseStreamChoice(index=0, delta=DeltaMessage(role=None, content=' slightly', tool_calls=None), finish_reason=None)] created=1712848896 object='chat.completion.chunk' usage=None\n",
      "id='270ae83f31804849846f7923e03d4dff' model='open-mistral-7b' choices=[ChatCompletionResponseStreamChoice(index=0, delta=DeltaMessage(role=None, content=' sweet', tool_calls=None), finish_reason=None)] created=1712848896 object='chat.completion.chunk' usage=None\n",
      "id='270ae83f31804849846f7923e03d4dff' model='open-mistral-7b' choices=[ChatCompletionResponseStreamChoice(index=0, delta=DeltaMessage(role=None, content=' flavor', tool_calls=None), finish_reason=None)] created=1712848896 object='chat.completion.chunk' usage=None\n",
      "id='270ae83f31804849846f7923e03d4dff' model='open-mistral-7b' choices=[ChatCompletionResponseStreamChoice(index=0, delta=DeltaMessage(role=None, content=' and', tool_calls=None), finish_reason=None)] created=1712848896 object='chat.completion.chunk' usage=None\n",
      "id='270ae83f31804849846f7923e03d4dff' model='open-mistral-7b' choices=[ChatCompletionResponseStreamChoice(index=0, delta=DeltaMessage(role=None, content=' a', tool_calls=None), finish_reason=None)] created=1712848896 object='chat.completion.chunk' usage=None\n",
      "id='270ae83f31804849846f7923e03d4dff' model='open-mistral-7b' choices=[ChatCompletionResponseStreamChoice(index=0, delta=DeltaMessage(role=None, content=' cream', tool_calls=None), finish_reason=None)] created=1712848896 object='chat.completion.chunk' usage=None\n",
      "id='270ae83f31804849846f7923e03d4dff' model='open-mistral-7b' choices=[ChatCompletionResponseStreamChoice(index=0, delta=DeltaMessage(role=None, content='y', tool_calls=None), finish_reason=None)] created=1712848896 object='chat.completion.chunk' usage=None\n",
      "id='270ae83f31804849846f7923e03d4dff' model='open-mistral-7b' choices=[ChatCompletionResponseStreamChoice(index=0, delta=DeltaMessage(role=None, content=' texture', tool_calls=None), finish_reason=None)] created=1712848896 object='chat.completion.chunk' usage=None\n",
      "id='270ae83f31804849846f7923e03d4dff' model='open-mistral-7b' choices=[ChatCompletionResponseStreamChoice(index=0, delta=DeltaMessage(role=None, content='.', tool_calls=None), finish_reason=None)] created=1712848896 object='chat.completion.chunk' usage=None\n",
      "id='270ae83f31804849846f7923e03d4dff' model='open-mistral-7b' choices=[ChatCompletionResponseStreamChoice(index=0, delta=DeltaMessage(role=None, content=' It', tool_calls=None), finish_reason=None)] created=1712848896 object='chat.completion.chunk' usage=None\n",
      "id='270ae83f31804849846f7923e03d4dff' model='open-mistral-7b' choices=[ChatCompletionResponseStreamChoice(index=0, delta=DeltaMessage(role=None, content=' is', tool_calls=None), finish_reason=None)] created=1712848896 object='chat.completion.chunk' usage=None\n",
      "id='270ae83f31804849846f7923e03d4dff' model='open-mistral-7b' choices=[ChatCompletionResponseStreamChoice(index=0, delta=DeltaMessage(role=None, content=' often', tool_calls=None), finish_reason=None)] created=1712848896 object='chat.completion.chunk' usage=None\n",
      "id='270ae83f31804849846f7923e03d4dff' model='open-mistral-7b' choices=[ChatCompletionResponseStreamChoice(index=0, delta=DeltaMessage(role=None, content=' flav', tool_calls=None), finish_reason=None)] created=1712848896 object='chat.completion.chunk' usage=None\n",
      "id='270ae83f31804849846f7923e03d4dff' model='open-mistral-7b' choices=[ChatCompletionResponseStreamChoice(index=0, delta=DeltaMessage(role=None, content='ored', tool_calls=None), finish_reason=None)] created=1712848896 object='chat.completion.chunk' usage=None\n",
      "id='270ae83f31804849846f7923e03d4dff' model='open-mistral-7b' choices=[ChatCompletionResponseStreamChoice(index=0, delta=DeltaMessage(role=None, content=' with', tool_calls=None), finish_reason=None)] created=1712848896 object='chat.completion.chunk' usage=None\n",
      "id='270ae83f31804849846f7923e03d4dff' model='open-mistral-7b' choices=[ChatCompletionResponseStreamChoice(index=0, delta=DeltaMessage(role=None, content=' fruits', tool_calls=None), finish_reason=None)] created=1712848896 object='chat.completion.chunk' usage=None\n",
      "id='270ae83f31804849846f7923e03d4dff' model='open-mistral-7b' choices=[ChatCompletionResponseStreamChoice(index=0, delta=DeltaMessage(role=None, content=' or', tool_calls=None), finish_reason=None)] created=1712848896 object='chat.completion.chunk' usage=None\n",
      "id='270ae83f31804849846f7923e03d4dff' model='open-mistral-7b' choices=[ChatCompletionResponseStreamChoice(index=0, delta=DeltaMessage(role=None, content=' honey', tool_calls=None), finish_reason=None)] created=1712848896 object='chat.completion.chunk' usage=None\n",
      "id='270ae83f31804849846f7923e03d4dff' model='open-mistral-7b' choices=[ChatCompletionResponseStreamChoice(index=0, delta=DeltaMessage(role=None, content='.', tool_calls=None), finish_reason=None)] created=1712848896 object='chat.completion.chunk' usage=None\n",
      "id='270ae83f31804849846f7923e03d4dff' model='open-mistral-7b' choices=[ChatCompletionResponseStreamChoice(index=0, delta=DeltaMessage(role=None, content='\\n5', tool_calls=None), finish_reason=None)] created=1712848896 object='chat.completion.chunk' usage=None\n",
      "id='270ae83f31804849846f7923e03d4dff' model='open-mistral-7b' choices=[ChatCompletionResponseStreamChoice(index=0, delta=DeltaMessage(role=None, content='.', tool_calls=None), finish_reason=None)] created=1712848896 object='chat.completion.chunk' usage=None\n",
      "id='270ae83f31804849846f7923e03d4dff' model='open-mistral-7b' choices=[ChatCompletionResponseStreamChoice(index=0, delta=DeltaMessage(role=None, content=' Red', tool_calls=None), finish_reason=None)] created=1712848896 object='chat.completion.chunk' usage=None\n",
      "id='270ae83f31804849846f7923e03d4dff' model='open-mistral-7b' choices=[ChatCompletionResponseStreamChoice(index=0, delta=DeltaMessage(role=None, content=' Le', tool_calls=None), finish_reason=None)] created=1712848896 object='chat.completion.chunk' usage=None\n",
      "id='270ae83f31804849846f7923e03d4dff' model='open-mistral-7b' choices=[ChatCompletionResponseStreamChoice(index=0, delta=DeltaMessage(role=None, content='ices', tool_calls=None), finish_reason=None)] created=1712848896 object='chat.completion.chunk' usage=None\n",
      "id='270ae83f31804849846f7923e03d4dff' model='open-mistral-7b' choices=[ChatCompletionResponseStreamChoice(index=0, delta=DeltaMessage(role=None, content='ter', tool_calls=None), finish_reason=None)] created=1712848896 object='chat.completion.chunk' usage=None\n",
      "id='270ae83f31804849846f7923e03d4dff' model='open-mistral-7b' choices=[ChatCompletionResponseStreamChoice(index=0, delta=DeltaMessage(role=None, content=':', tool_calls=None), finish_reason=None)] created=1712848896 object='chat.completion.chunk' usage=None\n",
      "id='270ae83f31804849846f7923e03d4dff' model='open-mistral-7b' choices=[ChatCompletionResponseStreamChoice(index=0, delta=DeltaMessage(role=None, content=' A', tool_calls=None), finish_reason=None)] created=1712848896 object='chat.completion.chunk' usage=None\n",
      "id='270ae83f31804849846f7923e03d4dff' model='open-mistral-7b' choices=[ChatCompletionResponseStreamChoice(index=0, delta=DeltaMessage(role=None, content=' hard', tool_calls=None), finish_reason=None)] created=1712848896 object='chat.completion.chunk' usage=None\n",
      "id='270ae83f31804849846f7923e03d4dff' model='open-mistral-7b' choices=[ChatCompletionResponseStreamChoice(index=0, delta=DeltaMessage(role=None, content=',', tool_calls=None), finish_reason=None)] created=1712848896 object='chat.completion.chunk' usage=None\n",
      "id='270ae83f31804849846f7923e03d4dff' model='open-mistral-7b' choices=[ChatCompletionResponseStreamChoice(index=0, delta=DeltaMessage(role=None, content=' orange', tool_calls=None), finish_reason=None)] created=1712848896 object='chat.completion.chunk' usage=None\n",
      "id='270ae83f31804849846f7923e03d4dff' model='open-mistral-7b' choices=[ChatCompletionResponseStreamChoice(index=0, delta=DeltaMessage(role=None, content='-', tool_calls=None), finish_reason=None)] created=1712848896 object='chat.completion.chunk' usage=None\n",
      "id='270ae83f31804849846f7923e03d4dff' model='open-mistral-7b' choices=[ChatCompletionResponseStreamChoice(index=0, delta=DeltaMessage(role=None, content='colored', tool_calls=None), finish_reason=None)] created=1712848896 object='chat.completion.chunk' usage=None\n",
      "id='270ae83f31804849846f7923e03d4dff' model='open-mistral-7b' choices=[ChatCompletionResponseStreamChoice(index=0, delta=DeltaMessage(role=None, content=' cheese', tool_calls=None), finish_reason=None)] created=1712848896 object='chat.completion.chunk' usage=None\n",
      "id='270ae83f31804849846f7923e03d4dff' model='open-mistral-7b' choices=[ChatCompletionResponseStreamChoice(index=0, delta=DeltaMessage(role=None, content=' with', tool_calls=None), finish_reason=None)] created=1712848896 object='chat.completion.chunk' usage=None\n",
      "id='270ae83f31804849846f7923e03d4dff' model='open-mistral-7b' choices=[ChatCompletionResponseStreamChoice(index=0, delta=DeltaMessage(role=None, content=' a', tool_calls=None), finish_reason=None)] created=1712848896 object='chat.completion.chunk' usage=None\n",
      "id='270ae83f31804849846f7923e03d4dff' model='open-mistral-7b' choices=[ChatCompletionResponseStreamChoice(index=0, delta=DeltaMessage(role=None, content=' tang', tool_calls=None), finish_reason=None)] created=1712848896 object='chat.completion.chunk' usage=None\n",
      "id='270ae83f31804849846f7923e03d4dff' model='open-mistral-7b' choices=[ChatCompletionResponseStreamChoice(index=0, delta=DeltaMessage(role=None, content='y', tool_calls=None), finish_reason=None)] created=1712848896 object='chat.completion.chunk' usage=None\n",
      "id='270ae83f31804849846f7923e03d4dff' model='open-mistral-7b' choices=[ChatCompletionResponseStreamChoice(index=0, delta=DeltaMessage(role=None, content=',', tool_calls=None), finish_reason=None)] created=1712848896 object='chat.completion.chunk' usage=None\n",
      "id='270ae83f31804849846f7923e03d4dff' model='open-mistral-7b' choices=[ChatCompletionResponseStreamChoice(index=0, delta=DeltaMessage(role=None, content=' slightly', tool_calls=None), finish_reason=None)] created=1712848896 object='chat.completion.chunk' usage=None\n",
      "id='270ae83f31804849846f7923e03d4dff' model='open-mistral-7b' choices=[ChatCompletionResponseStreamChoice(index=0, delta=DeltaMessage(role=None, content=' sweet', tool_calls=None), finish_reason=None)] created=1712848896 object='chat.completion.chunk' usage=None\n",
      "id='270ae83f31804849846f7923e03d4dff' model='open-mistral-7b' choices=[ChatCompletionResponseStreamChoice(index=0, delta=DeltaMessage(role=None, content=' flavor', tool_calls=None), finish_reason=None)] created=1712848896 object='chat.completion.chunk' usage=None\n",
      "id='270ae83f31804849846f7923e03d4dff' model='open-mistral-7b' choices=[ChatCompletionResponseStreamChoice(index=0, delta=DeltaMessage(role=None, content=' and', tool_calls=None), finish_reason=None)] created=1712848896 object='chat.completion.chunk' usage=None\n",
      "id='270ae83f31804849846f7923e03d4dff' model='open-mistral-7b' choices=[ChatCompletionResponseStreamChoice(index=0, delta=DeltaMessage(role=None, content=' a', tool_calls=None), finish_reason=None)] created=1712848896 object='chat.completion.chunk' usage=None\n",
      "id='270ae83f31804849846f7923e03d4dff' model='open-mistral-7b' choices=[ChatCompletionResponseStreamChoice(index=0, delta=DeltaMessage(role=None, content=' cr', tool_calls=None), finish_reason=None)] created=1712848896 object='chat.completion.chunk' usage=None\n",
      "id='270ae83f31804849846f7923e03d4dff' model='open-mistral-7b' choices=[ChatCompletionResponseStreamChoice(index=0, delta=DeltaMessage(role=None, content='umb', tool_calls=None), finish_reason=None)] created=1712848896 object='chat.completion.chunk' usage=None\n",
      "id='270ae83f31804849846f7923e03d4dff' model='open-mistral-7b' choices=[ChatCompletionResponseStreamChoice(index=0, delta=DeltaMessage(role=None, content='ly', tool_calls=None), finish_reason=None)] created=1712848896 object='chat.completion.chunk' usage=None\n",
      "id='270ae83f31804849846f7923e03d4dff' model='open-mistral-7b' choices=[ChatCompletionResponseStreamChoice(index=0, delta=DeltaMessage(role=None, content=' texture', tool_calls=None), finish_reason=None)] created=1712848896 object='chat.completion.chunk' usage=None\n",
      "id='270ae83f31804849846f7923e03d4dff' model='open-mistral-7b' choices=[ChatCompletionResponseStreamChoice(index=0, delta=DeltaMessage(role=None, content='.', tool_calls=None), finish_reason=None)] created=1712848896 object='chat.completion.chunk' usage=None\n",
      "id='270ae83f31804849846f7923e03d4dff' model='open-mistral-7b' choices=[ChatCompletionResponseStreamChoice(index=0, delta=DeltaMessage(role=None, content='\\n6', tool_calls=None), finish_reason=None)] created=1712848896 object='chat.completion.chunk' usage=None\n",
      "id='270ae83f31804849846f7923e03d4dff' model='open-mistral-7b' choices=[ChatCompletionResponseStreamChoice(index=0, delta=DeltaMessage(role=None, content='.', tool_calls=None), finish_reason=None)] created=1712848896 object='chat.completion.chunk' usage=None\n",
      "id='270ae83f31804849846f7923e03d4dff' model='open-mistral-7b' choices=[ChatCompletionResponseStreamChoice(index=0, delta=DeltaMessage(role=None, content=' Lanc', tool_calls=None), finish_reason=None)] created=1712848896 object='chat.completion.chunk' usage=None\n",
      "id='270ae83f31804849846f7923e03d4dff' model='open-mistral-7b' choices=[ChatCompletionResponseStreamChoice(index=0, delta=DeltaMessage(role=None, content='ash', tool_calls=None), finish_reason=None)] created=1712848896 object='chat.completion.chunk' usage=None\n",
      "id='270ae83f31804849846f7923e03d4dff' model='open-mistral-7b' choices=[ChatCompletionResponseStreamChoice(index=0, delta=DeltaMessage(role=None, content='ire', tool_calls=None), finish_reason=None)] created=1712848896 object='chat.completion.chunk' usage=None\n",
      "id='270ae83f31804849846f7923e03d4dff' model='open-mistral-7b' choices=[ChatCompletionResponseStreamChoice(index=0, delta=DeltaMessage(role=None, content=':', tool_calls=None), finish_reason=None)] created=1712848896 object='chat.completion.chunk' usage=None\n",
      "id='270ae83f31804849846f7923e03d4dff' model='open-mistral-7b' choices=[ChatCompletionResponseStreamChoice(index=0, delta=DeltaMessage(role=None, content=' A', tool_calls=None), finish_reason=None)] created=1712848896 object='chat.completion.chunk' usage=None\n",
      "id='270ae83f31804849846f7923e03d4dff' model='open-mistral-7b' choices=[ChatCompletionResponseStreamChoice(index=0, delta=DeltaMessage(role=None, content=' soft', tool_calls=None), finish_reason=None)] created=1712848896 object='chat.completion.chunk' usage=None\n",
      "id='270ae83f31804849846f7923e03d4dff' model='open-mistral-7b' choices=[ChatCompletionResponseStreamChoice(index=0, delta=DeltaMessage(role=None, content=',', tool_calls=None), finish_reason=None)] created=1712848896 object='chat.completion.chunk' usage=None\n",
      "id='270ae83f31804849846f7923e03d4dff' model='open-mistral-7b' choices=[ChatCompletionResponseStreamChoice(index=0, delta=DeltaMessage(role=None, content=' cr', tool_calls=None), finish_reason=None)] created=1712848896 object='chat.completion.chunk' usage=None\n",
      "id='270ae83f31804849846f7923e03d4dff' model='open-mistral-7b' choices=[ChatCompletionResponseStreamChoice(index=0, delta=DeltaMessage(role=None, content='umb', tool_calls=None), finish_reason=None)] created=1712848896 object='chat.completion.chunk' usage=None\n",
      "id='270ae83f31804849846f7923e03d4dff' model='open-mistral-7b' choices=[ChatCompletionResponseStreamChoice(index=0, delta=DeltaMessage(role=None, content='ly', tool_calls=None), finish_reason=None)] created=1712848896 object='chat.completion.chunk' usage=None\n",
      "id='270ae83f31804849846f7923e03d4dff' model='open-mistral-7b' choices=[ChatCompletionResponseStreamChoice(index=0, delta=DeltaMessage(role=None, content=' cheese', tool_calls=None), finish_reason=None)] created=1712848896 object='chat.completion.chunk' usage=None\n",
      "id='270ae83f31804849846f7923e03d4dff' model='open-mistral-7b' choices=[ChatCompletionResponseStreamChoice(index=0, delta=DeltaMessage(role=None, content=' with', tool_calls=None), finish_reason=None)] created=1712848896 object='chat.completion.chunk' usage=None\n",
      "id='270ae83f31804849846f7923e03d4dff' model='open-mistral-7b' choices=[ChatCompletionResponseStreamChoice(index=0, delta=DeltaMessage(role=None, content=' a', tool_calls=None), finish_reason=None)] created=1712848896 object='chat.completion.chunk' usage=None\n",
      "id='270ae83f31804849846f7923e03d4dff' model='open-mistral-7b' choices=[ChatCompletionResponseStreamChoice(index=0, delta=DeltaMessage(role=None, content=' tang', tool_calls=None), finish_reason=None)] created=1712848896 object='chat.completion.chunk' usage=None\n",
      "id='270ae83f31804849846f7923e03d4dff' model='open-mistral-7b' choices=[ChatCompletionResponseStreamChoice(index=0, delta=DeltaMessage(role=None, content='y', tool_calls=None), finish_reason=None)] created=1712848896 object='chat.completion.chunk' usage=None\n",
      "id='270ae83f31804849846f7923e03d4dff' model='open-mistral-7b' choices=[ChatCompletionResponseStreamChoice(index=0, delta=DeltaMessage(role=None, content=',', tool_calls=None), finish_reason=None)] created=1712848896 object='chat.completion.chunk' usage=None\n",
      "id='270ae83f31804849846f7923e03d4dff' model='open-mistral-7b' choices=[ChatCompletionResponseStreamChoice(index=0, delta=DeltaMessage(role=None, content=' slightly', tool_calls=None), finish_reason=None)] created=1712848896 object='chat.completion.chunk' usage=None\n",
      "id='270ae83f31804849846f7923e03d4dff' model='open-mistral-7b' choices=[ChatCompletionResponseStreamChoice(index=0, delta=DeltaMessage(role=None, content=' sweet', tool_calls=None), finish_reason=None)] created=1712848896 object='chat.completion.chunk' usage=None\n",
      "id='270ae83f31804849846f7923e03d4dff' model='open-mistral-7b' choices=[ChatCompletionResponseStreamChoice(index=0, delta=DeltaMessage(role=None, content=' flavor', tool_calls=None), finish_reason=None)] created=1712848896 object='chat.completion.chunk' usage=None\n",
      "id='270ae83f31804849846f7923e03d4dff' model='open-mistral-7b' choices=[ChatCompletionResponseStreamChoice(index=0, delta=DeltaMessage(role=None, content=' and', tool_calls=None), finish_reason=None)] created=1712848896 object='chat.completion.chunk' usage=None\n",
      "id='270ae83f31804849846f7923e03d4dff' model='open-mistral-7b' choices=[ChatCompletionResponseStreamChoice(index=0, delta=DeltaMessage(role=None, content=' a', tool_calls=None), finish_reason=None)] created=1712848896 object='chat.completion.chunk' usage=None\n",
      "id='270ae83f31804849846f7923e03d4dff' model='open-mistral-7b' choices=[ChatCompletionResponseStreamChoice(index=0, delta=DeltaMessage(role=None, content=' cr', tool_calls=None), finish_reason=None)] created=1712848896 object='chat.completion.chunk' usage=None\n",
      "id='270ae83f31804849846f7923e03d4dff' model='open-mistral-7b' choices=[ChatCompletionResponseStreamChoice(index=0, delta=DeltaMessage(role=None, content='umb', tool_calls=None), finish_reason=None)] created=1712848896 object='chat.completion.chunk' usage=None\n",
      "id='270ae83f31804849846f7923e03d4dff' model='open-mistral-7b' choices=[ChatCompletionResponseStreamChoice(index=0, delta=DeltaMessage(role=None, content='ly', tool_calls=None), finish_reason=None)] created=1712848896 object='chat.completion.chunk' usage=None\n",
      "id='270ae83f31804849846f7923e03d4dff' model='open-mistral-7b' choices=[ChatCompletionResponseStreamChoice(index=0, delta=DeltaMessage(role=None, content=' texture', tool_calls=None), finish_reason=None)] created=1712848896 object='chat.completion.chunk' usage=None\n",
      "id='270ae83f31804849846f7923e03d4dff' model='open-mistral-7b' choices=[ChatCompletionResponseStreamChoice(index=0, delta=DeltaMessage(role=None, content='.', tool_calls=None), finish_reason=None)] created=1712848896 object='chat.completion.chunk' usage=None\n",
      "id='270ae83f31804849846f7923e03d4dff' model='open-mistral-7b' choices=[ChatCompletionResponseStreamChoice(index=0, delta=DeltaMessage(role=None, content=' It', tool_calls=None), finish_reason=None)] created=1712848896 object='chat.completion.chunk' usage=None\n",
      "id='270ae83f31804849846f7923e03d4dff' model='open-mistral-7b' choices=[ChatCompletionResponseStreamChoice(index=0, delta=DeltaMessage(role=None, content=' is', tool_calls=None), finish_reason=None)] created=1712848896 object='chat.completion.chunk' usage=None\n",
      "id='270ae83f31804849846f7923e03d4dff' model='open-mistral-7b' choices=[ChatCompletionResponseStreamChoice(index=0, delta=DeltaMessage(role=None, content=' often', tool_calls=None), finish_reason=None)] created=1712848896 object='chat.completion.chunk' usage=None\n",
      "id='270ae83f31804849846f7923e03d4dff' model='open-mistral-7b' choices=[ChatCompletionResponseStreamChoice(index=0, delta=DeltaMessage(role=None, content=' flav', tool_calls=None), finish_reason=None)] created=1712848896 object='chat.completion.chunk' usage=None\n",
      "id='270ae83f31804849846f7923e03d4dff' model='open-mistral-7b' choices=[ChatCompletionResponseStreamChoice(index=0, delta=DeltaMessage(role=None, content='ored', tool_calls=None), finish_reason=None)] created=1712848896 object='chat.completion.chunk' usage=None\n",
      "id='270ae83f31804849846f7923e03d4dff' model='open-mistral-7b' choices=[ChatCompletionResponseStreamChoice(index=0, delta=DeltaMessage(role=None, content=' with', tool_calls=None), finish_reason=None)] created=1712848896 object='chat.completion.chunk' usage=None\n",
      "id='270ae83f31804849846f7923e03d4dff' model='open-mistral-7b' choices=[ChatCompletionResponseStreamChoice(index=0, delta=DeltaMessage(role=None, content=' her', tool_calls=None), finish_reason=None)] created=1712848896 object='chat.completion.chunk' usage=None\n",
      "id='270ae83f31804849846f7923e03d4dff' model='open-mistral-7b' choices=[ChatCompletionResponseStreamChoice(index=0, delta=DeltaMessage(role=None, content='bs', tool_calls=None), finish_reason=None)] created=1712848896 object='chat.completion.chunk' usage=None\n",
      "id='270ae83f31804849846f7923e03d4dff' model='open-mistral-7b' choices=[ChatCompletionResponseStreamChoice(index=0, delta=DeltaMessage(role=None, content=' or', tool_calls=None), finish_reason=None)] created=1712848896 object='chat.completion.chunk' usage=None\n",
      "id='270ae83f31804849846f7923e03d4dff' model='open-mistral-7b' choices=[ChatCompletionResponseStreamChoice(index=0, delta=DeltaMessage(role=None, content=' on', tool_calls=None), finish_reason=None)] created=1712848896 object='chat.completion.chunk' usage=None\n",
      "id='270ae83f31804849846f7923e03d4dff' model='open-mistral-7b' choices=[ChatCompletionResponseStreamChoice(index=0, delta=DeltaMessage(role=None, content='ions', tool_calls=None), finish_reason=None)] created=1712848896 object='chat.completion.chunk' usage=None\n",
      "id='270ae83f31804849846f7923e03d4dff' model='open-mistral-7b' choices=[ChatCompletionResponseStreamChoice(index=0, delta=DeltaMessage(role=None, content='.', tool_calls=None), finish_reason=None)] created=1712848896 object='chat.completion.chunk' usage=None\n",
      "id='270ae83f31804849846f7923e03d4dff' model='open-mistral-7b' choices=[ChatCompletionResponseStreamChoice(index=0, delta=DeltaMessage(role=None, content='\\n7', tool_calls=None), finish_reason=None)] created=1712848896 object='chat.completion.chunk' usage=None\n",
      "id='270ae83f31804849846f7923e03d4dff' model='open-mistral-7b' choices=[ChatCompletionResponseStreamChoice(index=0, delta=DeltaMessage(role=None, content='.', tool_calls=None), finish_reason=None)] created=1712848896 object='chat.completion.chunk' usage=None\n",
      "id='270ae83f31804849846f7923e03d4dff' model='open-mistral-7b' choices=[ChatCompletionResponseStreamChoice(index=0, delta=DeltaMessage(role=None, content=' Che', tool_calls=None), finish_reason=None)] created=1712848896 object='chat.completion.chunk' usage=None\n",
      "id='270ae83f31804849846f7923e03d4dff' model='open-mistral-7b' choices=[ChatCompletionResponseStreamChoice(index=0, delta=DeltaMessage(role=None, content='ese', tool_calls=None), finish_reason=None)] created=1712848896 object='chat.completion.chunk' usage=None\n",
      "id='270ae83f31804849846f7923e03d4dff' model='open-mistral-7b' choices=[ChatCompletionResponseStreamChoice(index=0, delta=DeltaMessage(role=None, content=' Press', tool_calls=None), finish_reason=None)] created=1712848896 object='chat.completion.chunk' usage=None\n",
      "id='270ae83f31804849846f7923e03d4dff' model='open-mistral-7b' choices=[ChatCompletionResponseStreamChoice(index=0, delta=DeltaMessage(role=None, content='ed', tool_calls=None), finish_reason=None)] created=1712848896 object='chat.completion.chunk' usage=None\n",
      "id='270ae83f31804849846f7923e03d4dff' model='open-mistral-7b' choices=[ChatCompletionResponseStreamChoice(index=0, delta=DeltaMessage(role=None, content=' Cur', tool_calls=None), finish_reason=None)] created=1712848896 object='chat.completion.chunk' usage=None\n",
      "id='270ae83f31804849846f7923e03d4dff' model='open-mistral-7b' choices=[ChatCompletionResponseStreamChoice(index=0, delta=DeltaMessage(role=None, content='ds', tool_calls=None), finish_reason=None)] created=1712848896 object='chat.completion.chunk' usage=None\n",
      "id='270ae83f31804849846f7923e03d4dff' model='open-mistral-7b' choices=[ChatCompletionResponseStreamChoice(index=0, delta=DeltaMessage(role=None, content=':', tool_calls=None), finish_reason=None)] created=1712848896 object='chat.completion.chunk' usage=None\n",
      "id='270ae83f31804849846f7923e03d4dff' model='open-mistral-7b' choices=[ChatCompletionResponseStreamChoice(index=0, delta=DeltaMessage(role=None, content=' A', tool_calls=None), finish_reason=None)] created=1712848896 object='chat.completion.chunk' usage=None\n",
      "id='270ae83f31804849846f7923e03d4dff' model='open-mistral-7b' choices=[ChatCompletionResponseStreamChoice(index=0, delta=DeltaMessage(role=None, content=' fresh', tool_calls=None), finish_reason=None)] created=1712848896 object='chat.completion.chunk' usage=None\n",
      "id='270ae83f31804849846f7923e03d4dff' model='open-mistral-7b' choices=[ChatCompletionResponseStreamChoice(index=0, delta=DeltaMessage(role=None, content=',', tool_calls=None), finish_reason=None)] created=1712848896 object='chat.completion.chunk' usage=None\n",
      "id='270ae83f31804849846f7923e03d4dff' model='open-mistral-7b' choices=[ChatCompletionResponseStreamChoice(index=0, delta=DeltaMessage(role=None, content=' un', tool_calls=None), finish_reason=None)] created=1712848896 object='chat.completion.chunk' usage=None\n",
      "id='270ae83f31804849846f7923e03d4dff' model='open-mistral-7b' choices=[ChatCompletionResponseStreamChoice(index=0, delta=DeltaMessage(role=None, content='pressed', tool_calls=None), finish_reason=None)] created=1712848896 object='chat.completion.chunk' usage=None\n",
      "id='270ae83f31804849846f7923e03d4dff' model='open-mistral-7b' choices=[ChatCompletionResponseStreamChoice(index=0, delta=DeltaMessage(role=None, content=' cur', tool_calls=None), finish_reason=None)] created=1712848896 object='chat.completion.chunk' usage=None\n",
      "id='270ae83f31804849846f7923e03d4dff' model='open-mistral-7b' choices=[ChatCompletionResponseStreamChoice(index=0, delta=DeltaMessage(role=None, content='d', tool_calls=None), finish_reason=None)] created=1712848896 object='chat.completion.chunk' usage=None\n",
      "id='270ae83f31804849846f7923e03d4dff' model='open-mistral-7b' choices=[ChatCompletionResponseStreamChoice(index=0, delta=DeltaMessage(role=None, content=' cheese', tool_calls=None), finish_reason=None)] created=1712848896 object='chat.completion.chunk' usage=None\n",
      "id='270ae83f31804849846f7923e03d4dff' model='open-mistral-7b' choices=[ChatCompletionResponseStreamChoice(index=0, delta=DeltaMessage(role=None, content=' with', tool_calls=None), finish_reason=None)] created=1712848896 object='chat.completion.chunk' usage=None\n",
      "id='270ae83f31804849846f7923e03d4dff' model='open-mistral-7b' choices=[ChatCompletionResponseStreamChoice(index=0, delta=DeltaMessage(role=None, content=' a', tool_calls=None), finish_reason=None)] created=1712848896 object='chat.completion.chunk' usage=None\n",
      "id='270ae83f31804849846f7923e03d4dff' model='open-mistral-7b' choices=[ChatCompletionResponseStreamChoice(index=0, delta=DeltaMessage(role=None, content=' mild', tool_calls=None), finish_reason=None)] created=1712848896 object='chat.completion.chunk' usage=None\n",
      "id='270ae83f31804849846f7923e03d4dff' model='open-mistral-7b' choices=[ChatCompletionResponseStreamChoice(index=0, delta=DeltaMessage(role=None, content=',', tool_calls=None), finish_reason=None)] created=1712848896 object='chat.completion.chunk' usage=None\n",
      "id='270ae83f31804849846f7923e03d4dff' model='open-mistral-7b' choices=[ChatCompletionResponseStreamChoice(index=0, delta=DeltaMessage(role=None, content=' slightly', tool_calls=None), finish_reason=None)] created=1712848896 object='chat.completion.chunk' usage=None\n",
      "id='270ae83f31804849846f7923e03d4dff' model='open-mistral-7b' choices=[ChatCompletionResponseStreamChoice(index=0, delta=DeltaMessage(role=None, content=' sweet', tool_calls=None), finish_reason=None)] created=1712848896 object='chat.completion.chunk' usage=None\n",
      "id='270ae83f31804849846f7923e03d4dff' model='open-mistral-7b' choices=[ChatCompletionResponseStreamChoice(index=0, delta=DeltaMessage(role=None, content=' flavor', tool_calls=None), finish_reason=None)] created=1712848896 object='chat.completion.chunk' usage=None\n",
      "id='270ae83f31804849846f7923e03d4dff' model='open-mistral-7b' choices=[ChatCompletionResponseStreamChoice(index=0, delta=DeltaMessage(role=None, content=' and', tool_calls=None), finish_reason=None)] created=1712848896 object='chat.completion.chunk' usage=None\n",
      "id='270ae83f31804849846f7923e03d4dff' model='open-mistral-7b' choices=[ChatCompletionResponseStreamChoice(index=0, delta=DeltaMessage(role=None, content=' a', tool_calls=None), finish_reason=None)] created=1712848896 object='chat.completion.chunk' usage=None\n",
      "id='270ae83f31804849846f7923e03d4dff' model='open-mistral-7b' choices=[ChatCompletionResponseStreamChoice(index=0, delta=DeltaMessage(role=None, content=' soft', tool_calls=None), finish_reason=None)] created=1712848896 object='chat.completion.chunk' usage=None\n",
      "id='270ae83f31804849846f7923e03d4dff' model='open-mistral-7b' choices=[ChatCompletionResponseStreamChoice(index=0, delta=DeltaMessage(role=None, content=',', tool_calls=None), finish_reason=None)] created=1712848896 object='chat.completion.chunk' usage=None\n",
      "id='270ae83f31804849846f7923e03d4dff' model='open-mistral-7b' choices=[ChatCompletionResponseStreamChoice(index=0, delta=DeltaMessage(role=None, content=' cream', tool_calls=None), finish_reason=None)] created=1712848896 object='chat.completion.chunk' usage=None\n",
      "id='270ae83f31804849846f7923e03d4dff' model='open-mistral-7b' choices=[ChatCompletionResponseStreamChoice(index=0, delta=DeltaMessage(role=None, content='y', tool_calls=None), finish_reason=None)] created=1712848896 object='chat.completion.chunk' usage=None\n",
      "id='270ae83f31804849846f7923e03d4dff' model='open-mistral-7b' choices=[ChatCompletionResponseStreamChoice(index=0, delta=DeltaMessage(role=None, content=' texture', tool_calls=None), finish_reason=None)] created=1712848896 object='chat.completion.chunk' usage=None\n",
      "id='270ae83f31804849846f7923e03d4dff' model='open-mistral-7b' choices=[ChatCompletionResponseStreamChoice(index=0, delta=DeltaMessage(role=None, content='.', tool_calls=None), finish_reason=None)] created=1712848896 object='chat.completion.chunk' usage=None\n",
      "id='270ae83f31804849846f7923e03d4dff' model='open-mistral-7b' choices=[ChatCompletionResponseStreamChoice(index=0, delta=DeltaMessage(role=None, content=' It', tool_calls=None), finish_reason=None)] created=1712848896 object='chat.completion.chunk' usage=None\n",
      "id='270ae83f31804849846f7923e03d4dff' model='open-mistral-7b' choices=[ChatCompletionResponseStreamChoice(index=0, delta=DeltaMessage(role=None, content=' is', tool_calls=None), finish_reason=None)] created=1712848896 object='chat.completion.chunk' usage=None\n",
      "id='270ae83f31804849846f7923e03d4dff' model='open-mistral-7b' choices=[ChatCompletionResponseStreamChoice(index=0, delta=DeltaMessage(role=None, content=' often', tool_calls=None), finish_reason=None)] created=1712848896 object='chat.completion.chunk' usage=None\n",
      "id='270ae83f31804849846f7923e03d4dff' model='open-mistral-7b' choices=[ChatCompletionResponseStreamChoice(index=0, delta=DeltaMessage(role=None, content=' eaten', tool_calls=None), finish_reason=None)] created=1712848896 object='chat.completion.chunk' usage=None\n",
      "id='270ae83f31804849846f7923e03d4dff' model='open-mistral-7b' choices=[ChatCompletionResponseStreamChoice(index=0, delta=DeltaMessage(role=None, content=' with', tool_calls=None), finish_reason=None)] created=1712848896 object='chat.completion.chunk' usage=None\n",
      "id='270ae83f31804849846f7923e03d4dff' model='open-mistral-7b' choices=[ChatCompletionResponseStreamChoice(index=0, delta=DeltaMessage(role=None, content=' ch', tool_calls=None), finish_reason=None)] created=1712848896 object='chat.completion.chunk' usage=None\n",
      "id='270ae83f31804849846f7923e03d4dff' model='open-mistral-7b' choices=[ChatCompletionResponseStreamChoice(index=0, delta=DeltaMessage(role=None, content='ut', tool_calls=None), finish_reason=None)] created=1712848896 object='chat.completion.chunk' usage=None\n",
      "id='270ae83f31804849846f7923e03d4dff' model='open-mistral-7b' choices=[ChatCompletionResponseStreamChoice(index=0, delta=DeltaMessage(role=None, content='ney', tool_calls=None), finish_reason=None)] created=1712848896 object='chat.completion.chunk' usage=None\n",
      "id='270ae83f31804849846f7923e03d4dff' model='open-mistral-7b' choices=[ChatCompletionResponseStreamChoice(index=0, delta=DeltaMessage(role=None, content=' or', tool_calls=None), finish_reason=None)] created=1712848896 object='chat.completion.chunk' usage=None\n",
      "id='270ae83f31804849846f7923e03d4dff' model='open-mistral-7b' choices=[ChatCompletionResponseStreamChoice(index=0, delta=DeltaMessage(role=None, content=' pick', tool_calls=None), finish_reason=None)] created=1712848896 object='chat.completion.chunk' usage=None\n",
      "id='270ae83f31804849846f7923e03d4dff' model='open-mistral-7b' choices=[ChatCompletionResponseStreamChoice(index=0, delta=DeltaMessage(role=None, content='les', tool_calls=None), finish_reason=None)] created=1712848896 object='chat.completion.chunk' usage=None\n",
      "id='270ae83f31804849846f7923e03d4dff' model='open-mistral-7b' choices=[ChatCompletionResponseStreamChoice(index=0, delta=DeltaMessage(role=None, content='.', tool_calls=None), finish_reason=None)] created=1712848896 object='chat.completion.chunk' usage=None\n",
      "id='270ae83f31804849846f7923e03d4dff' model='open-mistral-7b' choices=[ChatCompletionResponseStreamChoice(index=0, delta=DeltaMessage(role=None, content='\\n\\nThese', tool_calls=None), finish_reason=None)] created=1712848896 object='chat.completion.chunk' usage=None\n",
      "id='270ae83f31804849846f7923e03d4dff' model='open-mistral-7b' choices=[ChatCompletionResponseStreamChoice(index=0, delta=DeltaMessage(role=None, content=' are', tool_calls=None), finish_reason=None)] created=1712848896 object='chat.completion.chunk' usage=None\n",
      "id='270ae83f31804849846f7923e03d4dff' model='open-mistral-7b' choices=[ChatCompletionResponseStreamChoice(index=0, delta=DeltaMessage(role=None, content=' just', tool_calls=None), finish_reason=None)] created=1712848896 object='chat.completion.chunk' usage=None\n",
      "id='270ae83f31804849846f7923e03d4dff' model='open-mistral-7b' choices=[ChatCompletionResponseStreamChoice(index=0, delta=DeltaMessage(role=None, content=' a', tool_calls=None), finish_reason=None)] created=1712848896 object='chat.completion.chunk' usage=None\n",
      "id='270ae83f31804849846f7923e03d4dff' model='open-mistral-7b' choices=[ChatCompletionResponseStreamChoice(index=0, delta=DeltaMessage(role=None, content=' few', tool_calls=None), finish_reason=None)] created=1712848896 object='chat.completion.chunk' usage=None\n",
      "id='270ae83f31804849846f7923e03d4dff' model='open-mistral-7b' choices=[ChatCompletionResponseStreamChoice(index=0, delta=DeltaMessage(role=None, content=' of', tool_calls=None), finish_reason=None)] created=1712848896 object='chat.completion.chunk' usage=None\n",
      "id='270ae83f31804849846f7923e03d4dff' model='open-mistral-7b' choices=[ChatCompletionResponseStreamChoice(index=0, delta=DeltaMessage(role=None, content=' the', tool_calls=None), finish_reason=None)] created=1712848896 object='chat.completion.chunk' usage=None\n",
      "id='270ae83f31804849846f7923e03d4dff' model='open-mistral-7b' choices=[ChatCompletionResponseStreamChoice(index=0, delta=DeltaMessage(role=None, content=' many', tool_calls=None), finish_reason=None)] created=1712848896 object='chat.completion.chunk' usage=None\n",
      "id='270ae83f31804849846f7923e03d4dff' model='open-mistral-7b' choices=[ChatCompletionResponseStreamChoice(index=0, delta=DeltaMessage(role=None, content=' delicious', tool_calls=None), finish_reason=None)] created=1712848896 object='chat.completion.chunk' usage=None\n",
      "id='270ae83f31804849846f7923e03d4dff' model='open-mistral-7b' choices=[ChatCompletionResponseStreamChoice(index=0, delta=DeltaMessage(role=None, content=' British', tool_calls=None), finish_reason=None)] created=1712848896 object='chat.completion.chunk' usage=None\n",
      "id='270ae83f31804849846f7923e03d4dff' model='open-mistral-7b' choices=[ChatCompletionResponseStreamChoice(index=0, delta=DeltaMessage(role=None, content=' che', tool_calls=None), finish_reason=None)] created=1712848896 object='chat.completion.chunk' usage=None\n",
      "id='270ae83f31804849846f7923e03d4dff' model='open-mistral-7b' choices=[ChatCompletionResponseStreamChoice(index=0, delta=DeltaMessage(role=None, content='es', tool_calls=None), finish_reason=None)] created=1712848896 object='chat.completion.chunk' usage=None\n",
      "id='270ae83f31804849846f7923e03d4dff' model='open-mistral-7b' choices=[ChatCompletionResponseStreamChoice(index=0, delta=DeltaMessage(role=None, content='es', tool_calls=None), finish_reason=None)] created=1712848896 object='chat.completion.chunk' usage=None\n",
      "id='270ae83f31804849846f7923e03d4dff' model='open-mistral-7b' choices=[ChatCompletionResponseStreamChoice(index=0, delta=DeltaMessage(role=None, content=' out', tool_calls=None), finish_reason=None)] created=1712848896 object='chat.completion.chunk' usage=None\n",
      "id='270ae83f31804849846f7923e03d4dff' model='open-mistral-7b' choices=[ChatCompletionResponseStreamChoice(index=0, delta=DeltaMessage(role=None, content=' there', tool_calls=None), finish_reason=None)] created=1712848896 object='chat.completion.chunk' usage=None\n",
      "id='270ae83f31804849846f7923e03d4dff' model='open-mistral-7b' choices=[ChatCompletionResponseStreamChoice(index=0, delta=DeltaMessage(role=None, content=',', tool_calls=None), finish_reason=None)] created=1712848896 object='chat.completion.chunk' usage=None\n",
      "id='270ae83f31804849846f7923e03d4dff' model='open-mistral-7b' choices=[ChatCompletionResponseStreamChoice(index=0, delta=DeltaMessage(role=None, content=' and', tool_calls=None), finish_reason=None)] created=1712848896 object='chat.completion.chunk' usage=None\n",
      "id='270ae83f31804849846f7923e03d4dff' model='open-mistral-7b' choices=[ChatCompletionResponseStreamChoice(index=0, delta=DeltaMessage(role=None, content=' the', tool_calls=None), finish_reason=None)] created=1712848896 object='chat.completion.chunk' usage=None\n",
      "id='270ae83f31804849846f7923e03d4dff' model='open-mistral-7b' choices=[ChatCompletionResponseStreamChoice(index=0, delta=DeltaMessage(role=None, content=' best', tool_calls=None), finish_reason=None)] created=1712848896 object='chat.completion.chunk' usage=None\n",
      "id='270ae83f31804849846f7923e03d4dff' model='open-mistral-7b' choices=[ChatCompletionResponseStreamChoice(index=0, delta=DeltaMessage(role=None, content=' one', tool_calls=None), finish_reason=None)] created=1712848896 object='chat.completion.chunk' usage=None\n",
      "id='270ae83f31804849846f7923e03d4dff' model='open-mistral-7b' choices=[ChatCompletionResponseStreamChoice(index=0, delta=DeltaMessage(role=None, content=' for', tool_calls=None), finish_reason=None)] created=1712848896 object='chat.completion.chunk' usage=None\n",
      "id='270ae83f31804849846f7923e03d4dff' model='open-mistral-7b' choices=[ChatCompletionResponseStreamChoice(index=0, delta=DeltaMessage(role=None, content=' you', tool_calls=None), finish_reason=None)] created=1712848896 object='chat.completion.chunk' usage=None\n",
      "id='270ae83f31804849846f7923e03d4dff' model='open-mistral-7b' choices=[ChatCompletionResponseStreamChoice(index=0, delta=DeltaMessage(role=None, content=' depends', tool_calls=None), finish_reason=None)] created=1712848896 object='chat.completion.chunk' usage=None\n",
      "id='270ae83f31804849846f7923e03d4dff' model='open-mistral-7b' choices=[ChatCompletionResponseStreamChoice(index=0, delta=DeltaMessage(role=None, content=' on', tool_calls=None), finish_reason=None)] created=1712848896 object='chat.completion.chunk' usage=None\n",
      "id='270ae83f31804849846f7923e03d4dff' model='open-mistral-7b' choices=[ChatCompletionResponseStreamChoice(index=0, delta=DeltaMessage(role=None, content=' your', tool_calls=None), finish_reason=None)] created=1712848896 object='chat.completion.chunk' usage=None\n",
      "id='270ae83f31804849846f7923e03d4dff' model='open-mistral-7b' choices=[ChatCompletionResponseStreamChoice(index=0, delta=DeltaMessage(role=None, content=' personal', tool_calls=None), finish_reason=None)] created=1712848896 object='chat.completion.chunk' usage=None\n",
      "id='270ae83f31804849846f7923e03d4dff' model='open-mistral-7b' choices=[ChatCompletionResponseStreamChoice(index=0, delta=DeltaMessage(role=None, content=' preferences', tool_calls=None), finish_reason=None)] created=1712848896 object='chat.completion.chunk' usage=None\n",
      "id='270ae83f31804849846f7923e03d4dff' model='open-mistral-7b' choices=[ChatCompletionResponseStreamChoice(index=0, delta=DeltaMessage(role=None, content='.', tool_calls=None), finish_reason=None)] created=1712848896 object='chat.completion.chunk' usage=None\n",
      "id='270ae83f31804849846f7923e03d4dff' model='open-mistral-7b' choices=[ChatCompletionResponseStreamChoice(index=0, delta=DeltaMessage(role=None, content='', tool_calls=None), finish_reason=<FinishReason.stop: 'stop'>)] created=1712848896 object='chat.completion.chunk' usage=UsageInfo(prompt_tokens=308, total_tokens=631, completion_tokens=323)\n"
     ]
    }
   ],
   "source": [
    "#| hide\n",
    "for chunk in stream_response: print(chunk)"
   ]
  },
  {
   "cell_type": "code",
   "execution_count": null,
   "metadata": {},
   "outputs": [
    {
     "name": "stdout",
     "output_type": "stream",
     "text": [
      "\n",
      "British\n",
      " che\n",
      "es\n",
      "es\n",
      " offer\n",
      " a\n",
      " diverse\n",
      " range\n",
      " of\n",
      " flav\n",
      "ors\n",
      " and\n",
      " text\n",
      "ures\n",
      ",\n",
      " from\n",
      " mild\n",
      " and\n",
      " cream\n",
      "y\n",
      " to\n",
      " strong\n",
      " and\n",
      " p\n",
      "ung\n",
      "ent\n",
      ".\n",
      " Here\n",
      " are\n",
      " some\n",
      " popular\n",
      " British\n",
      " che\n",
      "es\n",
      "es\n",
      ":\n",
      "\n",
      "\n",
      "1\n",
      ".\n",
      " C\n",
      "hed\n",
      "dar\n",
      ":\n",
      " A\n",
      " hard\n",
      ",\n",
      " mature\n",
      "d\n",
      " cheese\n",
      " with\n",
      " a\n",
      " sharp\n",
      ",\n",
      " tang\n",
      "y\n",
      " flavor\n",
      " and\n",
      " a\n",
      " cr\n",
      "umb\n",
      "ly\n",
      " texture\n",
      ".\n",
      " C\n",
      "hed\n",
      "dar\n",
      " is\n",
      " one\n",
      " of\n",
      " the\n",
      " most\n",
      " well\n",
      "-\n",
      "known\n",
      " and\n",
      " widely\n",
      " consumed\n",
      " British\n",
      " che\n",
      "es\n",
      "es\n",
      ".\n",
      "\n",
      "2\n",
      ".\n",
      " St\n",
      "ilton\n",
      ":\n",
      " A\n",
      " blue\n",
      "-\n",
      "ve\n",
      "ined\n",
      " cheese\n",
      " made\n",
      " from\n",
      " cow\n",
      "'\n",
      "s\n",
      " milk\n",
      ",\n",
      " with\n",
      " a\n",
      " strong\n",
      ",\n",
      " p\n",
      "ung\n",
      "ent\n",
      " arom\n",
      "a\n",
      " and\n",
      " a\n",
      " cream\n",
      "y\n",
      ",\n",
      " cr\n",
      "umb\n",
      "ly\n",
      " texture\n",
      ".\n",
      " St\n",
      "ilton\n",
      " is\n",
      " often\n",
      " described\n",
      " as\n",
      " having\n",
      " a\n",
      " distinct\n",
      "ively\n",
      " \"\n",
      "ear\n",
      "thy\n",
      "\"\n",
      " flavor\n",
      ".\n",
      "\n",
      "3\n",
      ".\n",
      " Che\n",
      "shire\n",
      ":\n",
      " A\n",
      " semi\n",
      "-\n",
      "hard\n",
      " cheese\n",
      " with\n",
      " a\n",
      " cr\n",
      "umb\n",
      "ly\n",
      " texture\n",
      " and\n",
      " a\n",
      " mild\n",
      ",\n",
      " slightly\n",
      " sweet\n",
      " flavor\n",
      ".\n",
      " Che\n",
      "shire\n",
      " is\n",
      " often\n",
      " used\n",
      " in\n",
      " cooking\n",
      " and\n",
      " can\n",
      " be\n",
      " found\n",
      " in\n",
      " various\n",
      " varieties\n",
      ",\n",
      " including\n",
      " \"\n",
      "w\n",
      "ax\n",
      "ed\n",
      "\"\n",
      " Che\n",
      "shire\n",
      ".\n",
      "\n",
      "4\n",
      ".\n",
      " W\n",
      "ens\n",
      "ley\n",
      "dale\n",
      ":\n",
      " A\n",
      " soft\n",
      ",\n",
      " cr\n",
      "umb\n",
      "ly\n",
      " cheese\n",
      " with\n",
      " a\n",
      " mild\n",
      ",\n",
      " slightly\n",
      " sweet\n",
      " flavor\n",
      ".\n",
      " W\n",
      "ens\n",
      "ley\n",
      "dale\n",
      " is\n",
      " often\n",
      " pa\n",
      "ired\n",
      " with\n",
      " fruit\n",
      ",\n",
      " particularly\n",
      " dried\n",
      " fruit\n",
      " or\n",
      " cr\n",
      "an\n",
      "berries\n",
      ".\n",
      "\n",
      "5\n",
      ".\n",
      " Lanc\n",
      "ash\n",
      "ire\n",
      ":\n",
      " A\n",
      " hard\n",
      ",\n",
      " cr\n",
      "umb\n",
      "ly\n",
      " cheese\n",
      " with\n",
      " a\n",
      " strong\n",
      ",\n",
      " tang\n",
      "y\n",
      " flavor\n",
      ".\n",
      " Lanc\n",
      "ash\n",
      "ire\n",
      " cheese\n",
      " is\n",
      " often\n",
      " used\n",
      " in\n",
      " cooking\n",
      ",\n",
      " particularly\n",
      " in\n",
      " traditional\n",
      " dishes\n",
      " like\n",
      " hot\n",
      "pot\n",
      ".\n",
      "\n",
      "6\n",
      ".\n",
      " Red\n",
      " Le\n",
      "ices\n",
      "ter\n",
      ":\n",
      " A\n",
      " hard\n",
      ",\n",
      " orange\n",
      "-\n",
      "colored\n",
      " cheese\n",
      " with\n",
      " a\n",
      " tang\n",
      "y\n",
      ",\n",
      " slightly\n",
      " sweet\n",
      " flavor\n",
      ".\n",
      " Red\n",
      " Le\n",
      "ices\n",
      "ter\n",
      " is\n",
      " often\n",
      " used\n",
      " in\n",
      " cooking\n",
      " and\n",
      " mel\n",
      "ts\n",
      " well\n",
      ".\n",
      "\n",
      "7\n",
      ".\n",
      " W\n",
      "ens\n",
      "ley\n",
      "'\n",
      "s\n",
      " Blue\n",
      ":\n",
      " A\n",
      " blue\n",
      "-\n",
      "ve\n",
      "ined\n",
      " cheese\n",
      " made\n",
      " from\n",
      " go\n",
      "at\n",
      "'\n",
      "s\n",
      " milk\n",
      ",\n",
      " with\n",
      " a\n",
      " cream\n",
      "y\n",
      " texture\n",
      " and\n",
      " a\n",
      " mild\n",
      ",\n",
      " slightly\n",
      " sweet\n",
      " and\n",
      " tang\n",
      "y\n",
      " flavor\n",
      ".\n",
      "\n",
      "\n",
      "B\n",
      "rit\n",
      "ish\n",
      " che\n",
      "es\n",
      "es\n",
      " offer\n",
      " a\n",
      " rich\n",
      " and\n",
      " diverse\n",
      " range\n",
      " of\n",
      " flav\n",
      "ors\n",
      " and\n",
      " text\n",
      "ures\n",
      ",\n",
      " and\n",
      " like\n",
      " French\n",
      " che\n",
      "es\n",
      "es\n",
      ",\n",
      " the\n",
      " best\n",
      " one\n",
      " is\n",
      " ultimately\n",
      " the\n",
      " one\n",
      " that\n",
      " you\n",
      " enjoy\n",
      " the\n",
      " most\n",
      "!\n",
      "\n"
     ]
    }
   ],
   "source": [
    "#| hide\n",
    "stream_response = client.chat_stream(model=m, messages=messages)\n",
    "for chunk in stream_response: print(chunk.choices[0].delta.content)"
   ]
  },
  {
   "cell_type": "markdown",
   "metadata": {},
   "source": [
    "#| hide\n",
    "Streaming returns the output of the model as it is being produced."
   ]
  },
  {
   "cell_type": "markdown",
   "metadata": {},
   "source": [
    "## Chat Class"
   ]
  },
  {
   "cell_type": "markdown",
   "metadata": {},
   "source": [
    "#| hide\n",
    "Let's first create a simple class, that when called, can be sued to interact with the endpoint."
   ]
  },
  {
   "cell_type": "markdown",
   "metadata": {},
   "source": [
    "#| hide\n",
    "> TODO: Check fastai style guide regarding spacing between methods."
   ]
  },
  {
   "cell_type": "code",
   "execution_count": null,
   "metadata": {},
   "outputs": [],
   "source": [
    "#| hide\n",
    "class Chat:\n",
    "  def __init__(self, api_key, model): \n",
    "    self.client = MistralClient(api_key=api_key)\n",
    "    self.model = model\n",
    "\n",
    "    \n",
    "  def __call__(self, message): \n",
    "    messages = [ChatMessage(role='user', content=message)]\n",
    "    response = self.client.chat(model=self.model, messages=messages)\n",
    "    return response.choices[0].message.content"
   ]
  },
  {
   "cell_type": "code",
   "execution_count": null,
   "metadata": {},
   "outputs": [
    {
     "data": {
      "text/plain": [
       "'Choosing the \"best\" French cheese is subjective as it depends on personal preference. However, some of the most famous and widely loved French cheeses include:\\n\\n1. Roquefort: A blue-veined cheese made from sheep\\'s milk. It has a strong, pungent smell and a tangy, savory taste.\\n2. Camembert: A soft, creamy cheese with a white rind and a rich, earthy flavor. It\\'s often described as having a mushroomy taste.\\n3. Brie: A soft, creamy cheese with a white rind and a mild, buttery flavor. It\\'s often eaten with fresh fruits and baguette.\\n4. Comté: A hard, nutty cheese from the Franche-Comté region. It has a rich, complex flavor and a slight sweetness.\\n5. Munster: A soft, smelly cheese with a red rind and a strong, pungent flavor. It\\'s often compared to Limburger in terms of its aroma.\\n\\nIf you\\'re looking for a versatile cheese that can be used in cooking as well as eaten on its own, I\\'d recommend Comté. If you prefer a bold, pungent flavor, then Roquefort or Munster might be the best choice for you. For a creamy, mild cheese, Brie or Camembert would be a great option. Ultimately, the best French cheese for you depends on your personal taste preferences.'"
      ]
     },
     "execution_count": null,
     "metadata": {},
     "output_type": "execute_result"
    }
   ],
   "source": [
    "#| hide\n",
    "c = Chat(API_KEY, 'open-mistral-7b')\n",
    "c('What is the best French Cheese?')"
   ]
  },
  {
   "cell_type": "markdown",
   "metadata": {},
   "source": [
    "#| hide\n",
    "It works! Let's add in history, so the class can be used naturally."
   ]
  },
  {
   "cell_type": "code",
   "execution_count": null,
   "metadata": {},
   "outputs": [],
   "source": [
    "#| hide\n",
    "try: o =requests.get('https://api.mistral.ai/v1/chat/completions', timeout=5)\n",
    "except (requests.ConnectionError, requests.Timeout) as e: print('No connection.')"
   ]
  },
  {
   "cell_type": "code",
   "execution_count": null,
   "metadata": {},
   "outputs": [],
   "source": [
    "#| export\n",
    "from fastcore.all import *\n",
    "class Chat:\n",
    "  '''A class for interacting with the MistralClient API.'''\n",
    "  \n",
    "  def __init__(self, api_key, model, history=[]):\n",
    "    '''Initialize the class.'''\n",
    "    self.client = MistralClient(api_key=api_key)\n",
    "    store_attr()\n",
    "\n",
    "  def __call__(self, query, save_history=True): \n",
    "    '''Send a query to the model and return the response.'''\n",
    "    if self.is_connected(): pass\n",
    "    else: return 'Connection failed. Please check your interent.'\n",
    "    messages = self.history + [ChatMessage(role='user', content=query)]\n",
    "    response = self.client.chat(model=self.model, messages=messages).choices[0].message.content\n",
    "    if save_history: self.write_history(query, response)\n",
    "    return response\n",
    "  \n",
    "  def write_history(self, query, response):\n",
    "    '''Store the query and response in the history.'''\n",
    "    self.history.append(ChatMessage(role='user', content=query))\n",
    "    self.history.append(ChatMessage(role='assistant', content=response))\n",
    "\n",
    "  def is_connected(self):\n",
    "    '''Check if connection is available.'''\n",
    "    try: requests.get('https://api.mistral.ai/v1/chat/completions', timeout=5)\n",
    "    except (requests.ConnectionError, requests.Timeout) as e: \n",
    "      return False\n",
    "    else: return True\n",
    "  \n",
    "  def set_name(self):\n",
    "    '''Set the name of the conversation.'''\n",
    "    if self.name: pass\n",
    "    else: self.name = self('Provide a title for our conversation.', save_history=False).strip('\"')\n"
   ]
  },
  {
   "cell_type": "code",
   "execution_count": null,
   "metadata": {},
   "outputs": [],
   "source": [
    "#| hide\n",
    "from nbdev.showdoc import *"
   ]
  },
  {
   "cell_type": "code",
   "execution_count": null,
   "metadata": {},
   "outputs": [
    {
     "data": {
      "text/markdown": [
       "---\n",
       "\n",
       "[source](https://github.com/ForBo7/terminal_llm/blob/main/terminal_llm/chat.py#L12){target=\"_blank\" style=\"float:right; font-size:smaller\"}\n",
       "\n",
       "### Chat\n",
       "\n",
       ">      Chat (api_key, model, history=[])\n",
       "\n",
       "A class for interacting with the MistralClient API."
      ],
      "text/plain": [
       "---\n",
       "\n",
       "[source](https://github.com/ForBo7/terminal_llm/blob/main/terminal_llm/chat.py#L12){target=\"_blank\" style=\"float:right; font-size:smaller\"}\n",
       "\n",
       "### Chat\n",
       "\n",
       ">      Chat (api_key, model, history=[])\n",
       "\n",
       "A class for interacting with the MistralClient API."
      ]
     },
     "execution_count": null,
     "metadata": {},
     "output_type": "execute_result"
    }
   ],
   "source": [
    "show_doc(Chat)"
   ]
  },
  {
   "cell_type": "code",
   "execution_count": null,
   "metadata": {},
   "outputs": [
    {
     "data": {
      "text/markdown": [
       "---\n",
       "\n",
       "[source](https://github.com/ForBo7/terminal_llm/blob/main/terminal_llm/chat.py#L20){target=\"_blank\" style=\"float:right; font-size:smaller\"}\n",
       "\n",
       "### Chat.__call__\n",
       "\n",
       ">      Chat.__call__ (query, save_history=True)\n",
       "\n",
       "Send a query to the model and return the response."
      ],
      "text/plain": [
       "---\n",
       "\n",
       "[source](https://github.com/ForBo7/terminal_llm/blob/main/terminal_llm/chat.py#L20){target=\"_blank\" style=\"float:right; font-size:smaller\"}\n",
       "\n",
       "### Chat.__call__\n",
       "\n",
       ">      Chat.__call__ (query, save_history=True)\n",
       "\n",
       "Send a query to the model and return the response."
      ]
     },
     "execution_count": null,
     "metadata": {},
     "output_type": "execute_result"
    }
   ],
   "source": [
    "show_doc(Chat.__call__)"
   ]
  },
  {
   "cell_type": "code",
   "execution_count": null,
   "metadata": {},
   "outputs": [
    {
     "data": {
      "text/plain": [
       "'It is subjective to determine the \"best\" French cheese as it largely depends on personal preference. French cheese comes in various types, textures, and flavors, each with its unique characteristics. Some popular and highly regarded French cheeses include:\\n\\n1. Roquefort: A blue-veined cheese from the Massif Central region. It has a pungent, earthy flavor and a crumbly texture.\\n\\n2. Camembert: A soft, creamy cheese from Normandy that has a white rind and a rich, buttery, earthy taste.\\n\\n3. Comté: A firm, nutty cheese from the Franche-Comté region, made from raw cow\\'s milk.\\n\\n4. Brie de Meaux: A soft, creamy, and mild-tasting cheese with a white rind. It originates from the Île-de-France region.\\n\\n5. Munster: A soft, smelly, and pungent cheese from the Alsace region. It has a distinctive orange-red rind and a creamy, runny texture.\\n\\n6. Reblochon: A soft, creamy cheese from the Savoy region, with a bloomy rind and a rich, buttery, and slightly sweet flavor.\\n\\n7. Époisses: A soft, smelly, and runny cheese from Burgundy. It has a pungent, earthy flavor and an orange-red rind.\\n\\n8. Chèvre: A goat cheese that comes in various textures, from soft and creamy to firm and crumbly. It can be found throughout France, with different regions producing unique styles.\\n\\nUltimately, the best French cheese is one that suits your personal taste preferences. You might want to try different varieties to find your favorite.'"
      ]
     },
     "execution_count": null,
     "metadata": {},
     "output_type": "execute_result"
    }
   ],
   "source": [
    "API_KEY = os.environ['MISTRAL_API_KEY']\n",
    "c = Chat(API_KEY, 'open-mistral-7b')\n",
    "c('What is the best French Cheese?')"
   ]
  },
  {
   "cell_type": "code",
   "execution_count": null,
   "metadata": {},
   "outputs": [
    {
     "data": {
      "text/markdown": [
       "---\n",
       "\n",
       "[source](https://github.com/ForBo7/terminal_llm/blob/main/terminal_llm/chat.py#L31){target=\"_blank\" style=\"float:right; font-size:smaller\"}\n",
       "\n",
       "### Chat.write_history\n",
       "\n",
       ">      Chat.write_history (query, response)\n",
       "\n",
       "Store the query and response in the history."
      ],
      "text/plain": [
       "---\n",
       "\n",
       "[source](https://github.com/ForBo7/terminal_llm/blob/main/terminal_llm/chat.py#L31){target=\"_blank\" style=\"float:right; font-size:smaller\"}\n",
       "\n",
       "### Chat.write_history\n",
       "\n",
       ">      Chat.write_history (query, response)\n",
       "\n",
       "Store the query and response in the history."
      ]
     },
     "execution_count": null,
     "metadata": {},
     "output_type": "execute_result"
    }
   ],
   "source": [
    "show_doc(Chat.write_history)"
   ]
  },
  {
   "cell_type": "code",
   "execution_count": null,
   "metadata": {},
   "outputs": [
    {
     "data": {
      "text/plain": [
       "'Dutch cheese is also renowned for its quality and diversity. Here are some popular and highly regarded Dutch cheeses:\\n\\n1. Gouda: A semi-hard, sweet, and slightly nutty cheese that originated in the Netherlands. It has a characteristic yellow color and can be aged for various lengths of time.\\n\\n2. Edam: A semi-hard, pale orange cheese with a smooth and waxy rind. It has a mild, slightly sweet flavor and is often used for cheese balls.\\n\\n3. Leyden: A semi-hard, smoked cheese that has a strong, smoky flavor and a yellow-orange rind. It is often compared to Gouda but with a more distinct flavor.\\n\\n4. Maasdammer: A semi-hard, yellow cheese that is often smoked and has a rich, buttery, and slightly sweet flavor.\\n\\n5. Old Amsterdam: A hard, pungent cheese that is aged for at least 16 months. It has a strong, spicy flavor and a dark, brown rind.\\n\\n6. Limburger: A semi-soft, pungent cheese that has a strong, ammonia-like aroma and a rich, buttery, and slightly sweet flavor. It is often eaten with onions and bread.\\n\\n7. Herksvoet: A soft, creamy, and pungent cheese that is shaped like a foot and has a distinct, strong, and earthy flavor.\\n\\n8. Boerenkaas (Farmhouse Cheese): A semi-hard cheese that is often smoked and has a rich, buttery, and slightly sweet flavor. The name \"Boerenkaas\" refers to the traditional farming communities in the Netherlands where it originated.\\n\\nAgain, the best Dutch cheese for you depends on your personal taste preferences. You might want to try different varieties to find your favorite.'"
      ]
     },
     "execution_count": null,
     "metadata": {},
     "output_type": "execute_result"
    }
   ],
   "source": [
    "c('What about the Dutch variety?')"
   ]
  },
  {
   "cell_type": "markdown",
   "metadata": {},
   "source": [
    "## Export -"
   ]
  },
  {
   "cell_type": "code",
   "execution_count": null,
   "metadata": {},
   "outputs": [],
   "source": [
    "#| hide\n",
    "import nbdev; nbdev.nbdev_export()"
   ]
  },
  {
   "cell_type": "code",
   "execution_count": null,
   "metadata": {},
   "outputs": [],
   "source": []
  },
  {
   "cell_type": "code",
   "execution_count": null,
   "metadata": {},
   "outputs": [],
   "source": []
  }
 ],
 "metadata": {
  "kernelspec": {
   "display_name": "python3",
   "language": "python",
   "name": "python3"
  }
 },
 "nbformat": 4,
 "nbformat_minor": 4
}
