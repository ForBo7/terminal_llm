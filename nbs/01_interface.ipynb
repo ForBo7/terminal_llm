{
 "cells": [
  {
   "cell_type": "code",
   "execution_count": null,
   "metadata": {},
   "outputs": [],
   "source": [
    "%load_ext autoreload\n",
    "%autoreload 2"
   ]
  },
  {
   "cell_type": "markdown",
   "metadata": {},
   "source": [
    "# interface\n",
    "> The interface is a class that allows the user to interact with the LLM."
   ]
  },
  {
   "cell_type": "code",
   "execution_count": null,
   "metadata": {},
   "outputs": [],
   "source": [
    "#| export\n",
    "from terminal_llm.chat import Chat"
   ]
  },
  {
   "cell_type": "code",
   "execution_count": null,
   "metadata": {},
   "outputs": [],
   "source": [
    "#| export\n",
    "class UserInterface:\n",
    "    def __init__(self, api_key, model): self.chat = Chat(api_key, model)\n",
    "        \n",
    "    def start_chat(self):\n",
    "      print(\"Welcome to the chat interface. Type 'quit' to exit.\")\n",
    "      while True:\n",
    "        user_input = input(\"You: \")\n",
    "        # TODO: Implement full processing on exit term.\n",
    "        if user_input.lower() == 'quit': break\n",
    "        response = self.chat(user_input)\n",
    "        print(f\"Assistant: {response}\")"
   ]
  },
  {
   "cell_type": "code",
   "execution_count": null,
   "metadata": {},
   "outputs": [
    {
     "data": {
      "text/plain": [
       "'KEY NOT FOUND'"
      ]
     },
     "execution_count": null,
     "metadata": {},
     "output_type": "execute_result"
    }
   ],
   "source": [
    "API_KEY"
   ]
  },
  {
   "cell_type": "code",
   "execution_count": null,
   "metadata": {},
   "outputs": [
    {
     "name": "stdout",
     "output_type": "stream",
     "text": [
      "Welcome to the chat interface. Type 'quit' to exit.\n",
      "Assistant: Hello! How can I help you today? I'm here to answer any questions you might have or provide information on a wide range of topics. Let me know what you need.\n",
      "Assistant: I'm an artificial intelligence language model. I don't have the ability to have a personality or emotions like a human does. I exist to process and generate text based on the data I've been trained on. I'm designed to help answer questions, provide information, and engage in conversational exchanges with users. How can I help you today?\n",
      "Assistant: I'm here if you change your mind or have any questions in the future. Feel free to ask me anything or just chat for a while if you'd like. I'm here to help make your day a little brighter. Is there a particular topic you're interested in or a question you have that I might be able to help with? I'm always here to help.\n"
     ]
    }
   ],
   "source": [
    "import os\n",
    "API_KEY = os.environ.get('MISTRAL_API_KEY', 'KEY NOT FOUND')\n",
    "ui = UserInterface(API_KEY, 'open-mistral-7b')\n",
    "ui.start_chat()"
   ]
  },
  {
   "cell_type": "markdown",
   "metadata": {},
   "source": [
    "## Export -"
   ]
  },
  {
   "cell_type": "code",
   "execution_count": null,
   "metadata": {},
   "outputs": [],
   "source": [
    "#| hide\n",
    "import nbdev; nbdev.nbdev_export()"
   ]
  }
 ],
 "metadata": {
  "kernelspec": {
   "display_name": "python3",
   "language": "python",
   "name": "python3"
  }
 },
 "nbformat": 4,
 "nbformat_minor": 2
}
