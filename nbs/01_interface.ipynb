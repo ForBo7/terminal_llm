{
 "cells": [
  {
   "cell_type": "code",
   "execution_count": null,
   "metadata": {},
   "outputs": [],
   "source": [
    "%load_ext autoreload\n",
    "%autoreload 2"
   ]
  },
  {
   "cell_type": "markdown",
   "metadata": {},
   "source": [
    "# interface\n",
    "> The interface is a class that allows the user to interact with the LLM."
   ]
  },
  {
   "cell_type": "code",
   "execution_count": null,
   "metadata": {},
   "outputs": [],
   "source": [
    "#| default_exp interface"
   ]
  },
  {
   "cell_type": "code",
   "execution_count": null,
   "metadata": {},
   "outputs": [],
   "source": [
    "#| export\n",
    "from fastcore.all import *\n",
    "from terminal_llm.chat import Chat\n",
    "from terminal_llm.session_handler import SessionHandler"
   ]
  },
  {
   "cell_type": "code",
   "execution_count": null,
   "metadata": {},
   "outputs": [
    {
     "data": {
      "text/plain": [
       "True"
      ]
     },
     "execution_count": null,
     "metadata": {},
     "output_type": "execute_result"
    }
   ],
   "source": [
    "#| hide\n",
    "p = Path('.storage'); p.exists()"
   ]
  },
  {
   "cell_type": "code",
   "execution_count": null,
   "metadata": {},
   "outputs": [
    {
     "data": {
      "text/plain": [
       "\u001b[0;31mSignature:\u001b[0m \u001b[0mmkdir\u001b[0m\u001b[0;34m(\u001b[0m\u001b[0mpath\u001b[0m\u001b[0;34m,\u001b[0m \u001b[0mexist_ok\u001b[0m\u001b[0;34m=\u001b[0m\u001b[0;32mFalse\u001b[0m\u001b[0;34m,\u001b[0m \u001b[0mparents\u001b[0m\u001b[0;34m=\u001b[0m\u001b[0;32mFalse\u001b[0m\u001b[0;34m,\u001b[0m \u001b[0moverwrite\u001b[0m\u001b[0;34m=\u001b[0m\u001b[0;32mFalse\u001b[0m\u001b[0;34m,\u001b[0m \u001b[0;34m**\u001b[0m\u001b[0mkwargs\u001b[0m\u001b[0;34m)\u001b[0m\u001b[0;34m\u001b[0m\u001b[0;34m\u001b[0m\u001b[0m\n",
       "\u001b[0;31mDocstring:\u001b[0m Creates and returns a directory defined by `path`, optionally removing previous existing directory if `overwrite` is `True`\n",
       "\u001b[0;31mFile:\u001b[0m      ~/mambaforge/envs/terminal-llm/lib/python3.12/site-packages/fastcore/xtras.py\n",
       "\u001b[0;31mType:\u001b[0m      function"
      ]
     },
     "metadata": {},
     "output_type": "display_data"
    }
   ],
   "source": [
    "#| hide\n",
    "?mkdir"
   ]
  },
  {
   "cell_type": "code",
   "execution_count": null,
   "metadata": {},
   "outputs": [
    {
     "name": "stdout",
     "output_type": "stream",
     "text": [
      "File not found\n",
      "execution continues\n"
     ]
    }
   ],
   "source": [
    "#| hide\n",
    "try: \n",
    "\twith open('file.txt') as f: print(f.read())\n",
    "except FileNotFoundError as e: print('File not found')\n",
    "print('execution continues')"
   ]
  },
  {
   "cell_type": "code",
   "execution_count": null,
   "metadata": {},
   "outputs": [
    {
     "name": "stdout",
     "output_type": "stream",
     "text": [
      "This is a method in class B, calling a method in class A:\n",
      "This is a method in class A\n"
     ]
    }
   ],
   "source": [
    "#| hide\n",
    "class A:\n",
    "    def method_in_A(self):\n",
    "        print(\"This is a method in class A\")\n",
    "\n",
    "class B:\n",
    "    def __init__(self, instance_of_A):\n",
    "        self.instance_of_A = instance_of_A\n",
    "\n",
    "    def method_in_B(self):\n",
    "        print(\"This is a method in class B, calling a method in class A:\")\n",
    "        self.instance_of_A.method_in_A()\n",
    "\n",
    "# Create an instance of A\n",
    "a = A()\n",
    "\n",
    "# Pass the instance of A to B\n",
    "b = B(a)\n",
    "\n",
    "# Call the method in B, which will in turn call the method in A\n",
    "b.method_in_B()"
   ]
  },
  {
   "cell_type": "code",
   "execution_count": null,
   "metadata": {},
   "outputs": [],
   "source": [
    "#| export\n",
    "class Interface:\n",
    "  '''An interface that simply passes all input on to the appropriate classes.'''\n",
    "\n",
    "  def __init__(self):\n",
    "    '''Initializes the interface.'''\n",
    "    self.handler = SessionHandler(self)\n",
    "    print('App starting...')\n",
    "    self.handler.start_app()\n",
    "    \n",
    "  def menu(self):\n",
    "    '''Displays the menu and processes user input.'''\n",
    "    while self.handler.is_running:\n",
    "      self.show_menu_items()\n",
    "      choice = input('You: ')\n",
    "      self.handler.process_menu(choice)\n",
    "    print('App closed.')\n",
    "  \n",
    "  def settings(self):\n",
    "    '''Displays the settings menu and processes user input.'''\n",
    "    self.show_settings_items()\n",
    "    choice = input('You: ')\n",
    "    self.handler.process_settings(choice)\n",
    "  \n",
    "  def previous_chats(self):\n",
    "    print(\"Enter a chat's number. Enter 0 to go back.\")\n",
    "    self.show_previous_chats()\n",
    "    choice = input('You: ')\n",
    "    self.handler.process_previous_chats(choice)\n",
    "  \n",
    "  def show_menu_items(self):\n",
    "    '''Displays the menu items.'''\n",
    "    print('''\n",
    "    This is the chat interface.\n",
    "    0 - Exit\n",
    "    1 - Settings\n",
    "    2 - Start Chat\n",
    "    3 - Previous Chats\n",
    "    ''')\n",
    "  \n",
    "  def show_settings_items(self):\n",
    "    '''Displays the settings items.'''\n",
    "    print('''\n",
    "    Settings\n",
    "    0 - Back\n",
    "    1 - Set API Key\n",
    "    2 - Set Model\n",
    "    ''')\n",
    "  \n",
    "  def show_previous_chats(self):\n",
    "    '''Displays previous chats.'''\n",
    "    for chat in Path('.storage/chats').ls(): print(chat.stem)\n"
   ]
  },
  {
   "cell_type": "code",
   "execution_count": null,
   "metadata": {},
   "outputs": [],
   "source": [
    "#| hide\n",
    "from nbdev.showdoc import *"
   ]
  },
  {
   "cell_type": "code",
   "execution_count": null,
   "metadata": {},
   "outputs": [
    {
     "data": {
      "text/markdown": [
       "---\n",
       "\n",
       "[source](https://github.com/ForBo7/terminal_llm/blob/main/terminal_llm/interface.py#L12){target=\"_blank\" style=\"float:right; font-size:smaller\"}\n",
       "\n",
       "### Interface\n",
       "\n",
       ">      Interface ()\n",
       "\n",
       "An interface that simply passes all input on to the appropriate classes."
      ],
      "text/plain": [
       "---\n",
       "\n",
       "[source](https://github.com/ForBo7/terminal_llm/blob/main/terminal_llm/interface.py#L12){target=\"_blank\" style=\"float:right; font-size:smaller\"}\n",
       "\n",
       "### Interface\n",
       "\n",
       ">      Interface ()\n",
       "\n",
       "An interface that simply passes all input on to the appropriate classes."
      ]
     },
     "execution_count": null,
     "metadata": {},
     "output_type": "execute_result"
    }
   ],
   "source": [
    "show_doc(Interface)"
   ]
  },
  {
   "cell_type": "code",
   "execution_count": null,
   "metadata": {},
   "outputs": [
    {
     "data": {
      "text/markdown": [
       "---\n",
       "\n",
       "[source](https://github.com/ForBo7/terminal_llm/blob/main/terminal_llm/interface.py#L21){target=\"_blank\" style=\"float:right; font-size:smaller\"}\n",
       "\n",
       "### Interface.menu\n",
       "\n",
       ">      Interface.menu ()\n",
       "\n",
       "Displays the menu and processes user input."
      ],
      "text/plain": [
       "---\n",
       "\n",
       "[source](https://github.com/ForBo7/terminal_llm/blob/main/terminal_llm/interface.py#L21){target=\"_blank\" style=\"float:right; font-size:smaller\"}\n",
       "\n",
       "### Interface.menu\n",
       "\n",
       ">      Interface.menu ()\n",
       "\n",
       "Displays the menu and processes user input."
      ]
     },
     "execution_count": null,
     "metadata": {},
     "output_type": "execute_result"
    }
   ],
   "source": [
    "show_doc(Interface.menu)"
   ]
  },
  {
   "cell_type": "code",
   "execution_count": null,
   "metadata": {},
   "outputs": [
    {
     "data": {
      "text/markdown": [
       "---\n",
       "\n",
       "[source](https://github.com/ForBo7/terminal_llm/blob/main/terminal_llm/interface.py#L29){target=\"_blank\" style=\"float:right; font-size:smaller\"}\n",
       "\n",
       "### Interface.settings\n",
       "\n",
       ">      Interface.settings ()\n",
       "\n",
       "Displays the settings menu and processes user input."
      ],
      "text/plain": [
       "---\n",
       "\n",
       "[source](https://github.com/ForBo7/terminal_llm/blob/main/terminal_llm/interface.py#L29){target=\"_blank\" style=\"float:right; font-size:smaller\"}\n",
       "\n",
       "### Interface.settings\n",
       "\n",
       ">      Interface.settings ()\n",
       "\n",
       "Displays the settings menu and processes user input."
      ]
     },
     "execution_count": null,
     "metadata": {},
     "output_type": "execute_result"
    }
   ],
   "source": [
    "show_doc(Interface.settings)"
   ]
  },
  {
   "cell_type": "code",
   "execution_count": null,
   "metadata": {},
   "outputs": [
    {
     "data": {
      "text/markdown": [
       "---\n",
       "\n",
       "[source](https://github.com/ForBo7/terminal_llm/blob/main/terminal_llm/interface.py#L41){target=\"_blank\" style=\"float:right; font-size:smaller\"}\n",
       "\n",
       "### Interface.show_menu_items\n",
       "\n",
       ">      Interface.show_menu_items ()\n",
       "\n",
       "Displays the menu items."
      ],
      "text/plain": [
       "---\n",
       "\n",
       "[source](https://github.com/ForBo7/terminal_llm/blob/main/terminal_llm/interface.py#L41){target=\"_blank\" style=\"float:right; font-size:smaller\"}\n",
       "\n",
       "### Interface.show_menu_items\n",
       "\n",
       ">      Interface.show_menu_items ()\n",
       "\n",
       "Displays the menu items."
      ]
     },
     "execution_count": null,
     "metadata": {},
     "output_type": "execute_result"
    }
   ],
   "source": [
    "show_doc(Interface.show_menu_items)"
   ]
  },
  {
   "cell_type": "code",
   "execution_count": null,
   "metadata": {},
   "outputs": [
    {
     "data": {
      "text/markdown": [
       "---\n",
       "\n",
       "[source](https://github.com/ForBo7/terminal_llm/blob/main/terminal_llm/interface.py#L51){target=\"_blank\" style=\"float:right; font-size:smaller\"}\n",
       "\n",
       "### Interface.show_settings_items\n",
       "\n",
       ">      Interface.show_settings_items ()\n",
       "\n",
       "Displays the settings items."
      ],
      "text/plain": [
       "---\n",
       "\n",
       "[source](https://github.com/ForBo7/terminal_llm/blob/main/terminal_llm/interface.py#L51){target=\"_blank\" style=\"float:right; font-size:smaller\"}\n",
       "\n",
       "### Interface.show_settings_items\n",
       "\n",
       ">      Interface.show_settings_items ()\n",
       "\n",
       "Displays the settings items."
      ]
     },
     "execution_count": null,
     "metadata": {},
     "output_type": "execute_result"
    }
   ],
   "source": [
    "show_doc(Interface.show_settings_items)"
   ]
  },
  {
   "cell_type": "code",
   "execution_count": null,
   "metadata": {},
   "outputs": [
    {
     "data": {
      "text/markdown": [
       "---\n",
       "\n",
       "[source](https://github.com/ForBo7/terminal_llm/blob/main/terminal_llm/interface.py#L60){target=\"_blank\" style=\"float:right; font-size:smaller\"}\n",
       "\n",
       "### Interface.show_previous_chats\n",
       "\n",
       ">      Interface.show_previous_chats ()\n",
       "\n",
       "Displays previous chats."
      ],
      "text/plain": [
       "---\n",
       "\n",
       "[source](https://github.com/ForBo7/terminal_llm/blob/main/terminal_llm/interface.py#L60){target=\"_blank\" style=\"float:right; font-size:smaller\"}\n",
       "\n",
       "### Interface.show_previous_chats\n",
       "\n",
       ">      Interface.show_previous_chats ()\n",
       "\n",
       "Displays previous chats."
      ]
     },
     "execution_count": null,
     "metadata": {},
     "output_type": "execute_result"
    }
   ],
   "source": [
    "show_doc(Interface.show_previous_chats)"
   ]
  },
  {
   "cell_type": "code",
   "execution_count": null,
   "metadata": {},
   "outputs": [
    {
     "name": "stdout",
     "output_type": "stream",
     "text": [
      "App starting...\n",
      "\n",
      "    This is the chat interface.\n",
      "    0 - Exit\n",
      "    1 - Settings\n",
      "    2 - Start Chat\n",
      "    3 - Previous Chats\n",
      "    \n"
     ]
    },
    {
     "name": "stdout",
     "output_type": "stream",
     "text": [
      "You:  1\n"
     ]
    },
    {
     "name": "stdout",
     "output_type": "stream",
     "text": [
      "\n",
      "    Settings\n",
      "    0 - Back\n",
      "    1 - Set API Key\n",
      "    2 - Set Model\n",
      "    \n"
     ]
    },
    {
     "name": "stdout",
     "output_type": "stream",
     "text": [
      "You:  0\n"
     ]
    },
    {
     "name": "stdout",
     "output_type": "stream",
     "text": [
      "\n",
      "    This is the chat interface.\n",
      "    0 - Exit\n",
      "    1 - Settings\n",
      "    2 - Start Chat\n",
      "    3 - Previous Chats\n",
      "    \n"
     ]
    },
    {
     "name": "stdout",
     "output_type": "stream",
     "text": [
      "You:  0\n"
     ]
    },
    {
     "name": "stdout",
     "output_type": "stream",
     "text": [
      "App closed.\n"
     ]
    }
   ],
   "source": [
    "#| hide\n",
    "#| eval: false\n",
    "inface = Interface()\n",
    "inface.menu()"
   ]
  },
  {
   "cell_type": "markdown",
   "metadata": {},
   "source": [
    "## Export -"
   ]
  },
  {
   "cell_type": "code",
   "execution_count": null,
   "metadata": {},
   "outputs": [],
   "source": [
    "#| hide\n",
    "import nbdev; nbdev.nbdev_export()"
   ]
  },
  {
   "cell_type": "code",
   "execution_count": null,
   "metadata": {},
   "outputs": [],
   "source": []
  }
 ],
 "metadata": {
  "kernelspec": {
   "display_name": "python3",
   "language": "python",
   "name": "python3"
  }
 },
 "nbformat": 4,
 "nbformat_minor": 4
}
