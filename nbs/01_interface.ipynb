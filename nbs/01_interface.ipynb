{
 "cells": [
  {
   "cell_type": "code",
   "execution_count": null,
   "metadata": {},
   "outputs": [],
   "source": [
    "%load_ext autoreload\n",
    "%autoreload 2"
   ]
  },
  {
   "cell_type": "markdown",
   "metadata": {},
   "source": [
    "# interface\n",
    "> The interface is a class that allows the user to interact with the LLM."
   ]
  },
  {
   "cell_type": "code",
   "execution_count": null,
   "metadata": {},
   "outputs": [],
   "source": [
    "#| default_exp interface"
   ]
  },
  {
   "cell_type": "code",
   "execution_count": null,
   "metadata": {},
   "outputs": [],
   "source": [
    "#| export\n",
    "from fastcore.all import *\n",
    "from terminal_llm.chat import Chat\n",
    "from terminal_llm.session_handler import SessionHandler"
   ]
  },
  {
   "cell_type": "code",
   "execution_count": null,
   "metadata": {},
   "outputs": [
    {
     "data": {
      "text/plain": [
       "True"
      ]
     },
     "execution_count": null,
     "metadata": {},
     "output_type": "execute_result"
    }
   ],
   "source": [
    "p = Path('.storage'); p.exists()"
   ]
  },
  {
   "cell_type": "code",
   "execution_count": null,
   "metadata": {},
   "outputs": [
    {
     "name": "stdout",
     "output_type": "stream",
     "text": [
      "\u001b[0;31mSignature:\u001b[0m \u001b[0mmkdir\u001b[0m\u001b[0;34m(\u001b[0m\u001b[0mpath\u001b[0m\u001b[0;34m,\u001b[0m \u001b[0mexist_ok\u001b[0m\u001b[0;34m=\u001b[0m\u001b[0;32mFalse\u001b[0m\u001b[0;34m,\u001b[0m \u001b[0mparents\u001b[0m\u001b[0;34m=\u001b[0m\u001b[0;32mFalse\u001b[0m\u001b[0;34m,\u001b[0m \u001b[0moverwrite\u001b[0m\u001b[0;34m=\u001b[0m\u001b[0;32mFalse\u001b[0m\u001b[0;34m,\u001b[0m \u001b[0;34m**\u001b[0m\u001b[0mkwargs\u001b[0m\u001b[0;34m)\u001b[0m\u001b[0;34m\u001b[0m\u001b[0;34m\u001b[0m\u001b[0m\n",
      "\u001b[0;31mDocstring:\u001b[0m Creates and returns a directory defined by `path`, optionally removing previous existing directory if `overwrite` is `True`\n",
      "\u001b[0;31mFile:\u001b[0m      ~/mambaforge/envs/terminal-llm/lib/python3.12/site-packages/fastcore/xtras.py\n",
      "\u001b[0;31mType:\u001b[0m      function"
     ]
    }
   ],
   "source": [
    "?mkdir"
   ]
  },
  {
   "cell_type": "code",
   "execution_count": null,
   "metadata": {},
   "outputs": [
    {
     "name": "stdout",
     "output_type": "stream",
     "text": [
      "File not found\n",
      "execution continues\n"
     ]
    }
   ],
   "source": [
    "try: \n",
    "\twith open('file.txt') as f: print(f.read())\n",
    "except FileNotFoundError as e: print('File not found')\n",
    "print('execution continues')"
   ]
  },
  {
   "cell_type": "code",
   "execution_count": null,
   "metadata": {},
   "outputs": [
    {
     "name": "stdout",
     "output_type": "stream",
     "text": [
      "This is a method in class B, calling a method in class A:\n",
      "This is a method in class A\n"
     ]
    }
   ],
   "source": [
    "class A:\n",
    "    def method_in_A(self):\n",
    "        print(\"This is a method in class A\")\n",
    "\n",
    "class B:\n",
    "    def __init__(self, instance_of_A):\n",
    "        self.instance_of_A = instance_of_A\n",
    "\n",
    "    def method_in_B(self):\n",
    "        print(\"This is a method in class B, calling a method in class A:\")\n",
    "        self.instance_of_A.method_in_A()\n",
    "\n",
    "# Create an instance of A\n",
    "a = A()\n",
    "\n",
    "# Pass the instance of A to B\n",
    "b = B(a)\n",
    "\n",
    "# Call the method in B, which will in turn call the method in A\n",
    "b.method_in_B()"
   ]
  },
  {
   "cell_type": "code",
   "execution_count": null,
   "metadata": {},
   "outputs": [],
   "source": [
    "#| export\n",
    "class UserInterface:\n",
    "  \"\"\"An interface that simply passes all input on to the appropriate classes.\"\"\"\n",
    "  def __init__(self): \n",
    "    self.handler = SessionHandler(self)\n",
    "    print('Starting app...')\n",
    "    # TODO: Implement loading animation.\n",
    "    self.handler.start_app()\n",
    "    print('Starting menu...')\n",
    "    \n",
    "  def menu(self):\n",
    "    while self.handler.is_running:\n",
    "      self.show_menu_items()\n",
    "      choice = input('You: ')\n",
    "      self.handler.process_menu(choice)\n",
    "    print('Closing app...')\n",
    "  \n",
    "  def settings(self):\n",
    "    self.show_settings_items()\n",
    "    choice = input('You: ')\n",
    "    self.handler.process_settings(choice)\n",
    "  \n",
    "  def show_menu_items(self):\n",
    "    print('''\n",
    "    Welcome to chat inteface.\n",
    "    0 - Exit\n",
    "    1 - Settings\n",
    "    2 - Start Chat\n",
    "    3 - Previous Chats\n",
    "    ''')\n",
    "  \n",
    "  def show_settings_items(self):\n",
    "    print('''\n",
    "    Settings\n",
    "    0 - Back\n",
    "    1 - Set API Key\n",
    "    2 - Set Model\n",
    "    ''')\n",
    "  \n",
    "  def save_chat(self): pass\n",
    "  \n",
    "  def previous_chats(self): pass\n"
   ]
  },
  {
   "cell_type": "code",
   "execution_count": null,
   "metadata": {},
   "outputs": [
    {
     "name": "stdout",
     "output_type": "stream",
     "text": [
      "Starting app...\n",
      "Starting menu...\n",
      "\n",
      "    Welcome to chat inteface.\n",
      "    0 - Exit\n",
      "    1 - Settings\n",
      "    2 - Start Chat\n",
      "    3 - Previous Chats\n",
      "    \n",
      "\n",
      "    Settings\n",
      "    0 - Back\n",
      "    1 - Set API Key\n",
      "    2 - Set Model\n",
      "    \n",
      "Model saved.\n",
      "\n",
      "    Welcome to chat inteface.\n",
      "    0 - Exit\n",
      "    1 - Settings\n",
      "    2 - Start Chat\n",
      "    3 - Previous Chats\n",
      "    \n",
      "Starting chat...\n",
      "Assistant: Hello there! How can I help you today? I'm here to answer any questions you might have or provide information on a variety of topics. So, feel free to ask me anything!\n",
      "\n",
      "If you have a specific question in mind, go ahead and ask it. If you're not quite sure what you're looking for, I can try to suggest some topics or provide some general information. I'm here to make this as helpful and easy as possible for you.\n",
      "\n",
      "So, what can I help you with today? I'm ready and waiting to assist you in any way I can!\n",
      "\n",
      "    Welcome to chat inteface.\n",
      "    0 - Exit\n",
      "    1 - Settings\n",
      "    2 - Start Chat\n",
      "    3 - Previous Chats\n",
      "    \n",
      "Closing app...\n"
     ]
    }
   ],
   "source": [
    "#| eval: false\n",
    "import os\n",
    "# TODO: Reset API Key.\n",
    "# API_KEY = os.environ.get('MISTRAL_API_KEY', 'KEY NOT FOUND')\n",
    "ui = UserInterface()  # Instantiate the UserInterface class\n",
    "ui.menu()"
   ]
  },
  {
   "cell_type": "markdown",
   "metadata": {},
   "source": [
    "## Export -"
   ]
  },
  {
   "cell_type": "code",
   "execution_count": null,
   "metadata": {},
   "outputs": [],
   "source": [
    "#| hide\n",
    "import nbdev; nbdev.nbdev_export()"
   ]
  },
  {
   "cell_type": "code",
   "execution_count": null,
   "metadata": {},
   "outputs": [],
   "source": []
  }
 ],
 "metadata": {
  "kernelspec": {
   "display_name": "python3",
   "language": "python",
   "name": "python3"
  }
 },
 "nbformat": 4,
 "nbformat_minor": 2
}
