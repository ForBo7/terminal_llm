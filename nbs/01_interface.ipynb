{
 "cells": [
  {
   "cell_type": "code",
   "execution_count": null,
   "metadata": {},
   "outputs": [],
   "source": [
    "%load_ext autoreload\n",
    "%autoreload 2"
   ]
  },
  {
   "cell_type": "markdown",
   "metadata": {},
   "source": [
    "# interface\n",
    "> The interface is a class that allows the user to interact with the LLM."
   ]
  },
  {
   "cell_type": "code",
   "execution_count": null,
   "metadata": {},
   "outputs": [],
   "source": [
    "#| default_exp interface"
   ]
  },
  {
   "cell_type": "code",
   "execution_count": null,
   "metadata": {},
   "outputs": [],
   "source": [
    "#| export\n",
    "from fastcore.all import *\n",
    "from terminal_llm.chat import Chat"
   ]
  },
  {
   "cell_type": "code",
   "execution_count": null,
   "metadata": {},
   "outputs": [
    {
     "data": {
      "text/plain": [
       "False"
      ]
     },
     "execution_count": null,
     "metadata": {},
     "output_type": "execute_result"
    }
   ],
   "source": [
    "p = Path('.storage'); p.exists()"
   ]
  },
  {
   "cell_type": "code",
   "execution_count": null,
   "metadata": {},
   "outputs": [
    {
     "name": "stdout",
     "output_type": "stream",
     "text": [
      "\u001b[0;31mSignature:\u001b[0m \u001b[0mmkdir\u001b[0m\u001b[0;34m(\u001b[0m\u001b[0mpath\u001b[0m\u001b[0;34m,\u001b[0m \u001b[0mexist_ok\u001b[0m\u001b[0;34m=\u001b[0m\u001b[0;32mFalse\u001b[0m\u001b[0;34m,\u001b[0m \u001b[0mparents\u001b[0m\u001b[0;34m=\u001b[0m\u001b[0;32mFalse\u001b[0m\u001b[0;34m,\u001b[0m \u001b[0moverwrite\u001b[0m\u001b[0;34m=\u001b[0m\u001b[0;32mFalse\u001b[0m\u001b[0;34m,\u001b[0m \u001b[0;34m**\u001b[0m\u001b[0mkwargs\u001b[0m\u001b[0;34m)\u001b[0m\u001b[0;34m\u001b[0m\u001b[0;34m\u001b[0m\u001b[0m\n",
      "\u001b[0;31mDocstring:\u001b[0m Creates and returns a directory defined by `path`, optionally removing previous existing directory if `overwrite` is `True`\n",
      "\u001b[0;31mFile:\u001b[0m      ~/mambaforge/envs/terminal-llm/lib/python3.12/site-packages/fastcore/xtras.py\n",
      "\u001b[0;31mType:\u001b[0m      function"
     ]
    }
   ],
   "source": [
    "?mkdir"
   ]
  },
  {
   "cell_type": "code",
   "execution_count": null,
   "metadata": {},
   "outputs": [
    {
     "name": "stdout",
     "output_type": "stream",
     "text": [
      "File not found\n",
      "execution continues\n"
     ]
    }
   ],
   "source": [
    "try: \n",
    "\twith open('file.txt') as f: print(f.read())\n",
    "except FileNotFoundError as e: print('File not found')\n",
    "print('execution continues')"
   ]
  },
  {
   "cell_type": "code",
   "execution_count": null,
   "metadata": {},
   "outputs": [],
   "source": [
    "#| export\n",
    "class UserInterface:\n",
    "    def __init__(self): pass\n",
    "    \n",
    "    def start_app(self):\n",
    "      # TODO: Perhaps shift to constructor?\n",
    "      # TODO: Encrypt files.\n",
    "      print('Starting app...')\n",
    "      if Path('.storage').exists():\n",
    "        try:\n",
    "          with open('.storage/api_key.txt', 'r') as f: api_key = f.read\n",
    "        except FileNotFoundError: \n",
    "          # TODO: Add a check to see whether entered API key is valid.\n",
    "          api_key = input('API key not found. Enter API Key: ')\n",
    "          with open('.storage/api_key.txt', 'w') as f: f.write(api_key)\n",
    "          print('API key saved.')\n",
    "        try:\n",
    "          with open('.storage/model.txt', 'r') as f: model = f.read\n",
    "        except FileNotFoundError: \n",
    "          # TODO: Add a check to see whether entered model exists.\n",
    "          model = input('Model not found. Enter Model: ')\n",
    "          with open('.storage/model.txt', 'w') as f: f.write(model)\n",
    "          print('Model saved.')\n",
    "      else:\n",
    "        Path('.storage').mkdir()\n",
    "        api_key = input('Enter API Key: ')\n",
    "        with open('.storage/api_key.txt', 'w') as f: f.write(api_key)\n",
    "        print('API key saved.')\n",
    "        model = input('Enter Model: ')\n",
    "        with open('.storage/model.txt', 'w') as f: f.write(model)\n",
    "        print('Model saved.')\n",
    "      print('No errors found. Starting menu...')\n",
    "      \n",
    "\n",
    "    def menu(self):\n",
    "      print(\"Welcome to the chat interface. Type 'quit' to exit.\")\n",
    "      print(\"0 – Settings\")\n",
    "      print(\"1 – Start Chat\")\n",
    "      print(\"2 – Previous Chats\")\n",
    "      print(\"3 – Exit\")\n",
    "\n",
    "      while True:\n",
    "        choice = input('... ')\n",
    "        if   choice == '0': self.settings()\n",
    "        elif choice == '1': self.start_chat()\n",
    "        elif choice == '2': self.previous_chats()\n",
    "        elif choice == '3': break\n",
    "        else              : print('Invalid choice.')\n",
    "                \n",
    "        # TODO: Implement full processing on exit term.\n",
    "        # if user_input.lower() == 'quit': break\n",
    "        # response = self.chat(user_input)\n",
    "        # print(f\"Assistant: {response}\")\n",
    "\n",
    "    def settings(self):\n",
    "      print(\"Settings\")\n",
    "      print(\"0 – Change API Key\")\n",
    "      print(\"1 – Change Model\")\n",
    "      print(\"2 – Back\")\n",
    "      choice = input('... ')\n",
    "      \n",
    "      if   choice == '0':\n",
    "        api_key = input('Enter API Key: ')\n",
    "        # TODO: Add a check to see whether entered API key is valid.\n",
    "        with open('.storage/api_key.txt', 'w') as f: f.write(api_key)\n",
    "        print('API key saved.')\n",
    "      elif choice == '1':\n",
    "        # TODO: Add a check to see whether entered model exists.\n",
    "        model = input('Enter Model: ')\n",
    "        with open('.storage/model.txt', 'w') as f: f.write(model)\n",
    "        print('Model saved.')\n",
    "      elif choice == '2': pass\n",
    "      else\t\t\t\t\t\t\t: print('Invalid choice.')\n",
    "      \n",
    "    \n",
    "    def start_chat(self):\n",
    "        # TODO: Hook up .storage files to Chat class.\n",
    "        print(\"Start Chat\")\n",
    "        with open('.storage/api_key.txt', 'r') as f: api_key = f.read()\n",
    "        with open('.storage/model.txt', 'r') as f: model = f.read()\n",
    "        self.chat = Chat(api_key, model)\n",
    "        while True:\n",
    "          user_input = input('You: ')\n",
    "          if user_input.lower() == 'quit': break\n",
    "          response = self.chat(user_input)\n",
    "          print(f\"Assistant: {response}\")\n",
    "    \n",
    "    def previous_chats(self):\n",
    "        print(\"Previous Chats\")\n",
    "        pass\n"
   ]
  },
  {
   "cell_type": "code",
   "execution_count": null,
   "metadata": {},
   "outputs": [
    {
     "name": "stdout",
     "output_type": "stream",
     "text": [
      "Starting app...\n",
      "No errors found. Starting menu...\n",
      "Welcome to the chat interface. Type 'quit' to exit.\n",
      "0 – Settings\n",
      "1 – Start Chat\n",
      "2 – Previous Chats\n",
      "3 – Exit\n"
     ]
    },
    {
     "name": "stdout",
     "output_type": "stream",
     "text": [
      "Start Chat\n",
      "Assistant: Hello! How can I help you today? I'm here to answer any questions you might have, or just chat if you'd like. What's on your mind?\n",
      "\n",
      "Also, if you have a specific topic you'd like me to write about, let me know and I can work on an article for you. Just let me know what you need!\n",
      "\n",
      "For example, I can help you with:\n",
      "\n",
      "* Programming questions\n",
      "* Math problems\n",
      "* Explanations of complex concepts\n",
      "* Recommendations for books, movies, TV shows, or other forms of media\n",
      "* And much more!\n",
      "\n",
      "So, what do you need help with today? Let me know and I'll do my best to assist you!\n",
      "\n",
      "If you have a specific question, feel free to ask it directly. If you'd rather just chat about something, that's fine too! I'm here to make this a fun and interactive experience for you.\n",
      "\n",
      "Let me know how I can help, and let's get started!\n",
      "\n",
      "Best regards,\n",
      "\n",
      "Your helpful AI friend! 😊\n",
      "Assistant: Absolutely! Tolkien's \"The Silmarillion\" is a classic work of epic fantasy, with a richly detailed mythology and intricate world-building. Here are some books that share similarities with \"The Silmarillion\" in terms of style and genre:\n",
      "\n",
      "1. \"The Eldest Ancestor\" by Marlene Perez - This book tells the story of the ancient history of the world of the Living, a world populated by various races of beings, including humans, elves, and dwarves. The author explores the themes of mythology, creation, and the interplay between gods and mortals in an intricate and engaging way.\n",
      "2. \"The Dark Elf Trilogy\" by R.A. Salvatore - This series is set in the world of Forgotten Realms and follows the adventures of Drow (dark elves) characters. The mythology and world-building in this series are rich and complex, and the author does an excellent job of exploring the motivations and desires of the various races and characters.\n",
      "3. \"The First Law Trilogy\" by Joe Abercrombie - While this series is not strictly epic fantasy, it shares some elements with \"The Silmarillion,\" particularly in its exploration of the motivations and desires of its gods. The author creates a dark and gritty world, with intricate politics and complex characters.\n",
      "4. \"The Lies of Locke Lamora\" by Scott Lynch - This book is a heist fantasy set in the city of Camorr, a city filled with thieves, con artists, and other unsavory characters. The author does an excellent job of world-building, creating a rich and intricate city filled with history and mythology.\n",
      "5. \"The Kingkiller Chronicle\" by Patrick Rothfuss - This series is set in the world of Temerant and follows the story of Kvothe, a musician, scholar, and magician. The author does an excellent job of world-building, creating a rich and intricate mythology that is explored throughout the series.\n",
      "\n",
      "I hope this list helps you find some books that you'll enjoy! Let me know if you have any questions or if there's anything else I can help you with.\n",
      "\n",
      "Best regards,\n",
      "\n",
      "Your helpful AI friend! 😊\n"
     ]
    }
   ],
   "source": [
    "#| eval: false\n",
    "import os\n",
    "# TODO: Reset API Key.\n",
    "# API_KEY = os.environ.get('MISTRAL_API_KEY', 'KEY NOT FOUND')\n",
    "ui = UserInterface()  # Instantiate the UserInterface class\n",
    "ui.start_app()\n",
    "ui.menu()"
   ]
  },
  {
   "cell_type": "markdown",
   "metadata": {},
   "source": [
    "## Export -"
   ]
  },
  {
   "cell_type": "code",
   "execution_count": null,
   "metadata": {},
   "outputs": [],
   "source": [
    "#| hide\n",
    "import nbdev; nbdev.nbdev_export()"
   ]
  },
  {
   "cell_type": "code",
   "execution_count": null,
   "metadata": {},
   "outputs": [],
   "source": []
  }
 ],
 "metadata": {
  "kernelspec": {
   "display_name": "python3",
   "language": "python",
   "name": "python3"
  }
 },
 "nbformat": 4,
 "nbformat_minor": 2
}
