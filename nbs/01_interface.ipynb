{
 "cells": [
  {
   "cell_type": "code",
   "execution_count": null,
   "metadata": {},
   "outputs": [],
   "source": [
    "%load_ext autoreload\n",
    "%autoreload 2"
   ]
  },
  {
   "cell_type": "markdown",
   "metadata": {},
   "source": [
    "# interface\n",
    "> The interface is a class that allows the user to interact with the LLM."
   ]
  },
  {
   "cell_type": "code",
   "execution_count": null,
   "metadata": {},
   "outputs": [],
   "source": [
    "#| default_exp interface"
   ]
  },
  {
   "cell_type": "code",
   "execution_count": null,
   "metadata": {},
   "outputs": [],
   "source": [
    "#| export\n",
    "from terminal_llm.chat import Chat"
   ]
  },
  {
   "cell_type": "code",
   "execution_count": null,
   "metadata": {},
   "outputs": [],
   "source": [
    "#| export\n",
    "class UserInterface:\n",
    "    def __init__(self, api_key, model): self.chat = Chat(api_key, model)\n",
    "    \n",
    "    def start_app(self): pass\n",
    "\n",
    "    def menu(self):\n",
    "      # TODO: Implement first time check.\n",
    "      print(\"Welcome to the chat interface. Type 'quit' to exit.\")\n",
    "      print(\"0 – Settings\")\n",
    "      print(\"1 – Start Chat\")\n",
    "      print(\"2 – Previous Chats\")\n",
    "      print(\"3 – Exit\")\n",
    "\n",
    "      while True:\n",
    "        choice = input('... ')\n",
    "        match choice:\n",
    "          case '0': self.settings()\n",
    "          case '1': self.start_chat()\n",
    "          case '2': self.previous_chats()\n",
    "          case '3': break\n",
    "          case  _ : print('Invalid choice.')\n",
    "                \n",
    "        # TODO: Implement full processing on exit term.\n",
    "        # if user_input.lower() == 'quit': break\n",
    "        # response = self.chat(user_input)\n",
    "        # print(f\"Assistant: {response}\")\n",
    "\n",
    "    def settings(self):\n",
    "        print(\"Settings\")\n",
    "        print(\"0 – Change API Key\")\n",
    "        print(\"1 – Change Model\")\n",
    "        print(\"2 – Back\")\n",
    "        choice = input('... ')\n",
    "        match choice:\n",
    "          case '0': self.change_api_key()\n",
    "          case '1': self.change_model()\n",
    "          case '2': pass\n",
    "          case  _ : print('Invalid choice.')\n",
    "    \n",
    "    def start_chat(self):\n",
    "        print(\"Start Chat\")\n",
    "        while True:\n",
    "          user_input = input('... ')\n",
    "          if user_input.lower() == 'quit': break\n",
    "          response = self.chat(user_input)\n",
    "          print(f\"Assistant: {response}\")\n",
    "    \n",
    "    def previous_chats(self):\n",
    "        print(\"Previous Chats\")\n",
    "        pass\n"
   ]
  },
  {
   "cell_type": "code",
   "execution_count": null,
   "metadata": {},
   "outputs": [
    {
     "name": "stdout",
     "output_type": "stream",
     "text": [
      "Welcome to the chat interface. Type 'quit' to exit.\n",
      "0 – Settings\n",
      "1 – Start Chat\n",
      "2 – Previous Chats\n",
      "3 – Exit\n"
     ]
    },
    {
     "name": "stdout",
     "output_type": "stream",
     "text": [
      "Previous Chats\n",
      "Settings\n",
      "0 – Change API Key\n",
      "1 – Change Model\n",
      "2 – Back\n",
      "Invalid choice.\n"
     ]
    }
   ],
   "source": [
    "#| eval: false\n",
    "import os\n",
    "# TODO: Reset API Key.\n",
    "os.environ['MISTRAL_API_KEY'] = \"kpEYz4CJpzFhtHuzCeKRJz07jDsoyy73\"\n",
    "API_KEY = os.environ.get('MISTRAL_API_KEY', 'KEY NOT FOUND')\n",
    "ui = UserInterface(API_KEY, 'open-mistral-7b')\n",
    "ui.menu()"
   ]
  },
  {
   "cell_type": "markdown",
   "metadata": {},
   "source": [
    "## Export -"
   ]
  },
  {
   "cell_type": "code",
   "execution_count": null,
   "metadata": {},
   "outputs": [],
   "source": [
    "#| hide\n",
    "import nbdev; nbdev.nbdev_export()"
   ]
  }
 ],
 "metadata": {
  "kernelspec": {
   "display_name": "python3",
   "language": "python",
   "name": "python3"
  }
 },
 "nbformat": 4,
 "nbformat_minor": 2
}
