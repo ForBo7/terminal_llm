{
 "cells": [
  {
   "cell_type": "code",
   "execution_count": null,
   "metadata": {},
   "outputs": [],
   "source": [
    "%load_ext autoreload\n",
    "%autoreload 2"
   ]
  },
  {
   "cell_type": "markdown",
   "metadata": {},
   "source": [
    "# interface\n",
    "> The interface is a class that allows the user to interact with the LLM."
   ]
  },
  {
   "cell_type": "code",
   "execution_count": null,
   "metadata": {},
   "outputs": [],
   "source": [
    "#| default_exp interface"
   ]
  },
  {
   "cell_type": "code",
   "execution_count": null,
   "metadata": {},
   "outputs": [],
   "source": [
    "#| export\n",
    "from fastcore.all import *\n",
    "from terminal_llm.chat import Chat\n",
    "from terminal_llm.session_handler import SessionHandler"
   ]
  },
  {
   "cell_type": "code",
   "execution_count": null,
   "metadata": {},
   "outputs": [
    {
     "data": {
      "text/plain": [
       "True"
      ]
     },
     "execution_count": null,
     "metadata": {},
     "output_type": "execute_result"
    }
   ],
   "source": [
    "p = Path('.storage'); p.exists()"
   ]
  },
  {
   "cell_type": "code",
   "execution_count": null,
   "metadata": {},
   "outputs": [
    {
     "name": "stdout",
     "output_type": "stream",
     "text": [
      "\u001b[0;31mSignature:\u001b[0m \u001b[0mmkdir\u001b[0m\u001b[0;34m(\u001b[0m\u001b[0mpath\u001b[0m\u001b[0;34m,\u001b[0m \u001b[0mexist_ok\u001b[0m\u001b[0;34m=\u001b[0m\u001b[0;32mFalse\u001b[0m\u001b[0;34m,\u001b[0m \u001b[0mparents\u001b[0m\u001b[0;34m=\u001b[0m\u001b[0;32mFalse\u001b[0m\u001b[0;34m,\u001b[0m \u001b[0moverwrite\u001b[0m\u001b[0;34m=\u001b[0m\u001b[0;32mFalse\u001b[0m\u001b[0;34m,\u001b[0m \u001b[0;34m**\u001b[0m\u001b[0mkwargs\u001b[0m\u001b[0;34m)\u001b[0m\u001b[0;34m\u001b[0m\u001b[0;34m\u001b[0m\u001b[0m\n",
      "\u001b[0;31mDocstring:\u001b[0m Creates and returns a directory defined by `path`, optionally removing previous existing directory if `overwrite` is `True`\n",
      "\u001b[0;31mFile:\u001b[0m      ~/mambaforge/envs/terminal-llm/lib/python3.12/site-packages/fastcore/xtras.py\n",
      "\u001b[0;31mType:\u001b[0m      function"
     ]
    }
   ],
   "source": [
    "?mkdir"
   ]
  },
  {
   "cell_type": "code",
   "execution_count": null,
   "metadata": {},
   "outputs": [
    {
     "name": "stdout",
     "output_type": "stream",
     "text": [
      "File not found\n",
      "execution continues\n"
     ]
    }
   ],
   "source": [
    "try: \n",
    "\twith open('file.txt') as f: print(f.read())\n",
    "except FileNotFoundError as e: print('File not found')\n",
    "print('execution continues')"
   ]
  },
  {
   "cell_type": "code",
   "execution_count": null,
   "metadata": {},
   "outputs": [],
   "source": [
    "#| export\n",
    "class UserInterface:\n",
    "  \"\"\"An interface that simply passes all input on to the appropriate classes.\"\"\"\n",
    "  def __init__(self): \n",
    "    self.handler = SessionHandler()\n",
    "    self.handler.start_app()\n",
    "    \n",
    "\n",
    "  def menu(self):\n",
    "    print(\"Welcome to the chat interface. Type 'quit' to exit.\")\n",
    "    print(\"0 – Settings\")\n",
    "    print(\"1 – Start Chat\")\n",
    "    print(\"2 – Previous Chats\")\n",
    "    print(\"3 – Exit\")\n",
    "\n",
    "    while True:\n",
    "      choice = input('... ')\n",
    "      if   choice == '0': self.settings()\n",
    "      elif choice == '1': self.start_chat()\n",
    "      elif choice == '2': self.previous_chats()\n",
    "      elif choice == '3': break\n",
    "      else              : print('Invalid choice.')\n",
    "              \n",
    "      # TODO: Implement full processing on exit term.\n",
    "      # if user_input.lower() == 'quit': break\n",
    "      # response = self.chat(user_input)\n",
    "      # print(f\"Assistant: {response}\")\n",
    "\n",
    "  def settings(self):\n",
    "    print(\"Settings\")\n",
    "    print(\"0 – Change API Key\")\n",
    "    print(\"1 – Change Model\")\n",
    "    print(\"2 – Back\")\n",
    "    choice = input('... ')\n",
    "    \n",
    "    if   choice == '0': self.handler.set_api_key()\n",
    "    elif choice == '1': self.handler.set_model()\n",
    "    elif choice == '2': pass\n",
    "    else\t\t\t\t\t\t\t: print('Invalid choice.')\n",
    "    \n",
    "  \n",
    "  def start_chat(self):\n",
    "    # TODO: Hook up .storage files to Chat class.\n",
    "    print(\"Start Chat\")\n",
    "    with open('.storage/api_key.txt', 'r') as f: api_key = f.read()\n",
    "    with open('.storage/model.txt', 'r') as f: model = f.read()\n",
    "    self.chat = Chat(api_key, model)\n",
    "    while True:\n",
    "      user_input = input('You: ')\n",
    "      if user_input.lower() == 'quit': break\n",
    "      response = self.chat(user_input)\n",
    "      print(f\"Assistant: {response}\")\n",
    "  \n",
    "  def save_chat(self): pass\n",
    "    \n",
    "  \n",
    "  def previous_chats(self): pass\n"
   ]
  },
  {
   "cell_type": "code",
   "execution_count": null,
   "metadata": {},
   "outputs": [
    {
     "name": "stdout",
     "output_type": "stream",
     "text": [
      "Starting app...\n",
      "No errors found. Starting menu...\n",
      "Welcome to the chat interface. Type 'quit' to exit.\n",
      "0 – Settings\n",
      "1 – Start Chat\n",
      "2 – Previous Chats\n",
      "3 – Exit\n",
      "Start Chat\n",
      "Assistant: Hello! It seems like you're testing to see if I'm functioning properly. I'm here to help answer questions and provide information to the best of my ability. If you have a specific question or topic you'd like to know more about, feel free to ask!\n",
      "\n",
      "In the meantime, if you have any feedback or suggestions for how I can improve, please let me know. I'm always working to make things better around here.\n",
      "\n",
      "Is there anything in particular you'd like to know or discuss? Let me know and I'll do my best to help out!\n"
     ]
    }
   ],
   "source": [
    "#| eval: false\n",
    "import os\n",
    "# TODO: Reset API Key.\n",
    "# API_KEY = os.environ.get('MISTRAL_API_KEY', 'KEY NOT FOUND')\n",
    "ui = UserInterface()  # Instantiate the UserInterface class\n",
    "ui.menu()"
   ]
  },
  {
   "cell_type": "markdown",
   "metadata": {},
   "source": [
    "## Export -"
   ]
  },
  {
   "cell_type": "code",
   "execution_count": null,
   "metadata": {},
   "outputs": [],
   "source": [
    "#| hide\n",
    "import nbdev; nbdev.nbdev_export()"
   ]
  },
  {
   "cell_type": "code",
   "execution_count": null,
   "metadata": {},
   "outputs": [],
   "source": []
  }
 ],
 "metadata": {
  "kernelspec": {
   "display_name": "python3",
   "language": "python",
   "name": "python3"
  }
 },
 "nbformat": 4,
 "nbformat_minor": 2
}
