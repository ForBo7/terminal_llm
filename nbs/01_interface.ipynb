{
 "cells": [
  {
   "cell_type": "code",
   "execution_count": null,
   "metadata": {},
   "outputs": [],
   "source": [
    "%load_ext autoreload\n",
    "%autoreload 2"
   ]
  },
  {
   "cell_type": "markdown",
   "metadata": {},
   "source": [
    "# interface\n",
    "> The interface is a class that allows the user to interact with the LLM."
   ]
  },
  {
   "cell_type": "code",
   "execution_count": null,
   "metadata": {},
   "outputs": [],
   "source": [
    "#| default_exp interface"
   ]
  },
  {
   "cell_type": "code",
   "execution_count": null,
   "metadata": {},
   "outputs": [],
   "source": [
    "#| export\n",
    "from fastcore.all import *\n",
    "from terminal_llm.chat import Chat"
   ]
  },
  {
   "cell_type": "code",
   "execution_count": null,
   "metadata": {},
   "outputs": [
    {
     "data": {
      "text/plain": [
       "False"
      ]
     },
     "execution_count": null,
     "metadata": {},
     "output_type": "execute_result"
    }
   ],
   "source": [
    "p = Path('.storage'); p.exists()"
   ]
  },
  {
   "cell_type": "code",
   "execution_count": null,
   "metadata": {},
   "outputs": [
    {
     "name": "stdout",
     "output_type": "stream",
     "text": [
      "\u001b[0;31mSignature:\u001b[0m \u001b[0mmkdir\u001b[0m\u001b[0;34m(\u001b[0m\u001b[0mpath\u001b[0m\u001b[0;34m,\u001b[0m \u001b[0mexist_ok\u001b[0m\u001b[0;34m=\u001b[0m\u001b[0;32mFalse\u001b[0m\u001b[0;34m,\u001b[0m \u001b[0mparents\u001b[0m\u001b[0;34m=\u001b[0m\u001b[0;32mFalse\u001b[0m\u001b[0;34m,\u001b[0m \u001b[0moverwrite\u001b[0m\u001b[0;34m=\u001b[0m\u001b[0;32mFalse\u001b[0m\u001b[0;34m,\u001b[0m \u001b[0;34m**\u001b[0m\u001b[0mkwargs\u001b[0m\u001b[0;34m)\u001b[0m\u001b[0;34m\u001b[0m\u001b[0;34m\u001b[0m\u001b[0m\n",
      "\u001b[0;31mDocstring:\u001b[0m Creates and returns a directory defined by `path`, optionally removing previous existing directory if `overwrite` is `True`\n",
      "\u001b[0;31mFile:\u001b[0m      ~/mambaforge/envs/terminal-llm/lib/python3.12/site-packages/fastcore/xtras.py\n",
      "\u001b[0;31mType:\u001b[0m      function"
     ]
    }
   ],
   "source": [
    "?mkdir"
   ]
  },
  {
   "cell_type": "code",
   "execution_count": null,
   "metadata": {},
   "outputs": [
    {
     "name": "stdout",
     "output_type": "stream",
     "text": [
      "Hello Alice!\n",
      "Hello Bob!\n",
      "Hello Stranger!\n"
     ]
    }
   ],
   "source": [
    "def match_case_example(value):\n",
    "    match value:\n",
    "        case 'Alice':\n",
    "            return \"Hello Alice!\"\n",
    "        case 'Bob':\n",
    "            return \"Hello Bob!\"\n",
    "        case _:\n",
    "            return \"Hello Stranger!\"\n",
    "\n",
    "print(match_case_example('Alice'))\n",
    "print(match_case_example('Bob'))\n",
    "print(match_case_example('Charlie'))\n"
   ]
  },
  {
   "cell_type": "code",
   "execution_count": null,
   "metadata": {},
   "outputs": [],
   "source": [
    "#| export\n",
    "class UserInterface:\n",
    "    def __init__(self, api_key, model): self.chat = Chat(api_key, model)\n",
    "    \n",
    "    def start_app(self):\n",
    "      if Path('.storage').exists():\n",
    "        with open('.storage/api_key.txt', 'r') as f: api_key = f.read()\n",
    "        with open('.storage/model.txt', 'r') as f: model = f.read()\n",
    "      else:\n",
    "        Path('.storage').mkdir(parents=True, exist_ok=True)\n",
    "        api_key = input('Enter API Key: ')\n",
    "        model = input('Enter Model: ')\n",
    "        with open('.storage/api_key.txt', 'w') as f: f.write(api_key)\n",
    "        with open('.storage/model.txt', 'w') as f: f.write(model)\n",
    "      \n",
    "\n",
    "    def menu(self):\n",
    "      # TODO: Implement first time check.\n",
    "      print(\"Welcome to the chat interface. Type 'quit' to exit.\")\n",
    "      print(\"0 – Settings\")\n",
    "      print(\"1 – Start Chat\")\n",
    "      print(\"2 – Previous Chats\")\n",
    "      print(\"3 – Exit\")\n",
    "\n",
    "      while True:\n",
    "        choice = input('... ')\n",
    "        if   choice == '0': self.settings()\n",
    "        elif choice == '1': self.start_chat()\n",
    "        elif choice == '2': self.previous_chats()\n",
    "        elif choice == '3': break\n",
    "        else              : print('Invalid choice.')\n",
    "                \n",
    "        # TODO: Implement full processing on exit term.\n",
    "        # if user_input.lower() == 'quit': break\n",
    "        # response = self.chat(user_input)\n",
    "        # print(f\"Assistant: {response}\")\n",
    "\n",
    "    def settings(self):\n",
    "        print(\"Settings\")\n",
    "        print(\"0 – Change API Key\")\n",
    "        print(\"1 – Change Model\")\n",
    "        print(\"2 – Back\")\n",
    "        choice = input('... ')\n",
    "        # match choice:\n",
    "        #   case '0': self.change_api_key()\n",
    "        #   case '1': self.change_model()\n",
    "        #   case '2': pass\n",
    "        #   case  _ : print('Invalid choice.')\n",
    "    \n",
    "    def start_chat(self):\n",
    "        print(\"Start Chat\")\n",
    "        while True:\n",
    "          user_input = input('... ')\n",
    "          if user_input.lower() == 'quit': break\n",
    "          response = self.chat(user_input)\n",
    "          print(f\"Assistant: {response}\")\n",
    "    \n",
    "    def previous_chats(self):\n",
    "        print(\"Previous Chats\")\n",
    "        pass\n"
   ]
  },
  {
   "cell_type": "code",
   "execution_count": null,
   "metadata": {},
   "outputs": [
    {
     "name": "stdout",
     "output_type": "stream",
     "text": [
      "Welcome to the chat interface. Type 'quit' to exit.\n",
      "0 – Settings\n",
      "1 – Start Chat\n",
      "2 – Previous Chats\n",
      "3 – Exit\n"
     ]
    }
   ],
   "source": [
    "#| eval: false\n",
    "import os\n",
    "# TODO: Reset API Key.\n",
    "os.environ['MISTRAL_API_KEY'] = \"kpEYz4CJpzFhtHuzCeKRJz07jDsoyy73\"\n",
    "API_KEY = os.environ.get('MISTRAL_API_KEY', 'KEY NOT FOUND')\n",
    "ui = UserInterface(API_KEY, 'open-mistral-7b')\n",
    "ui.menu()"
   ]
  },
  {
   "cell_type": "markdown",
   "metadata": {},
   "source": [
    "## Export -"
   ]
  },
  {
   "cell_type": "code",
   "execution_count": null,
   "metadata": {},
   "outputs": [],
   "source": [
    "#| hide\n",
    "import nbdev; nbdev.nbdev_export()"
   ]
  },
  {
   "cell_type": "code",
   "execution_count": null,
   "metadata": {},
   "outputs": [],
   "source": []
  }
 ],
 "metadata": {
  "kernelspec": {
   "display_name": "python3",
   "language": "python",
   "name": "python3"
  }
 },
 "nbformat": 4,
 "nbformat_minor": 2
}
