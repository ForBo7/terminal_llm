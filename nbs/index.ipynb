{
 "cells": [
  {
   "cell_type": "code",
   "execution_count": null,
   "metadata": {},
   "outputs": [],
   "source": [
    "%load_ext autoreload\n",
    "%autoreload 2"
   ]
  },
  {
   "cell_type": "markdown",
   "metadata": {},
   "source": [
    "# terminal_llm\n",
    "\n",
    "> A simple app to access MistralAI from the terminal."
   ]
  },
  {
   "cell_type": "markdown",
   "metadata": {},
   "source": [
    "> This notebook follows the [fastai style guide](https://docs.fast.ai/dev/style.html)."
   ]
  },
  {
   "cell_type": "markdown",
   "metadata": {},
   "source": [
    "## Requirements"
   ]
  },
  {
   "cell_type": "markdown",
   "metadata": {},
   "source": [
    "```sh\n",
    "pip install requests mistralai fastcore\n",
    "```"
   ]
  },
  {
   "cell_type": "markdown",
   "metadata": {},
   "source": [
    "## Running"
   ]
  },
  {
   "cell_type": "markdown",
   "metadata": {},
   "source": [
    "Run the following in the same directory as all files.\n",
    "```sh\n",
    "python run.py\n",
    "```"
   ]
  },
  {
   "cell_type": "markdown",
   "metadata": {},
   "source": [
    "## Demo"
   ]
  },
  {
   "cell_type": "code",
   "execution_count": null,
   "metadata": {},
   "outputs": [
    {
     "name": "stdout",
     "output_type": "stream",
     "text": [
      "App starting...\n"
     ]
    },
    {
     "name": "stdin",
     "output_type": "stream",
     "text": [
      "Enter API Key:  wN44vGUwkuI1AL8j28O9uiBQnu97yb1V\n"
     ]
    },
    {
     "name": "stdout",
     "output_type": "stream",
     "text": [
      "API key saved.\n"
     ]
    },
    {
     "name": "stdin",
     "output_type": "stream",
     "text": [
      "Enter model:  open-mistral-7b\n"
     ]
    },
    {
     "name": "stdout",
     "output_type": "stream",
     "text": [
      "Model saved.\n",
      "\n",
      "    This is the chat interface.\n",
      "    0 - Exit\n",
      "    1 - Settings\n",
      "    2 - Start Chat\n",
      "    3 - Previous Chats\n",
      "    \n"
     ]
    },
    {
     "name": "stdin",
     "output_type": "stream",
     "text": [
      "You:  2\n"
     ]
    },
    {
     "name": "stdout",
     "output_type": "stream",
     "text": [
      "Chat started. Type \\exit to end chat.\n"
     ]
    },
    {
     "name": "stdin",
     "output_type": "stream",
     "text": [
      "\n",
      "You:  Is iOS or Android the better operating system?\n"
     ]
    },
    {
     "name": "stdout",
     "output_type": "stream",
     "text": [
      "Assistant: I cannot provide a definitive answer to the question of which operating system, iOS or Android, is better, as it largely depends on individual preferences and needs. Both operating systems have their unique strengths and weaknesses.\n",
      "\n",
      "Here are some factors that might influence your decision:\n",
      "\n",
      "1. User Interface: Some people prefer the more streamlined and consistent user interface of iOS, while others appreciate the customizability and flexibility of Android.\n",
      "2. App Selection: iOS has a reputation for having a more curated app store with higher quality apps, while Android has a larger selection of apps due to its open nature.\n",
      "3. Hardware: Some devices run only on iOS, while others are available on both iOS and Android. The hardware design and build quality of devices can also vary significantly between the two platforms.\n",
      "4. Price: iOS devices tend to be more expensive than their Android counterparts, which might be a deciding factor for some people.\n",
      "5. Updates: iOS devices receive software updates more consistently and for a longer period of time than Android devices.\n",
      "6. Security: iOS is often considered more secure than Android, but Android has made significant strides in this area in recent years.\n",
      "\n",
      "Ultimately, the best operating system for you depends on your personal preferences, needs, and budget. It's a good idea to try out both platforms, if possible, to see which one you prefer.\n"
     ]
    },
    {
     "name": "stdin",
     "output_type": "stream",
     "text": [
      "\n",
      "You:  I like customization\n"
     ]
    },
    {
     "name": "stdout",
     "output_type": "stream",
     "text": [
      "Assistant: If you prioritize customization, then Android might be the better choice for you. Android is an open-source operating system, which means that manufacturers and developers can modify the software to suit their needs. This results in a wide range of customization options, from changing the look and feel of the user interface to automating tasks and creating shortcuts.\n",
      "\n",
      "On the other hand, iOS is known for its consistency and streamlined user experience. While there are some customization options available in iOS, they are more limited than on Android. For example, you can change the wallpaper, rearrange the home screen icons, and customize some settings, but you cannot change the look and feel of the user interface to the same extent as on Android.\n",
      "\n",
      "So, if customization is a important factor for you, then Android might be the better choice. However, keep in mind that with great power comes great responsibility, and more customization options can also mean more complexity and potential security risks. It's important to weigh the benefits of customization against the potential drawbacks and make a decision that best fits your needs and comfort level.\n"
     ]
    },
    {
     "name": "stdin",
     "output_type": "stream",
     "text": [
      "\n",
      "You:  \\exit\n",
      "Name this conversation:  iOS vs Android\n"
     ]
    },
    {
     "name": "stdout",
     "output_type": "stream",
     "text": [
      "\n",
      "    This is the chat interface.\n",
      "    0 - Exit\n",
      "    1 - Settings\n",
      "    2 - Start Chat\n",
      "    3 - Previous Chats\n",
      "    \n"
     ]
    },
    {
     "name": "stdin",
     "output_type": "stream",
     "text": [
      "You:  1\n"
     ]
    },
    {
     "name": "stdout",
     "output_type": "stream",
     "text": [
      "\n",
      "    Settings\n",
      "    0 - Back\n",
      "    1 - Set API Key\n",
      "    2 - Set Model\n",
      "    \n"
     ]
    },
    {
     "name": "stdin",
     "output_type": "stream",
     "text": [
      "You:  2\n",
      "Enter model:  mistral-small-latest\n"
     ]
    },
    {
     "name": "stdout",
     "output_type": "stream",
     "text": [
      "Model saved.\n",
      "\n",
      "    This is the chat interface.\n",
      "    0 - Exit\n",
      "    1 - Settings\n",
      "    2 - Start Chat\n",
      "    3 - Previous Chats\n",
      "    \n"
     ]
    },
    {
     "name": "stdin",
     "output_type": "stream",
     "text": [
      "You:  2\n"
     ]
    },
    {
     "name": "stdout",
     "output_type": "stream",
     "text": [
      "Chat started. Type \\exit to end chat.\n"
     ]
    },
    {
     "name": "stdin",
     "output_type": "stream",
     "text": [
      "\n",
      "You:  Write a highly compelling and cohesive email to the course lecturer requesting for full marks.\n"
     ]
    },
    {
     "name": "stdout",
     "output_type": "stream",
     "text": [
      "Assistant: Subject: Request for Full Marks Consideration for Course [Course Name]\n",
      "\n",
      "Dear Professor [Lecturer's Name],\n",
      "\n",
      "I hope this email finds you well. I am writing to you regarding my recent performance in your course, [Course Name].\n",
      "\n",
      "Throughout the semester, I have put in a significant amount of time and effort into understanding the course material, attending lectures, participating in discussions, and completing assignments to the best of my abilities. I am proud of the progress I have made, and I believe that my hard work and dedication have paid off.\n",
      "\n",
      "However, I was surprised and disappointed to see that my final grade was not as high as I had hoped. After reviewing my coursework and grades, I believe that I have earned a higher score and would like to request that you consider awarding me full marks.\n",
      "\n",
      "I have attached all of my assignments, quizzes, and exams for your review, and I would be more than happy to discuss any specific areas where you feel that I may have fallen short. I am confident that my work demonstrates a deep understanding of the course material and a commitment to excellence.\n",
      "\n",
      "I understand that grading is a subjective process, and I respect the decisions that you have made regarding my grade. However, I firmly believe that I have earned the highest possible grade in this course, and I would greatly appreciate the opportunity to discuss this matter further.\n",
      "\n",
      "Thank you for taking the time to consider my request. I look forward to hearing back from you soon.\n",
      "\n",
      "Best regards,\n",
      "\n",
      "[Your Name]\n",
      "[Your Student ID Number]\n",
      "[Your Contact Information]\n"
     ]
    },
    {
     "name": "stdin",
     "output_type": "stream",
     "text": [
      "\n",
      "You:  \\exit\n",
      "Name this conversation:  Email requesting for full marks\n"
     ]
    },
    {
     "name": "stdout",
     "output_type": "stream",
     "text": [
      "\n",
      "    This is the chat interface.\n",
      "    0 - Exit\n",
      "    1 - Settings\n",
      "    2 - Start Chat\n",
      "    3 - Previous Chats\n",
      "    \n"
     ]
    },
    {
     "name": "stdin",
     "output_type": "stream",
     "text": [
      "You:  3\n"
     ]
    },
    {
     "name": "stdout",
     "output_type": "stream",
     "text": [
      "Enter a chat's number. Enter 0 to go back.\n",
      "1. iOS vs Android\n",
      "2. Email requesting for full marks\n"
     ]
    },
    {
     "name": "stdin",
     "output_type": "stream",
     "text": [
      "You:  1\n"
     ]
    },
    {
     "name": "stdout",
     "output_type": "stream",
     "text": [
      "Resuming 1. iOS vs Android.\n",
      "Chat started. Type \\exit to end chat.\n"
     ]
    },
    {
     "name": "stdin",
     "output_type": "stream",
     "text": [
      "\n",
      "You:  If my budget is $500, then would Android be the better choice?\n"
     ]
    },
    {
     "name": "stdout",
     "output_type": "stream",
     "text": [
      "Assistant: If your budget is $500, then both Android and iOS have options that you can consider within that price range.\n",
      "\n",
      "In terms of value for money, Android devices tend to offer more features and specifications for the same price as an iOS device. For example, you can find Android devices with larger screens, more RAM, better cameras, and longer battery life for under $500, whereas an equivalent iPhone might cost more.\n",
      "\n",
      "However, it's important to note that not all Android devices are created equal, and some low-end or budget-friendly Android devices may not offer the same level of performance, build quality, or software support as more expensive models. So, it's important to do your research and read reviews before making a purchase.\n",
      "\n",
      "On the other hand, if you prefer the Apple ecosystem and are willing to pay a premium for a more streamlined user experience and better software support, then an iPhone might be a better choice for you. The iPhone SE (2020) is a great option in this price range, as it offers the same powerful A13 Bionic chip as the iPhone 11 series, but in a more compact and affordable package.\n",
      "\n",
      "Ultimately, the best choice depends on your personal preferences, needs, and priorities. If you value customization and want to get the most bang for your buck, then Android might be a better choice. But if you prefer the Apple ecosystem and are willing to pay a premium for a more consistent and streamlined user experience, then an iPhone might be the better option.\n"
     ]
    },
    {
     "name": "stdin",
     "output_type": "stream",
     "text": [
      "\n",
      "You:  \\exit\n"
     ]
    },
    {
     "name": "stdout",
     "output_type": "stream",
     "text": [
      "\n",
      "    This is the chat interface.\n",
      "    0 - Exit\n",
      "    1 - Settings\n",
      "    2 - Start Chat\n",
      "    3 - Previous Chats\n",
      "    \n"
     ]
    },
    {
     "name": "stdin",
     "output_type": "stream",
     "text": [
      "You:  0\n"
     ]
    },
    {
     "name": "stdout",
     "output_type": "stream",
     "text": [
      "App closed.\n"
     ]
    }
   ],
   "source": [
    "#| hide\n",
    "from terminal_llm.interface import Interface; Interface().menu()"
   ]
  },
  {
   "cell_type": "markdown",
   "metadata": {},
   "source": [
    "```\n",
    "App starting...\n",
    "Enter API Key:  wN44vGUwkuI1AL8j28O9uiBQnu97yb1V\n",
    "API key saved.\n",
    "Enter model:  open-mistral-7b\n",
    "Model saved.\n",
    "\n",
    "    This is the chat interface.\n",
    "    0 - Exit\n",
    "    1 - Settings\n",
    "    2 - Start Chat\n",
    "    3 - Previous Chats\n",
    "    \n",
    "You:  2\n",
    "Chat started. Type \\exit to end chat.\n",
    "\n",
    "You:  Is iOS or Android the better operating system?\n",
    "Assistant: I cannot provide a definitive answer to the question of which operating system, iOS or Android, is better, as it largely depends on individual preferences and needs. Both operating systems have their unique strengths and weaknesses.\n",
    "\n",
    "Here are some factors that might influence your decision:\n",
    "\n",
    "1. User Interface: Some people prefer the more streamlined and consistent user interface of iOS, while others appreciate the customizability and flexibility of Android.\n",
    "2. App Selection: iOS has a reputation for having a more curated app store with higher quality apps, while Android has a larger selection of apps due to its open nature.\n",
    "3. Hardware: Some devices run only on iOS, while others are available on both iOS and Android. The hardware design and build quality of devices can also vary significantly between the two platforms.\n",
    "4. Price: iOS devices tend to be more expensive than their Android counterparts, which might be a deciding factor for some people.\n",
    "5. Updates: iOS devices receive software updates more consistently and for a longer period of time than Android devices.\n",
    "6. Security: iOS is often considered more secure than Android, but Android has made significant strides in this area in recent years.\n",
    "\n",
    "Ultimately, the best operating system for you depends on your personal preferences, needs, and budget. It's a good idea to try out both platforms, if possible, to see which one you prefer.\n",
    "\n",
    "You:  I like customization\n",
    "Assistant: If you prioritize customization, then Android might be the better choice for you. Android is an open-source operating system, which means that manufacturers and developers can modify the software to suit their needs. This results in a wide range of customization options, from changing the look and feel of the user interface to automating tasks and creating shortcuts.\n",
    "\n",
    "On the other hand, iOS is known for its consistency and streamlined user experience. While there are some customization options available in iOS, they are more limited than on Android. For example, you can change the wallpaper, rearrange the home screen icons, and customize some settings, but you cannot change the look and feel of the user interface to the same extent as on Android.\n",
    "\n",
    "So, if customization is a important factor for you, then Android might be the better choice. However, keep in mind that with great power comes great responsibility, and more customization options can also mean more complexity and potential security risks. It's important to weigh the benefits of customization against the potential drawbacks and make a decision that best fits your needs and comfort level.\n",
    "\n",
    "You:  \\exit\n",
    "Name this conversation:  iOS vs Android\n",
    "\n",
    "    This is the chat interface.\n",
    "    0 - Exit\n",
    "    1 - Settings\n",
    "    2 - Start Chat\n",
    "    3 - Previous Chats\n",
    "    \n",
    "You:  1\n",
    "\n",
    "    Settings\n",
    "    0 - Back\n",
    "    1 - Set API Key\n",
    "    2 - Set Model\n",
    "    \n",
    "You:  2\n",
    "Enter model:  mistral-small-latest\n",
    "Model saved.\n",
    "\n",
    "    This is the chat interface.\n",
    "    0 - Exit\n",
    "    1 - Settings\n",
    "    2 - Start Chat\n",
    "    3 - Previous Chats\n",
    "    \n",
    "You:  2\n",
    "Chat started. Type \\exit to end chat.\n",
    "\n",
    "You:  Write a highly compelling and cohesive email to the course lecturer requesting for full marks.\n",
    "Assistant: Subject: Request for Full Marks Consideration for Course [Course Name]\n",
    "\n",
    "Dear Professor [Lecturer's Name],\n",
    "\n",
    "I hope this email finds you well. I am writing to you regarding my recent performance in your course, [Course Name].\n",
    "\n",
    "Throughout the semester, I have put in a significant amount of time and effort into understanding the course material, attending lectures, participating in discussions, and completing assignments to the best of my abilities. I am proud of the progress I have made, and I believe that my hard work and dedication have paid off.\n",
    "\n",
    "However, I was surprised and disappointed to see that my final grade was not as high as I had hoped. After reviewing my coursework and grades, I believe that I have earned a higher score and would like to request that you consider awarding me full marks.\n",
    "\n",
    "I have attached all of my assignments, quizzes, and exams for your review, and I would be more than happy to discuss any specific areas where you feel that I may have fallen short. I am confident that my work demonstrates a deep understanding of the course material and a commitment to excellence.\n",
    "\n",
    "I understand that grading is a subjective process, and I respect the decisions that you have made regarding my grade. However, I firmly believe that I have earned the highest possible grade in this course, and I would greatly appreciate the opportunity to discuss this matter further.\n",
    "\n",
    "Thank you for taking the time to consider my request. I look forward to hearing back from you soon.\n",
    "\n",
    "Best regards,\n",
    "\n",
    "[Your Name]\n",
    "[Your Student ID Number]\n",
    "[Your Contact Information]\n",
    "\n",
    "You:  \\exit\n",
    "Name this conversation:  Email requesting for full marks\n",
    "\n",
    "    This is the chat interface.\n",
    "    0 - Exit\n",
    "    1 - Settings\n",
    "    2 - Start Chat\n",
    "    3 - Previous Chats\n",
    "    \n",
    "You:  3\n",
    "Enter a chat's number. Enter 0 to go back.\n",
    "1. iOS vs Android\n",
    "2. Email requesting for full marks\n",
    "You:  1\n",
    "Resuming 1. iOS vs Android.\n",
    "Chat started. Type \\exit to end chat.\n",
    "\n",
    "You:  If my budget is $500, then would Android be the better choice?\n",
    "Assistant: If your budget is $500, then both Android and iOS have options that you can consider within that price range.\n",
    "\n",
    "In terms of value for money, Android devices tend to offer more features and specifications for the same price as an iOS device. For example, you can find Android devices with larger screens, more RAM, better cameras, and longer battery life for under $500, whereas an equivalent iPhone might cost more.\n",
    "\n",
    "However, it's important to note that not all Android devices are created equal, and some low-end or budget-friendly Android devices may not offer the same level of performance, build quality, or software support as more expensive models. So, it's important to do your research and read reviews before making a purchase.\n",
    "\n",
    "On the other hand, if you prefer the Apple ecosystem and are willing to pay a premium for a more streamlined user experience and better software support, then an iPhone might be a better choice for you. The iPhone SE (2020) is a great option in this price range, as it offers the same powerful A13 Bionic chip as the iPhone 11 series, but in a more compact and affordable package.\n",
    "\n",
    "Ultimately, the best choice depends on your personal preferences, needs, and priorities. If you value customization and want to get the most bang for your buck, then Android might be a better choice. But if you prefer the Apple ecosystem and are willing to pay a premium for a more consistent and streamlined user experience, then an iPhone might be the better option.\n",
    "\n",
    "You:  \\exit\n",
    "\n",
    "    This is the chat interface.\n",
    "    0 - Exit\n",
    "    1 - Settings\n",
    "    2 - Start Chat\n",
    "    3 - Previous Chats\n",
    "    \n",
    "You:  0\n",
    "App closed.\n",
    "```"
   ]
  },
  {
   "cell_type": "code",
   "execution_count": null,
   "metadata": {},
   "outputs": [],
   "source": []
  }
 ],
 "metadata": {
  "kernelspec": {
   "display_name": "python3",
   "language": "python",
   "name": "python3"
  }
 },
 "nbformat": 4,
 "nbformat_minor": 4
}
