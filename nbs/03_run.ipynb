{
 "cells": [
  {
   "cell_type": "code",
   "execution_count": null,
   "metadata": {},
   "outputs": [],
   "source": [
    "%load_ext autoreload\n",
    "%autoreload 2"
   ]
  },
  {
   "cell_type": "markdown",
   "metadata": {},
   "source": [
    "# run\n",
    "> Run the app."
   ]
  },
  {
   "cell_type": "code",
   "execution_count": null,
   "metadata": {},
   "outputs": [],
   "source": [
    "#| default_exp run"
   ]
  },
  {
   "cell_type": "code",
   "execution_count": null,
   "metadata": {},
   "outputs": [
    {
     "name": "stdout",
     "output_type": "stream",
     "text": [
      "App starting...\n",
      "\n",
      "    This is the chat interface.\n",
      "    0 - Exit\n",
      "    1 - Settings\n",
      "    2 - Start Chat\n",
      "    3 - Previous Chats\n",
      "    \n",
      "Enter a chat's number. Enter 0 to go back.\n",
      "2. Comparing Porsche and McLaren: Which Brand Offers the Best Weekend Fun for $50,000?\n",
      "1. Exploring the Meaning and Purpose of Life: A Personal and Subjective Inquiry\n",
      "3. Exploring Popular French and British Cheeses: A Taste Comparison\n",
      "4. Recommending Alternative Outdoor Brands Based on Current Brand\n",
      "5. Strategies for Staying Awake or Getting Rest: A Helpful Guide\n",
      "['.storage/chats/2. Comparing Porsche and McLaren: Which Brand Offers the Best Weekend Fun for $50,000?.pkl', '.storage/chats/1. Exploring the Meaning and Purpose of Life: A Personal and Subjective Inquiry.pkl', '.storage/chats/3. Exploring Popular French and British Cheeses: A Taste Comparison.pkl', '.storage/chats/4. Recommending Alternative Outdoor Brands Based on Current Brand.pkl', '.storage/chats/5. Strategies for Staying Awake or Getting Rest: A Helpful Guide.pkl']\n",
      ".storage/chats/2. Comparing Porsche and McLaren: Which Brand Offers the Best Weekend Fun for $50,000?.pkl\n",
      "Resuming 2. Comparing Porsche and McLaren: Which Brand Offers the Best Weekend Fun for $50,000?.\n",
      "Chat started. Type \\exit to end chat.\n",
      "\n",
      "    This is the chat interface.\n",
      "    0 - Exit\n",
      "    1 - Settings\n",
      "    2 - Start Chat\n",
      "    3 - Previous Chats\n",
      "    \n",
      "App closed.\n"
     ]
    }
   ],
   "source": [
    "#| export\n",
    "#| eval: false\n",
    "if __name__ == \"__main__\": from terminal_llm.interface import Interface; Interface().menu()"
   ]
  },
  {
   "cell_type": "markdown",
   "metadata": {},
   "source": [
    "## Export -"
   ]
  },
  {
   "cell_type": "code",
   "execution_count": null,
   "metadata": {},
   "outputs": [],
   "source": [
    "#| hide\n",
    "import nbdev; nbdev.nbdev_export()"
   ]
  },
  {
   "cell_type": "markdown",
   "metadata": {},
   "source": []
  }
 ],
 "metadata": {
  "kernelspec": {
   "display_name": "python3",
   "language": "python",
   "name": "python3"
  }
 },
 "nbformat": 4,
 "nbformat_minor": 2
}
